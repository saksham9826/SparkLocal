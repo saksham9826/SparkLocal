{
 "cells": [
  {
   "cell_type": "code",
   "execution_count": 3,
   "id": "368a00df",
   "metadata": {},
   "outputs": [
    {
     "name": "stderr",
     "output_type": "stream",
     "text": [
      "Ivy Default Cache set to: /root/.ivy2/cache\n",
      "The jars for the packages stored in: /root/.ivy2/jars\n",
      ":: loading settings :: url = jar:file:/usr/local/lib/python3.9/dist-packages/pyspark/jars/ivy-2.4.0.jar!/org/apache/ivy/core/settings/ivysettings.xml\n",
      "com.amazonaws#aws-java-sdk-bundle added as a dependency\n",
      "org.apache.spark#spark-sql-kafka-0-10_2.12 added as a dependency\n",
      "org.apache.spark#spark-sql_2.12 added as a dependency\n",
      "org.apache.kafka#kafka-clients added as a dependency\n",
      "org.apache.spark#spark-avro_2.12 added as a dependency\n",
      "io.delta#delta-core_2.12 added as a dependency\n",
      "org.apache.spark#spark-streaming-kafka-0-10_2.12 added as a dependency\n",
      "org.apache.spark#spark-streaming_2.12 added as a dependency\n",
      ":: resolving dependencies :: org.apache.spark#spark-submit-parent-0e931605-49af-43af-a3c7-9e68fea628f3;1.0\n",
      "\tconfs: [default]\n",
      "\tfound com.amazonaws#aws-java-sdk-bundle;1.11.974 in central\n",
      "\tfound org.apache.spark#spark-sql-kafka-0-10_2.12;3.0.0 in central\n",
      "\tfound org.apache.spark#spark-token-provider-kafka-0-10_2.12;3.0.0 in central\n",
      "\tfound org.spark-project.spark#unused;1.0.0 in central\n",
      "\tfound org.apache.commons#commons-pool2;2.6.2 in central\n",
      "\tfound org.apache.kafka#kafka-clients;2.8.0 in central\n",
      "\tfound com.github.luben#zstd-jni;1.4.9-1 in central\n",
      "\tfound org.lz4#lz4-java;1.7.1 in central\n",
      "\tfound org.xerial.snappy#snappy-java;1.1.8.1 in central\n",
      "\tfound org.slf4j#slf4j-api;1.7.30 in central\n",
      "\tfound org.apache.spark#spark-avro_2.12;3.0.0 in central\n",
      "\tfound io.delta#delta-core_2.12;0.8.0 in central\n",
      "\tfound org.antlr#antlr4;4.7 in central\n",
      "\tfound org.antlr#antlr4-runtime;4.7 in central\n",
      "\tfound org.antlr#antlr-runtime;3.5.2 in central\n",
      "\tfound org.antlr#ST4;4.0.8 in central\n",
      "\tfound org.abego.treelayout#org.abego.treelayout.core;1.0.3 in central\n",
      "\tfound org.glassfish#javax.json;1.0.4 in central\n",
      "\tfound com.ibm.icu#icu4j;58.2 in central\n",
      "\tfound org.apache.spark#spark-streaming-kafka-0-10_2.12;3.0.0 in central\n",
      ":: resolution report :: resolve 665ms :: artifacts dl 20ms\n",
      "\t:: modules in use:\n",
      "\tcom.amazonaws#aws-java-sdk-bundle;1.11.974 from central in [default]\n",
      "\tcom.github.luben#zstd-jni;1.4.9-1 from central in [default]\n",
      "\tcom.ibm.icu#icu4j;58.2 from central in [default]\n",
      "\tio.delta#delta-core_2.12;0.8.0 from central in [default]\n",
      "\torg.abego.treelayout#org.abego.treelayout.core;1.0.3 from central in [default]\n",
      "\torg.antlr#ST4;4.0.8 from central in [default]\n",
      "\torg.antlr#antlr-runtime;3.5.2 from central in [default]\n",
      "\torg.antlr#antlr4;4.7 from central in [default]\n",
      "\torg.antlr#antlr4-runtime;4.7 from central in [default]\n",
      "\torg.apache.commons#commons-pool2;2.6.2 from central in [default]\n",
      "\torg.apache.kafka#kafka-clients;2.8.0 from central in [default]\n",
      "\torg.apache.spark#spark-avro_2.12;3.0.0 from central in [default]\n",
      "\torg.apache.spark#spark-sql-kafka-0-10_2.12;3.0.0 from central in [default]\n",
      "\torg.apache.spark#spark-streaming-kafka-0-10_2.12;3.0.0 from central in [default]\n",
      "\torg.apache.spark#spark-token-provider-kafka-0-10_2.12;3.0.0 from central in [default]\n",
      "\torg.glassfish#javax.json;1.0.4 from central in [default]\n",
      "\torg.lz4#lz4-java;1.7.1 from central in [default]\n",
      "\torg.slf4j#slf4j-api;1.7.30 from central in [default]\n",
      "\torg.spark-project.spark#unused;1.0.0 from central in [default]\n",
      "\torg.xerial.snappy#snappy-java;1.1.8.1 from central in [default]\n",
      "\t:: evicted modules:\n",
      "\torg.apache.kafka#kafka-clients;2.4.1 by [org.apache.kafka#kafka-clients;2.8.0] in [default]\n",
      "\t---------------------------------------------------------------------\n",
      "\t|                  |            modules            ||   artifacts   |\n",
      "\t|       conf       | number| search|dwnlded|evicted|| number|dwnlded|\n",
      "\t---------------------------------------------------------------------\n",
      "\t|      default     |   21  |   0   |   0   |   1   ||   20  |   0   |\n",
      "\t---------------------------------------------------------------------\n",
      ":: retrieving :: org.apache.spark#spark-submit-parent-0e931605-49af-43af-a3c7-9e68fea628f3\n",
      "\tconfs: [default]\n",
      "\t0 artifacts copied, 20 already retrieved (0kB/15ms)\n",
      "22/03/10 07:50:52 WARN NativeCodeLoader: Unable to load native-hadoop library for your platform... using builtin-java classes where applicable\n",
      "Using Spark's default log4j profile: org/apache/spark/log4j-defaults.properties\n",
      "Setting default log level to \"WARN\".\n",
      "To adjust logging level use sc.setLogLevel(newLevel). For SparkR, use setLogLevel(newLevel).\n",
      "22/03/10 07:50:54 WARN Utils: Service 'SparkUI' could not bind on port 4040. Attempting port 4041.\n"
     ]
    }
   ],
   "source": [
    "from pyspark.sql import SparkSession\n",
    "    \n",
    "import os\n",
    "\n",
    "# setup arguments\n",
    "os.environ['kafka1'] = '34.220.52.64'\n",
    "os.environ['kafka2'] = '52.35.125.165'\n",
    "os.environ['schema-registry'] = '52.35.125.165'\n",
    "\n",
    "\n",
    "os.environ['PYSPARK_PYTHON'] = \"/opt/workspace/env3/bin/python3.9\"\n",
    "\n",
    "spark = SparkSession.builder.appName('pyspark-notebook')\\\n",
    "    .master(\"spark://spark-master:7077\")\\\n",
    "    .config(\"spark.jars\", \"scalaSpark-assembly-1.0.jar\") \\\n",
    "    .config('spark.jars.packages', 'com.amazonaws:aws-java-sdk-bundle:1.11.974,org.apache.spark:spark-sql-kafka-0-10_2.12:3.0.0,org.apache.spark:spark-sql_2.12:3.0.0,org.apache.kafka:kafka-clients:2.8.0,org.apache.spark:spark-avro_2.12:3.0.0,io.delta:delta-core_2.12:0.8.0,org.apache.spark:spark-streaming-kafka-0-10_2.12:3.0.0,org.apache.spark:spark-streaming_2.12:3.0.0')\\\n",
    "    .config(\"spark.executor.memory\", \"512m\")\\\n",
    "    .config(\"spark.cores.max\", \"12\")\\\n",
    "    .config(\"spark.driver.port\", \"4040\")\\\n",
    "    .config(\"spark.archives\",\"venv1.zip\")\\\n",
    "    .config(\"spark.sql.extensions\", \"io.delta.sql.DeltaSparkSessionExtension\") \\\n",
    "    .config(\"spark.sql.catalog.spark_catalog\", \"org.apache.spark.sql.delta.catalog.DeltaCatalog\")\\\n",
    "    .getOrCreate()"
   ]
  },
  {
   "cell_type": "code",
   "execution_count": 4,
   "id": "e48ed3c8",
   "metadata": {},
   "outputs": [
    {
     "name": "stderr",
     "output_type": "stream",
     "text": [
      "Widget Javascript not detected.  It may not be installed or enabled properly.\n"
     ]
    },
    {
     "data": {
      "application/vnd.jupyter.widget-view+json": {
       "model_id": "de0af2be8fed4f06a157dcf9612cb3da"
      }
     },
     "metadata": {},
     "output_type": "display_data"
    },
    {
     "name": "stderr",
     "output_type": "stream",
     "text": [
      "Widget Javascript not detected.  It may not be installed or enabled properly.\n"
     ]
    },
    {
     "data": {
      "application/vnd.jupyter.widget-view+json": {
       "model_id": "4cd4b1abff854eb795b8ceb7ebe17dff"
      }
     },
     "metadata": {},
     "output_type": "display_data"
    }
   ],
   "source": [
    "import ipywidgets as widget\n",
    "l = widget.Label('consumerGroup')\n",
    "display(l)\n",
    "consumerGroup = widget.Text()\n",
    "display(consumerGroup)"
   ]
  },
  {
   "cell_type": "code",
   "execution_count": 5,
   "id": "58c3f5c6",
   "metadata": {},
   "outputs": [
    {
     "data": {
      "text/plain": [
       "''"
      ]
     },
     "execution_count": 5,
     "metadata": {},
     "output_type": "execute_result"
    }
   ],
   "source": [
    "consumerGroup.value"
   ]
  },
  {
   "cell_type": "code",
   "execution_count": 6,
   "id": "22901850",
   "metadata": {},
   "outputs": [
    {
     "name": "stderr",
     "output_type": "stream",
     "text": [
      "22/03/10 07:51:00 WARN KafkaSourceProvider: maxOffsetsPerTrigger option ignored in batch queries\n"
     ]
    }
   ],
   "source": [
    "kafka = spark \\\n",
    "  .read \\\n",
    "  .format(\"kafka\") \\\n",
    ".option(\"kafka.bootstrap.servers\", \"34.220.52.64:9092,52.35.125.165:9092\")\\\n",
    ".option(\"subscribePattern\", \"qatest12nonfes.public.field_data_+(1[0-2]|[1-9])_202[0-9]\")\\\n",
    ".option(\"startingOffsets\", \"earliest\")\\\n",
    ".option(\"maxOffsetsPerTrigger\", 1)\\\n",
    ".option(\"failOnDataLoss\", False)\\\n",
    ".load()"
   ]
  },
  {
   "cell_type": "code",
   "execution_count": 7,
   "id": "3d3ab95b",
   "metadata": {},
   "outputs": [
    {
     "name": "stdout",
     "output_type": "stream",
     "text": [
      "root\n",
      " |-- key: binary (nullable = true)\n",
      " |-- value: binary (nullable = true)\n",
      " |-- topic: string (nullable = true)\n",
      " |-- partition: integer (nullable = true)\n",
      " |-- offset: long (nullable = true)\n",
      " |-- timestamp: timestamp (nullable = true)\n",
      " |-- timestampType: integer (nullable = true)\n",
      "\n"
     ]
    }
   ],
   "source": [
    "kafka.printSchema()"
   ]
  },
  {
   "cell_type": "code",
   "execution_count": 8,
   "id": "28292104",
   "metadata": {},
   "outputs": [
    {
     "name": "stdout",
     "output_type": "stream",
     "text": [
      "Requirement already satisfied: python-schema-registry-client in /usr/local/lib/python3.9/dist-packages (2.2.2)\n",
      "Requirement already satisfied: confluent_kafka in /usr/local/lib/python3.9/dist-packages (1.8.2)\n",
      "Requirement already satisfied: avro in /usr/local/lib/python3.9/dist-packages (1.11.0)\n",
      "Requirement already satisfied: httpx>=0.19.0 in /usr/local/lib/python3.9/dist-packages (from python-schema-registry-client) (0.22.0)\n",
      "Requirement already satisfied: jsonschema>=3.2.0 in /usr/local/lib/python3.9/dist-packages (from python-schema-registry-client) (4.4.0)\n",
      "Requirement already satisfied: fastavro>=1.4.4 in /usr/local/lib/python3.9/dist-packages (from python-schema-registry-client) (1.4.9)\n",
      "Requirement already satisfied: aiofiles>=0.7.0 in /usr/local/lib/python3.9/dist-packages (from python-schema-registry-client) (0.8.0)\n",
      "Requirement already satisfied: httpcore<0.15.0,>=0.14.5 in /usr/local/lib/python3.9/dist-packages (from httpx>=0.19.0->python-schema-registry-client) (0.14.7)\n",
      "Requirement already satisfied: charset-normalizer in /usr/local/lib/python3.9/dist-packages (from httpx>=0.19.0->python-schema-registry-client) (2.0.12)\n",
      "Requirement already satisfied: rfc3986[idna2008]<2,>=1.3 in /usr/local/lib/python3.9/dist-packages (from httpx>=0.19.0->python-schema-registry-client) (1.5.0)\n",
      "Requirement already satisfied: certifi in /usr/local/lib/python3.9/dist-packages (from httpx>=0.19.0->python-schema-registry-client) (2021.10.8)\n",
      "Requirement already satisfied: sniffio in /usr/local/lib/python3.9/dist-packages (from httpx>=0.19.0->python-schema-registry-client) (1.2.0)\n",
      "Requirement already satisfied: attrs>=17.4.0 in /usr/local/lib/python3.9/dist-packages (from jsonschema>=3.2.0->python-schema-registry-client) (21.4.0)\n",
      "Requirement already satisfied: pyrsistent!=0.17.0,!=0.17.1,!=0.17.2,>=0.14.0 in /usr/local/lib/python3.9/dist-packages (from jsonschema>=3.2.0->python-schema-registry-client) (0.18.1)\n",
      "Requirement already satisfied: anyio==3.* in /usr/local/lib/python3.9/dist-packages (from httpcore<0.15.0,>=0.14.5->httpx>=0.19.0->python-schema-registry-client) (3.5.0)\n",
      "Requirement already satisfied: h11<0.13,>=0.11 in /usr/local/lib/python3.9/dist-packages (from httpcore<0.15.0,>=0.14.5->httpx>=0.19.0->python-schema-registry-client) (0.12.0)\n",
      "Requirement already satisfied: idna>=2.8 in /usr/local/lib/python3.9/dist-packages (from anyio==3.*->httpcore<0.15.0,>=0.14.5->httpx>=0.19.0->python-schema-registry-client) (3.3)\n",
      "\u001b[33mWARNING: Running pip as the 'root' user can result in broken permissions and conflicting behaviour with the system package manager. It is recommended to use a virtual environment instead: https://pip.pypa.io/warnings/venv\u001b[0m\u001b[33m\n",
      "\u001b[0mNote: you may need to restart the kernel to use updated packages.\n"
     ]
    }
   ],
   "source": [
    "pip install python-schema-registry-client confluent_kafka avro"
   ]
  },
  {
   "cell_type": "code",
   "execution_count": 9,
   "id": "19782609",
   "metadata": {},
   "outputs": [],
   "source": [
    "from pyspark.sql.avro.functions import from_avro\n",
    "from pyspark.sql.functions import col\n",
    "import pyspark.sql.functions as fn\n",
    "from pyspark.sql.functions import udf\n",
    "from pyspark.sql.types import *\n",
    "from schema_registry.client import SchemaRegistryClient, schema\n",
    "import json\n",
    "import subprocess\n",
    "import sys\n",
    "import json\n",
    "import sys\n",
    "from pyspark import SparkConf\n",
    "from pyspark import SparkContext\n",
    "from pyspark import SparkFiles\n",
    "import datetime\n",
    "from confluent_kafka.avro.cached_schema_registry_client import CachedSchemaRegistryClient\n"
   ]
  },
  {
   "cell_type": "code",
   "execution_count": 10,
   "id": "6d4d72f0",
   "metadata": {},
   "outputs": [],
   "source": [
    "def getJsonSchema(schemaId, schemasById, registrySchemaUrl):\n",
    "        jsonSchema = schemasById.get(schemaId)\n",
    "        if jsonSchema is None:\n",
    "            src = SchemaRegistryClient(registrySchemaUrl)\n",
    "            schema = src.get_by_id(schemaId)\n",
    "            jsonSchema = json.dumps(schema.flat_schema)\n",
    "            schemasById[schemaId] = jsonSchema\n",
    "        return jsonSchema"
   ]
  },
  {
   "cell_type": "code",
   "execution_count": 50,
   "id": "0cc9fca5",
   "metadata": {},
   "outputs": [],
   "source": [
    "def getJsonSchemaLatestCached(registrySchemaUrl, topicName):\n",
    "        src = CachedSchemaRegistryClient(registrySchemaUrl)\n",
    "        schema = src.get_latest_schema(topicName)[1]\n",
    "        \n",
    "#         jsonSchema = json.dumps(schema.schema)\n",
    "        return str(schema)"
   ]
  },
  {
   "cell_type": "code",
   "execution_count": 29,
   "id": "0dda7861",
   "metadata": {},
   "outputs": [],
   "source": [
    "def install(package):\n",
    "    subprocess.check_call([sys.executable, \"-m\", \"pip\", \"install\", package])\n",
    "    \n",
    "def avroJsonSchema(schemaId, payload):\n",
    "#         import subprocess\n",
    "#         install(\"schema_registry\")\n",
    "#         install(\"python-schema-registry-client\")\n",
    "#         install(\"pandas\")\n",
    "        from schema_registry.client import SchemaRegistryClient, schema\n",
    "        import json\n",
    "        \n",
    "        src = SchemaRegistryClient(\"http://52.35.125.165:8081\")\n",
    "        schema = src.get_by_id(schemaId)\n",
    "        jsonSchema = json.dumps(schema.flat_schema)\n",
    "        return json.dumps(from_avro(payload, jsonSchema))\n",
    "#         return jsonSchema\n",
    "\n",
    "getJsonSchema_udf = udf(avroJsonSchema, StringType())\n",
    "\n",
    "def getJsonSchemaLatest(registrySchemaUrl, topicName):\n",
    "        src = SchemaRegistryClient(registrySchemaUrl)\n",
    "        schema = src.get_schema(subject=topicName).schema\n",
    "        jsonSchema = json.dumps(schema.flat_schema)\n",
    "        return jsonSchema"
   ]
  },
  {
   "cell_type": "code",
   "execution_count": 14,
   "id": "f259d7bc",
   "metadata": {},
   "outputs": [],
   "source": [
    "kafka = kafka.filter(\"value is NOT NULL\")\n",
    "\n",
    "sd = datetime.datetime.strptime(\"03-03-2022\", \"%d-%m-%Y\")\n",
    "\n",
    "kafka = kafka.filter(kafka['timestamp'] >= sd)\n",
    "    \n",
    "byteArrayToLong = fn.udf(lambda x: int.from_bytes(x, byteorder='big', signed=False), LongType())"
   ]
  },
  {
   "cell_type": "code",
   "execution_count": 15,
   "id": "ada9908a",
   "metadata": {},
   "outputs": [],
   "source": [
    "df = kafka.withColumn('valuenew', kafka['value'])\n",
    "df = df.withColumn(\"schemaId\", byteArrayToLong(fn.substring(\"valuenew\", 2, 4))) \\\n",
    "                    .withColumn(\"payload\", fn.expr(\"substring(valuenew, 6, length(valuenew)-5)\"))\n",
    "\n"
   ]
  },
  {
   "cell_type": "code",
   "execution_count": 16,
   "id": "ae642be0",
   "metadata": {},
   "outputs": [
    {
     "name": "stdout",
     "output_type": "stream",
     "text": [
      "root\n",
      " |-- key: binary (nullable = true)\n",
      " |-- value: binary (nullable = true)\n",
      " |-- topic: string (nullable = true)\n",
      " |-- partition: integer (nullable = true)\n",
      " |-- offset: long (nullable = true)\n",
      " |-- timestamp: timestamp (nullable = true)\n",
      " |-- timestampType: integer (nullable = true)\n",
      " |-- valuenew: binary (nullable = true)\n",
      " |-- schemaId: long (nullable = true)\n",
      " |-- payload: binary (nullable = true)\n",
      "\n"
     ]
    }
   ],
   "source": [
    "df.printSchema()"
   ]
  },
  {
   "cell_type": "code",
   "execution_count": 49,
   "id": "dec47e97",
   "metadata": {},
   "outputs": [
    {
     "name": "stderr",
     "output_type": "stream",
     "text": [
      "/tmp/ipykernel_4077/2689471534.py:1: DeprecationWarning: CachedSchemaRegistry constructor is being deprecated. Use CachedSchemaRegistryClient(dict: config) instead. Existing params ca_location, cert_location and key_location will be replaced with their librdkafka equivalents as keys in the conf dict: `ssl.ca.location`, `ssl.certificate.location` and `ssl.key.location` respectively\n",
      "  src = CachedSchemaRegistryClient(\"http://52.35.125.165:8081\")\n"
     ]
    },
    {
     "name": "stdout",
     "output_type": "stream",
     "text": [
      "{\"type\": \"record\", \"connect.name\": \"qatest12nonfes.public.field_data_3_2022.Envelope\", \"name\": \"Envelope\", \"namespace\": \"qatest12nonfes.public.field_data_3_2022\", \"fields\": [{\"type\": [\"null\", {\"type\": \"record\", \"connect.name\": \"qatest12nonfes.public.field_data_3_2022.Value\", \"name\": \"Value\", \"namespace\": \"qatest12nonfes.public.field_data_3_2022\", \"fields\": [{\"type\": \"long\", \"name\": \"id\"}, {\"type\": [\"null\", \"string\"], \"name\": \"value\", \"default\": null}, {\"type\": \"int\", \"name\": \"field_attribute_master_id\"}, {\"type\": [\"null\", \"int\"], \"name\": \"position_id\", \"default\": null}, {\"type\": [\"null\", \"int\"], \"name\": \"parent_id\", \"default\": null}, {\"type\": \"long\", \"name\": \"job_transaction_id\"}, {\"type\": [\"null\", \"int\"], \"name\": \"company_id\", \"default\": null}, {\"type\": [\"null\", {\"type\": \"long\", \"connect.version\": 1, \"connect.name\": \"org.apache.kafka.connect.data.Timestamp\", \"logicalType\": \"timestamp-millis\"}], \"name\": \"created_at\", \"default\": null}]}], \"name\": \"before\", \"default\": null}, {\"type\": [\"null\", \"qatest12nonfes.public.field_data_3_2022.Value\"], \"name\": \"after\", \"default\": null}, {\"type\": {\"type\": \"record\", \"connect.name\": \"io.debezium.connector.postgresql.Source\", \"name\": \"Source\", \"namespace\": \"io.debezium.connector.postgresql\", \"fields\": [{\"type\": \"string\", \"name\": \"version\"}, {\"type\": \"string\", \"name\": \"connector\"}, {\"type\": \"string\", \"name\": \"name\"}, {\"type\": \"long\", \"name\": \"ts_ms\"}, {\"type\": [{\"type\": \"string\", \"connect.version\": 1, \"connect.parameters\": {\"allowed\": \"true,last,false\"}, \"connect.default\": \"false\", \"connect.name\": \"io.debezium.data.Enum\"}, \"null\"], \"name\": \"snapshot\", \"default\": \"false\"}, {\"type\": \"string\", \"name\": \"db\"}, {\"type\": [\"null\", \"string\"], \"name\": \"sequence\", \"default\": null}, {\"type\": \"string\", \"name\": \"schema\"}, {\"type\": \"string\", \"name\": \"table\"}, {\"type\": [\"null\", \"long\"], \"name\": \"txId\", \"default\": null}, {\"type\": [\"null\", \"long\"], \"name\": \"lsn\", \"default\": null}, {\"type\": [\"null\", \"long\"], \"name\": \"xmin\", \"default\": null}]}, \"name\": \"source\"}, {\"type\": \"string\", \"name\": \"op\"}, {\"type\": [\"null\", \"long\"], \"name\": \"ts_ms\", \"default\": null}, {\"type\": [\"null\", {\"type\": \"record\", \"name\": \"ConnectDefault\", \"namespace\": \"io.confluent.connect.avro\", \"fields\": [{\"type\": \"string\", \"name\": \"id\"}, {\"type\": \"long\", \"name\": \"total_order\"}, {\"type\": \"long\", \"name\": \"data_collection_order\"}]}], \"name\": \"transaction\", \"default\": null}]}\n"
     ]
    }
   ],
   "source": [
    "src = CachedSchemaRegistryClient(\"http://52.35.125.165:8081\")\n",
    "schema = src.get_latest_schema(\"qatest12nonfes.public.field_data_3_2022-value\")\n",
    "\n",
    "print(str(schema[1]))\n",
    "dfSchema = getJsonSchemaLatestCached(\"http://52.35.125.165:8081\", \"qatest12nonfes.public.field_data_3_2022-value\")\n",
    "df = df.withColumn(\"payload\", fn.expr(\"substring(valuenew, 6, length(valuenew)-5)\"))\n",
    "df = df.withColumn('value', from_avro(\"payload\", dfSchema))\n",
    "df = df.drop(\"payload\")"
   ]
  },
  {
   "cell_type": "code",
   "execution_count": 51,
   "id": "dd9d39a5",
   "metadata": {},
   "outputs": [
    {
     "name": "stderr",
     "output_type": "stream",
     "text": [
      "/tmp/ipykernel_4077/2156750714.py:2: DeprecationWarning: CachedSchemaRegistry constructor is being deprecated. Use CachedSchemaRegistryClient(dict: config) instead. Existing params ca_location, cert_location and key_location will be replaced with their librdkafka equivalents as keys in the conf dict: `ssl.ca.location`, `ssl.certificate.location` and `ssl.key.location` respectively\n",
      "  src = CachedSchemaRegistryClient(registrySchemaUrl)\n"
     ]
    }
   ],
   "source": [
    "dfSchema = getJsonSchemaLatest(\"http://52.35.125.165:8081\", \"qatest12nonfes.public.field_data_3_2022-value\")\n",
    "df = df.withColumn(\"payload\", fn.expr(\"substring(valuenew, 6, length(valuenew)-5)\"))\n",
    "df = df.withColumn('value', from_avro(\"payload\", dfSchema))\n",
    "df = df.drop(\"payload\")"
   ]
  },
  {
   "cell_type": "code",
   "execution_count": 52,
   "id": "1b9167f7",
   "metadata": {},
   "outputs": [
    {
     "data": {
      "text/plain": [
       "'{\"type\": \"record\", \"connect.name\": \"qatest12nonfes.public.field_data_3_2022.Envelope\", \"name\": \"Envelope\", \"namespace\": \"qatest12nonfes.public.field_data_3_2022\", \"fields\": [{\"type\": [\"null\", {\"type\": \"record\", \"connect.name\": \"qatest12nonfes.public.field_data_3_2022.Value\", \"name\": \"Value\", \"namespace\": \"qatest12nonfes.public.field_data_3_2022\", \"fields\": [{\"type\": \"long\", \"name\": \"id\"}, {\"type\": [\"null\", \"string\"], \"name\": \"value\", \"default\": null}, {\"type\": \"int\", \"name\": \"field_attribute_master_id\"}, {\"type\": [\"null\", \"int\"], \"name\": \"position_id\", \"default\": null}, {\"type\": [\"null\", \"int\"], \"name\": \"parent_id\", \"default\": null}, {\"type\": \"long\", \"name\": \"job_transaction_id\"}, {\"type\": [\"null\", \"int\"], \"name\": \"company_id\", \"default\": null}, {\"type\": [\"null\", {\"type\": \"long\", \"connect.version\": 1, \"connect.name\": \"org.apache.kafka.connect.data.Timestamp\", \"logicalType\": \"timestamp-millis\"}], \"name\": \"created_at\", \"default\": null}]}], \"name\": \"before\", \"default\": null}, {\"type\": [\"null\", \"qatest12nonfes.public.field_data_3_2022.Value\"], \"name\": \"after\", \"default\": null}, {\"type\": {\"type\": \"record\", \"connect.name\": \"io.debezium.connector.postgresql.Source\", \"name\": \"Source\", \"namespace\": \"io.debezium.connector.postgresql\", \"fields\": [{\"type\": \"string\", \"name\": \"version\"}, {\"type\": \"string\", \"name\": \"connector\"}, {\"type\": \"string\", \"name\": \"name\"}, {\"type\": \"long\", \"name\": \"ts_ms\"}, {\"type\": [{\"type\": \"string\", \"connect.version\": 1, \"connect.parameters\": {\"allowed\": \"true,last,false\"}, \"connect.default\": \"false\", \"connect.name\": \"io.debezium.data.Enum\"}, \"null\"], \"name\": \"snapshot\", \"default\": \"false\"}, {\"type\": \"string\", \"name\": \"db\"}, {\"type\": [\"null\", \"string\"], \"name\": \"sequence\", \"default\": null}, {\"type\": \"string\", \"name\": \"schema\"}, {\"type\": \"string\", \"name\": \"table\"}, {\"type\": [\"null\", \"long\"], \"name\": \"txId\", \"default\": null}, {\"type\": [\"null\", \"long\"], \"name\": \"lsn\", \"default\": null}, {\"type\": [\"null\", \"long\"], \"name\": \"xmin\", \"default\": null}]}, \"name\": \"source\"}, {\"type\": \"string\", \"name\": \"op\"}, {\"type\": [\"null\", \"long\"], \"name\": \"ts_ms\", \"default\": null}, {\"type\": [\"null\", {\"type\": \"record\", \"name\": \"ConnectDefault\", \"namespace\": \"io.confluent.connect.avro\", \"fields\": [{\"type\": \"string\", \"name\": \"id\"}, {\"type\": \"long\", \"name\": \"total_order\"}, {\"type\": \"long\", \"name\": \"data_collection_order\"}]}], \"name\": \"transaction\", \"default\": null}]}'"
      ]
     },
     "execution_count": 52,
     "metadata": {},
     "output_type": "execute_result"
    }
   ],
   "source": [
    "dfSchema"
   ]
  },
  {
   "cell_type": "code",
   "execution_count": 53,
   "id": "b5a755b8",
   "metadata": {},
   "outputs": [
    {
     "name": "stderr",
     "output_type": "stream",
     "text": [
      "[Stage 0:>                                                          (0 + 1) / 1]\r"
     ]
    },
    {
     "name": "stdout",
     "output_type": "stream",
     "text": [
      "+--------------------+--------------------+--------------------+---------+------+--------------------+-------------+--------------------+--------+\n",
      "|                 key|               value|               topic|partition|offset|           timestamp|timestampType|            valuenew|schemaId|\n",
      "+--------------------+--------------------+--------------------+---------+------+--------------------+-------------+--------------------+--------+\n",
      "|[00 00 00 0E 6C 9...|[, [1219656,, 21,...|qatest12nonfes.pu...|        2|   100|2022-03-03 10:25:...|            0|[00 00 00 0E 6D 0...|    3693|\n",
      "+--------------------+--------------------+--------------------+---------+------+--------------------+-------------+--------------------+--------+\n",
      "only showing top 1 row\n",
      "\n"
     ]
    },
    {
     "name": "stderr",
     "output_type": "stream",
     "text": [
      "22/03/09 04:08:12 ERROR TaskSchedulerImpl: Lost executor 1 on 172.22.0.4: worker lost\n",
      "22/03/09 04:08:12 ERROR TaskSchedulerImpl: Lost executor 0 on 172.22.0.5: worker lost\n",
      "22/03/09 04:30:42 ERROR StandaloneSchedulerBackend: Application has been killed. Reason: Master removed our application: KILLED\n",
      "22/03/09 04:30:42 ERROR Inbox: Ignoring error\n",
      "org.apache.spark.SparkException: Exiting due to error from cluster scheduler: Master removed our application: KILLED\n",
      "\tat org.apache.spark.scheduler.TaskSchedulerImpl.error(TaskSchedulerImpl.scala:716)\n",
      "\tat org.apache.spark.scheduler.cluster.StandaloneSchedulerBackend.dead(StandaloneSchedulerBackend.scala:152)\n",
      "\tat org.apache.spark.deploy.client.StandaloneAppClient$ClientEndpoint.markDead(StandaloneAppClient.scala:258)\n",
      "\tat org.apache.spark.deploy.client.StandaloneAppClient$ClientEndpoint$$anonfun$receive$1.applyOrElse(StandaloneAppClient.scala:168)\n",
      "\tat org.apache.spark.rpc.netty.Inbox.$anonfun$process$1(Inbox.scala:115)\n",
      "\tat org.apache.spark.rpc.netty.Inbox.safelyCall(Inbox.scala:203)\n",
      "\tat org.apache.spark.rpc.netty.Inbox.process(Inbox.scala:100)\n",
      "\tat org.apache.spark.rpc.netty.MessageLoop.org$apache$spark$rpc$netty$MessageLoop$$receiveLoop(MessageLoop.scala:75)\n",
      "\tat org.apache.spark.rpc.netty.MessageLoop$$anon$1.run(MessageLoop.scala:41)\n",
      "\tat java.util.concurrent.ThreadPoolExecutor.runWorker(ThreadPoolExecutor.java:1149)\n",
      "\tat java.util.concurrent.ThreadPoolExecutor$Worker.run(ThreadPoolExecutor.java:624)\n",
      "\tat java.lang.Thread.run(Thread.java:750)\n",
      "22/03/09 04:30:42 ERROR TaskSchedulerImpl: Lost executor 3 on 172.22.0.4: Remote RPC client disassociated. Likely due to containers exceeding thresholds, or network issues. Check driver logs for WARN messages.\n",
      "22/03/09 04:30:42 ERROR TaskSchedulerImpl: Lost executor 2 on 172.22.0.5: Remote RPC client disassociated. Likely due to containers exceeding thresholds, or network issues. Check driver logs for WARN messages.\n"
     ]
    }
   ],
   "source": [
    "df.show(1)"
   ]
  },
  {
   "cell_type": "code",
   "execution_count": 18,
   "id": "07d4ef14",
   "metadata": {},
   "outputs": [],
   "source": [
    "schemasByIdDict = {}\n",
    "\n",
    "dfAllSchemas = df.select(\"schemaId\").distinct()\n",
    "schemaRowList = dfAllSchemas.collect()\n",
    "print(schemaRowList)"
   ]
  },
  {
   "cell_type": "code",
   "execution_count": 22,
   "id": "b7c87833",
   "metadata": {},
   "outputs": [
    {
     "name": "stderr",
     "output_type": "stream",
     "text": [
      "[Stage 0:>                                                          (0 + 1) / 1]\r"
     ]
    },
    {
     "name": "stdout",
     "output_type": "stream",
     "text": [
      "+--------------------+--------------------+---------+------+--------------------+-------------+--------------------+--------+--------------------+--------------------+\n",
      "|                 key|               topic|partition|offset|           timestamp|timestampType|            valuenew|schemaId|             payload|               value|\n",
      "+--------------------+--------------------+---------+------+--------------------+-------------+--------------------+--------+--------------------+--------------------+\n",
      "|[00 00 00 07 32 B...|qatest12nonfes.pu...|        1|195410|2022-03-03 10:26:...|            0|[00 00 00 0E 99 0...|    3737|[00 02 BC A3 2C B...|[, [362718, 53657...|\n",
      "+--------------------+--------------------+---------+------+--------------------+-------------+--------------------+--------+--------------------+--------------------+\n",
      "only showing top 1 row\n",
      "\n"
     ]
    },
    {
     "name": "stderr",
     "output_type": "stream",
     "text": [
      "                                                                                \r"
     ]
    }
   ],
   "source": [
    "dfBySchemaId.show(1)"
   ]
  },
  {
   "cell_type": "code",
   "execution_count": null,
   "id": "d3ceb5f5",
   "metadata": {},
   "outputs": [],
   "source": [
    "# jsonSchema = getJsonSchema(3737, schemasByIdDict,\"http://52.35.125.165:8081\")\n",
    "# currentValueSchemaId = 3737\n",
    "# currentValueSchema = jsonSchema\n",
    "# dfBySchemaId = df.where(df.schemaId == currentValueSchemaId)\n",
    "# dfBySchemaId = dfBySchemaId.drop(\"value\")\n",
    "\n",
    "\n",
    "# dfBySchemaId = dfBySchemaId.withColumn(\"value\", from_avro(\"payload\", currentValueSchema))\n",
    "# # dfBySchemaId = dfBySchemaId.drop(\"payload\")"
   ]
  },
  {
   "cell_type": "code",
   "execution_count": null,
   "id": "55f93a0e",
   "metadata": {},
   "outputs": [],
   "source": [
    "for schemaRow in schemaRowList:\n",
    "    jsonSchema = getJsonSchema(schemaRow.schemaId, schemasByIdDict,\"http://52.35.125.165:8081\")\n",
    "    currentValueSchemaId = schemaRow.schemaId\n",
    "    currentValueSchema = jsonSchema\n",
    "    dfBySchemaId = df.where(df.schemaId == currentValueSchemaId)\n",
    "    dfBySchemaId = dfBySchemaId.drop(\"value\")\n",
    "    dfBySchemaId = dfBySchemaId.withColumn(\"value\", from_avro(\"payload\", currentValueSchema))\n",
    "    dfBySchemaId = dfBySchemaId.drop(\"payload\")"
   ]
  },
  {
   "cell_type": "code",
   "execution_count": 79,
   "id": "824e0af4",
   "metadata": {},
   "outputs": [
    {
     "data": {
      "text/plain": [
       "DataFrame[key: binary, topic: string, partition: int, offset: bigint, timestamp: timestamp, timestampType: int, valuenew: binary, schemaId: bigint, value: struct<before:struct<id:bigint,user_id:int,hub_id:int,city_id:int,company_id:int,date:timestamp,app_version:string,gps_kms:double,odometer_kms:double,halt_duration:double,travel_duration:double,avg_speed:double,max_speed:double,official_sms_sent_count:int,personal_sms_sent_count:int,official_call_incoming_count:int,official_call_outgoing_count:int,official_call_incoming_duration:int,official_call_outgoing_duration:int,personal_call_incoming_count:int,personal_call_outgoing_count:int,personal_call_incoming_duration:int,personal_call_outgoing_duration:int,cug_call_incoming_count:int,cug_call_outgoing_count:int,cug_call_incoming_duration:int,cug_call_outgoing_duration:int,last_location_datetime:timestamp,last_lat:double,last_lng:double,last_speed:double,last_battery:int,pending_count:int,deliver_count:int,fail_count:int,cash_collected:double,cash_payment:double,cash_collected_by_card:double,created_at:timestamp,last_cash_collected:double,last_order_number:string,last_order_time:string,last_logout_time:timestamp,first_lat:double,first_long:double,active_time_in_millis:bigint,imei_number:string,next_job_transaction_id:bigint,active_mdm_version:string,trip_status:string,box_temperature:string,sensor_id:string,last_login_time:timestamp>,after:struct<id:bigint,user_id:int,hub_id:int,city_id:int,company_id:int,date:timestamp,app_version:string,gps_kms:double,odometer_kms:double,halt_duration:double,travel_duration:double,avg_speed:double,max_speed:double,official_sms_sent_count:int,personal_sms_sent_count:int,official_call_incoming_count:int,official_call_outgoing_count:int,official_call_incoming_duration:int,official_call_outgoing_duration:int,personal_call_incoming_count:int,personal_call_outgoing_count:int,personal_call_incoming_duration:int,personal_call_outgoing_duration:int,cug_call_incoming_count:int,cug_call_outgoing_count:int,cug_call_incoming_duration:int,cug_call_outgoing_duration:int,last_location_datetime:timestamp,last_lat:double,last_lng:double,last_speed:double,last_battery:int,pending_count:int,deliver_count:int,fail_count:int,cash_collected:double,cash_payment:double,cash_collected_by_card:double,created_at:timestamp,last_cash_collected:double,last_order_number:string,last_order_time:string,last_logout_time:timestamp,first_lat:double,first_long:double,active_time_in_millis:bigint,imei_number:string,next_job_transaction_id:bigint,active_mdm_version:string,trip_status:string,box_temperature:string,sensor_id:string,last_login_time:timestamp>,source:struct<version:string,connector:string,name:string,ts_ms:bigint,snapshot:string,db:string,sequence:string,schema:string,table:string,txId:bigint,lsn:bigint,xmin:bigint>,op:string,ts_ms:bigint,transaction:struct<id:string,total_order:bigint,data_collection_order:bigint>>]"
      ]
     },
     "metadata": {},
     "output_type": "display_data"
    }
   ],
   "source": [
    "display(dfBySchemaId)"
   ]
  },
  {
   "cell_type": "code",
   "execution_count": 19,
   "id": "287d481d",
   "metadata": {},
   "outputs": [
    {
     "name": "stdout",
     "output_type": "stream",
     "text": [
      "Requirement already satisfied: python-schema-registry-client in /usr/local/lib/python3.9/dist-packages (2.2.2)\n",
      "Requirement already satisfied: aiofiles>=0.7.0 in /usr/local/lib/python3.9/dist-packages (from python-schema-registry-client) (0.8.0)\n",
      "Requirement already satisfied: jsonschema>=3.2.0 in /usr/local/lib/python3.9/dist-packages (from python-schema-registry-client) (4.4.0)\n",
      "Requirement already satisfied: fastavro>=1.4.4 in /usr/local/lib/python3.9/dist-packages (from python-schema-registry-client) (1.4.9)\n",
      "Requirement already satisfied: httpx>=0.19.0 in /usr/local/lib/python3.9/dist-packages (from python-schema-registry-client) (0.22.0)\n",
      "Requirement already satisfied: rfc3986[idna2008]<2,>=1.3 in /usr/local/lib/python3.9/dist-packages (from httpx>=0.19.0->python-schema-registry-client) (1.5.0)\n",
      "Requirement already satisfied: httpcore<0.15.0,>=0.14.5 in /usr/local/lib/python3.9/dist-packages (from httpx>=0.19.0->python-schema-registry-client) (0.14.7)\n",
      "Requirement already satisfied: charset-normalizer in /usr/local/lib/python3.9/dist-packages (from httpx>=0.19.0->python-schema-registry-client) (2.0.12)\n",
      "Requirement already satisfied: sniffio in /usr/local/lib/python3.9/dist-packages (from httpx>=0.19.0->python-schema-registry-client) (1.2.0)\n",
      "Requirement already satisfied: certifi in /usr/local/lib/python3.9/dist-packages (from httpx>=0.19.0->python-schema-registry-client) (2021.10.8)\n",
      "Requirement already satisfied: attrs>=17.4.0 in /usr/local/lib/python3.9/dist-packages (from jsonschema>=3.2.0->python-schema-registry-client) (21.4.0)\n",
      "Requirement already satisfied: pyrsistent!=0.17.0,!=0.17.1,!=0.17.2,>=0.14.0 in /usr/local/lib/python3.9/dist-packages (from jsonschema>=3.2.0->python-schema-registry-client) (0.18.1)\n",
      "Requirement already satisfied: h11<0.13,>=0.11 in /usr/local/lib/python3.9/dist-packages (from httpcore<0.15.0,>=0.14.5->httpx>=0.19.0->python-schema-registry-client) (0.12.0)\n",
      "Requirement already satisfied: anyio==3.* in /usr/local/lib/python3.9/dist-packages (from httpcore<0.15.0,>=0.14.5->httpx>=0.19.0->python-schema-registry-client) (3.5.0)\n",
      "Requirement already satisfied: idna>=2.8 in /usr/local/lib/python3.9/dist-packages (from anyio==3.*->httpcore<0.15.0,>=0.14.5->httpx>=0.19.0->python-schema-registry-client) (3.3)\n",
      "\u001b[33mWARNING: Running pip as the 'root' user can result in broken permissions and conflicting behaviour with the system package manager. It is recommended to use a virtual environment instead: https://pip.pypa.io/warnings/venv\u001b[0m\u001b[33m\n",
      "\u001b[0m"
     ]
    }
   ],
   "source": [
    "!pip install python-schema-registry-client\n",
    "\n",
    "from pyspark.sql.avro.functions import from_avro\n",
    "from pyspark.sql.functions import col\n",
    "from pyspark.sql import functions as F\n",
    "from pyspark.sql.window import Window\n",
    "from pyspark.sql.types import *\n",
    "from pyspark.sql.functions import to_date\n",
    "import base64\n",
    "import gzip\n",
    "import _datetime\n",
    "from schema_registry.client import SchemaRegistryClient\n",
    "import json\n",
    "import sys\n",
    "import datetime\n",
    "from pyspark.sql.functions import max as sparkMax\n",
    "from pyspark.sql.functions import broadcast\n",
    "from delta.tables import *\n",
    "\n",
    "# import org.apache.spark.sql.streaming.ProcessingTime"
   ]
  },
  {
   "cell_type": "code",
   "execution_count": 20,
   "id": "42ac7e07",
   "metadata": {},
   "outputs": [
    {
     "data": {
      "text/plain": [
       "'updatesTable.id = targetTable.id'"
      ]
     },
     "execution_count": 20,
     "metadata": {},
     "output_type": "execute_result"
    },
    {
     "name": "stderr",
     "output_type": "stream",
     "text": [
      "[Stage 1:================>                                       (42 + 2) / 140]\r"
     ]
    }
   ],
   "source": [
    "def get_partition_query(partition_column: str, primary_key: str):\n",
    "\n",
    "        if not primary_key or not partition_column:\n",
    "            return \"updatesTable.id = targetTable.id\"\n",
    "        \n",
    "#         query = \"updatesTable.{0} = targetTable.{0}\".format(primary_key)\n",
    "        \n",
    "        query = \"\"\n",
    "        \n",
    "        primary_keyA = []\n",
    "    \n",
    "        pkey_array = primary_key.split(\",\")\n",
    "        for partitions in pkey_array:\n",
    "            partitions = partitions.strip()\n",
    "            if query == \"\":\n",
    "              query += \"updatesTable.{0} = targetTable.{0}\".format(partitions)\n",
    "            else:\n",
    "              query += \" and updatesTable.{0} = targetTable.{0}\".format(partitions)\n",
    "              \n",
    "            primary_keyA.append(partitions)\n",
    "        \n",
    "#         primary_key = primary_key.strip()\n",
    "        partitions_array = partition_column.split(\",\")\n",
    "        for partitions in partitions_array:\n",
    "            partitions = partitions.strip()\n",
    "            if partitions not in primary_keyA:\n",
    "                query += \" and updatesTable.{0} = targetTable.{0}\".format(partitions)\n",
    "        return query\n",
    "\n",
    "    \n",
    "get_partition_query(\"\", \"company_id\")"
   ]
  },
  {
   "cell_type": "code",
   "execution_count": 22,
   "id": "1e3341d2",
   "metadata": {},
   "outputs": [
    {
     "name": "stderr",
     "output_type": "stream",
     "text": [
      "[Stage 1:=========================>                              (63 + 2) / 140]\r"
     ]
    }
   ],
   "source": [
    "from pyspark.sql.types import StructType, StructField, IntegerType, LongType, StringType, FloatType\n",
    "from delta.tables import *\n",
    "from pyspark.sql import DataFrame\n",
    "  \n",
    "def getTableColumn(my_schema):\n",
    "    tableList = []\n",
    "    col = []\n",
    "    inputTable = \"updatesTable.\"\n",
    "    targetTable = \"targetTable.\"\n",
    "\n",
    "    ignoreColumns = [\"table_key_ts\", \"table_delete\", \"table_key\"]\n",
    "\n",
    "    for field in my_schema.fields:\n",
    "        if field.name == \"after\":\n",
    "            for f3 in field.dataType:\n",
    "                te = f3.name + \" \" + f3.dataType.typeName()\n",
    "                if f3.name not in ignoreColumns:\n",
    "                    tableList.append(te)\n",
    "                    col.append(f3.name)\n",
    "        else:\n",
    "            te = field.name + \" \" + field.dataType.typeName()\n",
    "            if field.name not in ignoreColumns:\n",
    "                tableList.append(te)\n",
    "                col.append(field.name)\n",
    "    res = \"\"\n",
    "    insertResInp = \"\"\n",
    "    insertResOut = \"\"\n",
    "    merge = \"\"\n",
    "    for i in range(len(tableList)):\n",
    "        if i == (len(tableList) - 1):\n",
    "            res += tableList[i]\n",
    "            insertResInp += col[i]\n",
    "            insertResOut += inputTable + col[i]\n",
    "            merge += targetTable + col[i] + \" = \" + inputTable + col[i]\n",
    "        else:\n",
    "            res += tableList[i] + \",\"\n",
    "            insertResInp += col[i] + \",\"\n",
    "            insertResOut += inputTable + col[i] + \",\"\n",
    "            merge += targetTable + col[i] + \" = \" + inputTable + col[i] + \",\"\n",
    "    ans = [res, insertResInp, insertResOut, merge]\n",
    "    \n",
    "    \n",
    "    print(ans)\n",
    "    return ans\n",
    "\n",
    "def groupk(partition):\n",
    "      from itertools import groupby\n",
    "      \n",
    "      partCount = 1\n",
    "      l = []\n",
    "      for key, group in groupby(sorted(partition, key = lambda x: x[\"table_key\"]), lambda x: x[\"table_key\"]):\n",
    "        a = []\n",
    "        k = None\n",
    "        temp = -1\n",
    "\n",
    "        for thing in group:\n",
    "          if temp < int(thing[\"offset\"]):\n",
    "            temp = thing[\"offset\"]\n",
    "            k = thing\n",
    "\n",
    "#         yield k\n",
    "        l.append(k)\n",
    "        partCount += 1\n",
    "    \n",
    "      return l\n",
    "    \n",
    "def upsertToDelta(microBatchOutputDF):\n",
    "        df5 = spark.sparkContext._jvm.com.example.Hello.add(spark._jsparkSession, \"34.220.52.64:9092,52.35.125.165:9092\", \"datalake-qa-91\")\n",
    "        microBatchOutputDF = microBatchOutputDF.drop(\"valuenew\")\n",
    "        \n",
    "        microBatchOutputDF = microBatchOutputDF.withColumn('valueConsumerKafka', microBatchOutputDF['value'])\n",
    "        microBatchOutputDF = microBatchOutputDF.drop(\"value\")\n",
    "        \n",
    "        microBatchOutputDF.show(1)\n",
    "        \n",
    "        \n",
    "        microBatchOutputDF = microBatchOutputDF.withColumn(\"table_delete\", F.when(\n",
    "            col(\"valueConsumerKafka.before\").isNotNull and col(\"valueConsumerKafka.op\").isNotNull and col(\"valueConsumerKafka.op\").contains(\"d\"),\n",
    "            True).otherwise(False))\n",
    "        \n",
    "        \n",
    "        if True:\n",
    "          microBatchOutputDF = microBatchOutputDF.withColumn(\"table_key\", F.when(col(\"table_delete\") == True,\n",
    "                                                                                 microBatchOutputDF[\n",
    "                                                                                     \"valueConsumerKafka.before.{}\".format(\n",
    "                                                                                         \"id\")]).otherwise(\n",
    "              microBatchOutputDF[\"valueConsumerKafka.after.{}\".format(\"id\")]))\n",
    "\n",
    "        \n",
    "          \n",
    "        \n",
    "        print(\"starting point\")\n",
    "\n",
    "        print(datetime.datetime.now())\n",
    "        \n",
    "        print(\"total partitions are\")\n",
    "        print(microBatchOutputDF.rdd.getNumPartitions())\n",
    "        \n",
    "\n",
    "        dfrdd = microBatchOutputDF.rdd.mapPartitions(groupk)\n",
    "        dfByTopic = spark.createDataFrame(dfrdd, schema = microBatchOutputDF.schema)\n",
    "        \n",
    "        print(dfByTopic.rdd.getNumPartitions())\n",
    "        \n",
    "        print(datetime.datetime.now())\n",
    "        \n",
    "#         display(dfByTopic)\n",
    "\n",
    "        dfByTopicDeleted = dfByTopic.filter(F.col(\"table_delete\") == True)\n",
    "        dfByTopicDeleted = dfByTopicDeleted.select(\"valueConsumerKafka.before.*\", \"table_delete\", \"table_key\", \"offset\")\n",
    "\n",
    "        dfByTopicDeleted = dfByTopicDeleted.drop(\"valueConsumerKafka\", \"kafka-key\", \"schemaId\")\n",
    "        dfByTopicDeleted = dfByTopicDeleted.drop(\"offset\")\n",
    "\n",
    "        dfByTopicInsert = dfByTopic.filter(F.col(\"table_delete\") == False)\n",
    "        dfByTopicInsert = dfByTopicInsert.select(\"valueConsumerKafka.after.*\", \"table_delete\", \"table_key\", \"offset\")\n",
    "        # display(df)\n",
    "        dfByTopicInsert = dfByTopicInsert.drop(\"valueConsumerKafka\", \"kafka-key\", \"schemaId\")\n",
    "        dfByTopicInsert = dfByTopicInsert.drop(\"offset\")\n",
    "        \n",
    "        if True:\n",
    "            partition_column_derive_from_column_split = \"created_at_part,created_at\".split(\",\")\n",
    "            new_partition_key = partition_column_derive_from_column_split[0]\n",
    "            new_partition_value = partition_column_derive_from_column_split[1]\n",
    "            \n",
    "        print(new_partition_value)\n",
    "        \n",
    "        if True:\n",
    "            dfByTopicDeleted = dfByTopicDeleted.withColumn(new_partition_key,to_date(col(new_partition_value)))\n",
    "            \n",
    "            dfByTopicInsert = dfByTopicInsert.withColumn(new_partition_key,to_date(col(new_partition_value)))\n",
    "            \n",
    "#         if True:\n",
    "#             my_schema = dfByTopicInsert.schema\n",
    "#             res = getTableColumn(my_schema)\n",
    "# #             dfByTopic._jdf.sparkSession().sql(\"use {}\".format(self.database))\n",
    "#             if True:\n",
    "#                 print(\"table created\")\n",
    "#                 dfByTopic._jdf.sparkSession().sql(\n",
    "#                     \"create table if not exists {} ( {} ) using delta PARTITIONED BY ({}) location '{}' \".format(\"user_summary_old\",\n",
    "#                                                                                                                  res[0],\n",
    "#                                                                                                                  \"company_id,created_at_part\",\n",
    "#                                                                                                                  \"user_summary_old\"))\n",
    "\n",
    "#             table_exists = True\n",
    "\n",
    "        dfByTopicInsert = dfByTopicInsert.drop(\"table_delete\")\n",
    "        dfByTopicInsert = dfByTopicInsert.drop(\"table_key\")\n",
    "        \n",
    "        FullTableName = \"field_data\"\n",
    "\n",
    "        print(FullTableName)\n",
    "        \n",
    "        deltaTable=DeltaTable.forName(spark,FullTableName)\n",
    "\n",
    "        if True:\n",
    "#             return dfByTopicInsert\n",
    "#             dfByTopicInsert.write.format(\"delta\").mode(\"overwrite\").save(\"field_data\")\n",
    "#             query = get_partition_query(\"company_id,created_at_part\", \"id\")\n",
    "            \n",
    "            print(\"checkpoint 1\")\n",
    "            \n",
    "            deltaTable.alias(\"targetTable\").merge(\n",
    "                dfByTopicDeleted.alias(\"updatesTable\"),\n",
    "                \"{0}\".format(query)) \\\n",
    "              .whenMatchedDelete() \\\n",
    "              .execute()\n",
    "\n",
    "\n",
    "            deltaTable.alias(\"targetTable\").merge(\n",
    "                dfByTopicInsert.alias(\"updatesTable\"),\n",
    "                \"{0}\".format(query)) \\\n",
    "              .whenMatchedUpdateAll() \\\n",
    "              .whenNotMatchedInsertAll().execute()\n",
    "        \n",
    "        print(\"after merge\")\n",
    "\n",
    "        #logger.debug(\"after merge\")\n",
    "        \n",
    "        print(datetime.datetime.now())\n",
    "        \n",
    "        #logger.debug(str(datetime.datetime.now()))\n"
   ]
  },
  {
   "cell_type": "code",
   "execution_count": 23,
   "id": "f924628c",
   "metadata": {},
   "outputs": [
    {
     "name": "stdout",
     "output_type": "stream",
     "text": [
      "datalake-qa-91"
     ]
    },
    {
     "name": "stderr",
     "output_type": "stream",
     "text": [
      "                                                                                \r"
     ]
    },
    {
     "name": "stdout",
     "output_type": "stream",
     "text": [
      "+--------------------+--------------------+---------+------+--------------------+-------------+--------+--------------------+\n",
      "|                 key|               topic|partition|offset|           timestamp|timestampType|schemaId|  valueConsumerKafka|\n",
      "+--------------------+--------------------+---------+------+--------------------+-------------+--------+--------------------+\n",
      "|[00 00 00 0E 6C 9...|qatest12nonfes.pu...|        2|   100|2022-03-03 10:25:...|            0|    3693|[, [1219656,, 21,...|\n",
      "+--------------------+--------------------+---------+------+--------------------+-------------+--------+--------------------+\n",
      "only showing top 1 row\n",
      "\n",
      "starting point\n",
      "2022-03-08 07:31:38.852534\n",
      "total partitions are\n"
     ]
    },
    {
     "name": "stderr",
     "output_type": "stream",
     "text": [
      "Exception in thread \"serve-DataFrame\" java.net.SocketTimeoutException: Accept timed out\n",
      "\tat java.net.PlainSocketImpl.socketAccept(Native Method)\n",
      "\tat java.net.AbstractPlainSocketImpl.accept(AbstractPlainSocketImpl.java:409)\n",
      "\tat java.net.ServerSocket.implAccept(ServerSocket.java:560)\n",
      "\tat java.net.ServerSocket.accept(ServerSocket.java:528)\n",
      "\tat org.apache.spark.security.SocketAuthServer$$anon$1.run(SocketAuthServer.scala:58)\n"
     ]
    },
    {
     "name": "stdout",
     "output_type": "stream",
     "text": [
      "140\n",
      "140\n",
      "2022-03-08 07:32:14.255257\n",
      "created_at\n",
      "field_data\n"
     ]
    },
    {
     "name": "stderr",
     "output_type": "stream",
     "text": [
      "[Stage 6:==================================================>      (44 + 2) / 50]\r"
     ]
    },
    {
     "name": "stdout",
     "output_type": "stream",
     "text": [
      "checkpoint 1\n",
      "after merge\n",
      "2022-03-08 07:36:28.878966\n"
     ]
    },
    {
     "name": "stderr",
     "output_type": "stream",
     "text": [
      "                                                                                \r"
     ]
    }
   ],
   "source": [
    "# dfBySchemaId.printSchema()\n",
    "dfBySchemaId = df\n",
    "dfa = upsertToDelta(dfBySchemaId)"
   ]
  },
  {
   "cell_type": "code",
   "execution_count": 24,
   "id": "aa4fe30a",
   "metadata": {},
   "outputs": [
    {
     "name": "stdout",
     "output_type": "stream",
     "text": [
      "Query started: 61ee83fb-6c47-4e7d-bd63-0c0c2ac44e7f\n"
     ]
    },
    {
     "name": "stderr",
     "output_type": "stream",
     "text": [
      "22/03/08 07:42:21 WARN package: Truncated the string representation of a plan since it was too large. This behavior can be adjusted by setting 'spark.sql.debug.maxToStringFields'.\n"
     ]
    },
    {
     "name": "stdout",
     "output_type": "stream",
     "text": [
      "datalake-qa-91"
     ]
    },
    {
     "name": "stderr",
     "output_type": "stream",
     "text": [
      "                                                                                \r"
     ]
    },
    {
     "name": "stdout",
     "output_type": "stream",
     "text": [
      "+--------------------+--------------------+---------+------+--------------------+-------------+--------+--------------------+--------------------+\n",
      "|                 key|               topic|partition|offset|           timestamp|timestampType|schemaId|             payload|  valueConsumerKafka|\n",
      "+--------------------+--------------------+---------+------+--------------------+-------------+--------+--------------------+--------------------+\n",
      "|[00 00 00 07 32 F...|qatest12nonfes.pu...|        9|185099|2022-03-07 14:27:...|            0|    3737|[00 02 FE CB 2C F...|[, [365311, 3834,...|\n",
      "+--------------------+--------------------+---------+------+--------------------+-------------+--------+--------------------+--------------------+\n",
      "only showing top 1 row\n",
      "\n",
      "starting point\n",
      "2022-03-08 07:43:58.901645\n",
      "total partitions are\n",
      "1\n",
      "1\n",
      "2022-03-08 07:43:59.119850\n",
      "created_at\n",
      "user_summary_old\n"
     ]
    },
    {
     "name": "stderr",
     "output_type": "stream",
     "text": [
      "                                                                                \r"
     ]
    },
    {
     "name": "stdout",
     "output_type": "stream",
     "text": [
      "checkpoint 1\n",
      "after merge\n",
      "2022-03-08 07:44:16.648590\n"
     ]
    },
    {
     "name": "stderr",
     "output_type": "stream",
     "text": [
      "22/03/08 07:44:16 WARN ProcessingTimeExecutor: Current batch is falling behind. The trigger interval is 10000 milliseconds, but spent 116485 milliseconds\n"
     ]
    },
    {
     "name": "stdout",
     "output_type": "stream",
     "text": [
      "Query made progress: {qatest12nonfes.public.user_summary_old-9=OffsetAndMetadata{offset=185101, leaderEpoch=null, metadata=''}, qatest12nonfes.public.user_summary_old-7=OffsetAndMetadata{offset=190828, leaderEpoch=null, metadata=''}, qatest12nonfes.public.user_summary_old-8=OffsetAndMetadata{offset=189139, leaderEpoch=null, metadata=''}, qatest12nonfes.public.user_summary_old-5=OffsetAndMetadata{offset=170741, leaderEpoch=null, metadata=''}, qatest12nonfes.public.user_summary_old-6=OffsetAndMetadata{offset=194302, leaderEpoch=null, metadata=''}, qatest12nonfes.public.user_summary_old-3=OffsetAndMetadata{offset=199324, leaderEpoch=null, metadata=''}, qatest12nonfes.public.user_summary_old-4=OffsetAndMetadata{offset=168977, leaderEpoch=null, metadata=''}, qatest12nonfes.public.user_summary_old-1=OffsetAndMetadata{offset=199101, leaderEpoch=null, metadata=''}, qatest12nonfes.public.user_summary_old-2=OffsetAndMetadata{offset=174435, leaderEpoch=null, metadata=''}, qatest12nonfes.public.user_summary_old-0=OffsetAndMetadata{offset=180542, leaderEpoch=null, metadata=''}}\n",
      "query inside Jar\n",
      "Query made progress: {qatest12nonfes.public.user_summary_old-9=OffsetAndMetadata{offset=185101, leaderEpoch=null, metadata=''}, qatest12nonfes.public.user_summary_old-7=OffsetAndMetadata{offset=190828, leaderEpoch=null, metadata=''}, qatest12nonfes.public.user_summary_old-8=OffsetAndMetadata{offset=189139, leaderEpoch=null, metadata=''}, qatest12nonfes.public.user_summary_old-5=OffsetAndMetadata{offset=170741, leaderEpoch=null, metadata=''}, qatest12nonfes.public.user_summary_old-6=OffsetAndMetadata{offset=194302, leaderEpoch=null, metadata=''}, qatest12nonfes.public.user_summary_old-3=OffsetAndMetadata{offset=199324, leaderEpoch=null, metadata=''}, qatest12nonfes.public.user_summary_old-4=OffsetAndMetadata{offset=168977, leaderEpoch=null, metadata=''}, qatest12nonfes.public.user_summary_old-1=OffsetAndMetadata{offset=199101, leaderEpoch=null, metadata=''}, qatest12nonfes.public.user_summary_old-2=OffsetAndMetadata{offset=174435, leaderEpoch=null, metadata=''}, qatest12nonfes.public.user_summary_old-0=OffsetAndMetadata{offset=180542, leaderEpoch=null, metadata=''}}\n",
      "query inside Jar\n",
      "datalake-qa-91"
     ]
    },
    {
     "name": "stderr",
     "output_type": "stream",
     "text": [
      "                                                                                \r"
     ]
    },
    {
     "name": "stdout",
     "output_type": "stream",
     "text": [
      "+--------------------+--------------------+---------+------+--------------------+-------------+--------+--------------------+--------------------+\n",
      "|                 key|               topic|partition|offset|           timestamp|timestampType|schemaId|             payload|  valueConsumerKafka|\n",
      "+--------------------+--------------------+---------+------+--------------------+-------------+--------+--------------------+--------------------+\n",
      "|[00 00 00 07 32 B...|qatest12nonfes.pu...|        6|194302|2022-03-07 14:30:...|            0|    3737|[00 02 BC CA 2C F...|[, [365214, 34556...|\n",
      "+--------------------+--------------------+---------+------+--------------------+-------------+--------+--------------------+--------------------+\n",
      "only showing top 1 row\n",
      "\n",
      "starting point\n",
      "2022-03-08 07:44:35.663975\n",
      "total partitions are\n",
      "10\n",
      "10\n",
      "2022-03-08 07:44:36.019187\n",
      "created_at\n",
      "user_summary_old\n"
     ]
    },
    {
     "name": "stderr",
     "output_type": "stream",
     "text": [
      "22/03/08 07:45:28 WARN ProcessingTimeExecutor: Current batch is falling behind. The trigger interval is 10000 milliseconds, but spent 72089 milliseconds\n"
     ]
    },
    {
     "name": "stdout",
     "output_type": "stream",
     "text": [
      "checkpoint 1\n",
      "after merge\n",
      "2022-03-08 07:45:28.792927\n",
      "datalake-qa-91Query made progress: {qatest12nonfes.public.user_summary_old-9=OffsetAndMetadata{offset=185961, leaderEpoch=null, metadata=''}, qatest12nonfes.public.user_summary_old-7=OffsetAndMetadata{offset=191253, leaderEpoch=null, metadata=''}, qatest12nonfes.public.user_summary_old-8=OffsetAndMetadata{offset=189876, leaderEpoch=null, metadata=''}, qatest12nonfes.public.user_summary_old-5=OffsetAndMetadata{offset=171067, leaderEpoch=null, metadata=''}, qatest12nonfes.public.user_summary_old-6=OffsetAndMetadata{offset=194805, leaderEpoch=null, metadata=''}, qatest12nonfes.public.user_summary_old-3=OffsetAndMetadata{offset=201129, leaderEpoch=null, metadata=''}, qatest12nonfes.public.user_summary_old-4=OffsetAndMetadata{offset=169495, leaderEpoch=null, metadata=''}, qatest12nonfes.public.user_summary_old-1=OffsetAndMetadata{offset=199521, leaderEpoch=null, metadata=''}, qatest12nonfes.public.user_summary_old-2=OffsetAndMetadata{offset=174686, leaderEpoch=null, metadata=''}, qatest12nonfes.public.user_summary_old-0=OffsetAndMetadata{offset=181735, leaderEpoch=null, metadata=''}}\n",
      "query inside Jar\n",
      "+--------------------+--------------------+---------+------+--------------------+-------------+--------+--------------------+--------------------+\n",
      "|                 key|               topic|partition|offset|           timestamp|timestampType|schemaId|             payload|  valueConsumerKafka|\n",
      "+--------------------+--------------------+---------+------+--------------------+-------------+--------+--------------------+--------------------+\n",
      "|[00 00 00 07 32 F...|qatest12nonfes.pu...|        7|191253|2022-03-08 07:44:...|            0|    3737|[00 02 FC D1 2C C...|[, [365694, 931, ...|\n",
      "+--------------------+--------------------+---------+------+--------------------+-------------+--------+--------------------+--------------------+\n",
      "only showing top 1 row\n",
      "\n",
      "starting point\n",
      "2022-03-08 07:45:30.277895\n",
      "total partitions are\n",
      "3\n",
      "Query made progress: {qatest12nonfes.public.user_summary_old-9=OffsetAndMetadata{offset=185961, leaderEpoch=null, metadata=''}, qatest12nonfes.public.user_summary_old-7=OffsetAndMetadata{offset=191253, leaderEpoch=null, metadata=''}, qatest12nonfes.public.user_summary_old-8=OffsetAndMetadata{offset=189876, leaderEpoch=null, metadata=''}, qatest12nonfes.public.user_summary_old-5=OffsetAndMetadata{offset=171067, leaderEpoch=null, metadata=''}, qatest12nonfes.public.user_summary_old-6=OffsetAndMetadata{offset=194805, leaderEpoch=null, metadata=''}, qatest12nonfes.public.user_summary_old-3=OffsetAndMetadata{offset=201129, leaderEpoch=null, metadata=''}, qatest12nonfes.public.user_summary_old-4=OffsetAndMetadata{offset=169495, leaderEpoch=null, metadata=''}, qatest12nonfes.public.user_summary_old-1=OffsetAndMetadata{offset=199521, leaderEpoch=null, metadata=''}, qatest12nonfes.public.user_summary_old-2=OffsetAndMetadata{offset=174686, leaderEpoch=null, metadata=''}, qatest12nonfes.public.user_summary_old-0=OffsetAndMetadata{offset=181735, leaderEpoch=null, metadata=''}}\n",
      "query inside Jar\n",
      "3\n",
      "2022-03-08 07:45:30.493274\n",
      "created_at\n",
      "user_summary_old\n"
     ]
    },
    {
     "name": "stderr",
     "output_type": "stream",
     "text": [
      "[Stage 27:======================================>                   (2 + 1) / 3]\r"
     ]
    },
    {
     "name": "stdout",
     "output_type": "stream",
     "text": [
      "Query made progress: {qatest12nonfes.public.user_summary_old-9=OffsetAndMetadata{offset=185961, leaderEpoch=null, metadata=''}, qatest12nonfes.public.user_summary_old-7=OffsetAndMetadata{offset=191253, leaderEpoch=null, metadata=''}, qatest12nonfes.public.user_summary_old-8=OffsetAndMetadata{offset=189876, leaderEpoch=null, metadata=''}, qatest12nonfes.public.user_summary_old-5=OffsetAndMetadata{offset=171067, leaderEpoch=null, metadata=''}, qatest12nonfes.public.user_summary_old-6=OffsetAndMetadata{offset=194805, leaderEpoch=null, metadata=''}, qatest12nonfes.public.user_summary_old-3=OffsetAndMetadata{offset=201129, leaderEpoch=null, metadata=''}, qatest12nonfes.public.user_summary_old-4=OffsetAndMetadata{offset=169495, leaderEpoch=null, metadata=''}, qatest12nonfes.public.user_summary_old-1=OffsetAndMetadata{offset=199521, leaderEpoch=null, metadata=''}, qatest12nonfes.public.user_summary_old-2=OffsetAndMetadata{offset=174686, leaderEpoch=null, metadata=''}, qatest12nonfes.public.user_summary_old-0=OffsetAndMetadata{offset=181735, leaderEpoch=null, metadata=''}}\n",
      "query inside Jar\n"
     ]
    },
    {
     "name": "stderr",
     "output_type": "stream",
     "text": [
      "                                                                                \r"
     ]
    },
    {
     "name": "stdout",
     "output_type": "stream",
     "text": [
      "checkpoint 1\n",
      "after merge\n",
      "2022-03-08 07:45:38.780449\n",
      "datalake-qa-91Query made progress: {qatest12nonfes.public.user_summary_old-9=OffsetAndMetadata{offset=185961, leaderEpoch=null, metadata=''}, qatest12nonfes.public.user_summary_old-7=OffsetAndMetadata{offset=191254, leaderEpoch=null, metadata=''}, qatest12nonfes.public.user_summary_old-8=OffsetAndMetadata{offset=189876, leaderEpoch=null, metadata=''}, qatest12nonfes.public.user_summary_old-5=OffsetAndMetadata{offset=171067, leaderEpoch=null, metadata=''}, qatest12nonfes.public.user_summary_old-6=OffsetAndMetadata{offset=194805, leaderEpoch=null, metadata=''}, qatest12nonfes.public.user_summary_old-3=OffsetAndMetadata{offset=201130, leaderEpoch=null, metadata=''}, qatest12nonfes.public.user_summary_old-4=OffsetAndMetadata{offset=169495, leaderEpoch=null, metadata=''}, qatest12nonfes.public.user_summary_old-1=OffsetAndMetadata{offset=199521, leaderEpoch=null, metadata=''}, qatest12nonfes.public.user_summary_old-2=OffsetAndMetadata{offset=174686, leaderEpoch=null, metadata=''}, qatest12nonfes.public.user_summary_old-0=OffsetAndMetadata{offset=181740, leaderEpoch=null, metadata=''}}\n",
      "query inside Jar\n"
     ]
    },
    {
     "name": "stderr",
     "output_type": "stream",
     "text": [
      "                                                                                \r"
     ]
    },
    {
     "name": "stdout",
     "output_type": "stream",
     "text": [
      "+--------------------+--------------------+---------+------+--------------------+-------------+--------+--------------------+--------------------+\n",
      "|                 key|               topic|partition|offset|           timestamp|timestampType|schemaId|             payload|  valueConsumerKafka|\n",
      "+--------------------+--------------------+---------+------+--------------------+-------------+--------+--------------------+--------------------+\n",
      "|[00 00 00 07 32 8...|qatest12nonfes.pu...|        0|181740|2022-03-08 07:45:...|            0|    3737|[00 02 82 CD 2C F...|[, [365377, 3834,...|\n",
      "+--------------------+--------------------+---------+------+--------------------+-------------+--------+--------------------+--------------------+\n",
      "\n",
      "starting point\n",
      "2022-03-08 07:45:40.209698\n",
      "total partitions are\n",
      "1\n",
      "1\n",
      "2022-03-08 07:45:40.432690\n",
      "created_at\n",
      "Query made progress: {qatest12nonfes.public.user_summary_old-9=OffsetAndMetadata{offset=185961, leaderEpoch=null, metadata=''}, qatest12nonfes.public.user_summary_old-7=OffsetAndMetadata{offset=191254, leaderEpoch=null, metadata=''}, qatest12nonfes.public.user_summary_old-8=OffsetAndMetadata{offset=189876, leaderEpoch=null, metadata=''}, qatest12nonfes.public.user_summary_old-5=OffsetAndMetadata{offset=171067, leaderEpoch=null, metadata=''}, qatest12nonfes.public.user_summary_old-6=OffsetAndMetadata{offset=194805, leaderEpoch=null, metadata=''}, qatest12nonfes.public.user_summary_old-3=OffsetAndMetadata{offset=201130, leaderEpoch=null, metadata=''}, qatest12nonfes.public.user_summary_old-4=OffsetAndMetadata{offset=169495, leaderEpoch=null, metadata=''}, qatest12nonfes.public.user_summary_old-1=OffsetAndMetadata{offset=199521, leaderEpoch=null, metadata=''}, qatest12nonfes.public.user_summary_old-2=OffsetAndMetadata{offset=174686, leaderEpoch=null, metadata=''}, qatest12nonfes.public.user_summary_old-0=OffsetAndMetadata{offset=181740, leaderEpoch=null, metadata=''}}\n",
      "query inside Jar\n",
      "user_summary_old\n"
     ]
    },
    {
     "name": "stderr",
     "output_type": "stream",
     "text": [
      "[Stage 34:>                                                         (0 + 1) / 1]\r"
     ]
    },
    {
     "name": "stdout",
     "output_type": "stream",
     "text": [
      "Query made progress: {qatest12nonfes.public.user_summary_old-9=OffsetAndMetadata{offset=185961, leaderEpoch=null, metadata=''}, qatest12nonfes.public.user_summary_old-7=OffsetAndMetadata{offset=191254, leaderEpoch=null, metadata=''}, qatest12nonfes.public.user_summary_old-8=OffsetAndMetadata{offset=189876, leaderEpoch=null, metadata=''}, qatest12nonfes.public.user_summary_old-5=OffsetAndMetadata{offset=171067, leaderEpoch=null, metadata=''}, qatest12nonfes.public.user_summary_old-6=OffsetAndMetadata{offset=194805, leaderEpoch=null, metadata=''}, qatest12nonfes.public.user_summary_old-3=OffsetAndMetadata{offset=201130, leaderEpoch=null, metadata=''}, qatest12nonfes.public.user_summary_old-4=OffsetAndMetadata{offset=169495, leaderEpoch=null, metadata=''}, qatest12nonfes.public.user_summary_old-1=OffsetAndMetadata{offset=199521, leaderEpoch=null, metadata=''}, qatest12nonfes.public.user_summary_old-2=OffsetAndMetadata{offset=174686, leaderEpoch=null, metadata=''}, qatest12nonfes.public.user_summary_old-0=OffsetAndMetadata{offset=181740, leaderEpoch=null, metadata=''}}\n",
      "query inside Jar\n"
     ]
    },
    {
     "name": "stderr",
     "output_type": "stream",
     "text": [
      "                                                                                \r"
     ]
    },
    {
     "name": "stdout",
     "output_type": "stream",
     "text": [
      "checkpoint 1\n",
      "after merge\n",
      "2022-03-08 07:45:43.759697\n",
      "Query made progress: {qatest12nonfes.public.user_summary_old-9=OffsetAndMetadata{offset=185961, leaderEpoch=null, metadata=''}, qatest12nonfes.public.user_summary_old-7=OffsetAndMetadata{offset=191254, leaderEpoch=null, metadata=''}, qatest12nonfes.public.user_summary_old-8=OffsetAndMetadata{offset=189876, leaderEpoch=null, metadata=''}, qatest12nonfes.public.user_summary_old-5=OffsetAndMetadata{offset=171067, leaderEpoch=null, metadata=''}, qatest12nonfes.public.user_summary_old-6=OffsetAndMetadata{offset=194805, leaderEpoch=null, metadata=''}, qatest12nonfes.public.user_summary_old-3=OffsetAndMetadata{offset=201130, leaderEpoch=null, metadata=''}, qatest12nonfes.public.user_summary_old-4=OffsetAndMetadata{offset=169495, leaderEpoch=null, metadata=''}, qatest12nonfes.public.user_summary_old-1=OffsetAndMetadata{offset=199521, leaderEpoch=null, metadata=''}, qatest12nonfes.public.user_summary_old-2=OffsetAndMetadata{offset=174686, leaderEpoch=null, metadata=''}, qatest12nonfes.public.user_summary_old-0=OffsetAndMetadata{offset=181740, leaderEpoch=null, metadata=''}}\n",
      "query inside Jar\n",
      "Query made progress: {qatest12nonfes.public.user_summary_old-9=OffsetAndMetadata{offset=185961, leaderEpoch=null, metadata=''}, qatest12nonfes.public.user_summary_old-7=OffsetAndMetadata{offset=191254, leaderEpoch=null, metadata=''}, qatest12nonfes.public.user_summary_old-8=OffsetAndMetadata{offset=189876, leaderEpoch=null, metadata=''}, qatest12nonfes.public.user_summary_old-5=OffsetAndMetadata{offset=171067, leaderEpoch=null, metadata=''}, qatest12nonfes.public.user_summary_old-6=OffsetAndMetadata{offset=194805, leaderEpoch=null, metadata=''}, qatest12nonfes.public.user_summary_old-3=OffsetAndMetadata{offset=201130, leaderEpoch=null, metadata=''}, qatest12nonfes.public.user_summary_old-4=OffsetAndMetadata{offset=169495, leaderEpoch=null, metadata=''}, qatest12nonfes.public.user_summary_old-1=OffsetAndMetadata{offset=199521, leaderEpoch=null, metadata=''}, qatest12nonfes.public.user_summary_old-2=OffsetAndMetadata{offset=174686, leaderEpoch=null, metadata=''}, qatest12nonfes.public.user_summary_old-0=OffsetAndMetadata{offset=181741, leaderEpoch=null, metadata=''}}\n",
      "query inside Jar\n",
      "Query made progress: {qatest12nonfes.public.user_summary_old-9=OffsetAndMetadata{offset=185961, leaderEpoch=null, metadata=''}, qatest12nonfes.public.user_summary_old-7=OffsetAndMetadata{offset=191254, leaderEpoch=null, metadata=''}, qatest12nonfes.public.user_summary_old-8=OffsetAndMetadata{offset=189876, leaderEpoch=null, metadata=''}, qatest12nonfes.public.user_summary_old-5=OffsetAndMetadata{offset=171067, leaderEpoch=null, metadata=''}, qatest12nonfes.public.user_summary_old-6=OffsetAndMetadata{offset=194805, leaderEpoch=null, metadata=''}, qatest12nonfes.public.user_summary_old-3=OffsetAndMetadata{offset=201130, leaderEpoch=null, metadata=''}, qatest12nonfes.public.user_summary_old-4=OffsetAndMetadata{offset=169495, leaderEpoch=null, metadata=''}, qatest12nonfes.public.user_summary_old-1=OffsetAndMetadata{offset=199521, leaderEpoch=null, metadata=''}, qatest12nonfes.public.user_summary_old-2=OffsetAndMetadata{offset=174686, leaderEpoch=null, metadata=''}, qatest12nonfes.public.user_summary_old-0=OffsetAndMetadata{offset=181741, leaderEpoch=null, metadata=''}}\n",
      "query inside Jar\n",
      "Query made progress: {qatest12nonfes.public.user_summary_old-9=OffsetAndMetadata{offset=185961, leaderEpoch=null, metadata=''}, qatest12nonfes.public.user_summary_old-7=OffsetAndMetadata{offset=191254, leaderEpoch=null, metadata=''}, qatest12nonfes.public.user_summary_old-8=OffsetAndMetadata{offset=189876, leaderEpoch=null, metadata=''}, qatest12nonfes.public.user_summary_old-5=OffsetAndMetadata{offset=171067, leaderEpoch=null, metadata=''}, qatest12nonfes.public.user_summary_old-6=OffsetAndMetadata{offset=194805, leaderEpoch=null, metadata=''}, qatest12nonfes.public.user_summary_old-3=OffsetAndMetadata{offset=201130, leaderEpoch=null, metadata=''}, qatest12nonfes.public.user_summary_old-4=OffsetAndMetadata{offset=169495, leaderEpoch=null, metadata=''}, qatest12nonfes.public.user_summary_old-1=OffsetAndMetadata{offset=199521, leaderEpoch=null, metadata=''}, qatest12nonfes.public.user_summary_old-2=OffsetAndMetadata{offset=174686, leaderEpoch=null, metadata=''}, qatest12nonfes.public.user_summary_old-0=OffsetAndMetadata{offset=181741, leaderEpoch=null, metadata=''}}\n",
      "query inside Jar\n",
      "Query made progress: {qatest12nonfes.public.user_summary_old-9=OffsetAndMetadata{offset=185961, leaderEpoch=null, metadata=''}, qatest12nonfes.public.user_summary_old-7=OffsetAndMetadata{offset=191254, leaderEpoch=null, metadata=''}, qatest12nonfes.public.user_summary_old-8=OffsetAndMetadata{offset=189876, leaderEpoch=null, metadata=''}, qatest12nonfes.public.user_summary_old-5=OffsetAndMetadata{offset=171067, leaderEpoch=null, metadata=''}, qatest12nonfes.public.user_summary_old-6=OffsetAndMetadata{offset=194805, leaderEpoch=null, metadata=''}, qatest12nonfes.public.user_summary_old-3=OffsetAndMetadata{offset=201130, leaderEpoch=null, metadata=''}, qatest12nonfes.public.user_summary_old-4=OffsetAndMetadata{offset=169495, leaderEpoch=null, metadata=''}, qatest12nonfes.public.user_summary_old-1=OffsetAndMetadata{offset=199521, leaderEpoch=null, metadata=''}, qatest12nonfes.public.user_summary_old-2=OffsetAndMetadata{offset=174686, leaderEpoch=null, metadata=''}, qatest12nonfes.public.user_summary_old-0=OffsetAndMetadata{offset=181741, leaderEpoch=null, metadata=''}}\n",
      "query inside Jar\n",
      "datalake-qa-91"
     ]
    },
    {
     "name": "stderr",
     "output_type": "stream",
     "text": [
      "                                                                                \r"
     ]
    },
    {
     "name": "stdout",
     "output_type": "stream",
     "text": [
      "Query made progress: {qatest12nonfes.public.user_summary_old-9=OffsetAndMetadata{offset=185961, leaderEpoch=null, metadata=''}, qatest12nonfes.public.user_summary_old-7=OffsetAndMetadata{offset=191254, leaderEpoch=null, metadata=''}, qatest12nonfes.public.user_summary_old-8=OffsetAndMetadata{offset=189876, leaderEpoch=null, metadata=''}, qatest12nonfes.public.user_summary_old-5=OffsetAndMetadata{offset=171067, leaderEpoch=null, metadata=''}, qatest12nonfes.public.user_summary_old-6=OffsetAndMetadata{offset=194805, leaderEpoch=null, metadata=''}, qatest12nonfes.public.user_summary_old-3=OffsetAndMetadata{offset=201130, leaderEpoch=null, metadata=''}, qatest12nonfes.public.user_summary_old-4=OffsetAndMetadata{offset=169495, leaderEpoch=null, metadata=''}, qatest12nonfes.public.user_summary_old-1=OffsetAndMetadata{offset=199521, leaderEpoch=null, metadata=''}, qatest12nonfes.public.user_summary_old-2=OffsetAndMetadata{offset=174686, leaderEpoch=null, metadata=''}, qatest12nonfes.public.user_summary_old-0=OffsetAndMetadata{offset=181741, leaderEpoch=null, metadata=''}}\n",
      "query inside Jar\n",
      "+--------------------+--------------------+---------+------+--------------------+-------------+--------+--------------------+--------------------+\n",
      "|                 key|               topic|partition|offset|           timestamp|timestampType|schemaId|             payload|  valueConsumerKafka|\n",
      "+--------------------+--------------------+---------+------+--------------------+-------------+--------+--------------------+--------------------+\n",
      "|[00 00 00 07 32 F...|qatest12nonfes.pu...|        7|191254|2022-03-08 07:45:...|            0|    3737|[00 02 FC D1 2C C...|[, [365694, 931, ...|\n",
      "+--------------------+--------------------+---------+------+--------------------+-------------+--------+--------------------+--------------------+\n",
      "\n",
      "starting point\n",
      "2022-03-08 07:45:51.551202\n",
      "total partitions are\n",
      "1\n",
      "1\n",
      "2022-03-08 07:45:51.729504\n",
      "created_at\n",
      "user_summary_old\n",
      "Query made progress: {qatest12nonfes.public.user_summary_old-9=OffsetAndMetadata{offset=185961, leaderEpoch=null, metadata=''}, qatest12nonfes.public.user_summary_old-7=OffsetAndMetadata{offset=191254, leaderEpoch=null, metadata=''}, qatest12nonfes.public.user_summary_old-8=OffsetAndMetadata{offset=189876, leaderEpoch=null, metadata=''}, qatest12nonfes.public.user_summary_old-5=OffsetAndMetadata{offset=171067, leaderEpoch=null, metadata=''}, qatest12nonfes.public.user_summary_old-6=OffsetAndMetadata{offset=194805, leaderEpoch=null, metadata=''}, qatest12nonfes.public.user_summary_old-3=OffsetAndMetadata{offset=201130, leaderEpoch=null, metadata=''}, qatest12nonfes.public.user_summary_old-4=OffsetAndMetadata{offset=169495, leaderEpoch=null, metadata=''}, qatest12nonfes.public.user_summary_old-1=OffsetAndMetadata{offset=199521, leaderEpoch=null, metadata=''}, qatest12nonfes.public.user_summary_old-2=OffsetAndMetadata{offset=174686, leaderEpoch=null, metadata=''}, qatest12nonfes.public.user_summary_old-0=OffsetAndMetadata{offset=181741, leaderEpoch=null, metadata=''}}\n",
      "query inside Jar\n"
     ]
    },
    {
     "name": "stderr",
     "output_type": "stream",
     "text": [
      "                                                                                \r"
     ]
    },
    {
     "name": "stdout",
     "output_type": "stream",
     "text": [
      "Query made progress: {qatest12nonfes.public.user_summary_old-9=OffsetAndMetadata{offset=185961, leaderEpoch=null, metadata=''}, qatest12nonfes.public.user_summary_old-7=OffsetAndMetadata{offset=191254, leaderEpoch=null, metadata=''}, qatest12nonfes.public.user_summary_old-8=OffsetAndMetadata{offset=189876, leaderEpoch=null, metadata=''}, qatest12nonfes.public.user_summary_old-5=OffsetAndMetadata{offset=171067, leaderEpoch=null, metadata=''}, qatest12nonfes.public.user_summary_old-6=OffsetAndMetadata{offset=194805, leaderEpoch=null, metadata=''}, qatest12nonfes.public.user_summary_old-3=OffsetAndMetadata{offset=201130, leaderEpoch=null, metadata=''}, qatest12nonfes.public.user_summary_old-4=OffsetAndMetadata{offset=169495, leaderEpoch=null, metadata=''}, qatest12nonfes.public.user_summary_old-1=OffsetAndMetadata{offset=199521, leaderEpoch=null, metadata=''}, qatest12nonfes.public.user_summary_old-2=OffsetAndMetadata{offset=174686, leaderEpoch=null, metadata=''}, qatest12nonfes.public.user_summary_old-0=OffsetAndMetadata{offset=181741, leaderEpoch=null, metadata=''}}\n",
      "query inside Jar\n"
     ]
    },
    {
     "name": "stderr",
     "output_type": "stream",
     "text": [
      "[Stage 45:============================================>           (40 + 2) / 50]\r"
     ]
    },
    {
     "name": "stdout",
     "output_type": "stream",
     "text": [
      "Query made progress: {qatest12nonfes.public.user_summary_old-9=OffsetAndMetadata{offset=185961, leaderEpoch=null, metadata=''}, qatest12nonfes.public.user_summary_old-7=OffsetAndMetadata{offset=191254, leaderEpoch=null, metadata=''}, qatest12nonfes.public.user_summary_old-8=OffsetAndMetadata{offset=189876, leaderEpoch=null, metadata=''}, qatest12nonfes.public.user_summary_old-5=OffsetAndMetadata{offset=171067, leaderEpoch=null, metadata=''}, qatest12nonfes.public.user_summary_old-6=OffsetAndMetadata{offset=194805, leaderEpoch=null, metadata=''}, qatest12nonfes.public.user_summary_old-3=OffsetAndMetadata{offset=201130, leaderEpoch=null, metadata=''}, qatest12nonfes.public.user_summary_old-4=OffsetAndMetadata{offset=169495, leaderEpoch=null, metadata=''}, qatest12nonfes.public.user_summary_old-1=OffsetAndMetadata{offset=199521, leaderEpoch=null, metadata=''}, qatest12nonfes.public.user_summary_old-2=OffsetAndMetadata{offset=174686, leaderEpoch=null, metadata=''}, qatest12nonfes.public.user_summary_old-0=OffsetAndMetadata{offset=181741, leaderEpoch=null, metadata=''}}\n",
      "query inside Jar\n"
     ]
    },
    {
     "name": "stderr",
     "output_type": "stream",
     "text": [
      "                                                                                \r"
     ]
    },
    {
     "name": "stdout",
     "output_type": "stream",
     "text": [
      "checkpoint 1\n",
      "after merge\n",
      "2022-03-08 07:45:54.553272\n",
      "Query made progress: {qatest12nonfes.public.user_summary_old-9=OffsetAndMetadata{offset=185961, leaderEpoch=null, metadata=''}, qatest12nonfes.public.user_summary_old-7=OffsetAndMetadata{offset=191254, leaderEpoch=null, metadata=''}, qatest12nonfes.public.user_summary_old-8=OffsetAndMetadata{offset=189876, leaderEpoch=null, metadata=''}, qatest12nonfes.public.user_summary_old-5=OffsetAndMetadata{offset=171067, leaderEpoch=null, metadata=''}, qatest12nonfes.public.user_summary_old-6=OffsetAndMetadata{offset=194805, leaderEpoch=null, metadata=''}, qatest12nonfes.public.user_summary_old-3=OffsetAndMetadata{offset=201130, leaderEpoch=null, metadata=''}, qatest12nonfes.public.user_summary_old-4=OffsetAndMetadata{offset=169495, leaderEpoch=null, metadata=''}, qatest12nonfes.public.user_summary_old-1=OffsetAndMetadata{offset=199521, leaderEpoch=null, metadata=''}, qatest12nonfes.public.user_summary_old-2=OffsetAndMetadata{offset=174686, leaderEpoch=null, metadata=''}, qatest12nonfes.public.user_summary_old-0=OffsetAndMetadata{offset=181741, leaderEpoch=null, metadata=''}}\n",
      "query inside Jar\n",
      "Query made progress: {qatest12nonfes.public.user_summary_old-9=OffsetAndMetadata{offset=185961, leaderEpoch=null, metadata=''}, qatest12nonfes.public.user_summary_old-7=OffsetAndMetadata{offset=191254, leaderEpoch=null, metadata=''}, qatest12nonfes.public.user_summary_old-8=OffsetAndMetadata{offset=189876, leaderEpoch=null, metadata=''}, qatest12nonfes.public.user_summary_old-5=OffsetAndMetadata{offset=171067, leaderEpoch=null, metadata=''}, qatest12nonfes.public.user_summary_old-6=OffsetAndMetadata{offset=194805, leaderEpoch=null, metadata=''}, qatest12nonfes.public.user_summary_old-3=OffsetAndMetadata{offset=201130, leaderEpoch=null, metadata=''}, qatest12nonfes.public.user_summary_old-4=OffsetAndMetadata{offset=169495, leaderEpoch=null, metadata=''}, qatest12nonfes.public.user_summary_old-1=OffsetAndMetadata{offset=199521, leaderEpoch=null, metadata=''}, qatest12nonfes.public.user_summary_old-2=OffsetAndMetadata{offset=174686, leaderEpoch=null, metadata=''}, qatest12nonfes.public.user_summary_old-0=OffsetAndMetadata{offset=181741, leaderEpoch=null, metadata=''}}\n",
      "query inside Jar\n",
      "Query made progress: {qatest12nonfes.public.user_summary_old-9=OffsetAndMetadata{offset=185961, leaderEpoch=null, metadata=''}, qatest12nonfes.public.user_summary_old-7=OffsetAndMetadata{offset=191254, leaderEpoch=null, metadata=''}, qatest12nonfes.public.user_summary_old-8=OffsetAndMetadata{offset=189876, leaderEpoch=null, metadata=''}, qatest12nonfes.public.user_summary_old-5=OffsetAndMetadata{offset=171067, leaderEpoch=null, metadata=''}, qatest12nonfes.public.user_summary_old-6=OffsetAndMetadata{offset=194805, leaderEpoch=null, metadata=''}, qatest12nonfes.public.user_summary_old-3=OffsetAndMetadata{offset=201130, leaderEpoch=null, metadata=''}, qatest12nonfes.public.user_summary_old-4=OffsetAndMetadata{offset=169495, leaderEpoch=null, metadata=''}, qatest12nonfes.public.user_summary_old-1=OffsetAndMetadata{offset=199521, leaderEpoch=null, metadata=''}, qatest12nonfes.public.user_summary_old-2=OffsetAndMetadata{offset=174686, leaderEpoch=null, metadata=''}, qatest12nonfes.public.user_summary_old-0=OffsetAndMetadata{offset=181741, leaderEpoch=null, metadata=''}}\n",
      "query inside Jar\n",
      "datalake-qa-91Query made progress: {qatest12nonfes.public.user_summary_old-9=OffsetAndMetadata{offset=185961, leaderEpoch=null, metadata=''}, qatest12nonfes.public.user_summary_old-7=OffsetAndMetadata{offset=191255, leaderEpoch=null, metadata=''}, qatest12nonfes.public.user_summary_old-8=OffsetAndMetadata{offset=189876, leaderEpoch=null, metadata=''}, qatest12nonfes.public.user_summary_old-5=OffsetAndMetadata{offset=171067, leaderEpoch=null, metadata=''}, qatest12nonfes.public.user_summary_old-6=OffsetAndMetadata{offset=194805, leaderEpoch=null, metadata=''}, qatest12nonfes.public.user_summary_old-3=OffsetAndMetadata{offset=201130, leaderEpoch=null, metadata=''}, qatest12nonfes.public.user_summary_old-4=OffsetAndMetadata{offset=169495, leaderEpoch=null, metadata=''}, qatest12nonfes.public.user_summary_old-1=OffsetAndMetadata{offset=199521, leaderEpoch=null, metadata=''}, qatest12nonfes.public.user_summary_old-2=OffsetAndMetadata{offset=174686, leaderEpoch=null, metadata=''}, qatest12nonfes.public.user_summary_old-0=OffsetAndMetadata{offset=181741, leaderEpoch=null, metadata=''}}\n",
      "query inside Jar\n"
     ]
    },
    {
     "name": "stderr",
     "output_type": "stream",
     "text": [
      "                                                                                \r"
     ]
    },
    {
     "name": "stdout",
     "output_type": "stream",
     "text": [
      "+--------------------+--------------------+---------+------+--------------------+-------------+--------+--------------------+--------------------+\n",
      "|                 key|               topic|partition|offset|           timestamp|timestampType|schemaId|             payload|  valueConsumerKafka|\n",
      "+--------------------+--------------------+---------+------+--------------------+-------------+--------+--------------------+--------------------+\n",
      "|[00 00 00 07 32 9...|qatest12nonfes.pu...|        6|194805|2022-03-08 07:45:...|            0|    3737|[00 02 98 D2 2C C...|[, [365708, 44516...|\n",
      "+--------------------+--------------------+---------+------+--------------------+-------------+--------+--------------------+--------------------+\n",
      "only showing top 1 row\n",
      "\n",
      "starting point\n",
      "2022-03-08 07:46:02.137199\n",
      "total partitions are\n",
      "2\n",
      "2\n",
      "2022-03-08 07:46:02.307857\n",
      "created_at\n",
      "Query made progress: {qatest12nonfes.public.user_summary_old-9=OffsetAndMetadata{offset=185961, leaderEpoch=null, metadata=''}, qatest12nonfes.public.user_summary_old-7=OffsetAndMetadata{offset=191255, leaderEpoch=null, metadata=''}, qatest12nonfes.public.user_summary_old-8=OffsetAndMetadata{offset=189876, leaderEpoch=null, metadata=''}, qatest12nonfes.public.user_summary_old-5=OffsetAndMetadata{offset=171067, leaderEpoch=null, metadata=''}, qatest12nonfes.public.user_summary_old-6=OffsetAndMetadata{offset=194805, leaderEpoch=null, metadata=''}, qatest12nonfes.public.user_summary_old-3=OffsetAndMetadata{offset=201130, leaderEpoch=null, metadata=''}, qatest12nonfes.public.user_summary_old-4=OffsetAndMetadata{offset=169495, leaderEpoch=null, metadata=''}, qatest12nonfes.public.user_summary_old-1=OffsetAndMetadata{offset=199521, leaderEpoch=null, metadata=''}, qatest12nonfes.public.user_summary_old-2=OffsetAndMetadata{offset=174686, leaderEpoch=null, metadata=''}, qatest12nonfes.public.user_summary_old-0=OffsetAndMetadata{offset=181741, leaderEpoch=null, metadata=''}}\n",
      "query inside Jar\n",
      "user_summary_old\n"
     ]
    },
    {
     "name": "stderr",
     "output_type": "stream",
     "text": [
      "[Stage 49:=============================>                            (1 + 1) / 2]\r"
     ]
    },
    {
     "name": "stdout",
     "output_type": "stream",
     "text": [
      "Query made progress: {qatest12nonfes.public.user_summary_old-9=OffsetAndMetadata{offset=185961, leaderEpoch=null, metadata=''}, qatest12nonfes.public.user_summary_old-7=OffsetAndMetadata{offset=191255, leaderEpoch=null, metadata=''}, qatest12nonfes.public.user_summary_old-8=OffsetAndMetadata{offset=189876, leaderEpoch=null, metadata=''}, qatest12nonfes.public.user_summary_old-5=OffsetAndMetadata{offset=171067, leaderEpoch=null, metadata=''}, qatest12nonfes.public.user_summary_old-6=OffsetAndMetadata{offset=194805, leaderEpoch=null, metadata=''}, qatest12nonfes.public.user_summary_old-3=OffsetAndMetadata{offset=201130, leaderEpoch=null, metadata=''}, qatest12nonfes.public.user_summary_old-4=OffsetAndMetadata{offset=169495, leaderEpoch=null, metadata=''}, qatest12nonfes.public.user_summary_old-1=OffsetAndMetadata{offset=199521, leaderEpoch=null, metadata=''}, qatest12nonfes.public.user_summary_old-2=OffsetAndMetadata{offset=174686, leaderEpoch=null, metadata=''}, qatest12nonfes.public.user_summary_old-0=OffsetAndMetadata{offset=181741, leaderEpoch=null, metadata=''}}\n",
      "query inside Jar\n",
      "Query made progress: {qatest12nonfes.public.user_summary_old-9=OffsetAndMetadata{offset=185961, leaderEpoch=null, metadata=''}, qatest12nonfes.public.user_summary_old-7=OffsetAndMetadata{offset=191255, leaderEpoch=null, metadata=''}, qatest12nonfes.public.user_summary_old-8=OffsetAndMetadata{offset=189876, leaderEpoch=null, metadata=''}, qatest12nonfes.public.user_summary_old-5=OffsetAndMetadata{offset=171067, leaderEpoch=null, metadata=''}, qatest12nonfes.public.user_summary_old-6=OffsetAndMetadata{offset=194805, leaderEpoch=null, metadata=''}, qatest12nonfes.public.user_summary_old-3=OffsetAndMetadata{offset=201130, leaderEpoch=null, metadata=''}, qatest12nonfes.public.user_summary_old-4=OffsetAndMetadata{offset=169495, leaderEpoch=null, metadata=''}, qatest12nonfes.public.user_summary_old-1=OffsetAndMetadata{offset=199521, leaderEpoch=null, metadata=''}, qatest12nonfes.public.user_summary_old-2=OffsetAndMetadata{offset=174686, leaderEpoch=null, metadata=''}, qatest12nonfes.public.user_summary_old-0=OffsetAndMetadata{offset=181741, leaderEpoch=null, metadata=''}}\n",
      "query inside Jar\n"
     ]
    },
    {
     "name": "stderr",
     "output_type": "stream",
     "text": [
      "                                                                                \r"
     ]
    },
    {
     "name": "stdout",
     "output_type": "stream",
     "text": [
      "Query made progress: {qatest12nonfes.public.user_summary_old-9=OffsetAndMetadata{offset=185961, leaderEpoch=null, metadata=''}, qatest12nonfes.public.user_summary_old-7=OffsetAndMetadata{offset=191255, leaderEpoch=null, metadata=''}, qatest12nonfes.public.user_summary_old-8=OffsetAndMetadata{offset=189876, leaderEpoch=null, metadata=''}, qatest12nonfes.public.user_summary_old-5=OffsetAndMetadata{offset=171067, leaderEpoch=null, metadata=''}, qatest12nonfes.public.user_summary_old-6=OffsetAndMetadata{offset=194805, leaderEpoch=null, metadata=''}, qatest12nonfes.public.user_summary_old-3=OffsetAndMetadata{offset=201130, leaderEpoch=null, metadata=''}, qatest12nonfes.public.user_summary_old-4=OffsetAndMetadata{offset=169495, leaderEpoch=null, metadata=''}, qatest12nonfes.public.user_summary_old-1=OffsetAndMetadata{offset=199521, leaderEpoch=null, metadata=''}, qatest12nonfes.public.user_summary_old-2=OffsetAndMetadata{offset=174686, leaderEpoch=null, metadata=''}, qatest12nonfes.public.user_summary_old-0=OffsetAndMetadata{offset=181741, leaderEpoch=null, metadata=''}}\n",
      "query inside Jar\n",
      "Query made progress: {qatest12nonfes.public.user_summary_old-9=OffsetAndMetadata{offset=185961, leaderEpoch=null, metadata=''}, qatest12nonfes.public.user_summary_old-7=OffsetAndMetadata{offset=191255, leaderEpoch=null, metadata=''}, qatest12nonfes.public.user_summary_old-8=OffsetAndMetadata{offset=189876, leaderEpoch=null, metadata=''}, qatest12nonfes.public.user_summary_old-5=OffsetAndMetadata{offset=171067, leaderEpoch=null, metadata=''}, qatest12nonfes.public.user_summary_old-6=OffsetAndMetadata{offset=194805, leaderEpoch=null, metadata=''}, qatest12nonfes.public.user_summary_old-3=OffsetAndMetadata{offset=201130, leaderEpoch=null, metadata=''}, qatest12nonfes.public.user_summary_old-4=OffsetAndMetadata{offset=169495, leaderEpoch=null, metadata=''}, qatest12nonfes.public.user_summary_old-1=OffsetAndMetadata{offset=199521, leaderEpoch=null, metadata=''}, qatest12nonfes.public.user_summary_old-2=OffsetAndMetadata{offset=174686, leaderEpoch=null, metadata=''}, qatest12nonfes.public.user_summary_old-0=OffsetAndMetadata{offset=181741, leaderEpoch=null, metadata=''}}\n",
      "query inside Jar\n"
     ]
    },
    {
     "name": "stderr",
     "output_type": "stream",
     "text": [
      "                                                                                \r"
     ]
    },
    {
     "name": "stdout",
     "output_type": "stream",
     "text": [
      "checkpoint 1\n",
      "after merge\n",
      "2022-03-08 07:46:06.830959\n",
      "Query made progress: {qatest12nonfes.public.user_summary_old-9=OffsetAndMetadata{offset=185961, leaderEpoch=null, metadata=''}, qatest12nonfes.public.user_summary_old-7=OffsetAndMetadata{offset=191255, leaderEpoch=null, metadata=''}, qatest12nonfes.public.user_summary_old-8=OffsetAndMetadata{offset=189876, leaderEpoch=null, metadata=''}, qatest12nonfes.public.user_summary_old-5=OffsetAndMetadata{offset=171067, leaderEpoch=null, metadata=''}, qatest12nonfes.public.user_summary_old-6=OffsetAndMetadata{offset=194806, leaderEpoch=null, metadata=''}, qatest12nonfes.public.user_summary_old-3=OffsetAndMetadata{offset=201130, leaderEpoch=null, metadata=''}, qatest12nonfes.public.user_summary_old-4=OffsetAndMetadata{offset=169495, leaderEpoch=null, metadata=''}, qatest12nonfes.public.user_summary_old-1=OffsetAndMetadata{offset=199521, leaderEpoch=null, metadata=''}, qatest12nonfes.public.user_summary_old-2=OffsetAndMetadata{offset=174686, leaderEpoch=null, metadata=''}, qatest12nonfes.public.user_summary_old-0=OffsetAndMetadata{offset=181742, leaderEpoch=null, metadata=''}}\n",
      "query inside Jar\n",
      "Query made progress: {qatest12nonfes.public.user_summary_old-9=OffsetAndMetadata{offset=185961, leaderEpoch=null, metadata=''}, qatest12nonfes.public.user_summary_old-7=OffsetAndMetadata{offset=191255, leaderEpoch=null, metadata=''}, qatest12nonfes.public.user_summary_old-8=OffsetAndMetadata{offset=189876, leaderEpoch=null, metadata=''}, qatest12nonfes.public.user_summary_old-5=OffsetAndMetadata{offset=171067, leaderEpoch=null, metadata=''}, qatest12nonfes.public.user_summary_old-6=OffsetAndMetadata{offset=194806, leaderEpoch=null, metadata=''}, qatest12nonfes.public.user_summary_old-3=OffsetAndMetadata{offset=201130, leaderEpoch=null, metadata=''}, qatest12nonfes.public.user_summary_old-4=OffsetAndMetadata{offset=169495, leaderEpoch=null, metadata=''}, qatest12nonfes.public.user_summary_old-1=OffsetAndMetadata{offset=199521, leaderEpoch=null, metadata=''}, qatest12nonfes.public.user_summary_old-2=OffsetAndMetadata{offset=174686, leaderEpoch=null, metadata=''}, qatest12nonfes.public.user_summary_old-0=OffsetAndMetadata{offset=181742, leaderEpoch=null, metadata=''}}\n",
      "query inside Jar\n",
      "Query made progress: {qatest12nonfes.public.user_summary_old-9=OffsetAndMetadata{offset=185961, leaderEpoch=null, metadata=''}, qatest12nonfes.public.user_summary_old-7=OffsetAndMetadata{offset=191255, leaderEpoch=null, metadata=''}, qatest12nonfes.public.user_summary_old-8=OffsetAndMetadata{offset=189876, leaderEpoch=null, metadata=''}, qatest12nonfes.public.user_summary_old-5=OffsetAndMetadata{offset=171067, leaderEpoch=null, metadata=''}, qatest12nonfes.public.user_summary_old-6=OffsetAndMetadata{offset=194806, leaderEpoch=null, metadata=''}, qatest12nonfes.public.user_summary_old-3=OffsetAndMetadata{offset=201130, leaderEpoch=null, metadata=''}, qatest12nonfes.public.user_summary_old-4=OffsetAndMetadata{offset=169495, leaderEpoch=null, metadata=''}, qatest12nonfes.public.user_summary_old-1=OffsetAndMetadata{offset=199521, leaderEpoch=null, metadata=''}, qatest12nonfes.public.user_summary_old-2=OffsetAndMetadata{offset=174686, leaderEpoch=null, metadata=''}, qatest12nonfes.public.user_summary_old-0=OffsetAndMetadata{offset=181742, leaderEpoch=null, metadata=''}}\n",
      "query inside Jar\n",
      "Query made progress: {qatest12nonfes.public.user_summary_old-9=OffsetAndMetadata{offset=185961, leaderEpoch=null, metadata=''}, qatest12nonfes.public.user_summary_old-7=OffsetAndMetadata{offset=191255, leaderEpoch=null, metadata=''}, qatest12nonfes.public.user_summary_old-8=OffsetAndMetadata{offset=189876, leaderEpoch=null, metadata=''}, qatest12nonfes.public.user_summary_old-5=OffsetAndMetadata{offset=171067, leaderEpoch=null, metadata=''}, qatest12nonfes.public.user_summary_old-6=OffsetAndMetadata{offset=194806, leaderEpoch=null, metadata=''}, qatest12nonfes.public.user_summary_old-3=OffsetAndMetadata{offset=201130, leaderEpoch=null, metadata=''}, qatest12nonfes.public.user_summary_old-4=OffsetAndMetadata{offset=169495, leaderEpoch=null, metadata=''}, qatest12nonfes.public.user_summary_old-1=OffsetAndMetadata{offset=199521, leaderEpoch=null, metadata=''}, qatest12nonfes.public.user_summary_old-2=OffsetAndMetadata{offset=174686, leaderEpoch=null, metadata=''}, qatest12nonfes.public.user_summary_old-0=OffsetAndMetadata{offset=181742, leaderEpoch=null, metadata=''}}\n",
      "query inside Jar\n",
      "datalake-qa-91Query made progress: {qatest12nonfes.public.user_summary_old-9=OffsetAndMetadata{offset=185961, leaderEpoch=null, metadata=''}, qatest12nonfes.public.user_summary_old-7=OffsetAndMetadata{offset=191255, leaderEpoch=null, metadata=''}, qatest12nonfes.public.user_summary_old-8=OffsetAndMetadata{offset=189876, leaderEpoch=null, metadata=''}, qatest12nonfes.public.user_summary_old-5=OffsetAndMetadata{offset=171067, leaderEpoch=null, metadata=''}, qatest12nonfes.public.user_summary_old-6=OffsetAndMetadata{offset=194806, leaderEpoch=null, metadata=''}, qatest12nonfes.public.user_summary_old-3=OffsetAndMetadata{offset=201130, leaderEpoch=null, metadata=''}, qatest12nonfes.public.user_summary_old-4=OffsetAndMetadata{offset=169495, leaderEpoch=null, metadata=''}, qatest12nonfes.public.user_summary_old-1=OffsetAndMetadata{offset=199521, leaderEpoch=null, metadata=''}, qatest12nonfes.public.user_summary_old-2=OffsetAndMetadata{offset=174686, leaderEpoch=null, metadata=''}, qatest12nonfes.public.user_summary_old-0=OffsetAndMetadata{offset=181742, leaderEpoch=null, metadata=''}}\n",
      "query inside Jar\n"
     ]
    },
    {
     "name": "stderr",
     "output_type": "stream",
     "text": [
      "                                                                                \r"
     ]
    },
    {
     "name": "stdout",
     "output_type": "stream",
     "text": [
      "+--------------------+--------------------+---------+------+--------------------+-------------+--------+--------------------+--------------------+\n",
      "|                 key|               topic|partition|offset|           timestamp|timestampType|schemaId|             payload|  valueConsumerKafka|\n",
      "+--------------------+--------------------+---------+------+--------------------+-------------+--------+--------------------+--------------------+\n",
      "|[00 00 00 07 32 B...|qatest12nonfes.pu...|        7|191255|2022-03-08 07:46:...|            0|    3737|[00 02 BC D3 2C E...|[, [365790, 53939...|\n",
      "+--------------------+--------------------+---------+------+--------------------+-------------+--------+--------------------+--------------------+\n",
      "only showing top 1 row\n",
      "\n",
      "starting point\n",
      "2022-03-08 07:46:12.127609\n",
      "total partitions are\n",
      "2\n",
      "2\n",
      "2022-03-08 07:46:12.306736\n",
      "Query made progress: {qatest12nonfes.public.user_summary_old-9=OffsetAndMetadata{offset=185961, leaderEpoch=null, metadata=''}, qatest12nonfes.public.user_summary_old-7=OffsetAndMetadata{offset=191255, leaderEpoch=null, metadata=''}, qatest12nonfes.public.user_summary_old-8=OffsetAndMetadata{offset=189876, leaderEpoch=null, metadata=''}, qatest12nonfes.public.user_summary_old-5=OffsetAndMetadata{offset=171067, leaderEpoch=null, metadata=''}, qatest12nonfes.public.user_summary_old-6=OffsetAndMetadata{offset=194806, leaderEpoch=null, metadata=''}, qatest12nonfes.public.user_summary_old-3=OffsetAndMetadata{offset=201130, leaderEpoch=null, metadata=''}, qatest12nonfes.public.user_summary_old-4=OffsetAndMetadata{offset=169495, leaderEpoch=null, metadata=''}, qatest12nonfes.public.user_summary_old-1=OffsetAndMetadata{offset=199521, leaderEpoch=null, metadata=''}, qatest12nonfes.public.user_summary_old-2=OffsetAndMetadata{offset=174686, leaderEpoch=null, metadata=''}, qatest12nonfes.public.user_summary_old-0=OffsetAndMetadata{offset=181742, leaderEpoch=null, metadata=''}}\n",
      "query inside Jar\n",
      "created_at\n",
      "user_summary_old\n"
     ]
    },
    {
     "name": "stderr",
     "output_type": "stream",
     "text": [
      "                                                                                \r"
     ]
    },
    {
     "name": "stdout",
     "output_type": "stream",
     "text": [
      "checkpoint 1\n",
      "after merge\n",
      "2022-03-08 07:46:15.213476\n",
      "Query made progress: {qatest12nonfes.public.user_summary_old-9=OffsetAndMetadata{offset=185961, leaderEpoch=null, metadata=''}, qatest12nonfes.public.user_summary_old-7=OffsetAndMetadata{offset=191255, leaderEpoch=null, metadata=''}, qatest12nonfes.public.user_summary_old-8=OffsetAndMetadata{offset=189876, leaderEpoch=null, metadata=''}, qatest12nonfes.public.user_summary_old-5=OffsetAndMetadata{offset=171067, leaderEpoch=null, metadata=''}, qatest12nonfes.public.user_summary_old-6=OffsetAndMetadata{offset=194806, leaderEpoch=null, metadata=''}, qatest12nonfes.public.user_summary_old-3=OffsetAndMetadata{offset=201130, leaderEpoch=null, metadata=''}, qatest12nonfes.public.user_summary_old-4=OffsetAndMetadata{offset=169495, leaderEpoch=null, metadata=''}, qatest12nonfes.public.user_summary_old-1=OffsetAndMetadata{offset=199521, leaderEpoch=null, metadata=''}, qatest12nonfes.public.user_summary_old-2=OffsetAndMetadata{offset=174686, leaderEpoch=null, metadata=''}, qatest12nonfes.public.user_summary_old-0=OffsetAndMetadata{offset=181742, leaderEpoch=null, metadata=''}}\n",
      "query inside Jar\n",
      "Query made progress: {qatest12nonfes.public.user_summary_old-9=OffsetAndMetadata{offset=185961, leaderEpoch=null, metadata=''}, qatest12nonfes.public.user_summary_old-7=OffsetAndMetadata{offset=191256, leaderEpoch=null, metadata=''}, qatest12nonfes.public.user_summary_old-8=OffsetAndMetadata{offset=189876, leaderEpoch=null, metadata=''}, qatest12nonfes.public.user_summary_old-5=OffsetAndMetadata{offset=171067, leaderEpoch=null, metadata=''}, qatest12nonfes.public.user_summary_old-6=OffsetAndMetadata{offset=194806, leaderEpoch=null, metadata=''}, qatest12nonfes.public.user_summary_old-3=OffsetAndMetadata{offset=201130, leaderEpoch=null, metadata=''}, qatest12nonfes.public.user_summary_old-4=OffsetAndMetadata{offset=169495, leaderEpoch=null, metadata=''}, qatest12nonfes.public.user_summary_old-1=OffsetAndMetadata{offset=199521, leaderEpoch=null, metadata=''}, qatest12nonfes.public.user_summary_old-2=OffsetAndMetadata{offset=174686, leaderEpoch=null, metadata=''}, qatest12nonfes.public.user_summary_old-0=OffsetAndMetadata{offset=181743, leaderEpoch=null, metadata=''}}\n",
      "query inside Jar\n",
      "Query made progress: {qatest12nonfes.public.user_summary_old-9=OffsetAndMetadata{offset=185961, leaderEpoch=null, metadata=''}, qatest12nonfes.public.user_summary_old-7=OffsetAndMetadata{offset=191256, leaderEpoch=null, metadata=''}, qatest12nonfes.public.user_summary_old-8=OffsetAndMetadata{offset=189876, leaderEpoch=null, metadata=''}, qatest12nonfes.public.user_summary_old-5=OffsetAndMetadata{offset=171067, leaderEpoch=null, metadata=''}, qatest12nonfes.public.user_summary_old-6=OffsetAndMetadata{offset=194806, leaderEpoch=null, metadata=''}, qatest12nonfes.public.user_summary_old-3=OffsetAndMetadata{offset=201130, leaderEpoch=null, metadata=''}, qatest12nonfes.public.user_summary_old-4=OffsetAndMetadata{offset=169495, leaderEpoch=null, metadata=''}, qatest12nonfes.public.user_summary_old-1=OffsetAndMetadata{offset=199521, leaderEpoch=null, metadata=''}, qatest12nonfes.public.user_summary_old-2=OffsetAndMetadata{offset=174686, leaderEpoch=null, metadata=''}, qatest12nonfes.public.user_summary_old-0=OffsetAndMetadata{offset=181743, leaderEpoch=null, metadata=''}}\n",
      "query inside Jar\n",
      "Query made progress: {qatest12nonfes.public.user_summary_old-9=OffsetAndMetadata{offset=185961, leaderEpoch=null, metadata=''}, qatest12nonfes.public.user_summary_old-7=OffsetAndMetadata{offset=191256, leaderEpoch=null, metadata=''}, qatest12nonfes.public.user_summary_old-8=OffsetAndMetadata{offset=189876, leaderEpoch=null, metadata=''}, qatest12nonfes.public.user_summary_old-5=OffsetAndMetadata{offset=171067, leaderEpoch=null, metadata=''}, qatest12nonfes.public.user_summary_old-6=OffsetAndMetadata{offset=194806, leaderEpoch=null, metadata=''}, qatest12nonfes.public.user_summary_old-3=OffsetAndMetadata{offset=201130, leaderEpoch=null, metadata=''}, qatest12nonfes.public.user_summary_old-4=OffsetAndMetadata{offset=169495, leaderEpoch=null, metadata=''}, qatest12nonfes.public.user_summary_old-1=OffsetAndMetadata{offset=199521, leaderEpoch=null, metadata=''}, qatest12nonfes.public.user_summary_old-2=OffsetAndMetadata{offset=174686, leaderEpoch=null, metadata=''}, qatest12nonfes.public.user_summary_old-0=OffsetAndMetadata{offset=181743, leaderEpoch=null, metadata=''}}\n",
      "query inside Jar\n",
      "Query made progress: {qatest12nonfes.public.user_summary_old-9=OffsetAndMetadata{offset=185961, leaderEpoch=null, metadata=''}, qatest12nonfes.public.user_summary_old-7=OffsetAndMetadata{offset=191256, leaderEpoch=null, metadata=''}, qatest12nonfes.public.user_summary_old-8=OffsetAndMetadata{offset=189876, leaderEpoch=null, metadata=''}, qatest12nonfes.public.user_summary_old-5=OffsetAndMetadata{offset=171067, leaderEpoch=null, metadata=''}, qatest12nonfes.public.user_summary_old-6=OffsetAndMetadata{offset=194806, leaderEpoch=null, metadata=''}, qatest12nonfes.public.user_summary_old-3=OffsetAndMetadata{offset=201130, leaderEpoch=null, metadata=''}, qatest12nonfes.public.user_summary_old-4=OffsetAndMetadata{offset=169495, leaderEpoch=null, metadata=''}, qatest12nonfes.public.user_summary_old-1=OffsetAndMetadata{offset=199521, leaderEpoch=null, metadata=''}, qatest12nonfes.public.user_summary_old-2=OffsetAndMetadata{offset=174686, leaderEpoch=null, metadata=''}, qatest12nonfes.public.user_summary_old-0=OffsetAndMetadata{offset=181743, leaderEpoch=null, metadata=''}}\n",
      "query inside Jar\n",
      "Query made progress: {qatest12nonfes.public.user_summary_old-9=OffsetAndMetadata{offset=185961, leaderEpoch=null, metadata=''}, qatest12nonfes.public.user_summary_old-7=OffsetAndMetadata{offset=191256, leaderEpoch=null, metadata=''}, qatest12nonfes.public.user_summary_old-8=OffsetAndMetadata{offset=189876, leaderEpoch=null, metadata=''}, qatest12nonfes.public.user_summary_old-5=OffsetAndMetadata{offset=171067, leaderEpoch=null, metadata=''}, qatest12nonfes.public.user_summary_old-6=OffsetAndMetadata{offset=194806, leaderEpoch=null, metadata=''}, qatest12nonfes.public.user_summary_old-3=OffsetAndMetadata{offset=201130, leaderEpoch=null, metadata=''}, qatest12nonfes.public.user_summary_old-4=OffsetAndMetadata{offset=169495, leaderEpoch=null, metadata=''}, qatest12nonfes.public.user_summary_old-1=OffsetAndMetadata{offset=199521, leaderEpoch=null, metadata=''}, qatest12nonfes.public.user_summary_old-2=OffsetAndMetadata{offset=174686, leaderEpoch=null, metadata=''}, qatest12nonfes.public.user_summary_old-0=OffsetAndMetadata{offset=181743, leaderEpoch=null, metadata=''}}\n",
      "query inside Jar\n",
      "datalake-qa-91+--------------------+--------------------+---------+------+--------------------+-------------+--------+--------------------+--------------------+\n",
      "|                 key|               topic|partition|offset|           timestamp|timestampType|schemaId|             payload|  valueConsumerKafka|\n",
      "+--------------------+--------------------+---------+------+--------------------+-------------+--------+--------------------+--------------------+\n",
      "|[00 00 00 07 32 D...|qatest12nonfes.pu...|        3|201130|2022-03-08 07:46:...|            0|    3737|[00 02 DA D4 2C A...|[, [365869, 25684...|\n",
      "+--------------------+--------------------+---------+------+--------------------+-------------+--------+--------------------+--------------------+\n",
      "\n",
      "starting point\n",
      "2022-03-08 07:46:21.318498\n",
      "total partitions are\n",
      "1\n",
      "Query made progress: {qatest12nonfes.public.user_summary_old-9=OffsetAndMetadata{offset=185961, leaderEpoch=null, metadata=''}, qatest12nonfes.public.user_summary_old-7=OffsetAndMetadata{offset=191256, leaderEpoch=null, metadata=''}, qatest12nonfes.public.user_summary_old-8=OffsetAndMetadata{offset=189876, leaderEpoch=null, metadata=''}, qatest12nonfes.public.user_summary_old-5=OffsetAndMetadata{offset=171067, leaderEpoch=null, metadata=''}, qatest12nonfes.public.user_summary_old-6=OffsetAndMetadata{offset=194806, leaderEpoch=null, metadata=''}, qatest12nonfes.public.user_summary_old-3=OffsetAndMetadata{offset=201130, leaderEpoch=null, metadata=''}, qatest12nonfes.public.user_summary_old-4=OffsetAndMetadata{offset=169495, leaderEpoch=null, metadata=''}, qatest12nonfes.public.user_summary_old-1=OffsetAndMetadata{offset=199521, leaderEpoch=null, metadata=''}, qatest12nonfes.public.user_summary_old-2=OffsetAndMetadata{offset=174686, leaderEpoch=null, metadata=''}, qatest12nonfes.public.user_summary_old-0=OffsetAndMetadata{offset=181743, leaderEpoch=null, metadata=''}}\n",
      "query inside Jar\n",
      "1\n",
      "2022-03-08 07:46:21.581365\n",
      "created_at\n",
      "user_summary_old\n",
      "Query made progress: {qatest12nonfes.public.user_summary_old-9=OffsetAndMetadata{offset=185961, leaderEpoch=null, metadata=''}, qatest12nonfes.public.user_summary_old-7=OffsetAndMetadata{offset=191256, leaderEpoch=null, metadata=''}, qatest12nonfes.public.user_summary_old-8=OffsetAndMetadata{offset=189876, leaderEpoch=null, metadata=''}, qatest12nonfes.public.user_summary_old-5=OffsetAndMetadata{offset=171067, leaderEpoch=null, metadata=''}, qatest12nonfes.public.user_summary_old-6=OffsetAndMetadata{offset=194806, leaderEpoch=null, metadata=''}, qatest12nonfes.public.user_summary_old-3=OffsetAndMetadata{offset=201130, leaderEpoch=null, metadata=''}, qatest12nonfes.public.user_summary_old-4=OffsetAndMetadata{offset=169495, leaderEpoch=null, metadata=''}, qatest12nonfes.public.user_summary_old-1=OffsetAndMetadata{offset=199521, leaderEpoch=null, metadata=''}, qatest12nonfes.public.user_summary_old-2=OffsetAndMetadata{offset=174686, leaderEpoch=null, metadata=''}, qatest12nonfes.public.user_summary_old-0=OffsetAndMetadata{offset=181743, leaderEpoch=null, metadata=''}}\n",
      "query inside Jar\n"
     ]
    },
    {
     "name": "stderr",
     "output_type": "stream",
     "text": [
      "                                                                                \r"
     ]
    },
    {
     "name": "stdout",
     "output_type": "stream",
     "text": [
      "checkpoint 1\n",
      "after merge\n",
      "2022-03-08 07:46:25.086667\n",
      "Query made progress: {qatest12nonfes.public.user_summary_old-9=OffsetAndMetadata{offset=185961, leaderEpoch=null, metadata=''}, qatest12nonfes.public.user_summary_old-7=OffsetAndMetadata{offset=191256, leaderEpoch=null, metadata=''}, qatest12nonfes.public.user_summary_old-8=OffsetAndMetadata{offset=189876, leaderEpoch=null, metadata=''}, qatest12nonfes.public.user_summary_old-5=OffsetAndMetadata{offset=171067, leaderEpoch=null, metadata=''}, qatest12nonfes.public.user_summary_old-6=OffsetAndMetadata{offset=194806, leaderEpoch=null, metadata=''}, qatest12nonfes.public.user_summary_old-3=OffsetAndMetadata{offset=201130, leaderEpoch=null, metadata=''}, qatest12nonfes.public.user_summary_old-4=OffsetAndMetadata{offset=169495, leaderEpoch=null, metadata=''}, qatest12nonfes.public.user_summary_old-1=OffsetAndMetadata{offset=199521, leaderEpoch=null, metadata=''}, qatest12nonfes.public.user_summary_old-2=OffsetAndMetadata{offset=174686, leaderEpoch=null, metadata=''}, qatest12nonfes.public.user_summary_old-0=OffsetAndMetadata{offset=181743, leaderEpoch=null, metadata=''}}\n",
      "query inside Jar\n",
      "Query made progress: {qatest12nonfes.public.user_summary_old-9=OffsetAndMetadata{offset=185961, leaderEpoch=null, metadata=''}, qatest12nonfes.public.user_summary_old-7=OffsetAndMetadata{offset=191256, leaderEpoch=null, metadata=''}, qatest12nonfes.public.user_summary_old-8=OffsetAndMetadata{offset=189876, leaderEpoch=null, metadata=''}, qatest12nonfes.public.user_summary_old-5=OffsetAndMetadata{offset=171067, leaderEpoch=null, metadata=''}, qatest12nonfes.public.user_summary_old-6=OffsetAndMetadata{offset=194806, leaderEpoch=null, metadata=''}, qatest12nonfes.public.user_summary_old-3=OffsetAndMetadata{offset=201131, leaderEpoch=null, metadata=''}, qatest12nonfes.public.user_summary_old-4=OffsetAndMetadata{offset=169495, leaderEpoch=null, metadata=''}, qatest12nonfes.public.user_summary_old-1=OffsetAndMetadata{offset=199521, leaderEpoch=null, metadata=''}, qatest12nonfes.public.user_summary_old-2=OffsetAndMetadata{offset=174686, leaderEpoch=null, metadata=''}, qatest12nonfes.public.user_summary_old-0=OffsetAndMetadata{offset=181743, leaderEpoch=null, metadata=''}}\n",
      "query inside Jar\n",
      "Query made progress: {qatest12nonfes.public.user_summary_old-9=OffsetAndMetadata{offset=185961, leaderEpoch=null, metadata=''}, qatest12nonfes.public.user_summary_old-7=OffsetAndMetadata{offset=191256, leaderEpoch=null, metadata=''}, qatest12nonfes.public.user_summary_old-8=OffsetAndMetadata{offset=189876, leaderEpoch=null, metadata=''}, qatest12nonfes.public.user_summary_old-5=OffsetAndMetadata{offset=171067, leaderEpoch=null, metadata=''}, qatest12nonfes.public.user_summary_old-6=OffsetAndMetadata{offset=194806, leaderEpoch=null, metadata=''}, qatest12nonfes.public.user_summary_old-3=OffsetAndMetadata{offset=201131, leaderEpoch=null, metadata=''}, qatest12nonfes.public.user_summary_old-4=OffsetAndMetadata{offset=169495, leaderEpoch=null, metadata=''}, qatest12nonfes.public.user_summary_old-1=OffsetAndMetadata{offset=199521, leaderEpoch=null, metadata=''}, qatest12nonfes.public.user_summary_old-2=OffsetAndMetadata{offset=174686, leaderEpoch=null, metadata=''}, qatest12nonfes.public.user_summary_old-0=OffsetAndMetadata{offset=181743, leaderEpoch=null, metadata=''}}\n",
      "query inside Jar\n",
      "Query made progress: {qatest12nonfes.public.user_summary_old-9=OffsetAndMetadata{offset=185961, leaderEpoch=null, metadata=''}, qatest12nonfes.public.user_summary_old-7=OffsetAndMetadata{offset=191256, leaderEpoch=null, metadata=''}, qatest12nonfes.public.user_summary_old-8=OffsetAndMetadata{offset=189876, leaderEpoch=null, metadata=''}, qatest12nonfes.public.user_summary_old-5=OffsetAndMetadata{offset=171067, leaderEpoch=null, metadata=''}, qatest12nonfes.public.user_summary_old-6=OffsetAndMetadata{offset=194806, leaderEpoch=null, metadata=''}, qatest12nonfes.public.user_summary_old-3=OffsetAndMetadata{offset=201131, leaderEpoch=null, metadata=''}, qatest12nonfes.public.user_summary_old-4=OffsetAndMetadata{offset=169495, leaderEpoch=null, metadata=''}, qatest12nonfes.public.user_summary_old-1=OffsetAndMetadata{offset=199521, leaderEpoch=null, metadata=''}, qatest12nonfes.public.user_summary_old-2=OffsetAndMetadata{offset=174686, leaderEpoch=null, metadata=''}, qatest12nonfes.public.user_summary_old-0=OffsetAndMetadata{offset=181743, leaderEpoch=null, metadata=''}}\n",
      "query inside Jar\n",
      "Query made progress: {qatest12nonfes.public.user_summary_old-9=OffsetAndMetadata{offset=185961, leaderEpoch=null, metadata=''}, qatest12nonfes.public.user_summary_old-7=OffsetAndMetadata{offset=191256, leaderEpoch=null, metadata=''}, qatest12nonfes.public.user_summary_old-8=OffsetAndMetadata{offset=189876, leaderEpoch=null, metadata=''}, qatest12nonfes.public.user_summary_old-5=OffsetAndMetadata{offset=171067, leaderEpoch=null, metadata=''}, qatest12nonfes.public.user_summary_old-6=OffsetAndMetadata{offset=194806, leaderEpoch=null, metadata=''}, qatest12nonfes.public.user_summary_old-3=OffsetAndMetadata{offset=201131, leaderEpoch=null, metadata=''}, qatest12nonfes.public.user_summary_old-4=OffsetAndMetadata{offset=169495, leaderEpoch=null, metadata=''}, qatest12nonfes.public.user_summary_old-1=OffsetAndMetadata{offset=199521, leaderEpoch=null, metadata=''}, qatest12nonfes.public.user_summary_old-2=OffsetAndMetadata{offset=174686, leaderEpoch=null, metadata=''}, qatest12nonfes.public.user_summary_old-0=OffsetAndMetadata{offset=181743, leaderEpoch=null, metadata=''}}\n",
      "query inside Jar\n",
      "datalake-qa-91Query made progress: {qatest12nonfes.public.user_summary_old-9=OffsetAndMetadata{offset=185961, leaderEpoch=null, metadata=''}, qatest12nonfes.public.user_summary_old-7=OffsetAndMetadata{offset=191256, leaderEpoch=null, metadata=''}, qatest12nonfes.public.user_summary_old-8=OffsetAndMetadata{offset=189876, leaderEpoch=null, metadata=''}, qatest12nonfes.public.user_summary_old-5=OffsetAndMetadata{offset=171067, leaderEpoch=null, metadata=''}, qatest12nonfes.public.user_summary_old-6=OffsetAndMetadata{offset=194806, leaderEpoch=null, metadata=''}, qatest12nonfes.public.user_summary_old-3=OffsetAndMetadata{offset=201131, leaderEpoch=null, metadata=''}, qatest12nonfes.public.user_summary_old-4=OffsetAndMetadata{offset=169495, leaderEpoch=null, metadata=''}, qatest12nonfes.public.user_summary_old-1=OffsetAndMetadata{offset=199521, leaderEpoch=null, metadata=''}, qatest12nonfes.public.user_summary_old-2=OffsetAndMetadata{offset=174686, leaderEpoch=null, metadata=''}, qatest12nonfes.public.user_summary_old-0=OffsetAndMetadata{offset=181743, leaderEpoch=null, metadata=''}}\n",
      "query inside Jar\n"
     ]
    },
    {
     "name": "stderr",
     "output_type": "stream",
     "text": [
      "[Stage 73:>                                                         (0 + 1) / 1]\r"
     ]
    },
    {
     "name": "stdout",
     "output_type": "stream",
     "text": [
      "Query made progress: {qatest12nonfes.public.user_summary_old-9=OffsetAndMetadata{offset=185961, leaderEpoch=null, metadata=''}, qatest12nonfes.public.user_summary_old-7=OffsetAndMetadata{offset=191256, leaderEpoch=null, metadata=''}, qatest12nonfes.public.user_summary_old-8=OffsetAndMetadata{offset=189876, leaderEpoch=null, metadata=''}, qatest12nonfes.public.user_summary_old-5=OffsetAndMetadata{offset=171067, leaderEpoch=null, metadata=''}, qatest12nonfes.public.user_summary_old-6=OffsetAndMetadata{offset=194806, leaderEpoch=null, metadata=''}, qatest12nonfes.public.user_summary_old-3=OffsetAndMetadata{offset=201131, leaderEpoch=null, metadata=''}, qatest12nonfes.public.user_summary_old-4=OffsetAndMetadata{offset=169495, leaderEpoch=null, metadata=''}, qatest12nonfes.public.user_summary_old-1=OffsetAndMetadata{offset=199521, leaderEpoch=null, metadata=''}, qatest12nonfes.public.user_summary_old-2=OffsetAndMetadata{offset=174686, leaderEpoch=null, metadata=''}, qatest12nonfes.public.user_summary_old-0=OffsetAndMetadata{offset=181743, leaderEpoch=null, metadata=''}}\n",
      "query inside Jar\n",
      "Query made progress: {qatest12nonfes.public.user_summary_old-9=OffsetAndMetadata{offset=185961, leaderEpoch=null, metadata=''}, qatest12nonfes.public.user_summary_old-7=OffsetAndMetadata{offset=191256, leaderEpoch=null, metadata=''}, qatest12nonfes.public.user_summary_old-8=OffsetAndMetadata{offset=189876, leaderEpoch=null, metadata=''}, qatest12nonfes.public.user_summary_old-5=OffsetAndMetadata{offset=171067, leaderEpoch=null, metadata=''}, qatest12nonfes.public.user_summary_old-6=OffsetAndMetadata{offset=194806, leaderEpoch=null, metadata=''}, qatest12nonfes.public.user_summary_old-3=OffsetAndMetadata{offset=201131, leaderEpoch=null, metadata=''}, qatest12nonfes.public.user_summary_old-4=OffsetAndMetadata{offset=169495, leaderEpoch=null, metadata=''}, qatest12nonfes.public.user_summary_old-1=OffsetAndMetadata{offset=199521, leaderEpoch=null, metadata=''}, qatest12nonfes.public.user_summary_old-2=OffsetAndMetadata{offset=174686, leaderEpoch=null, metadata=''}, qatest12nonfes.public.user_summary_old-0=OffsetAndMetadata{offset=181743, leaderEpoch=null, metadata=''}}\n",
      "query inside Jar\n",
      "Query made progress: {qatest12nonfes.public.user_summary_old-9=OffsetAndMetadata{offset=185961, leaderEpoch=null, metadata=''}, qatest12nonfes.public.user_summary_old-7=OffsetAndMetadata{offset=191256, leaderEpoch=null, metadata=''}, qatest12nonfes.public.user_summary_old-8=OffsetAndMetadata{offset=189876, leaderEpoch=null, metadata=''}, qatest12nonfes.public.user_summary_old-5=OffsetAndMetadata{offset=171067, leaderEpoch=null, metadata=''}, qatest12nonfes.public.user_summary_old-6=OffsetAndMetadata{offset=194806, leaderEpoch=null, metadata=''}, qatest12nonfes.public.user_summary_old-3=OffsetAndMetadata{offset=201131, leaderEpoch=null, metadata=''}, qatest12nonfes.public.user_summary_old-4=OffsetAndMetadata{offset=169495, leaderEpoch=null, metadata=''}, qatest12nonfes.public.user_summary_old-1=OffsetAndMetadata{offset=199521, leaderEpoch=null, metadata=''}, qatest12nonfes.public.user_summary_old-2=OffsetAndMetadata{offset=174686, leaderEpoch=null, metadata=''}, qatest12nonfes.public.user_summary_old-0=OffsetAndMetadata{offset=181743, leaderEpoch=null, metadata=''}}\n",
      "query inside Jar\n"
     ]
    },
    {
     "name": "stderr",
     "output_type": "stream",
     "text": [
      "                                                                                \r"
     ]
    },
    {
     "name": "stdout",
     "output_type": "stream",
     "text": [
      "+--------------------+--------------------+---------+------+--------------------+-------------+--------+--------------------+--------------------+\n",
      "|                 key|               topic|partition|offset|           timestamp|timestampType|schemaId|             payload|  valueConsumerKafka|\n",
      "+--------------------+--------------------+---------+------+--------------------+-------------+--------+--------------------+--------------------+\n",
      "|[00 00 00 07 32 F...|qatest12nonfes.pu...|        5|171067|2022-03-08 07:46:...|            0|    3737|[00 02 F0 D3 2C A...|[, [365816, 49940...|\n",
      "+--------------------+--------------------+---------+------+--------------------+-------------+--------+--------------------+--------------------+\n",
      "\n",
      "starting point\n",
      "2022-03-08 07:46:35.842846\n",
      "total partitions are\n",
      "1\n",
      "1\n",
      "2022-03-08 07:46:36.109572\n",
      "created_at\n",
      "user_summary_old\n"
     ]
    },
    {
     "name": "stderr",
     "output_type": "stream",
     "text": [
      "                                                                                \r"
     ]
    },
    {
     "name": "stdout",
     "output_type": "stream",
     "text": [
      "Query made progress: {qatest12nonfes.public.user_summary_old-9=OffsetAndMetadata{offset=185961, leaderEpoch=null, metadata=''}, qatest12nonfes.public.user_summary_old-7=OffsetAndMetadata{offset=191256, leaderEpoch=null, metadata=''}, qatest12nonfes.public.user_summary_old-8=OffsetAndMetadata{offset=189876, leaderEpoch=null, metadata=''}, qatest12nonfes.public.user_summary_old-5=OffsetAndMetadata{offset=171067, leaderEpoch=null, metadata=''}, qatest12nonfes.public.user_summary_old-6=OffsetAndMetadata{offset=194806, leaderEpoch=null, metadata=''}, qatest12nonfes.public.user_summary_old-3=OffsetAndMetadata{offset=201131, leaderEpoch=null, metadata=''}, qatest12nonfes.public.user_summary_old-4=OffsetAndMetadata{offset=169495, leaderEpoch=null, metadata=''}, qatest12nonfes.public.user_summary_old-1=OffsetAndMetadata{offset=199521, leaderEpoch=null, metadata=''}, qatest12nonfes.public.user_summary_old-2=OffsetAndMetadata{offset=174686, leaderEpoch=null, metadata=''}, qatest12nonfes.public.user_summary_old-0=OffsetAndMetadata{offset=181743, leaderEpoch=null, metadata=''}}\n",
      "query inside Jar\n"
     ]
    },
    {
     "name": "stderr",
     "output_type": "stream",
     "text": [
      "                                                                                \r"
     ]
    },
    {
     "name": "stdout",
     "output_type": "stream",
     "text": [
      "checkpoint 1\n",
      "after merge\n",
      "2022-03-08 07:46:39.113029\n",
      "Query made progress: {qatest12nonfes.public.user_summary_old-9=OffsetAndMetadata{offset=185961, leaderEpoch=null, metadata=''}, qatest12nonfes.public.user_summary_old-7=OffsetAndMetadata{offset=191256, leaderEpoch=null, metadata=''}, qatest12nonfes.public.user_summary_old-8=OffsetAndMetadata{offset=189876, leaderEpoch=null, metadata=''}, qatest12nonfes.public.user_summary_old-5=OffsetAndMetadata{offset=171068, leaderEpoch=null, metadata=''}, qatest12nonfes.public.user_summary_old-6=OffsetAndMetadata{offset=194806, leaderEpoch=null, metadata=''}, qatest12nonfes.public.user_summary_old-3=OffsetAndMetadata{offset=201131, leaderEpoch=null, metadata=''}, qatest12nonfes.public.user_summary_old-4=OffsetAndMetadata{offset=169495, leaderEpoch=null, metadata=''}, qatest12nonfes.public.user_summary_old-1=OffsetAndMetadata{offset=199521, leaderEpoch=null, metadata=''}, qatest12nonfes.public.user_summary_old-2=OffsetAndMetadata{offset=174686, leaderEpoch=null, metadata=''}, qatest12nonfes.public.user_summary_old-0=OffsetAndMetadata{offset=181743, leaderEpoch=null, metadata=''}}\n",
      "query inside Jar\n",
      "datalake-qa-91Query made progress: {qatest12nonfes.public.user_summary_old-9=OffsetAndMetadata{offset=185961, leaderEpoch=null, metadata=''}, qatest12nonfes.public.user_summary_old-7=OffsetAndMetadata{offset=191256, leaderEpoch=null, metadata=''}, qatest12nonfes.public.user_summary_old-8=OffsetAndMetadata{offset=189876, leaderEpoch=null, metadata=''}, qatest12nonfes.public.user_summary_old-5=OffsetAndMetadata{offset=171068, leaderEpoch=null, metadata=''}, qatest12nonfes.public.user_summary_old-6=OffsetAndMetadata{offset=194806, leaderEpoch=null, metadata=''}, qatest12nonfes.public.user_summary_old-3=OffsetAndMetadata{offset=201131, leaderEpoch=null, metadata=''}, qatest12nonfes.public.user_summary_old-4=OffsetAndMetadata{offset=169495, leaderEpoch=null, metadata=''}, qatest12nonfes.public.user_summary_old-1=OffsetAndMetadata{offset=199521, leaderEpoch=null, metadata=''}, qatest12nonfes.public.user_summary_old-2=OffsetAndMetadata{offset=174686, leaderEpoch=null, metadata=''}, qatest12nonfes.public.user_summary_old-0=OffsetAndMetadata{offset=181743, leaderEpoch=null, metadata=''}}\n",
      "query inside Jar\n"
     ]
    },
    {
     "name": "stderr",
     "output_type": "stream",
     "text": [
      "[Stage 80:>                                                         (0 + 1) / 1]\r"
     ]
    },
    {
     "name": "stdout",
     "output_type": "stream",
     "text": [
      "Query made progress: {qatest12nonfes.public.user_summary_old-9=OffsetAndMetadata{offset=185961, leaderEpoch=null, metadata=''}, qatest12nonfes.public.user_summary_old-7=OffsetAndMetadata{offset=191256, leaderEpoch=null, metadata=''}, qatest12nonfes.public.user_summary_old-8=OffsetAndMetadata{offset=189876, leaderEpoch=null, metadata=''}, qatest12nonfes.public.user_summary_old-5=OffsetAndMetadata{offset=171068, leaderEpoch=null, metadata=''}, qatest12nonfes.public.user_summary_old-6=OffsetAndMetadata{offset=194806, leaderEpoch=null, metadata=''}, qatest12nonfes.public.user_summary_old-3=OffsetAndMetadata{offset=201131, leaderEpoch=null, metadata=''}, qatest12nonfes.public.user_summary_old-4=OffsetAndMetadata{offset=169495, leaderEpoch=null, metadata=''}, qatest12nonfes.public.user_summary_old-1=OffsetAndMetadata{offset=199521, leaderEpoch=null, metadata=''}, qatest12nonfes.public.user_summary_old-2=OffsetAndMetadata{offset=174686, leaderEpoch=null, metadata=''}, qatest12nonfes.public.user_summary_old-0=OffsetAndMetadata{offset=181743, leaderEpoch=null, metadata=''}}\n",
      "query inside Jar\n",
      "Query made progress: {qatest12nonfes.public.user_summary_old-9=OffsetAndMetadata{offset=185961, leaderEpoch=null, metadata=''}, qatest12nonfes.public.user_summary_old-7=OffsetAndMetadata{offset=191256, leaderEpoch=null, metadata=''}, qatest12nonfes.public.user_summary_old-8=OffsetAndMetadata{offset=189876, leaderEpoch=null, metadata=''}, qatest12nonfes.public.user_summary_old-5=OffsetAndMetadata{offset=171068, leaderEpoch=null, metadata=''}, qatest12nonfes.public.user_summary_old-6=OffsetAndMetadata{offset=194806, leaderEpoch=null, metadata=''}, qatest12nonfes.public.user_summary_old-3=OffsetAndMetadata{offset=201131, leaderEpoch=null, metadata=''}, qatest12nonfes.public.user_summary_old-4=OffsetAndMetadata{offset=169495, leaderEpoch=null, metadata=''}, qatest12nonfes.public.user_summary_old-1=OffsetAndMetadata{offset=199521, leaderEpoch=null, metadata=''}, qatest12nonfes.public.user_summary_old-2=OffsetAndMetadata{offset=174686, leaderEpoch=null, metadata=''}, qatest12nonfes.public.user_summary_old-0=OffsetAndMetadata{offset=181743, leaderEpoch=null, metadata=''}}\n",
      "query inside Jar\n",
      "Query made progress: {qatest12nonfes.public.user_summary_old-9=OffsetAndMetadata{offset=185961, leaderEpoch=null, metadata=''}, qatest12nonfes.public.user_summary_old-7=OffsetAndMetadata{offset=191256, leaderEpoch=null, metadata=''}, qatest12nonfes.public.user_summary_old-8=OffsetAndMetadata{offset=189876, leaderEpoch=null, metadata=''}, qatest12nonfes.public.user_summary_old-5=OffsetAndMetadata{offset=171068, leaderEpoch=null, metadata=''}, qatest12nonfes.public.user_summary_old-6=OffsetAndMetadata{offset=194806, leaderEpoch=null, metadata=''}, qatest12nonfes.public.user_summary_old-3=OffsetAndMetadata{offset=201131, leaderEpoch=null, metadata=''}, qatest12nonfes.public.user_summary_old-4=OffsetAndMetadata{offset=169495, leaderEpoch=null, metadata=''}, qatest12nonfes.public.user_summary_old-1=OffsetAndMetadata{offset=199521, leaderEpoch=null, metadata=''}, qatest12nonfes.public.user_summary_old-2=OffsetAndMetadata{offset=174686, leaderEpoch=null, metadata=''}, qatest12nonfes.public.user_summary_old-0=OffsetAndMetadata{offset=181743, leaderEpoch=null, metadata=''}}\n",
      "query inside Jar\n"
     ]
    },
    {
     "name": "stderr",
     "output_type": "stream",
     "text": [
      "                                                                                \r"
     ]
    },
    {
     "name": "stdout",
     "output_type": "stream",
     "text": [
      "+--------------------+--------------------+---------+------+--------------------+-------------+--------+--------------------+--------------------+\n",
      "|                 key|               topic|partition|offset|           timestamp|timestampType|schemaId|             payload|  valueConsumerKafka|\n",
      "+--------------------+--------------------+---------+------+--------------------+-------------+--------+--------------------+--------------------+\n",
      "|[00 00 00 07 32 D...|qatest12nonfes.pu...|        8|189876|2022-03-08 07:46:...|            0|    3737|[00 02 DC D4 2C E...|[, [365870, 51312...|\n",
      "+--------------------+--------------------+---------+------+--------------------+-------------+--------+--------------------+--------------------+\n",
      "\n",
      "starting point\n",
      "2022-03-08 07:46:44.711101\n",
      "total partitions are\n",
      "1\n",
      "1\n",
      "2022-03-08 07:46:44.888346\n",
      "created_at\n",
      "Query made progress: {qatest12nonfes.public.user_summary_old-9=OffsetAndMetadata{offset=185961, leaderEpoch=null, metadata=''}, qatest12nonfes.public.user_summary_old-7=OffsetAndMetadata{offset=191256, leaderEpoch=null, metadata=''}, qatest12nonfes.public.user_summary_old-8=OffsetAndMetadata{offset=189876, leaderEpoch=null, metadata=''}, qatest12nonfes.public.user_summary_old-5=OffsetAndMetadata{offset=171068, leaderEpoch=null, metadata=''}, qatest12nonfes.public.user_summary_old-6=OffsetAndMetadata{offset=194806, leaderEpoch=null, metadata=''}, qatest12nonfes.public.user_summary_old-3=OffsetAndMetadata{offset=201131, leaderEpoch=null, metadata=''}, qatest12nonfes.public.user_summary_old-4=OffsetAndMetadata{offset=169495, leaderEpoch=null, metadata=''}, qatest12nonfes.public.user_summary_old-1=OffsetAndMetadata{offset=199521, leaderEpoch=null, metadata=''}, qatest12nonfes.public.user_summary_old-2=OffsetAndMetadata{offset=174686, leaderEpoch=null, metadata=''}, qatest12nonfes.public.user_summary_old-0=OffsetAndMetadata{offset=181743, leaderEpoch=null, metadata=''}}\n",
      "query inside Jar\n",
      "user_summary_old\n"
     ]
    },
    {
     "name": "stderr",
     "output_type": "stream",
     "text": [
      "[Stage 81:>                                                         (0 + 1) / 1]\r"
     ]
    },
    {
     "name": "stdout",
     "output_type": "stream",
     "text": [
      "Query made progress: {qatest12nonfes.public.user_summary_old-9=OffsetAndMetadata{offset=185961, leaderEpoch=null, metadata=''}, qatest12nonfes.public.user_summary_old-7=OffsetAndMetadata{offset=191256, leaderEpoch=null, metadata=''}, qatest12nonfes.public.user_summary_old-8=OffsetAndMetadata{offset=189876, leaderEpoch=null, metadata=''}, qatest12nonfes.public.user_summary_old-5=OffsetAndMetadata{offset=171068, leaderEpoch=null, metadata=''}, qatest12nonfes.public.user_summary_old-6=OffsetAndMetadata{offset=194806, leaderEpoch=null, metadata=''}, qatest12nonfes.public.user_summary_old-3=OffsetAndMetadata{offset=201131, leaderEpoch=null, metadata=''}, qatest12nonfes.public.user_summary_old-4=OffsetAndMetadata{offset=169495, leaderEpoch=null, metadata=''}, qatest12nonfes.public.user_summary_old-1=OffsetAndMetadata{offset=199521, leaderEpoch=null, metadata=''}, qatest12nonfes.public.user_summary_old-2=OffsetAndMetadata{offset=174686, leaderEpoch=null, metadata=''}, qatest12nonfes.public.user_summary_old-0=OffsetAndMetadata{offset=181743, leaderEpoch=null, metadata=''}}\n",
      "query inside Jar\n"
     ]
    },
    {
     "name": "stderr",
     "output_type": "stream",
     "text": [
      "                                                                                \r"
     ]
    },
    {
     "name": "stdout",
     "output_type": "stream",
     "text": [
      "Query made progress: {qatest12nonfes.public.user_summary_old-9=OffsetAndMetadata{offset=185961, leaderEpoch=null, metadata=''}, qatest12nonfes.public.user_summary_old-7=OffsetAndMetadata{offset=191256, leaderEpoch=null, metadata=''}, qatest12nonfes.public.user_summary_old-8=OffsetAndMetadata{offset=189876, leaderEpoch=null, metadata=''}, qatest12nonfes.public.user_summary_old-5=OffsetAndMetadata{offset=171068, leaderEpoch=null, metadata=''}, qatest12nonfes.public.user_summary_old-6=OffsetAndMetadata{offset=194806, leaderEpoch=null, metadata=''}, qatest12nonfes.public.user_summary_old-3=OffsetAndMetadata{offset=201131, leaderEpoch=null, metadata=''}, qatest12nonfes.public.user_summary_old-4=OffsetAndMetadata{offset=169495, leaderEpoch=null, metadata=''}, qatest12nonfes.public.user_summary_old-1=OffsetAndMetadata{offset=199521, leaderEpoch=null, metadata=''}, qatest12nonfes.public.user_summary_old-2=OffsetAndMetadata{offset=174686, leaderEpoch=null, metadata=''}, qatest12nonfes.public.user_summary_old-0=OffsetAndMetadata{offset=181743, leaderEpoch=null, metadata=''}}\n",
      "query inside Jar\n",
      "Query made progress: {qatest12nonfes.public.user_summary_old-9=OffsetAndMetadata{offset=185961, leaderEpoch=null, metadata=''}, qatest12nonfes.public.user_summary_old-7=OffsetAndMetadata{offset=191256, leaderEpoch=null, metadata=''}, qatest12nonfes.public.user_summary_old-8=OffsetAndMetadata{offset=189876, leaderEpoch=null, metadata=''}, qatest12nonfes.public.user_summary_old-5=OffsetAndMetadata{offset=171068, leaderEpoch=null, metadata=''}, qatest12nonfes.public.user_summary_old-6=OffsetAndMetadata{offset=194806, leaderEpoch=null, metadata=''}, qatest12nonfes.public.user_summary_old-3=OffsetAndMetadata{offset=201131, leaderEpoch=null, metadata=''}, qatest12nonfes.public.user_summary_old-4=OffsetAndMetadata{offset=169495, leaderEpoch=null, metadata=''}, qatest12nonfes.public.user_summary_old-1=OffsetAndMetadata{offset=199521, leaderEpoch=null, metadata=''}, qatest12nonfes.public.user_summary_old-2=OffsetAndMetadata{offset=174686, leaderEpoch=null, metadata=''}, qatest12nonfes.public.user_summary_old-0=OffsetAndMetadata{offset=181743, leaderEpoch=null, metadata=''}}\n",
      "query inside Jar\n"
     ]
    },
    {
     "name": "stderr",
     "output_type": "stream",
     "text": [
      "                                                                                \r"
     ]
    },
    {
     "name": "stdout",
     "output_type": "stream",
     "text": [
      "checkpoint 1\n",
      "after merge\n",
      "2022-03-08 07:46:48.384338\n",
      "datalake-qa-91"
     ]
    },
    {
     "name": "stderr",
     "output_type": "stream",
     "text": [
      "                                                                                \r"
     ]
    },
    {
     "name": "stdout",
     "output_type": "stream",
     "text": [
      "Query made progress: {qatest12nonfes.public.user_summary_old-9=OffsetAndMetadata{offset=185961, leaderEpoch=null, metadata=''}, qatest12nonfes.public.user_summary_old-7=OffsetAndMetadata{offset=191256, leaderEpoch=null, metadata=''}, qatest12nonfes.public.user_summary_old-8=OffsetAndMetadata{offset=189876, leaderEpoch=null, metadata=''}, qatest12nonfes.public.user_summary_old-5=OffsetAndMetadata{offset=171068, leaderEpoch=null, metadata=''}, qatest12nonfes.public.user_summary_old-6=OffsetAndMetadata{offset=194806, leaderEpoch=null, metadata=''}, qatest12nonfes.public.user_summary_old-3=OffsetAndMetadata{offset=201131, leaderEpoch=null, metadata=''}, qatest12nonfes.public.user_summary_old-4=OffsetAndMetadata{offset=169495, leaderEpoch=null, metadata=''}, qatest12nonfes.public.user_summary_old-1=OffsetAndMetadata{offset=199521, leaderEpoch=null, metadata=''}, qatest12nonfes.public.user_summary_old-2=OffsetAndMetadata{offset=174686, leaderEpoch=null, metadata=''}, qatest12nonfes.public.user_summary_old-0=OffsetAndMetadata{offset=181743, leaderEpoch=null, metadata=''}}\n",
      "query inside Jar\n",
      "+--------------------+--------------------+---------+------+--------------------+-------------+--------+--------------------+--------------------+\n",
      "|                 key|               topic|partition|offset|           timestamp|timestampType|schemaId|             payload|  valueConsumerKafka|\n",
      "+--------------------+--------------------+---------+------+--------------------+-------------+--------+--------------------+--------------------+\n",
      "|[00 00 00 07 32 F...|qatest12nonfes.pu...|        7|191256|2022-03-08 07:46:...|            0|    3737|[00 02 FC D1 2C C...|[, [365694, 931, ...|\n",
      "+--------------------+--------------------+---------+------+--------------------+-------------+--------+--------------------+--------------------+\n",
      "only showing top 1 row\n",
      "\n",
      "starting point\n",
      "2022-03-08 07:46:52.168711\n",
      "total partitions are\n",
      "2\n",
      "2\n",
      "2022-03-08 07:46:52.340451\n",
      "created_at\n",
      "user_summary_old\n",
      "Query made progress: {qatest12nonfes.public.user_summary_old-9=OffsetAndMetadata{offset=185961, leaderEpoch=null, metadata=''}, qatest12nonfes.public.user_summary_old-7=OffsetAndMetadata{offset=191256, leaderEpoch=null, metadata=''}, qatest12nonfes.public.user_summary_old-8=OffsetAndMetadata{offset=189877, leaderEpoch=null, metadata=''}, qatest12nonfes.public.user_summary_old-5=OffsetAndMetadata{offset=171068, leaderEpoch=null, metadata=''}, qatest12nonfes.public.user_summary_old-6=OffsetAndMetadata{offset=194806, leaderEpoch=null, metadata=''}, qatest12nonfes.public.user_summary_old-3=OffsetAndMetadata{offset=201131, leaderEpoch=null, metadata=''}, qatest12nonfes.public.user_summary_old-4=OffsetAndMetadata{offset=169495, leaderEpoch=null, metadata=''}, qatest12nonfes.public.user_summary_old-1=OffsetAndMetadata{offset=199521, leaderEpoch=null, metadata=''}, qatest12nonfes.public.user_summary_old-2=OffsetAndMetadata{offset=174686, leaderEpoch=null, metadata=''}, qatest12nonfes.public.user_summary_old-0=OffsetAndMetadata{offset=181743, leaderEpoch=null, metadata=''}}\n",
      "query inside Jar\n"
     ]
    },
    {
     "name": "stderr",
     "output_type": "stream",
     "text": [
      "[Stage 89:=============================>                            (1 + 1) / 2]\r"
     ]
    },
    {
     "name": "stdout",
     "output_type": "stream",
     "text": [
      "Query made progress: {qatest12nonfes.public.user_summary_old-9=OffsetAndMetadata{offset=185961, leaderEpoch=null, metadata=''}, qatest12nonfes.public.user_summary_old-7=OffsetAndMetadata{offset=191256, leaderEpoch=null, metadata=''}, qatest12nonfes.public.user_summary_old-8=OffsetAndMetadata{offset=189877, leaderEpoch=null, metadata=''}, qatest12nonfes.public.user_summary_old-5=OffsetAndMetadata{offset=171068, leaderEpoch=null, metadata=''}, qatest12nonfes.public.user_summary_old-6=OffsetAndMetadata{offset=194806, leaderEpoch=null, metadata=''}, qatest12nonfes.public.user_summary_old-3=OffsetAndMetadata{offset=201131, leaderEpoch=null, metadata=''}, qatest12nonfes.public.user_summary_old-4=OffsetAndMetadata{offset=169495, leaderEpoch=null, metadata=''}, qatest12nonfes.public.user_summary_old-1=OffsetAndMetadata{offset=199521, leaderEpoch=null, metadata=''}, qatest12nonfes.public.user_summary_old-2=OffsetAndMetadata{offset=174686, leaderEpoch=null, metadata=''}, qatest12nonfes.public.user_summary_old-0=OffsetAndMetadata{offset=181743, leaderEpoch=null, metadata=''}}\n",
      "query inside Jar\n"
     ]
    },
    {
     "name": "stderr",
     "output_type": "stream",
     "text": [
      "                                                                                \r"
     ]
    },
    {
     "name": "stdout",
     "output_type": "stream",
     "text": [
      "Query made progress: {qatest12nonfes.public.user_summary_old-9=OffsetAndMetadata{offset=185961, leaderEpoch=null, metadata=''}, qatest12nonfes.public.user_summary_old-7=OffsetAndMetadata{offset=191256, leaderEpoch=null, metadata=''}, qatest12nonfes.public.user_summary_old-8=OffsetAndMetadata{offset=189877, leaderEpoch=null, metadata=''}, qatest12nonfes.public.user_summary_old-5=OffsetAndMetadata{offset=171068, leaderEpoch=null, metadata=''}, qatest12nonfes.public.user_summary_old-6=OffsetAndMetadata{offset=194806, leaderEpoch=null, metadata=''}, qatest12nonfes.public.user_summary_old-3=OffsetAndMetadata{offset=201131, leaderEpoch=null, metadata=''}, qatest12nonfes.public.user_summary_old-4=OffsetAndMetadata{offset=169495, leaderEpoch=null, metadata=''}, qatest12nonfes.public.user_summary_old-1=OffsetAndMetadata{offset=199521, leaderEpoch=null, metadata=''}, qatest12nonfes.public.user_summary_old-2=OffsetAndMetadata{offset=174686, leaderEpoch=null, metadata=''}, qatest12nonfes.public.user_summary_old-0=OffsetAndMetadata{offset=181743, leaderEpoch=null, metadata=''}}\n",
      "query inside Jar\n"
     ]
    },
    {
     "name": "stderr",
     "output_type": "stream",
     "text": [
      "                                                                                \r"
     ]
    },
    {
     "name": "stdout",
     "output_type": "stream",
     "text": [
      "checkpoint 1\n",
      "after merge\n",
      "2022-03-08 07:46:55.991267\n",
      "Query made progress: {qatest12nonfes.public.user_summary_old-9=OffsetAndMetadata{offset=185961, leaderEpoch=null, metadata=''}, qatest12nonfes.public.user_summary_old-7=OffsetAndMetadata{offset=191256, leaderEpoch=null, metadata=''}, qatest12nonfes.public.user_summary_old-8=OffsetAndMetadata{offset=189877, leaderEpoch=null, metadata=''}, qatest12nonfes.public.user_summary_old-5=OffsetAndMetadata{offset=171068, leaderEpoch=null, metadata=''}, qatest12nonfes.public.user_summary_old-6=OffsetAndMetadata{offset=194806, leaderEpoch=null, metadata=''}, qatest12nonfes.public.user_summary_old-3=OffsetAndMetadata{offset=201131, leaderEpoch=null, metadata=''}, qatest12nonfes.public.user_summary_old-4=OffsetAndMetadata{offset=169495, leaderEpoch=null, metadata=''}, qatest12nonfes.public.user_summary_old-1=OffsetAndMetadata{offset=199521, leaderEpoch=null, metadata=''}, qatest12nonfes.public.user_summary_old-2=OffsetAndMetadata{offset=174686, leaderEpoch=null, metadata=''}, qatest12nonfes.public.user_summary_old-0=OffsetAndMetadata{offset=181743, leaderEpoch=null, metadata=''}}\n",
      "query inside Jar\n",
      "Query made progress: {qatest12nonfes.public.user_summary_old-9=OffsetAndMetadata{offset=185961, leaderEpoch=null, metadata=''}, qatest12nonfes.public.user_summary_old-7=OffsetAndMetadata{offset=191256, leaderEpoch=null, metadata=''}, qatest12nonfes.public.user_summary_old-8=OffsetAndMetadata{offset=189877, leaderEpoch=null, metadata=''}, qatest12nonfes.public.user_summary_old-5=OffsetAndMetadata{offset=171068, leaderEpoch=null, metadata=''}, qatest12nonfes.public.user_summary_old-6=OffsetAndMetadata{offset=194806, leaderEpoch=null, metadata=''}, qatest12nonfes.public.user_summary_old-3=OffsetAndMetadata{offset=201131, leaderEpoch=null, metadata=''}, qatest12nonfes.public.user_summary_old-4=OffsetAndMetadata{offset=169495, leaderEpoch=null, metadata=''}, qatest12nonfes.public.user_summary_old-1=OffsetAndMetadata{offset=199521, leaderEpoch=null, metadata=''}, qatest12nonfes.public.user_summary_old-2=OffsetAndMetadata{offset=174686, leaderEpoch=null, metadata=''}, qatest12nonfes.public.user_summary_old-0=OffsetAndMetadata{offset=181743, leaderEpoch=null, metadata=''}}\n",
      "query inside Jar\n",
      "Query made progress: {qatest12nonfes.public.user_summary_old-9=OffsetAndMetadata{offset=185961, leaderEpoch=null, metadata=''}, qatest12nonfes.public.user_summary_old-7=OffsetAndMetadata{offset=191256, leaderEpoch=null, metadata=''}, qatest12nonfes.public.user_summary_old-8=OffsetAndMetadata{offset=189877, leaderEpoch=null, metadata=''}, qatest12nonfes.public.user_summary_old-5=OffsetAndMetadata{offset=171068, leaderEpoch=null, metadata=''}, qatest12nonfes.public.user_summary_old-6=OffsetAndMetadata{offset=194806, leaderEpoch=null, metadata=''}, qatest12nonfes.public.user_summary_old-3=OffsetAndMetadata{offset=201131, leaderEpoch=null, metadata=''}, qatest12nonfes.public.user_summary_old-4=OffsetAndMetadata{offset=169495, leaderEpoch=null, metadata=''}, qatest12nonfes.public.user_summary_old-1=OffsetAndMetadata{offset=199521, leaderEpoch=null, metadata=''}, qatest12nonfes.public.user_summary_old-2=OffsetAndMetadata{offset=174686, leaderEpoch=null, metadata=''}, qatest12nonfes.public.user_summary_old-0=OffsetAndMetadata{offset=181743, leaderEpoch=null, metadata=''}}\n",
      "query inside Jar\n",
      "Query made progress: {qatest12nonfes.public.user_summary_old-9=OffsetAndMetadata{offset=185961, leaderEpoch=null, metadata=''}, qatest12nonfes.public.user_summary_old-7=OffsetAndMetadata{offset=191256, leaderEpoch=null, metadata=''}, qatest12nonfes.public.user_summary_old-8=OffsetAndMetadata{offset=189877, leaderEpoch=null, metadata=''}, qatest12nonfes.public.user_summary_old-5=OffsetAndMetadata{offset=171068, leaderEpoch=null, metadata=''}, qatest12nonfes.public.user_summary_old-6=OffsetAndMetadata{offset=194806, leaderEpoch=null, metadata=''}, qatest12nonfes.public.user_summary_old-3=OffsetAndMetadata{offset=201131, leaderEpoch=null, metadata=''}, qatest12nonfes.public.user_summary_old-4=OffsetAndMetadata{offset=169495, leaderEpoch=null, metadata=''}, qatest12nonfes.public.user_summary_old-1=OffsetAndMetadata{offset=199521, leaderEpoch=null, metadata=''}, qatest12nonfes.public.user_summary_old-2=OffsetAndMetadata{offset=174686, leaderEpoch=null, metadata=''}, qatest12nonfes.public.user_summary_old-0=OffsetAndMetadata{offset=181743, leaderEpoch=null, metadata=''}}\n",
      "query inside Jar\n",
      "Query made progress: {qatest12nonfes.public.user_summary_old-9=OffsetAndMetadata{offset=185961, leaderEpoch=null, metadata=''}, qatest12nonfes.public.user_summary_old-7=OffsetAndMetadata{offset=191256, leaderEpoch=null, metadata=''}, qatest12nonfes.public.user_summary_old-8=OffsetAndMetadata{offset=189877, leaderEpoch=null, metadata=''}, qatest12nonfes.public.user_summary_old-5=OffsetAndMetadata{offset=171068, leaderEpoch=null, metadata=''}, qatest12nonfes.public.user_summary_old-6=OffsetAndMetadata{offset=194806, leaderEpoch=null, metadata=''}, qatest12nonfes.public.user_summary_old-3=OffsetAndMetadata{offset=201131, leaderEpoch=null, metadata=''}, qatest12nonfes.public.user_summary_old-4=OffsetAndMetadata{offset=169495, leaderEpoch=null, metadata=''}, qatest12nonfes.public.user_summary_old-1=OffsetAndMetadata{offset=199521, leaderEpoch=null, metadata=''}, qatest12nonfes.public.user_summary_old-2=OffsetAndMetadata{offset=174686, leaderEpoch=null, metadata=''}, qatest12nonfes.public.user_summary_old-0=OffsetAndMetadata{offset=181743, leaderEpoch=null, metadata=''}}\n",
      "query inside Jar\n",
      "Query made progress: {qatest12nonfes.public.user_summary_old-9=OffsetAndMetadata{offset=185961, leaderEpoch=null, metadata=''}, qatest12nonfes.public.user_summary_old-7=OffsetAndMetadata{offset=191256, leaderEpoch=null, metadata=''}, qatest12nonfes.public.user_summary_old-8=OffsetAndMetadata{offset=189877, leaderEpoch=null, metadata=''}, qatest12nonfes.public.user_summary_old-5=OffsetAndMetadata{offset=171068, leaderEpoch=null, metadata=''}, qatest12nonfes.public.user_summary_old-6=OffsetAndMetadata{offset=194806, leaderEpoch=null, metadata=''}, qatest12nonfes.public.user_summary_old-3=OffsetAndMetadata{offset=201131, leaderEpoch=null, metadata=''}, qatest12nonfes.public.user_summary_old-4=OffsetAndMetadata{offset=169495, leaderEpoch=null, metadata=''}, qatest12nonfes.public.user_summary_old-1=OffsetAndMetadata{offset=199521, leaderEpoch=null, metadata=''}, qatest12nonfes.public.user_summary_old-2=OffsetAndMetadata{offset=174686, leaderEpoch=null, metadata=''}, qatest12nonfes.public.user_summary_old-0=OffsetAndMetadata{offset=181743, leaderEpoch=null, metadata=''}}\n",
      "query inside Jar\n",
      "Query made progress: {qatest12nonfes.public.user_summary_old-9=OffsetAndMetadata{offset=185961, leaderEpoch=null, metadata=''}, qatest12nonfes.public.user_summary_old-7=OffsetAndMetadata{offset=191256, leaderEpoch=null, metadata=''}, qatest12nonfes.public.user_summary_old-8=OffsetAndMetadata{offset=189877, leaderEpoch=null, metadata=''}, qatest12nonfes.public.user_summary_old-5=OffsetAndMetadata{offset=171068, leaderEpoch=null, metadata=''}, qatest12nonfes.public.user_summary_old-6=OffsetAndMetadata{offset=194806, leaderEpoch=null, metadata=''}, qatest12nonfes.public.user_summary_old-3=OffsetAndMetadata{offset=201131, leaderEpoch=null, metadata=''}, qatest12nonfes.public.user_summary_old-4=OffsetAndMetadata{offset=169495, leaderEpoch=null, metadata=''}, qatest12nonfes.public.user_summary_old-1=OffsetAndMetadata{offset=199521, leaderEpoch=null, metadata=''}, qatest12nonfes.public.user_summary_old-2=OffsetAndMetadata{offset=174686, leaderEpoch=null, metadata=''}, qatest12nonfes.public.user_summary_old-0=OffsetAndMetadata{offset=181743, leaderEpoch=null, metadata=''}}\n",
      "query inside Jar\n",
      "Query made progress: {qatest12nonfes.public.user_summary_old-9=OffsetAndMetadata{offset=185961, leaderEpoch=null, metadata=''}, qatest12nonfes.public.user_summary_old-7=OffsetAndMetadata{offset=191256, leaderEpoch=null, metadata=''}, qatest12nonfes.public.user_summary_old-8=OffsetAndMetadata{offset=189877, leaderEpoch=null, metadata=''}, qatest12nonfes.public.user_summary_old-5=OffsetAndMetadata{offset=171068, leaderEpoch=null, metadata=''}, qatest12nonfes.public.user_summary_old-6=OffsetAndMetadata{offset=194806, leaderEpoch=null, metadata=''}, qatest12nonfes.public.user_summary_old-3=OffsetAndMetadata{offset=201131, leaderEpoch=null, metadata=''}, qatest12nonfes.public.user_summary_old-4=OffsetAndMetadata{offset=169495, leaderEpoch=null, metadata=''}, qatest12nonfes.public.user_summary_old-1=OffsetAndMetadata{offset=199521, leaderEpoch=null, metadata=''}, qatest12nonfes.public.user_summary_old-2=OffsetAndMetadata{offset=174686, leaderEpoch=null, metadata=''}, qatest12nonfes.public.user_summary_old-0=OffsetAndMetadata{offset=181743, leaderEpoch=null, metadata=''}}\n",
      "query inside Jar\n",
      "Query made progress: {qatest12nonfes.public.user_summary_old-9=OffsetAndMetadata{offset=185961, leaderEpoch=null, metadata=''}, qatest12nonfes.public.user_summary_old-7=OffsetAndMetadata{offset=191256, leaderEpoch=null, metadata=''}, qatest12nonfes.public.user_summary_old-8=OffsetAndMetadata{offset=189877, leaderEpoch=null, metadata=''}, qatest12nonfes.public.user_summary_old-5=OffsetAndMetadata{offset=171068, leaderEpoch=null, metadata=''}, qatest12nonfes.public.user_summary_old-6=OffsetAndMetadata{offset=194806, leaderEpoch=null, metadata=''}, qatest12nonfes.public.user_summary_old-3=OffsetAndMetadata{offset=201131, leaderEpoch=null, metadata=''}, qatest12nonfes.public.user_summary_old-4=OffsetAndMetadata{offset=169495, leaderEpoch=null, metadata=''}, qatest12nonfes.public.user_summary_old-1=OffsetAndMetadata{offset=199521, leaderEpoch=null, metadata=''}, qatest12nonfes.public.user_summary_old-2=OffsetAndMetadata{offset=174686, leaderEpoch=null, metadata=''}, qatest12nonfes.public.user_summary_old-0=OffsetAndMetadata{offset=181743, leaderEpoch=null, metadata=''}}\n",
      "query inside Jar\n",
      "Query made progress: {qatest12nonfes.public.user_summary_old-9=OffsetAndMetadata{offset=185961, leaderEpoch=null, metadata=''}, qatest12nonfes.public.user_summary_old-7=OffsetAndMetadata{offset=191257, leaderEpoch=null, metadata=''}, qatest12nonfes.public.user_summary_old-8=OffsetAndMetadata{offset=189877, leaderEpoch=null, metadata=''}, qatest12nonfes.public.user_summary_old-5=OffsetAndMetadata{offset=171068, leaderEpoch=null, metadata=''}, qatest12nonfes.public.user_summary_old-6=OffsetAndMetadata{offset=194806, leaderEpoch=null, metadata=''}, qatest12nonfes.public.user_summary_old-3=OffsetAndMetadata{offset=201131, leaderEpoch=null, metadata=''}, qatest12nonfes.public.user_summary_old-4=OffsetAndMetadata{offset=169495, leaderEpoch=null, metadata=''}, qatest12nonfes.public.user_summary_old-1=OffsetAndMetadata{offset=199521, leaderEpoch=null, metadata=''}, qatest12nonfes.public.user_summary_old-2=OffsetAndMetadata{offset=174686, leaderEpoch=null, metadata=''}, qatest12nonfes.public.user_summary_old-0=OffsetAndMetadata{offset=181745, leaderEpoch=null, metadata=''}}\n",
      "query inside Jar\n",
      "Query made progress: {qatest12nonfes.public.user_summary_old-9=OffsetAndMetadata{offset=185961, leaderEpoch=null, metadata=''}, qatest12nonfes.public.user_summary_old-7=OffsetAndMetadata{offset=191257, leaderEpoch=null, metadata=''}, qatest12nonfes.public.user_summary_old-8=OffsetAndMetadata{offset=189877, leaderEpoch=null, metadata=''}, qatest12nonfes.public.user_summary_old-5=OffsetAndMetadata{offset=171068, leaderEpoch=null, metadata=''}, qatest12nonfes.public.user_summary_old-6=OffsetAndMetadata{offset=194806, leaderEpoch=null, metadata=''}, qatest12nonfes.public.user_summary_old-3=OffsetAndMetadata{offset=201131, leaderEpoch=null, metadata=''}, qatest12nonfes.public.user_summary_old-4=OffsetAndMetadata{offset=169495, leaderEpoch=null, metadata=''}, qatest12nonfes.public.user_summary_old-1=OffsetAndMetadata{offset=199521, leaderEpoch=null, metadata=''}, qatest12nonfes.public.user_summary_old-2=OffsetAndMetadata{offset=174686, leaderEpoch=null, metadata=''}, qatest12nonfes.public.user_summary_old-0=OffsetAndMetadata{offset=181745, leaderEpoch=null, metadata=''}}\n",
      "query inside Jar\n",
      "Query made progress: {qatest12nonfes.public.user_summary_old-9=OffsetAndMetadata{offset=185961, leaderEpoch=null, metadata=''}, qatest12nonfes.public.user_summary_old-7=OffsetAndMetadata{offset=191257, leaderEpoch=null, metadata=''}, qatest12nonfes.public.user_summary_old-8=OffsetAndMetadata{offset=189877, leaderEpoch=null, metadata=''}, qatest12nonfes.public.user_summary_old-5=OffsetAndMetadata{offset=171068, leaderEpoch=null, metadata=''}, qatest12nonfes.public.user_summary_old-6=OffsetAndMetadata{offset=194806, leaderEpoch=null, metadata=''}, qatest12nonfes.public.user_summary_old-3=OffsetAndMetadata{offset=201131, leaderEpoch=null, metadata=''}, qatest12nonfes.public.user_summary_old-4=OffsetAndMetadata{offset=169495, leaderEpoch=null, metadata=''}, qatest12nonfes.public.user_summary_old-1=OffsetAndMetadata{offset=199521, leaderEpoch=null, metadata=''}, qatest12nonfes.public.user_summary_old-2=OffsetAndMetadata{offset=174686, leaderEpoch=null, metadata=''}, qatest12nonfes.public.user_summary_old-0=OffsetAndMetadata{offset=181745, leaderEpoch=null, metadata=''}}\n",
      "query inside Jar\n",
      "Query made progress: {qatest12nonfes.public.user_summary_old-9=OffsetAndMetadata{offset=185961, leaderEpoch=null, metadata=''}, qatest12nonfes.public.user_summary_old-7=OffsetAndMetadata{offset=191257, leaderEpoch=null, metadata=''}, qatest12nonfes.public.user_summary_old-8=OffsetAndMetadata{offset=189877, leaderEpoch=null, metadata=''}, qatest12nonfes.public.user_summary_old-5=OffsetAndMetadata{offset=171068, leaderEpoch=null, metadata=''}, qatest12nonfes.public.user_summary_old-6=OffsetAndMetadata{offset=194806, leaderEpoch=null, metadata=''}, qatest12nonfes.public.user_summary_old-3=OffsetAndMetadata{offset=201131, leaderEpoch=null, metadata=''}, qatest12nonfes.public.user_summary_old-4=OffsetAndMetadata{offset=169495, leaderEpoch=null, metadata=''}, qatest12nonfes.public.user_summary_old-1=OffsetAndMetadata{offset=199521, leaderEpoch=null, metadata=''}, qatest12nonfes.public.user_summary_old-2=OffsetAndMetadata{offset=174686, leaderEpoch=null, metadata=''}, qatest12nonfes.public.user_summary_old-0=OffsetAndMetadata{offset=181745, leaderEpoch=null, metadata=''}}\n",
      "query inside Jar\n",
      "Query made progress: {qatest12nonfes.public.user_summary_old-9=OffsetAndMetadata{offset=185961, leaderEpoch=null, metadata=''}, qatest12nonfes.public.user_summary_old-7=OffsetAndMetadata{offset=191257, leaderEpoch=null, metadata=''}, qatest12nonfes.public.user_summary_old-8=OffsetAndMetadata{offset=189877, leaderEpoch=null, metadata=''}, qatest12nonfes.public.user_summary_old-5=OffsetAndMetadata{offset=171068, leaderEpoch=null, metadata=''}, qatest12nonfes.public.user_summary_old-6=OffsetAndMetadata{offset=194806, leaderEpoch=null, metadata=''}, qatest12nonfes.public.user_summary_old-3=OffsetAndMetadata{offset=201131, leaderEpoch=null, metadata=''}, qatest12nonfes.public.user_summary_old-4=OffsetAndMetadata{offset=169495, leaderEpoch=null, metadata=''}, qatest12nonfes.public.user_summary_old-1=OffsetAndMetadata{offset=199521, leaderEpoch=null, metadata=''}, qatest12nonfes.public.user_summary_old-2=OffsetAndMetadata{offset=174686, leaderEpoch=null, metadata=''}, qatest12nonfes.public.user_summary_old-0=OffsetAndMetadata{offset=181745, leaderEpoch=null, metadata=''}}\n",
      "query inside Jar\n",
      "Query made progress: {qatest12nonfes.public.user_summary_old-9=OffsetAndMetadata{offset=185961, leaderEpoch=null, metadata=''}, qatest12nonfes.public.user_summary_old-7=OffsetAndMetadata{offset=191257, leaderEpoch=null, metadata=''}, qatest12nonfes.public.user_summary_old-8=OffsetAndMetadata{offset=189877, leaderEpoch=null, metadata=''}, qatest12nonfes.public.user_summary_old-5=OffsetAndMetadata{offset=171068, leaderEpoch=null, metadata=''}, qatest12nonfes.public.user_summary_old-6=OffsetAndMetadata{offset=194806, leaderEpoch=null, metadata=''}, qatest12nonfes.public.user_summary_old-3=OffsetAndMetadata{offset=201131, leaderEpoch=null, metadata=''}, qatest12nonfes.public.user_summary_old-4=OffsetAndMetadata{offset=169495, leaderEpoch=null, metadata=''}, qatest12nonfes.public.user_summary_old-1=OffsetAndMetadata{offset=199521, leaderEpoch=null, metadata=''}, qatest12nonfes.public.user_summary_old-2=OffsetAndMetadata{offset=174686, leaderEpoch=null, metadata=''}, qatest12nonfes.public.user_summary_old-0=OffsetAndMetadata{offset=181745, leaderEpoch=null, metadata=''}}\n",
      "query inside Jar\n",
      "Query made progress: {qatest12nonfes.public.user_summary_old-9=OffsetAndMetadata{offset=185961, leaderEpoch=null, metadata=''}, qatest12nonfes.public.user_summary_old-7=OffsetAndMetadata{offset=191257, leaderEpoch=null, metadata=''}, qatest12nonfes.public.user_summary_old-8=OffsetAndMetadata{offset=189877, leaderEpoch=null, metadata=''}, qatest12nonfes.public.user_summary_old-5=OffsetAndMetadata{offset=171068, leaderEpoch=null, metadata=''}, qatest12nonfes.public.user_summary_old-6=OffsetAndMetadata{offset=194806, leaderEpoch=null, metadata=''}, qatest12nonfes.public.user_summary_old-3=OffsetAndMetadata{offset=201131, leaderEpoch=null, metadata=''}, qatest12nonfes.public.user_summary_old-4=OffsetAndMetadata{offset=169495, leaderEpoch=null, metadata=''}, qatest12nonfes.public.user_summary_old-1=OffsetAndMetadata{offset=199521, leaderEpoch=null, metadata=''}, qatest12nonfes.public.user_summary_old-2=OffsetAndMetadata{offset=174686, leaderEpoch=null, metadata=''}, qatest12nonfes.public.user_summary_old-0=OffsetAndMetadata{offset=181745, leaderEpoch=null, metadata=''}}\n",
      "query inside Jar\n",
      "Query made progress: {qatest12nonfes.public.user_summary_old-9=OffsetAndMetadata{offset=185961, leaderEpoch=null, metadata=''}, qatest12nonfes.public.user_summary_old-7=OffsetAndMetadata{offset=191257, leaderEpoch=null, metadata=''}, qatest12nonfes.public.user_summary_old-8=OffsetAndMetadata{offset=189877, leaderEpoch=null, metadata=''}, qatest12nonfes.public.user_summary_old-5=OffsetAndMetadata{offset=171068, leaderEpoch=null, metadata=''}, qatest12nonfes.public.user_summary_old-6=OffsetAndMetadata{offset=194806, leaderEpoch=null, metadata=''}, qatest12nonfes.public.user_summary_old-3=OffsetAndMetadata{offset=201131, leaderEpoch=null, metadata=''}, qatest12nonfes.public.user_summary_old-4=OffsetAndMetadata{offset=169495, leaderEpoch=null, metadata=''}, qatest12nonfes.public.user_summary_old-1=OffsetAndMetadata{offset=199521, leaderEpoch=null, metadata=''}, qatest12nonfes.public.user_summary_old-2=OffsetAndMetadata{offset=174686, leaderEpoch=null, metadata=''}, qatest12nonfes.public.user_summary_old-0=OffsetAndMetadata{offset=181745, leaderEpoch=null, metadata=''}}\n",
      "query inside Jar\n",
      "Query made progress: {qatest12nonfes.public.user_summary_old-9=OffsetAndMetadata{offset=185961, leaderEpoch=null, metadata=''}, qatest12nonfes.public.user_summary_old-7=OffsetAndMetadata{offset=191257, leaderEpoch=null, metadata=''}, qatest12nonfes.public.user_summary_old-8=OffsetAndMetadata{offset=189877, leaderEpoch=null, metadata=''}, qatest12nonfes.public.user_summary_old-5=OffsetAndMetadata{offset=171068, leaderEpoch=null, metadata=''}, qatest12nonfes.public.user_summary_old-6=OffsetAndMetadata{offset=194806, leaderEpoch=null, metadata=''}, qatest12nonfes.public.user_summary_old-3=OffsetAndMetadata{offset=201131, leaderEpoch=null, metadata=''}, qatest12nonfes.public.user_summary_old-4=OffsetAndMetadata{offset=169495, leaderEpoch=null, metadata=''}, qatest12nonfes.public.user_summary_old-1=OffsetAndMetadata{offset=199521, leaderEpoch=null, metadata=''}, qatest12nonfes.public.user_summary_old-2=OffsetAndMetadata{offset=174686, leaderEpoch=null, metadata=''}, qatest12nonfes.public.user_summary_old-0=OffsetAndMetadata{offset=181745, leaderEpoch=null, metadata=''}}\n",
      "query inside Jar\n",
      "Query made progress: {qatest12nonfes.public.user_summary_old-9=OffsetAndMetadata{offset=185961, leaderEpoch=null, metadata=''}, qatest12nonfes.public.user_summary_old-7=OffsetAndMetadata{offset=191257, leaderEpoch=null, metadata=''}, qatest12nonfes.public.user_summary_old-8=OffsetAndMetadata{offset=189877, leaderEpoch=null, metadata=''}, qatest12nonfes.public.user_summary_old-5=OffsetAndMetadata{offset=171068, leaderEpoch=null, metadata=''}, qatest12nonfes.public.user_summary_old-6=OffsetAndMetadata{offset=194806, leaderEpoch=null, metadata=''}, qatest12nonfes.public.user_summary_old-3=OffsetAndMetadata{offset=201131, leaderEpoch=null, metadata=''}, qatest12nonfes.public.user_summary_old-4=OffsetAndMetadata{offset=169495, leaderEpoch=null, metadata=''}, qatest12nonfes.public.user_summary_old-1=OffsetAndMetadata{offset=199521, leaderEpoch=null, metadata=''}, qatest12nonfes.public.user_summary_old-2=OffsetAndMetadata{offset=174686, leaderEpoch=null, metadata=''}, qatest12nonfes.public.user_summary_old-0=OffsetAndMetadata{offset=181745, leaderEpoch=null, metadata=''}}\n",
      "query inside Jar\n",
      "Query made progress: {qatest12nonfes.public.user_summary_old-9=OffsetAndMetadata{offset=185961, leaderEpoch=null, metadata=''}, qatest12nonfes.public.user_summary_old-7=OffsetAndMetadata{offset=191257, leaderEpoch=null, metadata=''}, qatest12nonfes.public.user_summary_old-8=OffsetAndMetadata{offset=189877, leaderEpoch=null, metadata=''}, qatest12nonfes.public.user_summary_old-5=OffsetAndMetadata{offset=171068, leaderEpoch=null, metadata=''}, qatest12nonfes.public.user_summary_old-6=OffsetAndMetadata{offset=194806, leaderEpoch=null, metadata=''}, qatest12nonfes.public.user_summary_old-3=OffsetAndMetadata{offset=201131, leaderEpoch=null, metadata=''}, qatest12nonfes.public.user_summary_old-4=OffsetAndMetadata{offset=169495, leaderEpoch=null, metadata=''}, qatest12nonfes.public.user_summary_old-1=OffsetAndMetadata{offset=199521, leaderEpoch=null, metadata=''}, qatest12nonfes.public.user_summary_old-2=OffsetAndMetadata{offset=174686, leaderEpoch=null, metadata=''}, qatest12nonfes.public.user_summary_old-0=OffsetAndMetadata{offset=181745, leaderEpoch=null, metadata=''}}\n",
      "query inside Jar\n",
      "Query made progress: {qatest12nonfes.public.user_summary_old-9=OffsetAndMetadata{offset=185961, leaderEpoch=null, metadata=''}, qatest12nonfes.public.user_summary_old-7=OffsetAndMetadata{offset=191257, leaderEpoch=null, metadata=''}, qatest12nonfes.public.user_summary_old-8=OffsetAndMetadata{offset=189877, leaderEpoch=null, metadata=''}, qatest12nonfes.public.user_summary_old-5=OffsetAndMetadata{offset=171068, leaderEpoch=null, metadata=''}, qatest12nonfes.public.user_summary_old-6=OffsetAndMetadata{offset=194806, leaderEpoch=null, metadata=''}, qatest12nonfes.public.user_summary_old-3=OffsetAndMetadata{offset=201131, leaderEpoch=null, metadata=''}, qatest12nonfes.public.user_summary_old-4=OffsetAndMetadata{offset=169495, leaderEpoch=null, metadata=''}, qatest12nonfes.public.user_summary_old-1=OffsetAndMetadata{offset=199521, leaderEpoch=null, metadata=''}, qatest12nonfes.public.user_summary_old-2=OffsetAndMetadata{offset=174686, leaderEpoch=null, metadata=''}, qatest12nonfes.public.user_summary_old-0=OffsetAndMetadata{offset=181745, leaderEpoch=null, metadata=''}}\n",
      "query inside Jar\n",
      "Query made progress: {qatest12nonfes.public.user_summary_old-9=OffsetAndMetadata{offset=185961, leaderEpoch=null, metadata=''}, qatest12nonfes.public.user_summary_old-7=OffsetAndMetadata{offset=191257, leaderEpoch=null, metadata=''}, qatest12nonfes.public.user_summary_old-8=OffsetAndMetadata{offset=189877, leaderEpoch=null, metadata=''}, qatest12nonfes.public.user_summary_old-5=OffsetAndMetadata{offset=171068, leaderEpoch=null, metadata=''}, qatest12nonfes.public.user_summary_old-6=OffsetAndMetadata{offset=194806, leaderEpoch=null, metadata=''}, qatest12nonfes.public.user_summary_old-3=OffsetAndMetadata{offset=201131, leaderEpoch=null, metadata=''}, qatest12nonfes.public.user_summary_old-4=OffsetAndMetadata{offset=169495, leaderEpoch=null, metadata=''}, qatest12nonfes.public.user_summary_old-1=OffsetAndMetadata{offset=199521, leaderEpoch=null, metadata=''}, qatest12nonfes.public.user_summary_old-2=OffsetAndMetadata{offset=174686, leaderEpoch=null, metadata=''}, qatest12nonfes.public.user_summary_old-0=OffsetAndMetadata{offset=181745, leaderEpoch=null, metadata=''}}\n",
      "query inside Jar\n",
      "Query made progress: {qatest12nonfes.public.user_summary_old-9=OffsetAndMetadata{offset=185961, leaderEpoch=null, metadata=''}, qatest12nonfes.public.user_summary_old-7=OffsetAndMetadata{offset=191257, leaderEpoch=null, metadata=''}, qatest12nonfes.public.user_summary_old-8=OffsetAndMetadata{offset=189877, leaderEpoch=null, metadata=''}, qatest12nonfes.public.user_summary_old-5=OffsetAndMetadata{offset=171068, leaderEpoch=null, metadata=''}, qatest12nonfes.public.user_summary_old-6=OffsetAndMetadata{offset=194806, leaderEpoch=null, metadata=''}, qatest12nonfes.public.user_summary_old-3=OffsetAndMetadata{offset=201131, leaderEpoch=null, metadata=''}, qatest12nonfes.public.user_summary_old-4=OffsetAndMetadata{offset=169495, leaderEpoch=null, metadata=''}, qatest12nonfes.public.user_summary_old-1=OffsetAndMetadata{offset=199521, leaderEpoch=null, metadata=''}, qatest12nonfes.public.user_summary_old-2=OffsetAndMetadata{offset=174686, leaderEpoch=null, metadata=''}, qatest12nonfes.public.user_summary_old-0=OffsetAndMetadata{offset=181745, leaderEpoch=null, metadata=''}}\n",
      "query inside Jar\n",
      "Query made progress: {qatest12nonfes.public.user_summary_old-9=OffsetAndMetadata{offset=185961, leaderEpoch=null, metadata=''}, qatest12nonfes.public.user_summary_old-7=OffsetAndMetadata{offset=191257, leaderEpoch=null, metadata=''}, qatest12nonfes.public.user_summary_old-8=OffsetAndMetadata{offset=189877, leaderEpoch=null, metadata=''}, qatest12nonfes.public.user_summary_old-5=OffsetAndMetadata{offset=171068, leaderEpoch=null, metadata=''}, qatest12nonfes.public.user_summary_old-6=OffsetAndMetadata{offset=194806, leaderEpoch=null, metadata=''}, qatest12nonfes.public.user_summary_old-3=OffsetAndMetadata{offset=201131, leaderEpoch=null, metadata=''}, qatest12nonfes.public.user_summary_old-4=OffsetAndMetadata{offset=169495, leaderEpoch=null, metadata=''}, qatest12nonfes.public.user_summary_old-1=OffsetAndMetadata{offset=199521, leaderEpoch=null, metadata=''}, qatest12nonfes.public.user_summary_old-2=OffsetAndMetadata{offset=174686, leaderEpoch=null, metadata=''}, qatest12nonfes.public.user_summary_old-0=OffsetAndMetadata{offset=181745, leaderEpoch=null, metadata=''}}\n",
      "query inside Jar\n",
      "Query made progress: {qatest12nonfes.public.user_summary_old-9=OffsetAndMetadata{offset=185961, leaderEpoch=null, metadata=''}, qatest12nonfes.public.user_summary_old-7=OffsetAndMetadata{offset=191257, leaderEpoch=null, metadata=''}, qatest12nonfes.public.user_summary_old-8=OffsetAndMetadata{offset=189877, leaderEpoch=null, metadata=''}, qatest12nonfes.public.user_summary_old-5=OffsetAndMetadata{offset=171068, leaderEpoch=null, metadata=''}, qatest12nonfes.public.user_summary_old-6=OffsetAndMetadata{offset=194806, leaderEpoch=null, metadata=''}, qatest12nonfes.public.user_summary_old-3=OffsetAndMetadata{offset=201131, leaderEpoch=null, metadata=''}, qatest12nonfes.public.user_summary_old-4=OffsetAndMetadata{offset=169495, leaderEpoch=null, metadata=''}, qatest12nonfes.public.user_summary_old-1=OffsetAndMetadata{offset=199521, leaderEpoch=null, metadata=''}, qatest12nonfes.public.user_summary_old-2=OffsetAndMetadata{offset=174686, leaderEpoch=null, metadata=''}, qatest12nonfes.public.user_summary_old-0=OffsetAndMetadata{offset=181745, leaderEpoch=null, metadata=''}}\n",
      "query inside Jar\n",
      "Query made progress: {qatest12nonfes.public.user_summary_old-9=OffsetAndMetadata{offset=185961, leaderEpoch=null, metadata=''}, qatest12nonfes.public.user_summary_old-7=OffsetAndMetadata{offset=191257, leaderEpoch=null, metadata=''}, qatest12nonfes.public.user_summary_old-8=OffsetAndMetadata{offset=189877, leaderEpoch=null, metadata=''}, qatest12nonfes.public.user_summary_old-5=OffsetAndMetadata{offset=171068, leaderEpoch=null, metadata=''}, qatest12nonfes.public.user_summary_old-6=OffsetAndMetadata{offset=194806, leaderEpoch=null, metadata=''}, qatest12nonfes.public.user_summary_old-3=OffsetAndMetadata{offset=201131, leaderEpoch=null, metadata=''}, qatest12nonfes.public.user_summary_old-4=OffsetAndMetadata{offset=169495, leaderEpoch=null, metadata=''}, qatest12nonfes.public.user_summary_old-1=OffsetAndMetadata{offset=199521, leaderEpoch=null, metadata=''}, qatest12nonfes.public.user_summary_old-2=OffsetAndMetadata{offset=174686, leaderEpoch=null, metadata=''}, qatest12nonfes.public.user_summary_old-0=OffsetAndMetadata{offset=181745, leaderEpoch=null, metadata=''}}\n",
      "query inside Jar\n",
      "Query made progress: {qatest12nonfes.public.user_summary_old-9=OffsetAndMetadata{offset=185961, leaderEpoch=null, metadata=''}, qatest12nonfes.public.user_summary_old-7=OffsetAndMetadata{offset=191257, leaderEpoch=null, metadata=''}, qatest12nonfes.public.user_summary_old-8=OffsetAndMetadata{offset=189877, leaderEpoch=null, metadata=''}, qatest12nonfes.public.user_summary_old-5=OffsetAndMetadata{offset=171068, leaderEpoch=null, metadata=''}, qatest12nonfes.public.user_summary_old-6=OffsetAndMetadata{offset=194806, leaderEpoch=null, metadata=''}, qatest12nonfes.public.user_summary_old-3=OffsetAndMetadata{offset=201131, leaderEpoch=null, metadata=''}, qatest12nonfes.public.user_summary_old-4=OffsetAndMetadata{offset=169495, leaderEpoch=null, metadata=''}, qatest12nonfes.public.user_summary_old-1=OffsetAndMetadata{offset=199521, leaderEpoch=null, metadata=''}, qatest12nonfes.public.user_summary_old-2=OffsetAndMetadata{offset=174686, leaderEpoch=null, metadata=''}, qatest12nonfes.public.user_summary_old-0=OffsetAndMetadata{offset=181745, leaderEpoch=null, metadata=''}}\n",
      "query inside Jar\n",
      "Query made progress: {qatest12nonfes.public.user_summary_old-9=OffsetAndMetadata{offset=185961, leaderEpoch=null, metadata=''}, qatest12nonfes.public.user_summary_old-7=OffsetAndMetadata{offset=191257, leaderEpoch=null, metadata=''}, qatest12nonfes.public.user_summary_old-8=OffsetAndMetadata{offset=189877, leaderEpoch=null, metadata=''}, qatest12nonfes.public.user_summary_old-5=OffsetAndMetadata{offset=171068, leaderEpoch=null, metadata=''}, qatest12nonfes.public.user_summary_old-6=OffsetAndMetadata{offset=194806, leaderEpoch=null, metadata=''}, qatest12nonfes.public.user_summary_old-3=OffsetAndMetadata{offset=201131, leaderEpoch=null, metadata=''}, qatest12nonfes.public.user_summary_old-4=OffsetAndMetadata{offset=169495, leaderEpoch=null, metadata=''}, qatest12nonfes.public.user_summary_old-1=OffsetAndMetadata{offset=199521, leaderEpoch=null, metadata=''}, qatest12nonfes.public.user_summary_old-2=OffsetAndMetadata{offset=174686, leaderEpoch=null, metadata=''}, qatest12nonfes.public.user_summary_old-0=OffsetAndMetadata{offset=181745, leaderEpoch=null, metadata=''}}\n",
      "query inside Jar\n",
      "Query made progress: {qatest12nonfes.public.user_summary_old-9=OffsetAndMetadata{offset=185961, leaderEpoch=null, metadata=''}, qatest12nonfes.public.user_summary_old-7=OffsetAndMetadata{offset=191257, leaderEpoch=null, metadata=''}, qatest12nonfes.public.user_summary_old-8=OffsetAndMetadata{offset=189877, leaderEpoch=null, metadata=''}, qatest12nonfes.public.user_summary_old-5=OffsetAndMetadata{offset=171068, leaderEpoch=null, metadata=''}, qatest12nonfes.public.user_summary_old-6=OffsetAndMetadata{offset=194806, leaderEpoch=null, metadata=''}, qatest12nonfes.public.user_summary_old-3=OffsetAndMetadata{offset=201131, leaderEpoch=null, metadata=''}, qatest12nonfes.public.user_summary_old-4=OffsetAndMetadata{offset=169495, leaderEpoch=null, metadata=''}, qatest12nonfes.public.user_summary_old-1=OffsetAndMetadata{offset=199521, leaderEpoch=null, metadata=''}, qatest12nonfes.public.user_summary_old-2=OffsetAndMetadata{offset=174686, leaderEpoch=null, metadata=''}, qatest12nonfes.public.user_summary_old-0=OffsetAndMetadata{offset=181745, leaderEpoch=null, metadata=''}}\n",
      "query inside Jar\n",
      "Query made progress: {qatest12nonfes.public.user_summary_old-9=OffsetAndMetadata{offset=185961, leaderEpoch=null, metadata=''}, qatest12nonfes.public.user_summary_old-7=OffsetAndMetadata{offset=191257, leaderEpoch=null, metadata=''}, qatest12nonfes.public.user_summary_old-8=OffsetAndMetadata{offset=189877, leaderEpoch=null, metadata=''}, qatest12nonfes.public.user_summary_old-5=OffsetAndMetadata{offset=171068, leaderEpoch=null, metadata=''}, qatest12nonfes.public.user_summary_old-6=OffsetAndMetadata{offset=194806, leaderEpoch=null, metadata=''}, qatest12nonfes.public.user_summary_old-3=OffsetAndMetadata{offset=201131, leaderEpoch=null, metadata=''}, qatest12nonfes.public.user_summary_old-4=OffsetAndMetadata{offset=169495, leaderEpoch=null, metadata=''}, qatest12nonfes.public.user_summary_old-1=OffsetAndMetadata{offset=199521, leaderEpoch=null, metadata=''}, qatest12nonfes.public.user_summary_old-2=OffsetAndMetadata{offset=174686, leaderEpoch=null, metadata=''}, qatest12nonfes.public.user_summary_old-0=OffsetAndMetadata{offset=181745, leaderEpoch=null, metadata=''}}\n",
      "query inside Jar\n",
      "datalake-qa-91"
     ]
    },
    {
     "name": "stderr",
     "output_type": "stream",
     "text": [
      "                                                                                \r"
     ]
    },
    {
     "name": "stdout",
     "output_type": "stream",
     "text": [
      "+--------------------+--------------------+---------+------+--------------------+-------------+--------+--------------------+--------------------+\n",
      "|                 key|               topic|partition|offset|           timestamp|timestampType|schemaId|             payload|  valueConsumerKafka|\n",
      "+--------------------+--------------------+---------+------+--------------------+-------------+--------+--------------------+--------------------+\n",
      "|[00 00 00 07 32 8...|qatest12nonfes.pu...|        0|181745|2022-03-08 07:47:...|            0|    3737|[00 02 82 CD 2C F...|[, [365377, 3834,...|\n",
      "+--------------------+--------------------+---------+------+--------------------+-------------+--------+--------------------+--------------------+\n",
      "\n",
      "starting point\n",
      "2022-03-08 07:47:31.322266\n",
      "total partitions are\n",
      "Query made progress: {qatest12nonfes.public.user_summary_old-9=OffsetAndMetadata{offset=185961, leaderEpoch=null, metadata=''}, qatest12nonfes.public.user_summary_old-7=OffsetAndMetadata{offset=191257, leaderEpoch=null, metadata=''}, qatest12nonfes.public.user_summary_old-8=OffsetAndMetadata{offset=189877, leaderEpoch=null, metadata=''}, qatest12nonfes.public.user_summary_old-5=OffsetAndMetadata{offset=171068, leaderEpoch=null, metadata=''}, qatest12nonfes.public.user_summary_old-6=OffsetAndMetadata{offset=194806, leaderEpoch=null, metadata=''}, qatest12nonfes.public.user_summary_old-3=OffsetAndMetadata{offset=201131, leaderEpoch=null, metadata=''}, qatest12nonfes.public.user_summary_old-4=OffsetAndMetadata{offset=169495, leaderEpoch=null, metadata=''}, qatest12nonfes.public.user_summary_old-1=OffsetAndMetadata{offset=199521, leaderEpoch=null, metadata=''}, qatest12nonfes.public.user_summary_old-2=OffsetAndMetadata{offset=174686, leaderEpoch=null, metadata=''}, qatest12nonfes.public.user_summary_old-0=OffsetAndMetadata{offset=181745, leaderEpoch=null, metadata=''}}\n",
      "query inside Jar\n",
      "1\n",
      "1\n",
      "2022-03-08 07:47:31.509798\n",
      "created_at\n",
      "user_summary_old\n"
     ]
    },
    {
     "name": "stderr",
     "output_type": "stream",
     "text": [
      "                                                                                \r"
     ]
    },
    {
     "name": "stdout",
     "output_type": "stream",
     "text": [
      "Query made progress: {qatest12nonfes.public.user_summary_old-9=OffsetAndMetadata{offset=185961, leaderEpoch=null, metadata=''}, qatest12nonfes.public.user_summary_old-7=OffsetAndMetadata{offset=191257, leaderEpoch=null, metadata=''}, qatest12nonfes.public.user_summary_old-8=OffsetAndMetadata{offset=189877, leaderEpoch=null, metadata=''}, qatest12nonfes.public.user_summary_old-5=OffsetAndMetadata{offset=171068, leaderEpoch=null, metadata=''}, qatest12nonfes.public.user_summary_old-6=OffsetAndMetadata{offset=194806, leaderEpoch=null, metadata=''}, qatest12nonfes.public.user_summary_old-3=OffsetAndMetadata{offset=201131, leaderEpoch=null, metadata=''}, qatest12nonfes.public.user_summary_old-4=OffsetAndMetadata{offset=169495, leaderEpoch=null, metadata=''}, qatest12nonfes.public.user_summary_old-1=OffsetAndMetadata{offset=199521, leaderEpoch=null, metadata=''}, qatest12nonfes.public.user_summary_old-2=OffsetAndMetadata{offset=174686, leaderEpoch=null, metadata=''}, qatest12nonfes.public.user_summary_old-0=OffsetAndMetadata{offset=181745, leaderEpoch=null, metadata=''}}\n",
      "query inside Jar\n",
      "Query made progress: {qatest12nonfes.public.user_summary_old-9=OffsetAndMetadata{offset=185961, leaderEpoch=null, metadata=''}, qatest12nonfes.public.user_summary_old-7=OffsetAndMetadata{offset=191257, leaderEpoch=null, metadata=''}, qatest12nonfes.public.user_summary_old-8=OffsetAndMetadata{offset=189877, leaderEpoch=null, metadata=''}, qatest12nonfes.public.user_summary_old-5=OffsetAndMetadata{offset=171068, leaderEpoch=null, metadata=''}, qatest12nonfes.public.user_summary_old-6=OffsetAndMetadata{offset=194806, leaderEpoch=null, metadata=''}, qatest12nonfes.public.user_summary_old-3=OffsetAndMetadata{offset=201131, leaderEpoch=null, metadata=''}, qatest12nonfes.public.user_summary_old-4=OffsetAndMetadata{offset=169495, leaderEpoch=null, metadata=''}, qatest12nonfes.public.user_summary_old-1=OffsetAndMetadata{offset=199521, leaderEpoch=null, metadata=''}, qatest12nonfes.public.user_summary_old-2=OffsetAndMetadata{offset=174686, leaderEpoch=null, metadata=''}, qatest12nonfes.public.user_summary_old-0=OffsetAndMetadata{offset=181745, leaderEpoch=null, metadata=''}}\n",
      "query inside Jar\n"
     ]
    },
    {
     "name": "stderr",
     "output_type": "stream",
     "text": [
      "                                                                                \r"
     ]
    },
    {
     "name": "stdout",
     "output_type": "stream",
     "text": [
      "checkpoint 1\n",
      "after merge\n",
      "2022-03-08 07:47:34.101626\n",
      "Query made progress: {qatest12nonfes.public.user_summary_old-9=OffsetAndMetadata{offset=185961, leaderEpoch=null, metadata=''}, qatest12nonfes.public.user_summary_old-7=OffsetAndMetadata{offset=191257, leaderEpoch=null, metadata=''}, qatest12nonfes.public.user_summary_old-8=OffsetAndMetadata{offset=189877, leaderEpoch=null, metadata=''}, qatest12nonfes.public.user_summary_old-5=OffsetAndMetadata{offset=171068, leaderEpoch=null, metadata=''}, qatest12nonfes.public.user_summary_old-6=OffsetAndMetadata{offset=194806, leaderEpoch=null, metadata=''}, qatest12nonfes.public.user_summary_old-3=OffsetAndMetadata{offset=201131, leaderEpoch=null, metadata=''}, qatest12nonfes.public.user_summary_old-4=OffsetAndMetadata{offset=169495, leaderEpoch=null, metadata=''}, qatest12nonfes.public.user_summary_old-1=OffsetAndMetadata{offset=199521, leaderEpoch=null, metadata=''}, qatest12nonfes.public.user_summary_old-2=OffsetAndMetadata{offset=174686, leaderEpoch=null, metadata=''}, qatest12nonfes.public.user_summary_old-0=OffsetAndMetadata{offset=181745, leaderEpoch=null, metadata=''}}\n",
      "query inside Jar\n",
      "Query made progress: {qatest12nonfes.public.user_summary_old-9=OffsetAndMetadata{offset=185961, leaderEpoch=null, metadata=''}, qatest12nonfes.public.user_summary_old-7=OffsetAndMetadata{offset=191257, leaderEpoch=null, metadata=''}, qatest12nonfes.public.user_summary_old-8=OffsetAndMetadata{offset=189877, leaderEpoch=null, metadata=''}, qatest12nonfes.public.user_summary_old-5=OffsetAndMetadata{offset=171068, leaderEpoch=null, metadata=''}, qatest12nonfes.public.user_summary_old-6=OffsetAndMetadata{offset=194806, leaderEpoch=null, metadata=''}, qatest12nonfes.public.user_summary_old-3=OffsetAndMetadata{offset=201131, leaderEpoch=null, metadata=''}, qatest12nonfes.public.user_summary_old-4=OffsetAndMetadata{offset=169495, leaderEpoch=null, metadata=''}, qatest12nonfes.public.user_summary_old-1=OffsetAndMetadata{offset=199521, leaderEpoch=null, metadata=''}, qatest12nonfes.public.user_summary_old-2=OffsetAndMetadata{offset=174686, leaderEpoch=null, metadata=''}, qatest12nonfes.public.user_summary_old-0=OffsetAndMetadata{offset=181745, leaderEpoch=null, metadata=''}}\n",
      "query inside Jar\n",
      "Query made progress: {qatest12nonfes.public.user_summary_old-9=OffsetAndMetadata{offset=185961, leaderEpoch=null, metadata=''}, qatest12nonfes.public.user_summary_old-7=OffsetAndMetadata{offset=191257, leaderEpoch=null, metadata=''}, qatest12nonfes.public.user_summary_old-8=OffsetAndMetadata{offset=189877, leaderEpoch=null, metadata=''}, qatest12nonfes.public.user_summary_old-5=OffsetAndMetadata{offset=171068, leaderEpoch=null, metadata=''}, qatest12nonfes.public.user_summary_old-6=OffsetAndMetadata{offset=194806, leaderEpoch=null, metadata=''}, qatest12nonfes.public.user_summary_old-3=OffsetAndMetadata{offset=201131, leaderEpoch=null, metadata=''}, qatest12nonfes.public.user_summary_old-4=OffsetAndMetadata{offset=169495, leaderEpoch=null, metadata=''}, qatest12nonfes.public.user_summary_old-1=OffsetAndMetadata{offset=199521, leaderEpoch=null, metadata=''}, qatest12nonfes.public.user_summary_old-2=OffsetAndMetadata{offset=174686, leaderEpoch=null, metadata=''}, qatest12nonfes.public.user_summary_old-0=OffsetAndMetadata{offset=181745, leaderEpoch=null, metadata=''}}\n",
      "query inside Jar\n",
      "Query made progress: {qatest12nonfes.public.user_summary_old-9=OffsetAndMetadata{offset=185961, leaderEpoch=null, metadata=''}, qatest12nonfes.public.user_summary_old-7=OffsetAndMetadata{offset=191257, leaderEpoch=null, metadata=''}, qatest12nonfes.public.user_summary_old-8=OffsetAndMetadata{offset=189877, leaderEpoch=null, metadata=''}, qatest12nonfes.public.user_summary_old-5=OffsetAndMetadata{offset=171068, leaderEpoch=null, metadata=''}, qatest12nonfes.public.user_summary_old-6=OffsetAndMetadata{offset=194806, leaderEpoch=null, metadata=''}, qatest12nonfes.public.user_summary_old-3=OffsetAndMetadata{offset=201131, leaderEpoch=null, metadata=''}, qatest12nonfes.public.user_summary_old-4=OffsetAndMetadata{offset=169495, leaderEpoch=null, metadata=''}, qatest12nonfes.public.user_summary_old-1=OffsetAndMetadata{offset=199521, leaderEpoch=null, metadata=''}, qatest12nonfes.public.user_summary_old-2=OffsetAndMetadata{offset=174686, leaderEpoch=null, metadata=''}, qatest12nonfes.public.user_summary_old-0=OffsetAndMetadata{offset=181745, leaderEpoch=null, metadata=''}}\n",
      "query inside Jar\n",
      "Query made progress: {qatest12nonfes.public.user_summary_old-9=OffsetAndMetadata{offset=185961, leaderEpoch=null, metadata=''}, qatest12nonfes.public.user_summary_old-7=OffsetAndMetadata{offset=191257, leaderEpoch=null, metadata=''}, qatest12nonfes.public.user_summary_old-8=OffsetAndMetadata{offset=189877, leaderEpoch=null, metadata=''}, qatest12nonfes.public.user_summary_old-5=OffsetAndMetadata{offset=171068, leaderEpoch=null, metadata=''}, qatest12nonfes.public.user_summary_old-6=OffsetAndMetadata{offset=194806, leaderEpoch=null, metadata=''}, qatest12nonfes.public.user_summary_old-3=OffsetAndMetadata{offset=201131, leaderEpoch=null, metadata=''}, qatest12nonfes.public.user_summary_old-4=OffsetAndMetadata{offset=169495, leaderEpoch=null, metadata=''}, qatest12nonfes.public.user_summary_old-1=OffsetAndMetadata{offset=199521, leaderEpoch=null, metadata=''}, qatest12nonfes.public.user_summary_old-2=OffsetAndMetadata{offset=174686, leaderEpoch=null, metadata=''}, qatest12nonfes.public.user_summary_old-0=OffsetAndMetadata{offset=181745, leaderEpoch=null, metadata=''}}\n",
      "query inside Jar\n",
      "Query made progress: {qatest12nonfes.public.user_summary_old-9=OffsetAndMetadata{offset=185961, leaderEpoch=null, metadata=''}, qatest12nonfes.public.user_summary_old-7=OffsetAndMetadata{offset=191257, leaderEpoch=null, metadata=''}, qatest12nonfes.public.user_summary_old-8=OffsetAndMetadata{offset=189877, leaderEpoch=null, metadata=''}, qatest12nonfes.public.user_summary_old-5=OffsetAndMetadata{offset=171068, leaderEpoch=null, metadata=''}, qatest12nonfes.public.user_summary_old-6=OffsetAndMetadata{offset=194806, leaderEpoch=null, metadata=''}, qatest12nonfes.public.user_summary_old-3=OffsetAndMetadata{offset=201131, leaderEpoch=null, metadata=''}, qatest12nonfes.public.user_summary_old-4=OffsetAndMetadata{offset=169495, leaderEpoch=null, metadata=''}, qatest12nonfes.public.user_summary_old-1=OffsetAndMetadata{offset=199521, leaderEpoch=null, metadata=''}, qatest12nonfes.public.user_summary_old-2=OffsetAndMetadata{offset=174686, leaderEpoch=null, metadata=''}, qatest12nonfes.public.user_summary_old-0=OffsetAndMetadata{offset=181745, leaderEpoch=null, metadata=''}}\n",
      "query inside Jar\n",
      "Query made progress: {qatest12nonfes.public.user_summary_old-9=OffsetAndMetadata{offset=185961, leaderEpoch=null, metadata=''}, qatest12nonfes.public.user_summary_old-7=OffsetAndMetadata{offset=191257, leaderEpoch=null, metadata=''}, qatest12nonfes.public.user_summary_old-8=OffsetAndMetadata{offset=189877, leaderEpoch=null, metadata=''}, qatest12nonfes.public.user_summary_old-5=OffsetAndMetadata{offset=171068, leaderEpoch=null, metadata=''}, qatest12nonfes.public.user_summary_old-6=OffsetAndMetadata{offset=194806, leaderEpoch=null, metadata=''}, qatest12nonfes.public.user_summary_old-3=OffsetAndMetadata{offset=201131, leaderEpoch=null, metadata=''}, qatest12nonfes.public.user_summary_old-4=OffsetAndMetadata{offset=169495, leaderEpoch=null, metadata=''}, qatest12nonfes.public.user_summary_old-1=OffsetAndMetadata{offset=199521, leaderEpoch=null, metadata=''}, qatest12nonfes.public.user_summary_old-2=OffsetAndMetadata{offset=174686, leaderEpoch=null, metadata=''}, qatest12nonfes.public.user_summary_old-0=OffsetAndMetadata{offset=181745, leaderEpoch=null, metadata=''}}\n",
      "query inside Jar\n",
      "Query made progress: {qatest12nonfes.public.user_summary_old-9=OffsetAndMetadata{offset=185961, leaderEpoch=null, metadata=''}, qatest12nonfes.public.user_summary_old-7=OffsetAndMetadata{offset=191257, leaderEpoch=null, metadata=''}, qatest12nonfes.public.user_summary_old-8=OffsetAndMetadata{offset=189877, leaderEpoch=null, metadata=''}, qatest12nonfes.public.user_summary_old-5=OffsetAndMetadata{offset=171068, leaderEpoch=null, metadata=''}, qatest12nonfes.public.user_summary_old-6=OffsetAndMetadata{offset=194806, leaderEpoch=null, metadata=''}, qatest12nonfes.public.user_summary_old-3=OffsetAndMetadata{offset=201131, leaderEpoch=null, metadata=''}, qatest12nonfes.public.user_summary_old-4=OffsetAndMetadata{offset=169495, leaderEpoch=null, metadata=''}, qatest12nonfes.public.user_summary_old-1=OffsetAndMetadata{offset=199521, leaderEpoch=null, metadata=''}, qatest12nonfes.public.user_summary_old-2=OffsetAndMetadata{offset=174686, leaderEpoch=null, metadata=''}, qatest12nonfes.public.user_summary_old-0=OffsetAndMetadata{offset=181745, leaderEpoch=null, metadata=''}}\n",
      "query inside Jar\n",
      "Query made progress: {qatest12nonfes.public.user_summary_old-9=OffsetAndMetadata{offset=185961, leaderEpoch=null, metadata=''}, qatest12nonfes.public.user_summary_old-7=OffsetAndMetadata{offset=191257, leaderEpoch=null, metadata=''}, qatest12nonfes.public.user_summary_old-8=OffsetAndMetadata{offset=189877, leaderEpoch=null, metadata=''}, qatest12nonfes.public.user_summary_old-5=OffsetAndMetadata{offset=171068, leaderEpoch=null, metadata=''}, qatest12nonfes.public.user_summary_old-6=OffsetAndMetadata{offset=194806, leaderEpoch=null, metadata=''}, qatest12nonfes.public.user_summary_old-3=OffsetAndMetadata{offset=201131, leaderEpoch=null, metadata=''}, qatest12nonfes.public.user_summary_old-4=OffsetAndMetadata{offset=169495, leaderEpoch=null, metadata=''}, qatest12nonfes.public.user_summary_old-1=OffsetAndMetadata{offset=199521, leaderEpoch=null, metadata=''}, qatest12nonfes.public.user_summary_old-2=OffsetAndMetadata{offset=174686, leaderEpoch=null, metadata=''}, qatest12nonfes.public.user_summary_old-0=OffsetAndMetadata{offset=181745, leaderEpoch=null, metadata=''}}\n",
      "query inside Jar\n",
      "Query made progress: {qatest12nonfes.public.user_summary_old-9=OffsetAndMetadata{offset=185961, leaderEpoch=null, metadata=''}, qatest12nonfes.public.user_summary_old-7=OffsetAndMetadata{offset=191257, leaderEpoch=null, metadata=''}, qatest12nonfes.public.user_summary_old-8=OffsetAndMetadata{offset=189877, leaderEpoch=null, metadata=''}, qatest12nonfes.public.user_summary_old-5=OffsetAndMetadata{offset=171068, leaderEpoch=null, metadata=''}, qatest12nonfes.public.user_summary_old-6=OffsetAndMetadata{offset=194806, leaderEpoch=null, metadata=''}, qatest12nonfes.public.user_summary_old-3=OffsetAndMetadata{offset=201131, leaderEpoch=null, metadata=''}, qatest12nonfes.public.user_summary_old-4=OffsetAndMetadata{offset=169495, leaderEpoch=null, metadata=''}, qatest12nonfes.public.user_summary_old-1=OffsetAndMetadata{offset=199521, leaderEpoch=null, metadata=''}, qatest12nonfes.public.user_summary_old-2=OffsetAndMetadata{offset=174686, leaderEpoch=null, metadata=''}, qatest12nonfes.public.user_summary_old-0=OffsetAndMetadata{offset=181745, leaderEpoch=null, metadata=''}}\n",
      "query inside Jar\n",
      "Query made progress: {qatest12nonfes.public.user_summary_old-9=OffsetAndMetadata{offset=185961, leaderEpoch=null, metadata=''}, qatest12nonfes.public.user_summary_old-7=OffsetAndMetadata{offset=191257, leaderEpoch=null, metadata=''}, qatest12nonfes.public.user_summary_old-8=OffsetAndMetadata{offset=189877, leaderEpoch=null, metadata=''}, qatest12nonfes.public.user_summary_old-5=OffsetAndMetadata{offset=171068, leaderEpoch=null, metadata=''}, qatest12nonfes.public.user_summary_old-6=OffsetAndMetadata{offset=194806, leaderEpoch=null, metadata=''}, qatest12nonfes.public.user_summary_old-3=OffsetAndMetadata{offset=201131, leaderEpoch=null, metadata=''}, qatest12nonfes.public.user_summary_old-4=OffsetAndMetadata{offset=169495, leaderEpoch=null, metadata=''}, qatest12nonfes.public.user_summary_old-1=OffsetAndMetadata{offset=199521, leaderEpoch=null, metadata=''}, qatest12nonfes.public.user_summary_old-2=OffsetAndMetadata{offset=174686, leaderEpoch=null, metadata=''}, qatest12nonfes.public.user_summary_old-0=OffsetAndMetadata{offset=181745, leaderEpoch=null, metadata=''}}\n",
      "query inside Jar\n",
      "Query made progress: {qatest12nonfes.public.user_summary_old-9=OffsetAndMetadata{offset=185961, leaderEpoch=null, metadata=''}, qatest12nonfes.public.user_summary_old-7=OffsetAndMetadata{offset=191257, leaderEpoch=null, metadata=''}, qatest12nonfes.public.user_summary_old-8=OffsetAndMetadata{offset=189877, leaderEpoch=null, metadata=''}, qatest12nonfes.public.user_summary_old-5=OffsetAndMetadata{offset=171068, leaderEpoch=null, metadata=''}, qatest12nonfes.public.user_summary_old-6=OffsetAndMetadata{offset=194806, leaderEpoch=null, metadata=''}, qatest12nonfes.public.user_summary_old-3=OffsetAndMetadata{offset=201131, leaderEpoch=null, metadata=''}, qatest12nonfes.public.user_summary_old-4=OffsetAndMetadata{offset=169495, leaderEpoch=null, metadata=''}, qatest12nonfes.public.user_summary_old-1=OffsetAndMetadata{offset=199521, leaderEpoch=null, metadata=''}, qatest12nonfes.public.user_summary_old-2=OffsetAndMetadata{offset=174686, leaderEpoch=null, metadata=''}, qatest12nonfes.public.user_summary_old-0=OffsetAndMetadata{offset=181745, leaderEpoch=null, metadata=''}}\n",
      "query inside Jar\n",
      "Query made progress: {qatest12nonfes.public.user_summary_old-9=OffsetAndMetadata{offset=185961, leaderEpoch=null, metadata=''}, qatest12nonfes.public.user_summary_old-7=OffsetAndMetadata{offset=191257, leaderEpoch=null, metadata=''}, qatest12nonfes.public.user_summary_old-8=OffsetAndMetadata{offset=189877, leaderEpoch=null, metadata=''}, qatest12nonfes.public.user_summary_old-5=OffsetAndMetadata{offset=171068, leaderEpoch=null, metadata=''}, qatest12nonfes.public.user_summary_old-6=OffsetAndMetadata{offset=194806, leaderEpoch=null, metadata=''}, qatest12nonfes.public.user_summary_old-3=OffsetAndMetadata{offset=201131, leaderEpoch=null, metadata=''}, qatest12nonfes.public.user_summary_old-4=OffsetAndMetadata{offset=169495, leaderEpoch=null, metadata=''}, qatest12nonfes.public.user_summary_old-1=OffsetAndMetadata{offset=199521, leaderEpoch=null, metadata=''}, qatest12nonfes.public.user_summary_old-2=OffsetAndMetadata{offset=174686, leaderEpoch=null, metadata=''}, qatest12nonfes.public.user_summary_old-0=OffsetAndMetadata{offset=181745, leaderEpoch=null, metadata=''}}\n",
      "query inside Jar\n",
      "Query made progress: {qatest12nonfes.public.user_summary_old-9=OffsetAndMetadata{offset=185961, leaderEpoch=null, metadata=''}, qatest12nonfes.public.user_summary_old-7=OffsetAndMetadata{offset=191257, leaderEpoch=null, metadata=''}, qatest12nonfes.public.user_summary_old-8=OffsetAndMetadata{offset=189877, leaderEpoch=null, metadata=''}, qatest12nonfes.public.user_summary_old-5=OffsetAndMetadata{offset=171068, leaderEpoch=null, metadata=''}, qatest12nonfes.public.user_summary_old-6=OffsetAndMetadata{offset=194806, leaderEpoch=null, metadata=''}, qatest12nonfes.public.user_summary_old-3=OffsetAndMetadata{offset=201131, leaderEpoch=null, metadata=''}, qatest12nonfes.public.user_summary_old-4=OffsetAndMetadata{offset=169495, leaderEpoch=null, metadata=''}, qatest12nonfes.public.user_summary_old-1=OffsetAndMetadata{offset=199521, leaderEpoch=null, metadata=''}, qatest12nonfes.public.user_summary_old-2=OffsetAndMetadata{offset=174686, leaderEpoch=null, metadata=''}, qatest12nonfes.public.user_summary_old-0=OffsetAndMetadata{offset=181746, leaderEpoch=null, metadata=''}}\n",
      "query inside Jar\n",
      "Query made progress: {qatest12nonfes.public.user_summary_old-9=OffsetAndMetadata{offset=185961, leaderEpoch=null, metadata=''}, qatest12nonfes.public.user_summary_old-7=OffsetAndMetadata{offset=191257, leaderEpoch=null, metadata=''}, qatest12nonfes.public.user_summary_old-8=OffsetAndMetadata{offset=189877, leaderEpoch=null, metadata=''}, qatest12nonfes.public.user_summary_old-5=OffsetAndMetadata{offset=171068, leaderEpoch=null, metadata=''}, qatest12nonfes.public.user_summary_old-6=OffsetAndMetadata{offset=194806, leaderEpoch=null, metadata=''}, qatest12nonfes.public.user_summary_old-3=OffsetAndMetadata{offset=201131, leaderEpoch=null, metadata=''}, qatest12nonfes.public.user_summary_old-4=OffsetAndMetadata{offset=169495, leaderEpoch=null, metadata=''}, qatest12nonfes.public.user_summary_old-1=OffsetAndMetadata{offset=199521, leaderEpoch=null, metadata=''}, qatest12nonfes.public.user_summary_old-2=OffsetAndMetadata{offset=174686, leaderEpoch=null, metadata=''}, qatest12nonfes.public.user_summary_old-0=OffsetAndMetadata{offset=181746, leaderEpoch=null, metadata=''}}\n",
      "query inside Jar\n",
      "Query made progress: {qatest12nonfes.public.user_summary_old-9=OffsetAndMetadata{offset=185961, leaderEpoch=null, metadata=''}, qatest12nonfes.public.user_summary_old-7=OffsetAndMetadata{offset=191257, leaderEpoch=null, metadata=''}, qatest12nonfes.public.user_summary_old-8=OffsetAndMetadata{offset=189877, leaderEpoch=null, metadata=''}, qatest12nonfes.public.user_summary_old-5=OffsetAndMetadata{offset=171068, leaderEpoch=null, metadata=''}, qatest12nonfes.public.user_summary_old-6=OffsetAndMetadata{offset=194806, leaderEpoch=null, metadata=''}, qatest12nonfes.public.user_summary_old-3=OffsetAndMetadata{offset=201131, leaderEpoch=null, metadata=''}, qatest12nonfes.public.user_summary_old-4=OffsetAndMetadata{offset=169495, leaderEpoch=null, metadata=''}, qatest12nonfes.public.user_summary_old-1=OffsetAndMetadata{offset=199521, leaderEpoch=null, metadata=''}, qatest12nonfes.public.user_summary_old-2=OffsetAndMetadata{offset=174686, leaderEpoch=null, metadata=''}, qatest12nonfes.public.user_summary_old-0=OffsetAndMetadata{offset=181746, leaderEpoch=null, metadata=''}}\n",
      "query inside Jar\n",
      "datalake-qa-91Query made progress: {qatest12nonfes.public.user_summary_old-9=OffsetAndMetadata{offset=185961, leaderEpoch=null, metadata=''}, qatest12nonfes.public.user_summary_old-7=OffsetAndMetadata{offset=191257, leaderEpoch=null, metadata=''}, qatest12nonfes.public.user_summary_old-8=OffsetAndMetadata{offset=189877, leaderEpoch=null, metadata=''}, qatest12nonfes.public.user_summary_old-5=OffsetAndMetadata{offset=171068, leaderEpoch=null, metadata=''}, qatest12nonfes.public.user_summary_old-6=OffsetAndMetadata{offset=194806, leaderEpoch=null, metadata=''}, qatest12nonfes.public.user_summary_old-3=OffsetAndMetadata{offset=201131, leaderEpoch=null, metadata=''}, qatest12nonfes.public.user_summary_old-4=OffsetAndMetadata{offset=169495, leaderEpoch=null, metadata=''}, qatest12nonfes.public.user_summary_old-1=OffsetAndMetadata{offset=199521, leaderEpoch=null, metadata=''}, qatest12nonfes.public.user_summary_old-2=OffsetAndMetadata{offset=174686, leaderEpoch=null, metadata=''}, qatest12nonfes.public.user_summary_old-0=OffsetAndMetadata{offset=181746, leaderEpoch=null, metadata=''}}\n",
      "query inside Jar\n"
     ]
    },
    {
     "name": "stderr",
     "output_type": "stream",
     "text": [
      "                                                                                \r"
     ]
    },
    {
     "name": "stdout",
     "output_type": "stream",
     "text": [
      "Query made progress: {qatest12nonfes.public.user_summary_old-9=OffsetAndMetadata{offset=185961, leaderEpoch=null, metadata=''}, qatest12nonfes.public.user_summary_old-7=OffsetAndMetadata{offset=191257, leaderEpoch=null, metadata=''}, qatest12nonfes.public.user_summary_old-8=OffsetAndMetadata{offset=189877, leaderEpoch=null, metadata=''}, qatest12nonfes.public.user_summary_old-5=OffsetAndMetadata{offset=171068, leaderEpoch=null, metadata=''}, qatest12nonfes.public.user_summary_old-6=OffsetAndMetadata{offset=194806, leaderEpoch=null, metadata=''}, qatest12nonfes.public.user_summary_old-3=OffsetAndMetadata{offset=201131, leaderEpoch=null, metadata=''}, qatest12nonfes.public.user_summary_old-4=OffsetAndMetadata{offset=169495, leaderEpoch=null, metadata=''}, qatest12nonfes.public.user_summary_old-1=OffsetAndMetadata{offset=199521, leaderEpoch=null, metadata=''}, qatest12nonfes.public.user_summary_old-2=OffsetAndMetadata{offset=174686, leaderEpoch=null, metadata=''}, qatest12nonfes.public.user_summary_old-0=OffsetAndMetadata{offset=181746, leaderEpoch=null, metadata=''}}\n",
      "query inside Jar\n",
      "+--------------------+--------------------+---------+------+--------------------+-------------+--------+--------------------+--------------------+\n",
      "|                 key|               topic|partition|offset|           timestamp|timestampType|schemaId|             payload|  valueConsumerKafka|\n",
      "+--------------------+--------------------+---------+------+--------------------+-------------+--------+--------------------+--------------------+\n",
      "|[00 00 00 07 32 B...|qatest12nonfes.pu...|        7|191257|2022-03-08 07:47:...|            0|    3737|[00 02 BC D3 2C E...|[, [365790, 53939...|\n",
      "+--------------------+--------------------+---------+------+--------------------+-------------+--------+--------------------+--------------------+\n",
      "only showing top 1 row\n",
      "\n",
      "starting point\n",
      "2022-03-08 07:47:51.957177\n",
      "total partitions are\n",
      "3\n",
      "3\n",
      "2022-03-08 07:47:52.125764\n",
      "created_at\n",
      "user_summary_old\n"
     ]
    },
    {
     "name": "stderr",
     "output_type": "stream",
     "text": [
      "[Stage 104:===================>                                     (1 + 2) / 3]\r"
     ]
    },
    {
     "name": "stdout",
     "output_type": "stream",
     "text": [
      "Query made progress: {qatest12nonfes.public.user_summary_old-9=OffsetAndMetadata{offset=185961, leaderEpoch=null, metadata=''}, qatest12nonfes.public.user_summary_old-7=OffsetAndMetadata{offset=191257, leaderEpoch=null, metadata=''}, qatest12nonfes.public.user_summary_old-8=OffsetAndMetadata{offset=189877, leaderEpoch=null, metadata=''}, qatest12nonfes.public.user_summary_old-5=OffsetAndMetadata{offset=171068, leaderEpoch=null, metadata=''}, qatest12nonfes.public.user_summary_old-6=OffsetAndMetadata{offset=194806, leaderEpoch=null, metadata=''}, qatest12nonfes.public.user_summary_old-3=OffsetAndMetadata{offset=201131, leaderEpoch=null, metadata=''}, qatest12nonfes.public.user_summary_old-4=OffsetAndMetadata{offset=169495, leaderEpoch=null, metadata=''}, qatest12nonfes.public.user_summary_old-1=OffsetAndMetadata{offset=199521, leaderEpoch=null, metadata=''}, qatest12nonfes.public.user_summary_old-2=OffsetAndMetadata{offset=174686, leaderEpoch=null, metadata=''}, qatest12nonfes.public.user_summary_old-0=OffsetAndMetadata{offset=181746, leaderEpoch=null, metadata=''}}\n",
      "query inside Jar\n"
     ]
    },
    {
     "name": "stderr",
     "output_type": "stream",
     "text": [
      "                                                                                \r"
     ]
    },
    {
     "name": "stdout",
     "output_type": "stream",
     "text": [
      "Query made progress: {qatest12nonfes.public.user_summary_old-9=OffsetAndMetadata{offset=185961, leaderEpoch=null, metadata=''}, qatest12nonfes.public.user_summary_old-7=OffsetAndMetadata{offset=191257, leaderEpoch=null, metadata=''}, qatest12nonfes.public.user_summary_old-8=OffsetAndMetadata{offset=189877, leaderEpoch=null, metadata=''}, qatest12nonfes.public.user_summary_old-5=OffsetAndMetadata{offset=171068, leaderEpoch=null, metadata=''}, qatest12nonfes.public.user_summary_old-6=OffsetAndMetadata{offset=194806, leaderEpoch=null, metadata=''}, qatest12nonfes.public.user_summary_old-3=OffsetAndMetadata{offset=201131, leaderEpoch=null, metadata=''}, qatest12nonfes.public.user_summary_old-4=OffsetAndMetadata{offset=169495, leaderEpoch=null, metadata=''}, qatest12nonfes.public.user_summary_old-1=OffsetAndMetadata{offset=199521, leaderEpoch=null, metadata=''}, qatest12nonfes.public.user_summary_old-2=OffsetAndMetadata{offset=174686, leaderEpoch=null, metadata=''}, qatest12nonfes.public.user_summary_old-0=OffsetAndMetadata{offset=181746, leaderEpoch=null, metadata=''}}\n",
      "query inside Jar\n",
      "Query made progress: {qatest12nonfes.public.user_summary_old-9=OffsetAndMetadata{offset=185961, leaderEpoch=null, metadata=''}, qatest12nonfes.public.user_summary_old-7=OffsetAndMetadata{offset=191257, leaderEpoch=null, metadata=''}, qatest12nonfes.public.user_summary_old-8=OffsetAndMetadata{offset=189877, leaderEpoch=null, metadata=''}, qatest12nonfes.public.user_summary_old-5=OffsetAndMetadata{offset=171068, leaderEpoch=null, metadata=''}, qatest12nonfes.public.user_summary_old-6=OffsetAndMetadata{offset=194806, leaderEpoch=null, metadata=''}, qatest12nonfes.public.user_summary_old-3=OffsetAndMetadata{offset=201131, leaderEpoch=null, metadata=''}, qatest12nonfes.public.user_summary_old-4=OffsetAndMetadata{offset=169495, leaderEpoch=null, metadata=''}, qatest12nonfes.public.user_summary_old-1=OffsetAndMetadata{offset=199521, leaderEpoch=null, metadata=''}, qatest12nonfes.public.user_summary_old-2=OffsetAndMetadata{offset=174686, leaderEpoch=null, metadata=''}, qatest12nonfes.public.user_summary_old-0=OffsetAndMetadata{offset=181746, leaderEpoch=null, metadata=''}}\n",
      "query inside Jar\n"
     ]
    },
    {
     "name": "stderr",
     "output_type": "stream",
     "text": [
      "                                                                                \r"
     ]
    },
    {
     "name": "stdout",
     "output_type": "stream",
     "text": [
      "checkpoint 1\n",
      "after merge\n",
      "2022-03-08 07:47:55.499765\n",
      "Query made progress: {qatest12nonfes.public.user_summary_old-9=OffsetAndMetadata{offset=185961, leaderEpoch=null, metadata=''}, qatest12nonfes.public.user_summary_old-7=OffsetAndMetadata{offset=191257, leaderEpoch=null, metadata=''}, qatest12nonfes.public.user_summary_old-8=OffsetAndMetadata{offset=189877, leaderEpoch=null, metadata=''}, qatest12nonfes.public.user_summary_old-5=OffsetAndMetadata{offset=171068, leaderEpoch=null, metadata=''}, qatest12nonfes.public.user_summary_old-6=OffsetAndMetadata{offset=194806, leaderEpoch=null, metadata=''}, qatest12nonfes.public.user_summary_old-3=OffsetAndMetadata{offset=201131, leaderEpoch=null, metadata=''}, qatest12nonfes.public.user_summary_old-4=OffsetAndMetadata{offset=169495, leaderEpoch=null, metadata=''}, qatest12nonfes.public.user_summary_old-1=OffsetAndMetadata{offset=199521, leaderEpoch=null, metadata=''}, qatest12nonfes.public.user_summary_old-2=OffsetAndMetadata{offset=174686, leaderEpoch=null, metadata=''}, qatest12nonfes.public.user_summary_old-0=OffsetAndMetadata{offset=181746, leaderEpoch=null, metadata=''}}\n",
      "query inside Jar\n",
      "Query made progress: {qatest12nonfes.public.user_summary_old-9=OffsetAndMetadata{offset=185961, leaderEpoch=null, metadata=''}, qatest12nonfes.public.user_summary_old-7=OffsetAndMetadata{offset=191257, leaderEpoch=null, metadata=''}, qatest12nonfes.public.user_summary_old-8=OffsetAndMetadata{offset=189877, leaderEpoch=null, metadata=''}, qatest12nonfes.public.user_summary_old-5=OffsetAndMetadata{offset=171068, leaderEpoch=null, metadata=''}, qatest12nonfes.public.user_summary_old-6=OffsetAndMetadata{offset=194806, leaderEpoch=null, metadata=''}, qatest12nonfes.public.user_summary_old-3=OffsetAndMetadata{offset=201131, leaderEpoch=null, metadata=''}, qatest12nonfes.public.user_summary_old-4=OffsetAndMetadata{offset=169495, leaderEpoch=null, metadata=''}, qatest12nonfes.public.user_summary_old-1=OffsetAndMetadata{offset=199521, leaderEpoch=null, metadata=''}, qatest12nonfes.public.user_summary_old-2=OffsetAndMetadata{offset=174686, leaderEpoch=null, metadata=''}, qatest12nonfes.public.user_summary_old-0=OffsetAndMetadata{offset=181746, leaderEpoch=null, metadata=''}}\n",
      "query inside Jar\n",
      "Query made progress: {qatest12nonfes.public.user_summary_old-9=OffsetAndMetadata{offset=185961, leaderEpoch=null, metadata=''}, qatest12nonfes.public.user_summary_old-7=OffsetAndMetadata{offset=191257, leaderEpoch=null, metadata=''}, qatest12nonfes.public.user_summary_old-8=OffsetAndMetadata{offset=189877, leaderEpoch=null, metadata=''}, qatest12nonfes.public.user_summary_old-5=OffsetAndMetadata{offset=171068, leaderEpoch=null, metadata=''}, qatest12nonfes.public.user_summary_old-6=OffsetAndMetadata{offset=194806, leaderEpoch=null, metadata=''}, qatest12nonfes.public.user_summary_old-3=OffsetAndMetadata{offset=201131, leaderEpoch=null, metadata=''}, qatest12nonfes.public.user_summary_old-4=OffsetAndMetadata{offset=169495, leaderEpoch=null, metadata=''}, qatest12nonfes.public.user_summary_old-1=OffsetAndMetadata{offset=199521, leaderEpoch=null, metadata=''}, qatest12nonfes.public.user_summary_old-2=OffsetAndMetadata{offset=174686, leaderEpoch=null, metadata=''}, qatest12nonfes.public.user_summary_old-0=OffsetAndMetadata{offset=181746, leaderEpoch=null, metadata=''}}\n",
      "query inside Jar\n",
      "Query made progress: {qatest12nonfes.public.user_summary_old-9=OffsetAndMetadata{offset=185961, leaderEpoch=null, metadata=''}, qatest12nonfes.public.user_summary_old-7=OffsetAndMetadata{offset=191257, leaderEpoch=null, metadata=''}, qatest12nonfes.public.user_summary_old-8=OffsetAndMetadata{offset=189877, leaderEpoch=null, metadata=''}, qatest12nonfes.public.user_summary_old-5=OffsetAndMetadata{offset=171068, leaderEpoch=null, metadata=''}, qatest12nonfes.public.user_summary_old-6=OffsetAndMetadata{offset=194806, leaderEpoch=null, metadata=''}, qatest12nonfes.public.user_summary_old-3=OffsetAndMetadata{offset=201131, leaderEpoch=null, metadata=''}, qatest12nonfes.public.user_summary_old-4=OffsetAndMetadata{offset=169495, leaderEpoch=null, metadata=''}, qatest12nonfes.public.user_summary_old-1=OffsetAndMetadata{offset=199521, leaderEpoch=null, metadata=''}, qatest12nonfes.public.user_summary_old-2=OffsetAndMetadata{offset=174686, leaderEpoch=null, metadata=''}, qatest12nonfes.public.user_summary_old-0=OffsetAndMetadata{offset=181746, leaderEpoch=null, metadata=''}}\n",
      "query inside Jar\n",
      "Query made progress: {qatest12nonfes.public.user_summary_old-9=OffsetAndMetadata{offset=185961, leaderEpoch=null, metadata=''}, qatest12nonfes.public.user_summary_old-7=OffsetAndMetadata{offset=191257, leaderEpoch=null, metadata=''}, qatest12nonfes.public.user_summary_old-8=OffsetAndMetadata{offset=189877, leaderEpoch=null, metadata=''}, qatest12nonfes.public.user_summary_old-5=OffsetAndMetadata{offset=171068, leaderEpoch=null, metadata=''}, qatest12nonfes.public.user_summary_old-6=OffsetAndMetadata{offset=194806, leaderEpoch=null, metadata=''}, qatest12nonfes.public.user_summary_old-3=OffsetAndMetadata{offset=201131, leaderEpoch=null, metadata=''}, qatest12nonfes.public.user_summary_old-4=OffsetAndMetadata{offset=169495, leaderEpoch=null, metadata=''}, qatest12nonfes.public.user_summary_old-1=OffsetAndMetadata{offset=199521, leaderEpoch=null, metadata=''}, qatest12nonfes.public.user_summary_old-2=OffsetAndMetadata{offset=174686, leaderEpoch=null, metadata=''}, qatest12nonfes.public.user_summary_old-0=OffsetAndMetadata{offset=181746, leaderEpoch=null, metadata=''}}\n",
      "query inside Jar\n",
      "Query made progress: {qatest12nonfes.public.user_summary_old-9=OffsetAndMetadata{offset=185961, leaderEpoch=null, metadata=''}, qatest12nonfes.public.user_summary_old-7=OffsetAndMetadata{offset=191257, leaderEpoch=null, metadata=''}, qatest12nonfes.public.user_summary_old-8=OffsetAndMetadata{offset=189877, leaderEpoch=null, metadata=''}, qatest12nonfes.public.user_summary_old-5=OffsetAndMetadata{offset=171068, leaderEpoch=null, metadata=''}, qatest12nonfes.public.user_summary_old-6=OffsetAndMetadata{offset=194806, leaderEpoch=null, metadata=''}, qatest12nonfes.public.user_summary_old-3=OffsetAndMetadata{offset=201131, leaderEpoch=null, metadata=''}, qatest12nonfes.public.user_summary_old-4=OffsetAndMetadata{offset=169495, leaderEpoch=null, metadata=''}, qatest12nonfes.public.user_summary_old-1=OffsetAndMetadata{offset=199521, leaderEpoch=null, metadata=''}, qatest12nonfes.public.user_summary_old-2=OffsetAndMetadata{offset=174686, leaderEpoch=null, metadata=''}, qatest12nonfes.public.user_summary_old-0=OffsetAndMetadata{offset=181746, leaderEpoch=null, metadata=''}}\n",
      "query inside Jar\n",
      "datalake-qa-91Query made progress: {qatest12nonfes.public.user_summary_old-9=OffsetAndMetadata{offset=185961, leaderEpoch=null, metadata=''}, qatest12nonfes.public.user_summary_old-7=OffsetAndMetadata{offset=191257, leaderEpoch=null, metadata=''}, qatest12nonfes.public.user_summary_old-8=OffsetAndMetadata{offset=189877, leaderEpoch=null, metadata=''}, qatest12nonfes.public.user_summary_old-5=OffsetAndMetadata{offset=171068, leaderEpoch=null, metadata=''}, qatest12nonfes.public.user_summary_old-6=OffsetAndMetadata{offset=194806, leaderEpoch=null, metadata=''}, qatest12nonfes.public.user_summary_old-3=OffsetAndMetadata{offset=201131, leaderEpoch=null, metadata=''}, qatest12nonfes.public.user_summary_old-4=OffsetAndMetadata{offset=169495, leaderEpoch=null, metadata=''}, qatest12nonfes.public.user_summary_old-1=OffsetAndMetadata{offset=199521, leaderEpoch=null, metadata=''}, qatest12nonfes.public.user_summary_old-2=OffsetAndMetadata{offset=174686, leaderEpoch=null, metadata=''}, qatest12nonfes.public.user_summary_old-0=OffsetAndMetadata{offset=181746, leaderEpoch=null, metadata=''}}\n",
      "query inside Jar\n"
     ]
    },
    {
     "name": "stderr",
     "output_type": "stream",
     "text": [
      "                                                                                \r"
     ]
    },
    {
     "name": "stdout",
     "output_type": "stream",
     "text": [
      "+--------------------+--------------------+---------+------+--------------------+-------------+--------+--------------------+--------------------+\n",
      "|                 key|               topic|partition|offset|           timestamp|timestampType|schemaId|             payload|  valueConsumerKafka|\n",
      "+--------------------+--------------------+---------+------+--------------------+-------------+--------+--------------------+--------------------+\n",
      "|[00 00 00 07 32 9...|qatest12nonfes.pu...|        6|194806|2022-03-08 07:47:...|            0|    3737|[00 02 98 D2 2C C...|[, [365708, 44516...|\n",
      "+--------------------+--------------------+---------+------+--------------------+-------------+--------+--------------------+--------------------+\n",
      "\n",
      "starting point\n",
      "2022-03-08 07:48:01.662722\n",
      "total partitions are\n",
      "1\n",
      "1\n",
      "2022-03-08 07:48:01.878876\n",
      "created_at\n",
      "user_summary_old\n",
      "Query made progress: {qatest12nonfes.public.user_summary_old-9=OffsetAndMetadata{offset=185961, leaderEpoch=null, metadata=''}, qatest12nonfes.public.user_summary_old-7=OffsetAndMetadata{offset=191257, leaderEpoch=null, metadata=''}, qatest12nonfes.public.user_summary_old-8=OffsetAndMetadata{offset=189877, leaderEpoch=null, metadata=''}, qatest12nonfes.public.user_summary_old-5=OffsetAndMetadata{offset=171068, leaderEpoch=null, metadata=''}, qatest12nonfes.public.user_summary_old-6=OffsetAndMetadata{offset=194806, leaderEpoch=null, metadata=''}, qatest12nonfes.public.user_summary_old-3=OffsetAndMetadata{offset=201131, leaderEpoch=null, metadata=''}, qatest12nonfes.public.user_summary_old-4=OffsetAndMetadata{offset=169495, leaderEpoch=null, metadata=''}, qatest12nonfes.public.user_summary_old-1=OffsetAndMetadata{offset=199521, leaderEpoch=null, metadata=''}, qatest12nonfes.public.user_summary_old-2=OffsetAndMetadata{offset=174686, leaderEpoch=null, metadata=''}, qatest12nonfes.public.user_summary_old-0=OffsetAndMetadata{offset=181746, leaderEpoch=null, metadata=''}}\n",
      "query inside Jar\n"
     ]
    },
    {
     "name": "stderr",
     "output_type": "stream",
     "text": [
      "[Stage 111:>                                                        (0 + 1) / 1]\r"
     ]
    },
    {
     "name": "stdout",
     "output_type": "stream",
     "text": [
      "Query made progress: {qatest12nonfes.public.user_summary_old-9=OffsetAndMetadata{offset=185961, leaderEpoch=null, metadata=''}, qatest12nonfes.public.user_summary_old-7=OffsetAndMetadata{offset=191257, leaderEpoch=null, metadata=''}, qatest12nonfes.public.user_summary_old-8=OffsetAndMetadata{offset=189877, leaderEpoch=null, metadata=''}, qatest12nonfes.public.user_summary_old-5=OffsetAndMetadata{offset=171068, leaderEpoch=null, metadata=''}, qatest12nonfes.public.user_summary_old-6=OffsetAndMetadata{offset=194806, leaderEpoch=null, metadata=''}, qatest12nonfes.public.user_summary_old-3=OffsetAndMetadata{offset=201131, leaderEpoch=null, metadata=''}, qatest12nonfes.public.user_summary_old-4=OffsetAndMetadata{offset=169495, leaderEpoch=null, metadata=''}, qatest12nonfes.public.user_summary_old-1=OffsetAndMetadata{offset=199521, leaderEpoch=null, metadata=''}, qatest12nonfes.public.user_summary_old-2=OffsetAndMetadata{offset=174686, leaderEpoch=null, metadata=''}, qatest12nonfes.public.user_summary_old-0=OffsetAndMetadata{offset=181746, leaderEpoch=null, metadata=''}}\n",
      "query inside Jar\n"
     ]
    },
    {
     "name": "stderr",
     "output_type": "stream",
     "text": [
      "                                                                                \r"
     ]
    },
    {
     "name": "stdout",
     "output_type": "stream",
     "text": [
      "Query made progress: {qatest12nonfes.public.user_summary_old-9=OffsetAndMetadata{offset=185961, leaderEpoch=null, metadata=''}, qatest12nonfes.public.user_summary_old-7=OffsetAndMetadata{offset=191257, leaderEpoch=null, metadata=''}, qatest12nonfes.public.user_summary_old-8=OffsetAndMetadata{offset=189877, leaderEpoch=null, metadata=''}, qatest12nonfes.public.user_summary_old-5=OffsetAndMetadata{offset=171068, leaderEpoch=null, metadata=''}, qatest12nonfes.public.user_summary_old-6=OffsetAndMetadata{offset=194806, leaderEpoch=null, metadata=''}, qatest12nonfes.public.user_summary_old-3=OffsetAndMetadata{offset=201131, leaderEpoch=null, metadata=''}, qatest12nonfes.public.user_summary_old-4=OffsetAndMetadata{offset=169495, leaderEpoch=null, metadata=''}, qatest12nonfes.public.user_summary_old-1=OffsetAndMetadata{offset=199521, leaderEpoch=null, metadata=''}, qatest12nonfes.public.user_summary_old-2=OffsetAndMetadata{offset=174686, leaderEpoch=null, metadata=''}, qatest12nonfes.public.user_summary_old-0=OffsetAndMetadata{offset=181746, leaderEpoch=null, metadata=''}}\n",
      "query inside Jar\n"
     ]
    },
    {
     "name": "stderr",
     "output_type": "stream",
     "text": [
      "                                                                                \r"
     ]
    },
    {
     "name": "stdout",
     "output_type": "stream",
     "text": [
      "checkpoint 1\n",
      "after merge\n",
      "2022-03-08 07:48:04.985660\n",
      "Query made progress: {qatest12nonfes.public.user_summary_old-9=OffsetAndMetadata{offset=185961, leaderEpoch=null, metadata=''}, qatest12nonfes.public.user_summary_old-7=OffsetAndMetadata{offset=191257, leaderEpoch=null, metadata=''}, qatest12nonfes.public.user_summary_old-8=OffsetAndMetadata{offset=189877, leaderEpoch=null, metadata=''}, qatest12nonfes.public.user_summary_old-5=OffsetAndMetadata{offset=171068, leaderEpoch=null, metadata=''}, qatest12nonfes.public.user_summary_old-6=OffsetAndMetadata{offset=194806, leaderEpoch=null, metadata=''}, qatest12nonfes.public.user_summary_old-3=OffsetAndMetadata{offset=201131, leaderEpoch=null, metadata=''}, qatest12nonfes.public.user_summary_old-4=OffsetAndMetadata{offset=169495, leaderEpoch=null, metadata=''}, qatest12nonfes.public.user_summary_old-1=OffsetAndMetadata{offset=199521, leaderEpoch=null, metadata=''}, qatest12nonfes.public.user_summary_old-2=OffsetAndMetadata{offset=174686, leaderEpoch=null, metadata=''}, qatest12nonfes.public.user_summary_old-0=OffsetAndMetadata{offset=181746, leaderEpoch=null, metadata=''}}\n",
      "query inside Jar\n",
      "Query made progress: {qatest12nonfes.public.user_summary_old-9=OffsetAndMetadata{offset=185961, leaderEpoch=null, metadata=''}, qatest12nonfes.public.user_summary_old-7=OffsetAndMetadata{offset=191257, leaderEpoch=null, metadata=''}, qatest12nonfes.public.user_summary_old-8=OffsetAndMetadata{offset=189877, leaderEpoch=null, metadata=''}, qatest12nonfes.public.user_summary_old-5=OffsetAndMetadata{offset=171068, leaderEpoch=null, metadata=''}, qatest12nonfes.public.user_summary_old-6=OffsetAndMetadata{offset=194806, leaderEpoch=null, metadata=''}, qatest12nonfes.public.user_summary_old-3=OffsetAndMetadata{offset=201131, leaderEpoch=null, metadata=''}, qatest12nonfes.public.user_summary_old-4=OffsetAndMetadata{offset=169495, leaderEpoch=null, metadata=''}, qatest12nonfes.public.user_summary_old-1=OffsetAndMetadata{offset=199521, leaderEpoch=null, metadata=''}, qatest12nonfes.public.user_summary_old-2=OffsetAndMetadata{offset=174686, leaderEpoch=null, metadata=''}, qatest12nonfes.public.user_summary_old-0=OffsetAndMetadata{offset=181746, leaderEpoch=null, metadata=''}}\n",
      "query inside Jar\n",
      "Query made progress: {qatest12nonfes.public.user_summary_old-9=OffsetAndMetadata{offset=185961, leaderEpoch=null, metadata=''}, qatest12nonfes.public.user_summary_old-7=OffsetAndMetadata{offset=191257, leaderEpoch=null, metadata=''}, qatest12nonfes.public.user_summary_old-8=OffsetAndMetadata{offset=189877, leaderEpoch=null, metadata=''}, qatest12nonfes.public.user_summary_old-5=OffsetAndMetadata{offset=171068, leaderEpoch=null, metadata=''}, qatest12nonfes.public.user_summary_old-6=OffsetAndMetadata{offset=194806, leaderEpoch=null, metadata=''}, qatest12nonfes.public.user_summary_old-3=OffsetAndMetadata{offset=201131, leaderEpoch=null, metadata=''}, qatest12nonfes.public.user_summary_old-4=OffsetAndMetadata{offset=169495, leaderEpoch=null, metadata=''}, qatest12nonfes.public.user_summary_old-1=OffsetAndMetadata{offset=199521, leaderEpoch=null, metadata=''}, qatest12nonfes.public.user_summary_old-2=OffsetAndMetadata{offset=174686, leaderEpoch=null, metadata=''}, qatest12nonfes.public.user_summary_old-0=OffsetAndMetadata{offset=181746, leaderEpoch=null, metadata=''}}\n",
      "query inside Jar\n",
      "Query made progress: {qatest12nonfes.public.user_summary_old-9=OffsetAndMetadata{offset=185961, leaderEpoch=null, metadata=''}, qatest12nonfes.public.user_summary_old-7=OffsetAndMetadata{offset=191257, leaderEpoch=null, metadata=''}, qatest12nonfes.public.user_summary_old-8=OffsetAndMetadata{offset=189877, leaderEpoch=null, metadata=''}, qatest12nonfes.public.user_summary_old-5=OffsetAndMetadata{offset=171068, leaderEpoch=null, metadata=''}, qatest12nonfes.public.user_summary_old-6=OffsetAndMetadata{offset=194806, leaderEpoch=null, metadata=''}, qatest12nonfes.public.user_summary_old-3=OffsetAndMetadata{offset=201131, leaderEpoch=null, metadata=''}, qatest12nonfes.public.user_summary_old-4=OffsetAndMetadata{offset=169495, leaderEpoch=null, metadata=''}, qatest12nonfes.public.user_summary_old-1=OffsetAndMetadata{offset=199521, leaderEpoch=null, metadata=''}, qatest12nonfes.public.user_summary_old-2=OffsetAndMetadata{offset=174686, leaderEpoch=null, metadata=''}, qatest12nonfes.public.user_summary_old-0=OffsetAndMetadata{offset=181746, leaderEpoch=null, metadata=''}}\n",
      "query inside Jar\n",
      "Query made progress: {qatest12nonfes.public.user_summary_old-9=OffsetAndMetadata{offset=185961, leaderEpoch=null, metadata=''}, qatest12nonfes.public.user_summary_old-7=OffsetAndMetadata{offset=191257, leaderEpoch=null, metadata=''}, qatest12nonfes.public.user_summary_old-8=OffsetAndMetadata{offset=189877, leaderEpoch=null, metadata=''}, qatest12nonfes.public.user_summary_old-5=OffsetAndMetadata{offset=171068, leaderEpoch=null, metadata=''}, qatest12nonfes.public.user_summary_old-6=OffsetAndMetadata{offset=194806, leaderEpoch=null, metadata=''}, qatest12nonfes.public.user_summary_old-3=OffsetAndMetadata{offset=201131, leaderEpoch=null, metadata=''}, qatest12nonfes.public.user_summary_old-4=OffsetAndMetadata{offset=169495, leaderEpoch=null, metadata=''}, qatest12nonfes.public.user_summary_old-1=OffsetAndMetadata{offset=199521, leaderEpoch=null, metadata=''}, qatest12nonfes.public.user_summary_old-2=OffsetAndMetadata{offset=174686, leaderEpoch=null, metadata=''}, qatest12nonfes.public.user_summary_old-0=OffsetAndMetadata{offset=181746, leaderEpoch=null, metadata=''}}\n",
      "query inside Jar\n",
      "Query made progress: {qatest12nonfes.public.user_summary_old-9=OffsetAndMetadata{offset=185961, leaderEpoch=null, metadata=''}, qatest12nonfes.public.user_summary_old-7=OffsetAndMetadata{offset=191257, leaderEpoch=null, metadata=''}, qatest12nonfes.public.user_summary_old-8=OffsetAndMetadata{offset=189877, leaderEpoch=null, metadata=''}, qatest12nonfes.public.user_summary_old-5=OffsetAndMetadata{offset=171068, leaderEpoch=null, metadata=''}, qatest12nonfes.public.user_summary_old-6=OffsetAndMetadata{offset=194806, leaderEpoch=null, metadata=''}, qatest12nonfes.public.user_summary_old-3=OffsetAndMetadata{offset=201131, leaderEpoch=null, metadata=''}, qatest12nonfes.public.user_summary_old-4=OffsetAndMetadata{offset=169495, leaderEpoch=null, metadata=''}, qatest12nonfes.public.user_summary_old-1=OffsetAndMetadata{offset=199521, leaderEpoch=null, metadata=''}, qatest12nonfes.public.user_summary_old-2=OffsetAndMetadata{offset=174686, leaderEpoch=null, metadata=''}, qatest12nonfes.public.user_summary_old-0=OffsetAndMetadata{offset=181746, leaderEpoch=null, metadata=''}}\n",
      "query inside Jar\n",
      "Query made progress: {qatest12nonfes.public.user_summary_old-9=OffsetAndMetadata{offset=185961, leaderEpoch=null, metadata=''}, qatest12nonfes.public.user_summary_old-7=OffsetAndMetadata{offset=191257, leaderEpoch=null, metadata=''}, qatest12nonfes.public.user_summary_old-8=OffsetAndMetadata{offset=189877, leaderEpoch=null, metadata=''}, qatest12nonfes.public.user_summary_old-5=OffsetAndMetadata{offset=171068, leaderEpoch=null, metadata=''}, qatest12nonfes.public.user_summary_old-6=OffsetAndMetadata{offset=194806, leaderEpoch=null, metadata=''}, qatest12nonfes.public.user_summary_old-3=OffsetAndMetadata{offset=201131, leaderEpoch=null, metadata=''}, qatest12nonfes.public.user_summary_old-4=OffsetAndMetadata{offset=169495, leaderEpoch=null, metadata=''}, qatest12nonfes.public.user_summary_old-1=OffsetAndMetadata{offset=199521, leaderEpoch=null, metadata=''}, qatest12nonfes.public.user_summary_old-2=OffsetAndMetadata{offset=174686, leaderEpoch=null, metadata=''}, qatest12nonfes.public.user_summary_old-0=OffsetAndMetadata{offset=181746, leaderEpoch=null, metadata=''}}\n",
      "query inside Jar\n",
      "Query made progress: {qatest12nonfes.public.user_summary_old-9=OffsetAndMetadata{offset=185961, leaderEpoch=null, metadata=''}, qatest12nonfes.public.user_summary_old-7=OffsetAndMetadata{offset=191257, leaderEpoch=null, metadata=''}, qatest12nonfes.public.user_summary_old-8=OffsetAndMetadata{offset=189877, leaderEpoch=null, metadata=''}, qatest12nonfes.public.user_summary_old-5=OffsetAndMetadata{offset=171068, leaderEpoch=null, metadata=''}, qatest12nonfes.public.user_summary_old-6=OffsetAndMetadata{offset=194806, leaderEpoch=null, metadata=''}, qatest12nonfes.public.user_summary_old-3=OffsetAndMetadata{offset=201131, leaderEpoch=null, metadata=''}, qatest12nonfes.public.user_summary_old-4=OffsetAndMetadata{offset=169495, leaderEpoch=null, metadata=''}, qatest12nonfes.public.user_summary_old-1=OffsetAndMetadata{offset=199521, leaderEpoch=null, metadata=''}, qatest12nonfes.public.user_summary_old-2=OffsetAndMetadata{offset=174686, leaderEpoch=null, metadata=''}, qatest12nonfes.public.user_summary_old-0=OffsetAndMetadata{offset=181746, leaderEpoch=null, metadata=''}}\n",
      "query inside Jar\n",
      "Query made progress: {qatest12nonfes.public.user_summary_old-9=OffsetAndMetadata{offset=185961, leaderEpoch=null, metadata=''}, qatest12nonfes.public.user_summary_old-7=OffsetAndMetadata{offset=191257, leaderEpoch=null, metadata=''}, qatest12nonfes.public.user_summary_old-8=OffsetAndMetadata{offset=189877, leaderEpoch=null, metadata=''}, qatest12nonfes.public.user_summary_old-5=OffsetAndMetadata{offset=171068, leaderEpoch=null, metadata=''}, qatest12nonfes.public.user_summary_old-6=OffsetAndMetadata{offset=194806, leaderEpoch=null, metadata=''}, qatest12nonfes.public.user_summary_old-3=OffsetAndMetadata{offset=201131, leaderEpoch=null, metadata=''}, qatest12nonfes.public.user_summary_old-4=OffsetAndMetadata{offset=169495, leaderEpoch=null, metadata=''}, qatest12nonfes.public.user_summary_old-1=OffsetAndMetadata{offset=199521, leaderEpoch=null, metadata=''}, qatest12nonfes.public.user_summary_old-2=OffsetAndMetadata{offset=174686, leaderEpoch=null, metadata=''}, qatest12nonfes.public.user_summary_old-0=OffsetAndMetadata{offset=181746, leaderEpoch=null, metadata=''}}\n",
      "query inside Jar\n",
      "Query made progress: {qatest12nonfes.public.user_summary_old-9=OffsetAndMetadata{offset=185962, leaderEpoch=null, metadata=''}, qatest12nonfes.public.user_summary_old-7=OffsetAndMetadata{offset=191258, leaderEpoch=null, metadata=''}, qatest12nonfes.public.user_summary_old-8=OffsetAndMetadata{offset=189877, leaderEpoch=null, metadata=''}, qatest12nonfes.public.user_summary_old-5=OffsetAndMetadata{offset=171068, leaderEpoch=null, metadata=''}, qatest12nonfes.public.user_summary_old-6=OffsetAndMetadata{offset=194806, leaderEpoch=null, metadata=''}, qatest12nonfes.public.user_summary_old-3=OffsetAndMetadata{offset=201131, leaderEpoch=null, metadata=''}, qatest12nonfes.public.user_summary_old-4=OffsetAndMetadata{offset=169495, leaderEpoch=null, metadata=''}, qatest12nonfes.public.user_summary_old-1=OffsetAndMetadata{offset=199521, leaderEpoch=null, metadata=''}, qatest12nonfes.public.user_summary_old-2=OffsetAndMetadata{offset=174686, leaderEpoch=null, metadata=''}, qatest12nonfes.public.user_summary_old-0=OffsetAndMetadata{offset=181747, leaderEpoch=null, metadata=''}}\n",
      "query inside Jar\n",
      "Query made progress: {qatest12nonfes.public.user_summary_old-9=OffsetAndMetadata{offset=185962, leaderEpoch=null, metadata=''}, qatest12nonfes.public.user_summary_old-7=OffsetAndMetadata{offset=191258, leaderEpoch=null, metadata=''}, qatest12nonfes.public.user_summary_old-8=OffsetAndMetadata{offset=189877, leaderEpoch=null, metadata=''}, qatest12nonfes.public.user_summary_old-5=OffsetAndMetadata{offset=171068, leaderEpoch=null, metadata=''}, qatest12nonfes.public.user_summary_old-6=OffsetAndMetadata{offset=194806, leaderEpoch=null, metadata=''}, qatest12nonfes.public.user_summary_old-3=OffsetAndMetadata{offset=201131, leaderEpoch=null, metadata=''}, qatest12nonfes.public.user_summary_old-4=OffsetAndMetadata{offset=169495, leaderEpoch=null, metadata=''}, qatest12nonfes.public.user_summary_old-1=OffsetAndMetadata{offset=199521, leaderEpoch=null, metadata=''}, qatest12nonfes.public.user_summary_old-2=OffsetAndMetadata{offset=174686, leaderEpoch=null, metadata=''}, qatest12nonfes.public.user_summary_old-0=OffsetAndMetadata{offset=181747, leaderEpoch=null, metadata=''}}\n",
      "query inside Jar\n",
      "Query made progress: {qatest12nonfes.public.user_summary_old-9=OffsetAndMetadata{offset=185962, leaderEpoch=null, metadata=''}, qatest12nonfes.public.user_summary_old-7=OffsetAndMetadata{offset=191258, leaderEpoch=null, metadata=''}, qatest12nonfes.public.user_summary_old-8=OffsetAndMetadata{offset=189877, leaderEpoch=null, metadata=''}, qatest12nonfes.public.user_summary_old-5=OffsetAndMetadata{offset=171068, leaderEpoch=null, metadata=''}, qatest12nonfes.public.user_summary_old-6=OffsetAndMetadata{offset=194806, leaderEpoch=null, metadata=''}, qatest12nonfes.public.user_summary_old-3=OffsetAndMetadata{offset=201131, leaderEpoch=null, metadata=''}, qatest12nonfes.public.user_summary_old-4=OffsetAndMetadata{offset=169495, leaderEpoch=null, metadata=''}, qatest12nonfes.public.user_summary_old-1=OffsetAndMetadata{offset=199521, leaderEpoch=null, metadata=''}, qatest12nonfes.public.user_summary_old-2=OffsetAndMetadata{offset=174686, leaderEpoch=null, metadata=''}, qatest12nonfes.public.user_summary_old-0=OffsetAndMetadata{offset=181747, leaderEpoch=null, metadata=''}}\n",
      "query inside Jar\n",
      "Query made progress: {qatest12nonfes.public.user_summary_old-9=OffsetAndMetadata{offset=185962, leaderEpoch=null, metadata=''}, qatest12nonfes.public.user_summary_old-7=OffsetAndMetadata{offset=191258, leaderEpoch=null, metadata=''}, qatest12nonfes.public.user_summary_old-8=OffsetAndMetadata{offset=189877, leaderEpoch=null, metadata=''}, qatest12nonfes.public.user_summary_old-5=OffsetAndMetadata{offset=171068, leaderEpoch=null, metadata=''}, qatest12nonfes.public.user_summary_old-6=OffsetAndMetadata{offset=194806, leaderEpoch=null, metadata=''}, qatest12nonfes.public.user_summary_old-3=OffsetAndMetadata{offset=201131, leaderEpoch=null, metadata=''}, qatest12nonfes.public.user_summary_old-4=OffsetAndMetadata{offset=169495, leaderEpoch=null, metadata=''}, qatest12nonfes.public.user_summary_old-1=OffsetAndMetadata{offset=199521, leaderEpoch=null, metadata=''}, qatest12nonfes.public.user_summary_old-2=OffsetAndMetadata{offset=174686, leaderEpoch=null, metadata=''}, qatest12nonfes.public.user_summary_old-0=OffsetAndMetadata{offset=181747, leaderEpoch=null, metadata=''}}\n",
      "query inside Jar\n",
      "datalake-qa-91Query made progress: {qatest12nonfes.public.user_summary_old-9=OffsetAndMetadata{offset=185962, leaderEpoch=null, metadata=''}, qatest12nonfes.public.user_summary_old-7=OffsetAndMetadata{offset=191258, leaderEpoch=null, metadata=''}, qatest12nonfes.public.user_summary_old-8=OffsetAndMetadata{offset=189877, leaderEpoch=null, metadata=''}, qatest12nonfes.public.user_summary_old-5=OffsetAndMetadata{offset=171068, leaderEpoch=null, metadata=''}, qatest12nonfes.public.user_summary_old-6=OffsetAndMetadata{offset=194806, leaderEpoch=null, metadata=''}, qatest12nonfes.public.user_summary_old-3=OffsetAndMetadata{offset=201131, leaderEpoch=null, metadata=''}, qatest12nonfes.public.user_summary_old-4=OffsetAndMetadata{offset=169495, leaderEpoch=null, metadata=''}, qatest12nonfes.public.user_summary_old-1=OffsetAndMetadata{offset=199521, leaderEpoch=null, metadata=''}, qatest12nonfes.public.user_summary_old-2=OffsetAndMetadata{offset=174686, leaderEpoch=null, metadata=''}, qatest12nonfes.public.user_summary_old-0=OffsetAndMetadata{offset=181747, leaderEpoch=null, metadata=''}}\n",
      "query inside Jar\n"
     ]
    },
    {
     "name": "stderr",
     "output_type": "stream",
     "text": [
      "                                                                                \r"
     ]
    },
    {
     "name": "stdout",
     "output_type": "stream",
     "text": [
      "+--------------------+--------------------+---------+------+--------------------+-------------+--------+--------------------+--------------------+\n",
      "|                 key|               topic|partition|offset|           timestamp|timestampType|schemaId|             payload|  valueConsumerKafka|\n",
      "+--------------------+--------------------+---------+------+--------------------+-------------+--------+--------------------+--------------------+\n",
      "|[00 00 00 07 32 C...|qatest12nonfes.pu...|        9|185962|2022-03-08 07:48:...|            0|    3737|[00 02 C6 D4 2C D...|[, [365859, 53743...|\n",
      "+--------------------+--------------------+---------+------+--------------------+-------------+--------+--------------------+--------------------+\n",
      "\n",
      "starting point\n",
      "2022-03-08 07:48:21.524038\n",
      "total partitions are\n",
      "1\n",
      "1\n",
      "2022-03-08 07:48:21.710058\n",
      "created_at\n",
      "user_summary_old\n",
      "Query made progress: {qatest12nonfes.public.user_summary_old-9=OffsetAndMetadata{offset=185962, leaderEpoch=null, metadata=''}, qatest12nonfes.public.user_summary_old-7=OffsetAndMetadata{offset=191258, leaderEpoch=null, metadata=''}, qatest12nonfes.public.user_summary_old-8=OffsetAndMetadata{offset=189877, leaderEpoch=null, metadata=''}, qatest12nonfes.public.user_summary_old-5=OffsetAndMetadata{offset=171068, leaderEpoch=null, metadata=''}, qatest12nonfes.public.user_summary_old-6=OffsetAndMetadata{offset=194806, leaderEpoch=null, metadata=''}, qatest12nonfes.public.user_summary_old-3=OffsetAndMetadata{offset=201131, leaderEpoch=null, metadata=''}, qatest12nonfes.public.user_summary_old-4=OffsetAndMetadata{offset=169495, leaderEpoch=null, metadata=''}, qatest12nonfes.public.user_summary_old-1=OffsetAndMetadata{offset=199521, leaderEpoch=null, metadata=''}, qatest12nonfes.public.user_summary_old-2=OffsetAndMetadata{offset=174686, leaderEpoch=null, metadata=''}, qatest12nonfes.public.user_summary_old-0=OffsetAndMetadata{offset=181747, leaderEpoch=null, metadata=''}}\n",
      "query inside Jar\n"
     ]
    },
    {
     "name": "stderr",
     "output_type": "stream",
     "text": [
      "[Stage 118:>                                                        (0 + 1) / 1]\r"
     ]
    },
    {
     "name": "stdout",
     "output_type": "stream",
     "text": [
      "Query made progress: {qatest12nonfes.public.user_summary_old-9=OffsetAndMetadata{offset=185962, leaderEpoch=null, metadata=''}, qatest12nonfes.public.user_summary_old-7=OffsetAndMetadata{offset=191258, leaderEpoch=null, metadata=''}, qatest12nonfes.public.user_summary_old-8=OffsetAndMetadata{offset=189877, leaderEpoch=null, metadata=''}, qatest12nonfes.public.user_summary_old-5=OffsetAndMetadata{offset=171068, leaderEpoch=null, metadata=''}, qatest12nonfes.public.user_summary_old-6=OffsetAndMetadata{offset=194806, leaderEpoch=null, metadata=''}, qatest12nonfes.public.user_summary_old-3=OffsetAndMetadata{offset=201131, leaderEpoch=null, metadata=''}, qatest12nonfes.public.user_summary_old-4=OffsetAndMetadata{offset=169495, leaderEpoch=null, metadata=''}, qatest12nonfes.public.user_summary_old-1=OffsetAndMetadata{offset=199521, leaderEpoch=null, metadata=''}, qatest12nonfes.public.user_summary_old-2=OffsetAndMetadata{offset=174686, leaderEpoch=null, metadata=''}, qatest12nonfes.public.user_summary_old-0=OffsetAndMetadata{offset=181747, leaderEpoch=null, metadata=''}}\n",
      "query inside Jar\n"
     ]
    },
    {
     "name": "stderr",
     "output_type": "stream",
     "text": [
      "                                                                                \r"
     ]
    },
    {
     "name": "stdout",
     "output_type": "stream",
     "text": [
      "Query made progress: {qatest12nonfes.public.user_summary_old-9=OffsetAndMetadata{offset=185962, leaderEpoch=null, metadata=''}, qatest12nonfes.public.user_summary_old-7=OffsetAndMetadata{offset=191258, leaderEpoch=null, metadata=''}, qatest12nonfes.public.user_summary_old-8=OffsetAndMetadata{offset=189877, leaderEpoch=null, metadata=''}, qatest12nonfes.public.user_summary_old-5=OffsetAndMetadata{offset=171068, leaderEpoch=null, metadata=''}, qatest12nonfes.public.user_summary_old-6=OffsetAndMetadata{offset=194806, leaderEpoch=null, metadata=''}, qatest12nonfes.public.user_summary_old-3=OffsetAndMetadata{offset=201131, leaderEpoch=null, metadata=''}, qatest12nonfes.public.user_summary_old-4=OffsetAndMetadata{offset=169495, leaderEpoch=null, metadata=''}, qatest12nonfes.public.user_summary_old-1=OffsetAndMetadata{offset=199521, leaderEpoch=null, metadata=''}, qatest12nonfes.public.user_summary_old-2=OffsetAndMetadata{offset=174686, leaderEpoch=null, metadata=''}, qatest12nonfes.public.user_summary_old-0=OffsetAndMetadata{offset=181747, leaderEpoch=null, metadata=''}}\n",
      "query inside Jar\n",
      "Query made progress: {qatest12nonfes.public.user_summary_old-9=OffsetAndMetadata{offset=185962, leaderEpoch=null, metadata=''}, qatest12nonfes.public.user_summary_old-7=OffsetAndMetadata{offset=191258, leaderEpoch=null, metadata=''}, qatest12nonfes.public.user_summary_old-8=OffsetAndMetadata{offset=189877, leaderEpoch=null, metadata=''}, qatest12nonfes.public.user_summary_old-5=OffsetAndMetadata{offset=171068, leaderEpoch=null, metadata=''}, qatest12nonfes.public.user_summary_old-6=OffsetAndMetadata{offset=194806, leaderEpoch=null, metadata=''}, qatest12nonfes.public.user_summary_old-3=OffsetAndMetadata{offset=201131, leaderEpoch=null, metadata=''}, qatest12nonfes.public.user_summary_old-4=OffsetAndMetadata{offset=169495, leaderEpoch=null, metadata=''}, qatest12nonfes.public.user_summary_old-1=OffsetAndMetadata{offset=199521, leaderEpoch=null, metadata=''}, qatest12nonfes.public.user_summary_old-2=OffsetAndMetadata{offset=174686, leaderEpoch=null, metadata=''}, qatest12nonfes.public.user_summary_old-0=OffsetAndMetadata{offset=181747, leaderEpoch=null, metadata=''}}\n",
      "query inside Jar\n"
     ]
    },
    {
     "name": "stderr",
     "output_type": "stream",
     "text": [
      "                                                                                \r"
     ]
    },
    {
     "name": "stdout",
     "output_type": "stream",
     "text": [
      "checkpoint 1\n",
      "after merge\n",
      "2022-03-08 07:48:24.934658\n",
      "Query made progress: {qatest12nonfes.public.user_summary_old-9=OffsetAndMetadata{offset=185962, leaderEpoch=null, metadata=''}, qatest12nonfes.public.user_summary_old-7=OffsetAndMetadata{offset=191258, leaderEpoch=null, metadata=''}, qatest12nonfes.public.user_summary_old-8=OffsetAndMetadata{offset=189877, leaderEpoch=null, metadata=''}, qatest12nonfes.public.user_summary_old-5=OffsetAndMetadata{offset=171068, leaderEpoch=null, metadata=''}, qatest12nonfes.public.user_summary_old-6=OffsetAndMetadata{offset=194806, leaderEpoch=null, metadata=''}, qatest12nonfes.public.user_summary_old-3=OffsetAndMetadata{offset=201131, leaderEpoch=null, metadata=''}, qatest12nonfes.public.user_summary_old-4=OffsetAndMetadata{offset=169495, leaderEpoch=null, metadata=''}, qatest12nonfes.public.user_summary_old-1=OffsetAndMetadata{offset=199521, leaderEpoch=null, metadata=''}, qatest12nonfes.public.user_summary_old-2=OffsetAndMetadata{offset=174686, leaderEpoch=null, metadata=''}, qatest12nonfes.public.user_summary_old-0=OffsetAndMetadata{offset=181747, leaderEpoch=null, metadata=''}}\n",
      "query inside Jar\n",
      "Query made progress: {qatest12nonfes.public.user_summary_old-9=OffsetAndMetadata{offset=185962, leaderEpoch=null, metadata=''}, qatest12nonfes.public.user_summary_old-7=OffsetAndMetadata{offset=191258, leaderEpoch=null, metadata=''}, qatest12nonfes.public.user_summary_old-8=OffsetAndMetadata{offset=189877, leaderEpoch=null, metadata=''}, qatest12nonfes.public.user_summary_old-5=OffsetAndMetadata{offset=171068, leaderEpoch=null, metadata=''}, qatest12nonfes.public.user_summary_old-6=OffsetAndMetadata{offset=194806, leaderEpoch=null, metadata=''}, qatest12nonfes.public.user_summary_old-3=OffsetAndMetadata{offset=201131, leaderEpoch=null, metadata=''}, qatest12nonfes.public.user_summary_old-4=OffsetAndMetadata{offset=169495, leaderEpoch=null, metadata=''}, qatest12nonfes.public.user_summary_old-1=OffsetAndMetadata{offset=199521, leaderEpoch=null, metadata=''}, qatest12nonfes.public.user_summary_old-2=OffsetAndMetadata{offset=174686, leaderEpoch=null, metadata=''}, qatest12nonfes.public.user_summary_old-0=OffsetAndMetadata{offset=181747, leaderEpoch=null, metadata=''}}\n",
      "query inside Jar\n",
      "Query made progress: {qatest12nonfes.public.user_summary_old-9=OffsetAndMetadata{offset=185962, leaderEpoch=null, metadata=''}, qatest12nonfes.public.user_summary_old-7=OffsetAndMetadata{offset=191258, leaderEpoch=null, metadata=''}, qatest12nonfes.public.user_summary_old-8=OffsetAndMetadata{offset=189877, leaderEpoch=null, metadata=''}, qatest12nonfes.public.user_summary_old-5=OffsetAndMetadata{offset=171068, leaderEpoch=null, metadata=''}, qatest12nonfes.public.user_summary_old-6=OffsetAndMetadata{offset=194806, leaderEpoch=null, metadata=''}, qatest12nonfes.public.user_summary_old-3=OffsetAndMetadata{offset=201131, leaderEpoch=null, metadata=''}, qatest12nonfes.public.user_summary_old-4=OffsetAndMetadata{offset=169495, leaderEpoch=null, metadata=''}, qatest12nonfes.public.user_summary_old-1=OffsetAndMetadata{offset=199521, leaderEpoch=null, metadata=''}, qatest12nonfes.public.user_summary_old-2=OffsetAndMetadata{offset=174686, leaderEpoch=null, metadata=''}, qatest12nonfes.public.user_summary_old-0=OffsetAndMetadata{offset=181747, leaderEpoch=null, metadata=''}}\n",
      "query inside Jar\n",
      "Query made progress: {qatest12nonfes.public.user_summary_old-9=OffsetAndMetadata{offset=185962, leaderEpoch=null, metadata=''}, qatest12nonfes.public.user_summary_old-7=OffsetAndMetadata{offset=191258, leaderEpoch=null, metadata=''}, qatest12nonfes.public.user_summary_old-8=OffsetAndMetadata{offset=189877, leaderEpoch=null, metadata=''}, qatest12nonfes.public.user_summary_old-5=OffsetAndMetadata{offset=171068, leaderEpoch=null, metadata=''}, qatest12nonfes.public.user_summary_old-6=OffsetAndMetadata{offset=194806, leaderEpoch=null, metadata=''}, qatest12nonfes.public.user_summary_old-3=OffsetAndMetadata{offset=201131, leaderEpoch=null, metadata=''}, qatest12nonfes.public.user_summary_old-4=OffsetAndMetadata{offset=169495, leaderEpoch=null, metadata=''}, qatest12nonfes.public.user_summary_old-1=OffsetAndMetadata{offset=199521, leaderEpoch=null, metadata=''}, qatest12nonfes.public.user_summary_old-2=OffsetAndMetadata{offset=174686, leaderEpoch=null, metadata=''}, qatest12nonfes.public.user_summary_old-0=OffsetAndMetadata{offset=181747, leaderEpoch=null, metadata=''}}\n",
      "query inside Jar\n",
      "Query made progress: {qatest12nonfes.public.user_summary_old-9=OffsetAndMetadata{offset=185962, leaderEpoch=null, metadata=''}, qatest12nonfes.public.user_summary_old-7=OffsetAndMetadata{offset=191258, leaderEpoch=null, metadata=''}, qatest12nonfes.public.user_summary_old-8=OffsetAndMetadata{offset=189877, leaderEpoch=null, metadata=''}, qatest12nonfes.public.user_summary_old-5=OffsetAndMetadata{offset=171068, leaderEpoch=null, metadata=''}, qatest12nonfes.public.user_summary_old-6=OffsetAndMetadata{offset=194806, leaderEpoch=null, metadata=''}, qatest12nonfes.public.user_summary_old-3=OffsetAndMetadata{offset=201131, leaderEpoch=null, metadata=''}, qatest12nonfes.public.user_summary_old-4=OffsetAndMetadata{offset=169495, leaderEpoch=null, metadata=''}, qatest12nonfes.public.user_summary_old-1=OffsetAndMetadata{offset=199521, leaderEpoch=null, metadata=''}, qatest12nonfes.public.user_summary_old-2=OffsetAndMetadata{offset=174686, leaderEpoch=null, metadata=''}, qatest12nonfes.public.user_summary_old-0=OffsetAndMetadata{offset=181747, leaderEpoch=null, metadata=''}}\n",
      "query inside Jar\n",
      "Query made progress: {qatest12nonfes.public.user_summary_old-9=OffsetAndMetadata{offset=185962, leaderEpoch=null, metadata=''}, qatest12nonfes.public.user_summary_old-7=OffsetAndMetadata{offset=191258, leaderEpoch=null, metadata=''}, qatest12nonfes.public.user_summary_old-8=OffsetAndMetadata{offset=189877, leaderEpoch=null, metadata=''}, qatest12nonfes.public.user_summary_old-5=OffsetAndMetadata{offset=171068, leaderEpoch=null, metadata=''}, qatest12nonfes.public.user_summary_old-6=OffsetAndMetadata{offset=194806, leaderEpoch=null, metadata=''}, qatest12nonfes.public.user_summary_old-3=OffsetAndMetadata{offset=201131, leaderEpoch=null, metadata=''}, qatest12nonfes.public.user_summary_old-4=OffsetAndMetadata{offset=169495, leaderEpoch=null, metadata=''}, qatest12nonfes.public.user_summary_old-1=OffsetAndMetadata{offset=199521, leaderEpoch=null, metadata=''}, qatest12nonfes.public.user_summary_old-2=OffsetAndMetadata{offset=174686, leaderEpoch=null, metadata=''}, qatest12nonfes.public.user_summary_old-0=OffsetAndMetadata{offset=181747, leaderEpoch=null, metadata=''}}\n",
      "query inside Jar\n",
      "Query made progress: {qatest12nonfes.public.user_summary_old-9=OffsetAndMetadata{offset=185962, leaderEpoch=null, metadata=''}, qatest12nonfes.public.user_summary_old-7=OffsetAndMetadata{offset=191258, leaderEpoch=null, metadata=''}, qatest12nonfes.public.user_summary_old-8=OffsetAndMetadata{offset=189877, leaderEpoch=null, metadata=''}, qatest12nonfes.public.user_summary_old-5=OffsetAndMetadata{offset=171068, leaderEpoch=null, metadata=''}, qatest12nonfes.public.user_summary_old-6=OffsetAndMetadata{offset=194807, leaderEpoch=null, metadata=''}, qatest12nonfes.public.user_summary_old-3=OffsetAndMetadata{offset=201131, leaderEpoch=null, metadata=''}, qatest12nonfes.public.user_summary_old-4=OffsetAndMetadata{offset=169495, leaderEpoch=null, metadata=''}, qatest12nonfes.public.user_summary_old-1=OffsetAndMetadata{offset=199521, leaderEpoch=null, metadata=''}, qatest12nonfes.public.user_summary_old-2=OffsetAndMetadata{offset=174686, leaderEpoch=null, metadata=''}, qatest12nonfes.public.user_summary_old-0=OffsetAndMetadata{offset=181747, leaderEpoch=null, metadata=''}}\n",
      "query inside Jar\n",
      "Query made progress: {qatest12nonfes.public.user_summary_old-9=OffsetAndMetadata{offset=185962, leaderEpoch=null, metadata=''}, qatest12nonfes.public.user_summary_old-7=OffsetAndMetadata{offset=191258, leaderEpoch=null, metadata=''}, qatest12nonfes.public.user_summary_old-8=OffsetAndMetadata{offset=189877, leaderEpoch=null, metadata=''}, qatest12nonfes.public.user_summary_old-5=OffsetAndMetadata{offset=171068, leaderEpoch=null, metadata=''}, qatest12nonfes.public.user_summary_old-6=OffsetAndMetadata{offset=194807, leaderEpoch=null, metadata=''}, qatest12nonfes.public.user_summary_old-3=OffsetAndMetadata{offset=201131, leaderEpoch=null, metadata=''}, qatest12nonfes.public.user_summary_old-4=OffsetAndMetadata{offset=169495, leaderEpoch=null, metadata=''}, qatest12nonfes.public.user_summary_old-1=OffsetAndMetadata{offset=199521, leaderEpoch=null, metadata=''}, qatest12nonfes.public.user_summary_old-2=OffsetAndMetadata{offset=174686, leaderEpoch=null, metadata=''}, qatest12nonfes.public.user_summary_old-0=OffsetAndMetadata{offset=181747, leaderEpoch=null, metadata=''}}\n",
      "query inside Jar\n",
      "Query made progress: {qatest12nonfes.public.user_summary_old-9=OffsetAndMetadata{offset=185962, leaderEpoch=null, metadata=''}, qatest12nonfes.public.user_summary_old-7=OffsetAndMetadata{offset=191258, leaderEpoch=null, metadata=''}, qatest12nonfes.public.user_summary_old-8=OffsetAndMetadata{offset=189877, leaderEpoch=null, metadata=''}, qatest12nonfes.public.user_summary_old-5=OffsetAndMetadata{offset=171068, leaderEpoch=null, metadata=''}, qatest12nonfes.public.user_summary_old-6=OffsetAndMetadata{offset=194807, leaderEpoch=null, metadata=''}, qatest12nonfes.public.user_summary_old-3=OffsetAndMetadata{offset=201131, leaderEpoch=null, metadata=''}, qatest12nonfes.public.user_summary_old-4=OffsetAndMetadata{offset=169495, leaderEpoch=null, metadata=''}, qatest12nonfes.public.user_summary_old-1=OffsetAndMetadata{offset=199521, leaderEpoch=null, metadata=''}, qatest12nonfes.public.user_summary_old-2=OffsetAndMetadata{offset=174686, leaderEpoch=null, metadata=''}, qatest12nonfes.public.user_summary_old-0=OffsetAndMetadata{offset=181747, leaderEpoch=null, metadata=''}}\n",
      "query inside Jar\n",
      "Query made progress: {qatest12nonfes.public.user_summary_old-9=OffsetAndMetadata{offset=185962, leaderEpoch=null, metadata=''}, qatest12nonfes.public.user_summary_old-7=OffsetAndMetadata{offset=191258, leaderEpoch=null, metadata=''}, qatest12nonfes.public.user_summary_old-8=OffsetAndMetadata{offset=189877, leaderEpoch=null, metadata=''}, qatest12nonfes.public.user_summary_old-5=OffsetAndMetadata{offset=171068, leaderEpoch=null, metadata=''}, qatest12nonfes.public.user_summary_old-6=OffsetAndMetadata{offset=194807, leaderEpoch=null, metadata=''}, qatest12nonfes.public.user_summary_old-3=OffsetAndMetadata{offset=201131, leaderEpoch=null, metadata=''}, qatest12nonfes.public.user_summary_old-4=OffsetAndMetadata{offset=169495, leaderEpoch=null, metadata=''}, qatest12nonfes.public.user_summary_old-1=OffsetAndMetadata{offset=199521, leaderEpoch=null, metadata=''}, qatest12nonfes.public.user_summary_old-2=OffsetAndMetadata{offset=174686, leaderEpoch=null, metadata=''}, qatest12nonfes.public.user_summary_old-0=OffsetAndMetadata{offset=181747, leaderEpoch=null, metadata=''}}\n",
      "query inside Jar\n",
      "Query made progress: {qatest12nonfes.public.user_summary_old-9=OffsetAndMetadata{offset=185962, leaderEpoch=null, metadata=''}, qatest12nonfes.public.user_summary_old-7=OffsetAndMetadata{offset=191258, leaderEpoch=null, metadata=''}, qatest12nonfes.public.user_summary_old-8=OffsetAndMetadata{offset=189877, leaderEpoch=null, metadata=''}, qatest12nonfes.public.user_summary_old-5=OffsetAndMetadata{offset=171068, leaderEpoch=null, metadata=''}, qatest12nonfes.public.user_summary_old-6=OffsetAndMetadata{offset=194807, leaderEpoch=null, metadata=''}, qatest12nonfes.public.user_summary_old-3=OffsetAndMetadata{offset=201131, leaderEpoch=null, metadata=''}, qatest12nonfes.public.user_summary_old-4=OffsetAndMetadata{offset=169495, leaderEpoch=null, metadata=''}, qatest12nonfes.public.user_summary_old-1=OffsetAndMetadata{offset=199521, leaderEpoch=null, metadata=''}, qatest12nonfes.public.user_summary_old-2=OffsetAndMetadata{offset=174686, leaderEpoch=null, metadata=''}, qatest12nonfes.public.user_summary_old-0=OffsetAndMetadata{offset=181747, leaderEpoch=null, metadata=''}}\n",
      "query inside Jar\n",
      "Query made progress: {qatest12nonfes.public.user_summary_old-9=OffsetAndMetadata{offset=185962, leaderEpoch=null, metadata=''}, qatest12nonfes.public.user_summary_old-7=OffsetAndMetadata{offset=191258, leaderEpoch=null, metadata=''}, qatest12nonfes.public.user_summary_old-8=OffsetAndMetadata{offset=189877, leaderEpoch=null, metadata=''}, qatest12nonfes.public.user_summary_old-5=OffsetAndMetadata{offset=171068, leaderEpoch=null, metadata=''}, qatest12nonfes.public.user_summary_old-6=OffsetAndMetadata{offset=194807, leaderEpoch=null, metadata=''}, qatest12nonfes.public.user_summary_old-3=OffsetAndMetadata{offset=201131, leaderEpoch=null, metadata=''}, qatest12nonfes.public.user_summary_old-4=OffsetAndMetadata{offset=169495, leaderEpoch=null, metadata=''}, qatest12nonfes.public.user_summary_old-1=OffsetAndMetadata{offset=199521, leaderEpoch=null, metadata=''}, qatest12nonfes.public.user_summary_old-2=OffsetAndMetadata{offset=174686, leaderEpoch=null, metadata=''}, qatest12nonfes.public.user_summary_old-0=OffsetAndMetadata{offset=181747, leaderEpoch=null, metadata=''}}\n",
      "query inside Jar\n",
      "Query made progress: {qatest12nonfes.public.user_summary_old-9=OffsetAndMetadata{offset=185962, leaderEpoch=null, metadata=''}, qatest12nonfes.public.user_summary_old-7=OffsetAndMetadata{offset=191258, leaderEpoch=null, metadata=''}, qatest12nonfes.public.user_summary_old-8=OffsetAndMetadata{offset=189877, leaderEpoch=null, metadata=''}, qatest12nonfes.public.user_summary_old-5=OffsetAndMetadata{offset=171068, leaderEpoch=null, metadata=''}, qatest12nonfes.public.user_summary_old-6=OffsetAndMetadata{offset=194807, leaderEpoch=null, metadata=''}, qatest12nonfes.public.user_summary_old-3=OffsetAndMetadata{offset=201131, leaderEpoch=null, metadata=''}, qatest12nonfes.public.user_summary_old-4=OffsetAndMetadata{offset=169495, leaderEpoch=null, metadata=''}, qatest12nonfes.public.user_summary_old-1=OffsetAndMetadata{offset=199521, leaderEpoch=null, metadata=''}, qatest12nonfes.public.user_summary_old-2=OffsetAndMetadata{offset=174686, leaderEpoch=null, metadata=''}, qatest12nonfes.public.user_summary_old-0=OffsetAndMetadata{offset=181747, leaderEpoch=null, metadata=''}}\n",
      "query inside Jar\n",
      "Query made progress: {qatest12nonfes.public.user_summary_old-9=OffsetAndMetadata{offset=185962, leaderEpoch=null, metadata=''}, qatest12nonfes.public.user_summary_old-7=OffsetAndMetadata{offset=191258, leaderEpoch=null, metadata=''}, qatest12nonfes.public.user_summary_old-8=OffsetAndMetadata{offset=189877, leaderEpoch=null, metadata=''}, qatest12nonfes.public.user_summary_old-5=OffsetAndMetadata{offset=171068, leaderEpoch=null, metadata=''}, qatest12nonfes.public.user_summary_old-6=OffsetAndMetadata{offset=194807, leaderEpoch=null, metadata=''}, qatest12nonfes.public.user_summary_old-3=OffsetAndMetadata{offset=201131, leaderEpoch=null, metadata=''}, qatest12nonfes.public.user_summary_old-4=OffsetAndMetadata{offset=169495, leaderEpoch=null, metadata=''}, qatest12nonfes.public.user_summary_old-1=OffsetAndMetadata{offset=199521, leaderEpoch=null, metadata=''}, qatest12nonfes.public.user_summary_old-2=OffsetAndMetadata{offset=174686, leaderEpoch=null, metadata=''}, qatest12nonfes.public.user_summary_old-0=OffsetAndMetadata{offset=181747, leaderEpoch=null, metadata=''}}\n",
      "query inside Jar\n",
      "datalake-qa-91Query made progress: {qatest12nonfes.public.user_summary_old-9=OffsetAndMetadata{offset=185962, leaderEpoch=null, metadata=''}, qatest12nonfes.public.user_summary_old-7=OffsetAndMetadata{offset=191258, leaderEpoch=null, metadata=''}, qatest12nonfes.public.user_summary_old-8=OffsetAndMetadata{offset=189877, leaderEpoch=null, metadata=''}, qatest12nonfes.public.user_summary_old-5=OffsetAndMetadata{offset=171068, leaderEpoch=null, metadata=''}, qatest12nonfes.public.user_summary_old-6=OffsetAndMetadata{offset=194807, leaderEpoch=null, metadata=''}, qatest12nonfes.public.user_summary_old-3=OffsetAndMetadata{offset=201131, leaderEpoch=null, metadata=''}, qatest12nonfes.public.user_summary_old-4=OffsetAndMetadata{offset=169495, leaderEpoch=null, metadata=''}, qatest12nonfes.public.user_summary_old-1=OffsetAndMetadata{offset=199521, leaderEpoch=null, metadata=''}, qatest12nonfes.public.user_summary_old-2=OffsetAndMetadata{offset=174686, leaderEpoch=null, metadata=''}, qatest12nonfes.public.user_summary_old-0=OffsetAndMetadata{offset=181747, leaderEpoch=null, metadata=''}}\n",
      "query inside Jar\n",
      "+--------------------+--------------------+---------+------+--------------------+-------------+--------+--------------------+--------------------+\n",
      "|                 key|               topic|partition|offset|           timestamp|timestampType|schemaId|             payload|  valueConsumerKafka|\n",
      "+--------------------+--------------------+---------+------+--------------------+-------------+--------+--------------------+--------------------+\n",
      "|[00 00 00 07 32 8...|qatest12nonfes.pu...|        0|181747|2022-03-08 07:48:...|            0|    3737|[00 02 82 CD 2C F...|[, [365377, 3834,...|\n",
      "+--------------------+--------------------+---------+------+--------------------+-------------+--------+--------------------+--------------------+\n",
      "\n",
      "starting point\n",
      "2022-03-08 07:48:41.295766\n",
      "total partitions are\n",
      "1\n",
      "1\n",
      "2022-03-08 07:48:41.491811\n",
      "Query made progress: {qatest12nonfes.public.user_summary_old-9=OffsetAndMetadata{offset=185962, leaderEpoch=null, metadata=''}, qatest12nonfes.public.user_summary_old-7=OffsetAndMetadata{offset=191258, leaderEpoch=null, metadata=''}, qatest12nonfes.public.user_summary_old-8=OffsetAndMetadata{offset=189877, leaderEpoch=null, metadata=''}, qatest12nonfes.public.user_summary_old-5=OffsetAndMetadata{offset=171068, leaderEpoch=null, metadata=''}, qatest12nonfes.public.user_summary_old-6=OffsetAndMetadata{offset=194807, leaderEpoch=null, metadata=''}, qatest12nonfes.public.user_summary_old-3=OffsetAndMetadata{offset=201131, leaderEpoch=null, metadata=''}, qatest12nonfes.public.user_summary_old-4=OffsetAndMetadata{offset=169495, leaderEpoch=null, metadata=''}, qatest12nonfes.public.user_summary_old-1=OffsetAndMetadata{offset=199521, leaderEpoch=null, metadata=''}, qatest12nonfes.public.user_summary_old-2=OffsetAndMetadata{offset=174686, leaderEpoch=null, metadata=''}, qatest12nonfes.public.user_summary_old-0=OffsetAndMetadata{offset=181747, leaderEpoch=null, metadata=''}}\n",
      "query inside Jar\n",
      "created_at\n",
      "user_summary_old\n"
     ]
    },
    {
     "name": "stderr",
     "output_type": "stream",
     "text": [
      "[Stage 125:>                                                        (0 + 1) / 1]\r"
     ]
    },
    {
     "name": "stdout",
     "output_type": "stream",
     "text": [
      "Query made progress: {qatest12nonfes.public.user_summary_old-9=OffsetAndMetadata{offset=185962, leaderEpoch=null, metadata=''}, qatest12nonfes.public.user_summary_old-7=OffsetAndMetadata{offset=191258, leaderEpoch=null, metadata=''}, qatest12nonfes.public.user_summary_old-8=OffsetAndMetadata{offset=189877, leaderEpoch=null, metadata=''}, qatest12nonfes.public.user_summary_old-5=OffsetAndMetadata{offset=171068, leaderEpoch=null, metadata=''}, qatest12nonfes.public.user_summary_old-6=OffsetAndMetadata{offset=194807, leaderEpoch=null, metadata=''}, qatest12nonfes.public.user_summary_old-3=OffsetAndMetadata{offset=201131, leaderEpoch=null, metadata=''}, qatest12nonfes.public.user_summary_old-4=OffsetAndMetadata{offset=169495, leaderEpoch=null, metadata=''}, qatest12nonfes.public.user_summary_old-1=OffsetAndMetadata{offset=199521, leaderEpoch=null, metadata=''}, qatest12nonfes.public.user_summary_old-2=OffsetAndMetadata{offset=174686, leaderEpoch=null, metadata=''}, qatest12nonfes.public.user_summary_old-0=OffsetAndMetadata{offset=181747, leaderEpoch=null, metadata=''}}\n",
      "query inside Jar\n"
     ]
    },
    {
     "name": "stderr",
     "output_type": "stream",
     "text": [
      "                                                                                \r"
     ]
    },
    {
     "name": "stdout",
     "output_type": "stream",
     "text": [
      "Query made progress: {qatest12nonfes.public.user_summary_old-9=OffsetAndMetadata{offset=185962, leaderEpoch=null, metadata=''}, qatest12nonfes.public.user_summary_old-7=OffsetAndMetadata{offset=191258, leaderEpoch=null, metadata=''}, qatest12nonfes.public.user_summary_old-8=OffsetAndMetadata{offset=189877, leaderEpoch=null, metadata=''}, qatest12nonfes.public.user_summary_old-5=OffsetAndMetadata{offset=171068, leaderEpoch=null, metadata=''}, qatest12nonfes.public.user_summary_old-6=OffsetAndMetadata{offset=194807, leaderEpoch=null, metadata=''}, qatest12nonfes.public.user_summary_old-3=OffsetAndMetadata{offset=201131, leaderEpoch=null, metadata=''}, qatest12nonfes.public.user_summary_old-4=OffsetAndMetadata{offset=169495, leaderEpoch=null, metadata=''}, qatest12nonfes.public.user_summary_old-1=OffsetAndMetadata{offset=199521, leaderEpoch=null, metadata=''}, qatest12nonfes.public.user_summary_old-2=OffsetAndMetadata{offset=174686, leaderEpoch=null, metadata=''}, qatest12nonfes.public.user_summary_old-0=OffsetAndMetadata{offset=181747, leaderEpoch=null, metadata=''}}\n",
      "query inside Jar\n",
      "Query made progress: {qatest12nonfes.public.user_summary_old-9=OffsetAndMetadata{offset=185962, leaderEpoch=null, metadata=''}, qatest12nonfes.public.user_summary_old-7=OffsetAndMetadata{offset=191258, leaderEpoch=null, metadata=''}, qatest12nonfes.public.user_summary_old-8=OffsetAndMetadata{offset=189877, leaderEpoch=null, metadata=''}, qatest12nonfes.public.user_summary_old-5=OffsetAndMetadata{offset=171068, leaderEpoch=null, metadata=''}, qatest12nonfes.public.user_summary_old-6=OffsetAndMetadata{offset=194807, leaderEpoch=null, metadata=''}, qatest12nonfes.public.user_summary_old-3=OffsetAndMetadata{offset=201131, leaderEpoch=null, metadata=''}, qatest12nonfes.public.user_summary_old-4=OffsetAndMetadata{offset=169495, leaderEpoch=null, metadata=''}, qatest12nonfes.public.user_summary_old-1=OffsetAndMetadata{offset=199521, leaderEpoch=null, metadata=''}, qatest12nonfes.public.user_summary_old-2=OffsetAndMetadata{offset=174686, leaderEpoch=null, metadata=''}, qatest12nonfes.public.user_summary_old-0=OffsetAndMetadata{offset=181747, leaderEpoch=null, metadata=''}}\n",
      "query inside Jar\n"
     ]
    },
    {
     "name": "stderr",
     "output_type": "stream",
     "text": [
      "                                                                                \r"
     ]
    },
    {
     "name": "stdout",
     "output_type": "stream",
     "text": [
      "checkpoint 1\n",
      "after merge\n",
      "2022-03-08 07:48:44.664325\n",
      "Query made progress: {qatest12nonfes.public.user_summary_old-9=OffsetAndMetadata{offset=185962, leaderEpoch=null, metadata=''}, qatest12nonfes.public.user_summary_old-7=OffsetAndMetadata{offset=191258, leaderEpoch=null, metadata=''}, qatest12nonfes.public.user_summary_old-8=OffsetAndMetadata{offset=189877, leaderEpoch=null, metadata=''}, qatest12nonfes.public.user_summary_old-5=OffsetAndMetadata{offset=171068, leaderEpoch=null, metadata=''}, qatest12nonfes.public.user_summary_old-6=OffsetAndMetadata{offset=194807, leaderEpoch=null, metadata=''}, qatest12nonfes.public.user_summary_old-3=OffsetAndMetadata{offset=201131, leaderEpoch=null, metadata=''}, qatest12nonfes.public.user_summary_old-4=OffsetAndMetadata{offset=169495, leaderEpoch=null, metadata=''}, qatest12nonfes.public.user_summary_old-1=OffsetAndMetadata{offset=199521, leaderEpoch=null, metadata=''}, qatest12nonfes.public.user_summary_old-2=OffsetAndMetadata{offset=174686, leaderEpoch=null, metadata=''}, qatest12nonfes.public.user_summary_old-0=OffsetAndMetadata{offset=181747, leaderEpoch=null, metadata=''}}\n",
      "query inside Jar\n",
      "Query made progress: {qatest12nonfes.public.user_summary_old-9=OffsetAndMetadata{offset=185962, leaderEpoch=null, metadata=''}, qatest12nonfes.public.user_summary_old-7=OffsetAndMetadata{offset=191258, leaderEpoch=null, metadata=''}, qatest12nonfes.public.user_summary_old-8=OffsetAndMetadata{offset=189877, leaderEpoch=null, metadata=''}, qatest12nonfes.public.user_summary_old-5=OffsetAndMetadata{offset=171068, leaderEpoch=null, metadata=''}, qatest12nonfes.public.user_summary_old-6=OffsetAndMetadata{offset=194807, leaderEpoch=null, metadata=''}, qatest12nonfes.public.user_summary_old-3=OffsetAndMetadata{offset=201131, leaderEpoch=null, metadata=''}, qatest12nonfes.public.user_summary_old-4=OffsetAndMetadata{offset=169495, leaderEpoch=null, metadata=''}, qatest12nonfes.public.user_summary_old-1=OffsetAndMetadata{offset=199521, leaderEpoch=null, metadata=''}, qatest12nonfes.public.user_summary_old-2=OffsetAndMetadata{offset=174686, leaderEpoch=null, metadata=''}, qatest12nonfes.public.user_summary_old-0=OffsetAndMetadata{offset=181747, leaderEpoch=null, metadata=''}}\n",
      "query inside Jar\n",
      "Query made progress: {qatest12nonfes.public.user_summary_old-9=OffsetAndMetadata{offset=185962, leaderEpoch=null, metadata=''}, qatest12nonfes.public.user_summary_old-7=OffsetAndMetadata{offset=191258, leaderEpoch=null, metadata=''}, qatest12nonfes.public.user_summary_old-8=OffsetAndMetadata{offset=189877, leaderEpoch=null, metadata=''}, qatest12nonfes.public.user_summary_old-5=OffsetAndMetadata{offset=171068, leaderEpoch=null, metadata=''}, qatest12nonfes.public.user_summary_old-6=OffsetAndMetadata{offset=194807, leaderEpoch=null, metadata=''}, qatest12nonfes.public.user_summary_old-3=OffsetAndMetadata{offset=201131, leaderEpoch=null, metadata=''}, qatest12nonfes.public.user_summary_old-4=OffsetAndMetadata{offset=169495, leaderEpoch=null, metadata=''}, qatest12nonfes.public.user_summary_old-1=OffsetAndMetadata{offset=199521, leaderEpoch=null, metadata=''}, qatest12nonfes.public.user_summary_old-2=OffsetAndMetadata{offset=174686, leaderEpoch=null, metadata=''}, qatest12nonfes.public.user_summary_old-0=OffsetAndMetadata{offset=181747, leaderEpoch=null, metadata=''}}\n",
      "query inside Jar\n",
      "Query made progress: {qatest12nonfes.public.user_summary_old-9=OffsetAndMetadata{offset=185962, leaderEpoch=null, metadata=''}, qatest12nonfes.public.user_summary_old-7=OffsetAndMetadata{offset=191258, leaderEpoch=null, metadata=''}, qatest12nonfes.public.user_summary_old-8=OffsetAndMetadata{offset=189877, leaderEpoch=null, metadata=''}, qatest12nonfes.public.user_summary_old-5=OffsetAndMetadata{offset=171068, leaderEpoch=null, metadata=''}, qatest12nonfes.public.user_summary_old-6=OffsetAndMetadata{offset=194807, leaderEpoch=null, metadata=''}, qatest12nonfes.public.user_summary_old-3=OffsetAndMetadata{offset=201131, leaderEpoch=null, metadata=''}, qatest12nonfes.public.user_summary_old-4=OffsetAndMetadata{offset=169495, leaderEpoch=null, metadata=''}, qatest12nonfes.public.user_summary_old-1=OffsetAndMetadata{offset=199521, leaderEpoch=null, metadata=''}, qatest12nonfes.public.user_summary_old-2=OffsetAndMetadata{offset=174686, leaderEpoch=null, metadata=''}, qatest12nonfes.public.user_summary_old-0=OffsetAndMetadata{offset=181747, leaderEpoch=null, metadata=''}}\n",
      "query inside Jar\n",
      "Query made progress: {qatest12nonfes.public.user_summary_old-9=OffsetAndMetadata{offset=185962, leaderEpoch=null, metadata=''}, qatest12nonfes.public.user_summary_old-7=OffsetAndMetadata{offset=191258, leaderEpoch=null, metadata=''}, qatest12nonfes.public.user_summary_old-8=OffsetAndMetadata{offset=189877, leaderEpoch=null, metadata=''}, qatest12nonfes.public.user_summary_old-5=OffsetAndMetadata{offset=171068, leaderEpoch=null, metadata=''}, qatest12nonfes.public.user_summary_old-6=OffsetAndMetadata{offset=194807, leaderEpoch=null, metadata=''}, qatest12nonfes.public.user_summary_old-3=OffsetAndMetadata{offset=201131, leaderEpoch=null, metadata=''}, qatest12nonfes.public.user_summary_old-4=OffsetAndMetadata{offset=169495, leaderEpoch=null, metadata=''}, qatest12nonfes.public.user_summary_old-1=OffsetAndMetadata{offset=199521, leaderEpoch=null, metadata=''}, qatest12nonfes.public.user_summary_old-2=OffsetAndMetadata{offset=174686, leaderEpoch=null, metadata=''}, qatest12nonfes.public.user_summary_old-0=OffsetAndMetadata{offset=181747, leaderEpoch=null, metadata=''}}\n",
      "query inside Jar\n",
      "Query made progress: {qatest12nonfes.public.user_summary_old-9=OffsetAndMetadata{offset=185962, leaderEpoch=null, metadata=''}, qatest12nonfes.public.user_summary_old-7=OffsetAndMetadata{offset=191258, leaderEpoch=null, metadata=''}, qatest12nonfes.public.user_summary_old-8=OffsetAndMetadata{offset=189877, leaderEpoch=null, metadata=''}, qatest12nonfes.public.user_summary_old-5=OffsetAndMetadata{offset=171068, leaderEpoch=null, metadata=''}, qatest12nonfes.public.user_summary_old-6=OffsetAndMetadata{offset=194807, leaderEpoch=null, metadata=''}, qatest12nonfes.public.user_summary_old-3=OffsetAndMetadata{offset=201131, leaderEpoch=null, metadata=''}, qatest12nonfes.public.user_summary_old-4=OffsetAndMetadata{offset=169495, leaderEpoch=null, metadata=''}, qatest12nonfes.public.user_summary_old-1=OffsetAndMetadata{offset=199521, leaderEpoch=null, metadata=''}, qatest12nonfes.public.user_summary_old-2=OffsetAndMetadata{offset=174686, leaderEpoch=null, metadata=''}, qatest12nonfes.public.user_summary_old-0=OffsetAndMetadata{offset=181747, leaderEpoch=null, metadata=''}}\n",
      "query inside Jar\n",
      "Query made progress: {qatest12nonfes.public.user_summary_old-9=OffsetAndMetadata{offset=185962, leaderEpoch=null, metadata=''}, qatest12nonfes.public.user_summary_old-7=OffsetAndMetadata{offset=191258, leaderEpoch=null, metadata=''}, qatest12nonfes.public.user_summary_old-8=OffsetAndMetadata{offset=189877, leaderEpoch=null, metadata=''}, qatest12nonfes.public.user_summary_old-5=OffsetAndMetadata{offset=171068, leaderEpoch=null, metadata=''}, qatest12nonfes.public.user_summary_old-6=OffsetAndMetadata{offset=194807, leaderEpoch=null, metadata=''}, qatest12nonfes.public.user_summary_old-3=OffsetAndMetadata{offset=201131, leaderEpoch=null, metadata=''}, qatest12nonfes.public.user_summary_old-4=OffsetAndMetadata{offset=169495, leaderEpoch=null, metadata=''}, qatest12nonfes.public.user_summary_old-1=OffsetAndMetadata{offset=199521, leaderEpoch=null, metadata=''}, qatest12nonfes.public.user_summary_old-2=OffsetAndMetadata{offset=174686, leaderEpoch=null, metadata=''}, qatest12nonfes.public.user_summary_old-0=OffsetAndMetadata{offset=181747, leaderEpoch=null, metadata=''}}\n",
      "query inside Jar\n",
      "Query made progress: {qatest12nonfes.public.user_summary_old-9=OffsetAndMetadata{offset=185962, leaderEpoch=null, metadata=''}, qatest12nonfes.public.user_summary_old-7=OffsetAndMetadata{offset=191258, leaderEpoch=null, metadata=''}, qatest12nonfes.public.user_summary_old-8=OffsetAndMetadata{offset=189877, leaderEpoch=null, metadata=''}, qatest12nonfes.public.user_summary_old-5=OffsetAndMetadata{offset=171068, leaderEpoch=null, metadata=''}, qatest12nonfes.public.user_summary_old-6=OffsetAndMetadata{offset=194807, leaderEpoch=null, metadata=''}, qatest12nonfes.public.user_summary_old-3=OffsetAndMetadata{offset=201131, leaderEpoch=null, metadata=''}, qatest12nonfes.public.user_summary_old-4=OffsetAndMetadata{offset=169495, leaderEpoch=null, metadata=''}, qatest12nonfes.public.user_summary_old-1=OffsetAndMetadata{offset=199521, leaderEpoch=null, metadata=''}, qatest12nonfes.public.user_summary_old-2=OffsetAndMetadata{offset=174686, leaderEpoch=null, metadata=''}, qatest12nonfes.public.user_summary_old-0=OffsetAndMetadata{offset=181747, leaderEpoch=null, metadata=''}}\n",
      "query inside Jar\n",
      "Query made progress: {qatest12nonfes.public.user_summary_old-9=OffsetAndMetadata{offset=185962, leaderEpoch=null, metadata=''}, qatest12nonfes.public.user_summary_old-7=OffsetAndMetadata{offset=191258, leaderEpoch=null, metadata=''}, qatest12nonfes.public.user_summary_old-8=OffsetAndMetadata{offset=189877, leaderEpoch=null, metadata=''}, qatest12nonfes.public.user_summary_old-5=OffsetAndMetadata{offset=171068, leaderEpoch=null, metadata=''}, qatest12nonfes.public.user_summary_old-6=OffsetAndMetadata{offset=194807, leaderEpoch=null, metadata=''}, qatest12nonfes.public.user_summary_old-3=OffsetAndMetadata{offset=201131, leaderEpoch=null, metadata=''}, qatest12nonfes.public.user_summary_old-4=OffsetAndMetadata{offset=169495, leaderEpoch=null, metadata=''}, qatest12nonfes.public.user_summary_old-1=OffsetAndMetadata{offset=199521, leaderEpoch=null, metadata=''}, qatest12nonfes.public.user_summary_old-2=OffsetAndMetadata{offset=174686, leaderEpoch=null, metadata=''}, qatest12nonfes.public.user_summary_old-0=OffsetAndMetadata{offset=181747, leaderEpoch=null, metadata=''}}\n",
      "query inside Jar\n",
      "Query made progress: {qatest12nonfes.public.user_summary_old-9=OffsetAndMetadata{offset=185962, leaderEpoch=null, metadata=''}, qatest12nonfes.public.user_summary_old-7=OffsetAndMetadata{offset=191258, leaderEpoch=null, metadata=''}, qatest12nonfes.public.user_summary_old-8=OffsetAndMetadata{offset=189877, leaderEpoch=null, metadata=''}, qatest12nonfes.public.user_summary_old-5=OffsetAndMetadata{offset=171068, leaderEpoch=null, metadata=''}, qatest12nonfes.public.user_summary_old-6=OffsetAndMetadata{offset=194807, leaderEpoch=null, metadata=''}, qatest12nonfes.public.user_summary_old-3=OffsetAndMetadata{offset=201131, leaderEpoch=null, metadata=''}, qatest12nonfes.public.user_summary_old-4=OffsetAndMetadata{offset=169495, leaderEpoch=null, metadata=''}, qatest12nonfes.public.user_summary_old-1=OffsetAndMetadata{offset=199521, leaderEpoch=null, metadata=''}, qatest12nonfes.public.user_summary_old-2=OffsetAndMetadata{offset=174686, leaderEpoch=null, metadata=''}, qatest12nonfes.public.user_summary_old-0=OffsetAndMetadata{offset=181747, leaderEpoch=null, metadata=''}}\n",
      "query inside Jar\n",
      "Query made progress: {qatest12nonfes.public.user_summary_old-9=OffsetAndMetadata{offset=185962, leaderEpoch=null, metadata=''}, qatest12nonfes.public.user_summary_old-7=OffsetAndMetadata{offset=191258, leaderEpoch=null, metadata=''}, qatest12nonfes.public.user_summary_old-8=OffsetAndMetadata{offset=189877, leaderEpoch=null, metadata=''}, qatest12nonfes.public.user_summary_old-5=OffsetAndMetadata{offset=171068, leaderEpoch=null, metadata=''}, qatest12nonfes.public.user_summary_old-6=OffsetAndMetadata{offset=194807, leaderEpoch=null, metadata=''}, qatest12nonfes.public.user_summary_old-3=OffsetAndMetadata{offset=201131, leaderEpoch=null, metadata=''}, qatest12nonfes.public.user_summary_old-4=OffsetAndMetadata{offset=169495, leaderEpoch=null, metadata=''}, qatest12nonfes.public.user_summary_old-1=OffsetAndMetadata{offset=199521, leaderEpoch=null, metadata=''}, qatest12nonfes.public.user_summary_old-2=OffsetAndMetadata{offset=174686, leaderEpoch=null, metadata=''}, qatest12nonfes.public.user_summary_old-0=OffsetAndMetadata{offset=181747, leaderEpoch=null, metadata=''}}\n",
      "query inside Jar\n",
      "Query made progress: {qatest12nonfes.public.user_summary_old-9=OffsetAndMetadata{offset=185962, leaderEpoch=null, metadata=''}, qatest12nonfes.public.user_summary_old-7=OffsetAndMetadata{offset=191258, leaderEpoch=null, metadata=''}, qatest12nonfes.public.user_summary_old-8=OffsetAndMetadata{offset=189877, leaderEpoch=null, metadata=''}, qatest12nonfes.public.user_summary_old-5=OffsetAndMetadata{offset=171068, leaderEpoch=null, metadata=''}, qatest12nonfes.public.user_summary_old-6=OffsetAndMetadata{offset=194807, leaderEpoch=null, metadata=''}, qatest12nonfes.public.user_summary_old-3=OffsetAndMetadata{offset=201131, leaderEpoch=null, metadata=''}, qatest12nonfes.public.user_summary_old-4=OffsetAndMetadata{offset=169495, leaderEpoch=null, metadata=''}, qatest12nonfes.public.user_summary_old-1=OffsetAndMetadata{offset=199521, leaderEpoch=null, metadata=''}, qatest12nonfes.public.user_summary_old-2=OffsetAndMetadata{offset=174686, leaderEpoch=null, metadata=''}, qatest12nonfes.public.user_summary_old-0=OffsetAndMetadata{offset=181747, leaderEpoch=null, metadata=''}}\n",
      "query inside Jar\n",
      "Query made progress: {qatest12nonfes.public.user_summary_old-9=OffsetAndMetadata{offset=185962, leaderEpoch=null, metadata=''}, qatest12nonfes.public.user_summary_old-7=OffsetAndMetadata{offset=191258, leaderEpoch=null, metadata=''}, qatest12nonfes.public.user_summary_old-8=OffsetAndMetadata{offset=189877, leaderEpoch=null, metadata=''}, qatest12nonfes.public.user_summary_old-5=OffsetAndMetadata{offset=171068, leaderEpoch=null, metadata=''}, qatest12nonfes.public.user_summary_old-6=OffsetAndMetadata{offset=194807, leaderEpoch=null, metadata=''}, qatest12nonfes.public.user_summary_old-3=OffsetAndMetadata{offset=201131, leaderEpoch=null, metadata=''}, qatest12nonfes.public.user_summary_old-4=OffsetAndMetadata{offset=169495, leaderEpoch=null, metadata=''}, qatest12nonfes.public.user_summary_old-1=OffsetAndMetadata{offset=199521, leaderEpoch=null, metadata=''}, qatest12nonfes.public.user_summary_old-2=OffsetAndMetadata{offset=174686, leaderEpoch=null, metadata=''}, qatest12nonfes.public.user_summary_old-0=OffsetAndMetadata{offset=181747, leaderEpoch=null, metadata=''}}\n",
      "query inside Jar\n",
      "Query made progress: {qatest12nonfes.public.user_summary_old-9=OffsetAndMetadata{offset=185962, leaderEpoch=null, metadata=''}, qatest12nonfes.public.user_summary_old-7=OffsetAndMetadata{offset=191258, leaderEpoch=null, metadata=''}, qatest12nonfes.public.user_summary_old-8=OffsetAndMetadata{offset=189877, leaderEpoch=null, metadata=''}, qatest12nonfes.public.user_summary_old-5=OffsetAndMetadata{offset=171068, leaderEpoch=null, metadata=''}, qatest12nonfes.public.user_summary_old-6=OffsetAndMetadata{offset=194807, leaderEpoch=null, metadata=''}, qatest12nonfes.public.user_summary_old-3=OffsetAndMetadata{offset=201131, leaderEpoch=null, metadata=''}, qatest12nonfes.public.user_summary_old-4=OffsetAndMetadata{offset=169495, leaderEpoch=null, metadata=''}, qatest12nonfes.public.user_summary_old-1=OffsetAndMetadata{offset=199521, leaderEpoch=null, metadata=''}, qatest12nonfes.public.user_summary_old-2=OffsetAndMetadata{offset=174686, leaderEpoch=null, metadata=''}, qatest12nonfes.public.user_summary_old-0=OffsetAndMetadata{offset=181747, leaderEpoch=null, metadata=''}}\n",
      "query inside Jar\n",
      "datalake-qa-91Query made progress: {qatest12nonfes.public.user_summary_old-9=OffsetAndMetadata{offset=185962, leaderEpoch=null, metadata=''}, qatest12nonfes.public.user_summary_old-7=OffsetAndMetadata{offset=191258, leaderEpoch=null, metadata=''}, qatest12nonfes.public.user_summary_old-8=OffsetAndMetadata{offset=189877, leaderEpoch=null, metadata=''}, qatest12nonfes.public.user_summary_old-5=OffsetAndMetadata{offset=171068, leaderEpoch=null, metadata=''}, qatest12nonfes.public.user_summary_old-6=OffsetAndMetadata{offset=194807, leaderEpoch=null, metadata=''}, qatest12nonfes.public.user_summary_old-3=OffsetAndMetadata{offset=201131, leaderEpoch=null, metadata=''}, qatest12nonfes.public.user_summary_old-4=OffsetAndMetadata{offset=169495, leaderEpoch=null, metadata=''}, qatest12nonfes.public.user_summary_old-1=OffsetAndMetadata{offset=199521, leaderEpoch=null, metadata=''}, qatest12nonfes.public.user_summary_old-2=OffsetAndMetadata{offset=174686, leaderEpoch=null, metadata=''}, qatest12nonfes.public.user_summary_old-0=OffsetAndMetadata{offset=181747, leaderEpoch=null, metadata=''}}\n",
      "query inside Jar\n"
     ]
    },
    {
     "name": "stderr",
     "output_type": "stream",
     "text": [
      "                                                                                \r"
     ]
    },
    {
     "name": "stdout",
     "output_type": "stream",
     "text": [
      "+--------------------+--------------------+---------+------+--------------------+-------------+--------+--------------------+--------------------+\n",
      "|                 key|               topic|partition|offset|           timestamp|timestampType|schemaId|             payload|  valueConsumerKafka|\n",
      "+--------------------+--------------------+---------+------+--------------------+-------------+--------+--------------------+--------------------+\n",
      "|[00 00 00 07 32 B...|qatest12nonfes.pu...|        5|171068|2022-03-08 07:48:...|            0|    3737|[00 02 B8 D4 2C 9...|[, [365852, 35404...|\n",
      "+--------------------+--------------------+---------+------+--------------------+-------------+--------+--------------------+--------------------+\n",
      "\n",
      "starting point\n",
      "2022-03-08 07:49:01.559364\n",
      "total partitions are\n",
      "1\n",
      "1\n",
      "2022-03-08 07:49:01.807644\n",
      "created_at\n",
      "Query made progress: {qatest12nonfes.public.user_summary_old-9=OffsetAndMetadata{offset=185962, leaderEpoch=null, metadata=''}, qatest12nonfes.public.user_summary_old-7=OffsetAndMetadata{offset=191258, leaderEpoch=null, metadata=''}, qatest12nonfes.public.user_summary_old-8=OffsetAndMetadata{offset=189877, leaderEpoch=null, metadata=''}, qatest12nonfes.public.user_summary_old-5=OffsetAndMetadata{offset=171068, leaderEpoch=null, metadata=''}, qatest12nonfes.public.user_summary_old-6=OffsetAndMetadata{offset=194807, leaderEpoch=null, metadata=''}, qatest12nonfes.public.user_summary_old-3=OffsetAndMetadata{offset=201131, leaderEpoch=null, metadata=''}, qatest12nonfes.public.user_summary_old-4=OffsetAndMetadata{offset=169495, leaderEpoch=null, metadata=''}, qatest12nonfes.public.user_summary_old-1=OffsetAndMetadata{offset=199521, leaderEpoch=null, metadata=''}, qatest12nonfes.public.user_summary_old-2=OffsetAndMetadata{offset=174686, leaderEpoch=null, metadata=''}, qatest12nonfes.public.user_summary_old-0=OffsetAndMetadata{offset=181747, leaderEpoch=null, metadata=''}}\n",
      "query inside Jar\n",
      "user_summary_old\n"
     ]
    },
    {
     "name": "stderr",
     "output_type": "stream",
     "text": [
      "[Stage 132:>                                                        (0 + 1) / 1]\r"
     ]
    },
    {
     "name": "stdout",
     "output_type": "stream",
     "text": [
      "Query made progress: {qatest12nonfes.public.user_summary_old-9=OffsetAndMetadata{offset=185962, leaderEpoch=null, metadata=''}, qatest12nonfes.public.user_summary_old-7=OffsetAndMetadata{offset=191258, leaderEpoch=null, metadata=''}, qatest12nonfes.public.user_summary_old-8=OffsetAndMetadata{offset=189877, leaderEpoch=null, metadata=''}, qatest12nonfes.public.user_summary_old-5=OffsetAndMetadata{offset=171068, leaderEpoch=null, metadata=''}, qatest12nonfes.public.user_summary_old-6=OffsetAndMetadata{offset=194807, leaderEpoch=null, metadata=''}, qatest12nonfes.public.user_summary_old-3=OffsetAndMetadata{offset=201131, leaderEpoch=null, metadata=''}, qatest12nonfes.public.user_summary_old-4=OffsetAndMetadata{offset=169495, leaderEpoch=null, metadata=''}, qatest12nonfes.public.user_summary_old-1=OffsetAndMetadata{offset=199521, leaderEpoch=null, metadata=''}, qatest12nonfes.public.user_summary_old-2=OffsetAndMetadata{offset=174686, leaderEpoch=null, metadata=''}, qatest12nonfes.public.user_summary_old-0=OffsetAndMetadata{offset=181747, leaderEpoch=null, metadata=''}}\n",
      "query inside Jar\n"
     ]
    },
    {
     "name": "stderr",
     "output_type": "stream",
     "text": [
      "                                                                                \r"
     ]
    },
    {
     "name": "stdout",
     "output_type": "stream",
     "text": [
      "Query made progress: {qatest12nonfes.public.user_summary_old-9=OffsetAndMetadata{offset=185962, leaderEpoch=null, metadata=''}, qatest12nonfes.public.user_summary_old-7=OffsetAndMetadata{offset=191258, leaderEpoch=null, metadata=''}, qatest12nonfes.public.user_summary_old-8=OffsetAndMetadata{offset=189877, leaderEpoch=null, metadata=''}, qatest12nonfes.public.user_summary_old-5=OffsetAndMetadata{offset=171068, leaderEpoch=null, metadata=''}, qatest12nonfes.public.user_summary_old-6=OffsetAndMetadata{offset=194807, leaderEpoch=null, metadata=''}, qatest12nonfes.public.user_summary_old-3=OffsetAndMetadata{offset=201131, leaderEpoch=null, metadata=''}, qatest12nonfes.public.user_summary_old-4=OffsetAndMetadata{offset=169495, leaderEpoch=null, metadata=''}, qatest12nonfes.public.user_summary_old-1=OffsetAndMetadata{offset=199521, leaderEpoch=null, metadata=''}, qatest12nonfes.public.user_summary_old-2=OffsetAndMetadata{offset=174686, leaderEpoch=null, metadata=''}, qatest12nonfes.public.user_summary_old-0=OffsetAndMetadata{offset=181747, leaderEpoch=null, metadata=''}}\n",
      "query inside Jar\n",
      "Query made progress: {qatest12nonfes.public.user_summary_old-9=OffsetAndMetadata{offset=185962, leaderEpoch=null, metadata=''}, qatest12nonfes.public.user_summary_old-7=OffsetAndMetadata{offset=191258, leaderEpoch=null, metadata=''}, qatest12nonfes.public.user_summary_old-8=OffsetAndMetadata{offset=189877, leaderEpoch=null, metadata=''}, qatest12nonfes.public.user_summary_old-5=OffsetAndMetadata{offset=171068, leaderEpoch=null, metadata=''}, qatest12nonfes.public.user_summary_old-6=OffsetAndMetadata{offset=194807, leaderEpoch=null, metadata=''}, qatest12nonfes.public.user_summary_old-3=OffsetAndMetadata{offset=201131, leaderEpoch=null, metadata=''}, qatest12nonfes.public.user_summary_old-4=OffsetAndMetadata{offset=169495, leaderEpoch=null, metadata=''}, qatest12nonfes.public.user_summary_old-1=OffsetAndMetadata{offset=199521, leaderEpoch=null, metadata=''}, qatest12nonfes.public.user_summary_old-2=OffsetAndMetadata{offset=174686, leaderEpoch=null, metadata=''}, qatest12nonfes.public.user_summary_old-0=OffsetAndMetadata{offset=181747, leaderEpoch=null, metadata=''}}\n",
      "query inside Jar\n"
     ]
    },
    {
     "name": "stderr",
     "output_type": "stream",
     "text": [
      "                                                                                \r"
     ]
    },
    {
     "name": "stdout",
     "output_type": "stream",
     "text": [
      "checkpoint 1\n",
      "after merge\n",
      "2022-03-08 07:49:05.438256\n",
      "Query made progress: {qatest12nonfes.public.user_summary_old-9=OffsetAndMetadata{offset=185962, leaderEpoch=null, metadata=''}, qatest12nonfes.public.user_summary_old-7=OffsetAndMetadata{offset=191258, leaderEpoch=null, metadata=''}, qatest12nonfes.public.user_summary_old-8=OffsetAndMetadata{offset=189877, leaderEpoch=null, metadata=''}, qatest12nonfes.public.user_summary_old-5=OffsetAndMetadata{offset=171068, leaderEpoch=null, metadata=''}, qatest12nonfes.public.user_summary_old-6=OffsetAndMetadata{offset=194807, leaderEpoch=null, metadata=''}, qatest12nonfes.public.user_summary_old-3=OffsetAndMetadata{offset=201131, leaderEpoch=null, metadata=''}, qatest12nonfes.public.user_summary_old-4=OffsetAndMetadata{offset=169495, leaderEpoch=null, metadata=''}, qatest12nonfes.public.user_summary_old-1=OffsetAndMetadata{offset=199521, leaderEpoch=null, metadata=''}, qatest12nonfes.public.user_summary_old-2=OffsetAndMetadata{offset=174686, leaderEpoch=null, metadata=''}, qatest12nonfes.public.user_summary_old-0=OffsetAndMetadata{offset=181747, leaderEpoch=null, metadata=''}}\n",
      "query inside Jar\n"
     ]
    },
    {
     "ename": "KeyboardInterrupt",
     "evalue": "",
     "output_type": "error",
     "traceback": [
      "\u001b[0;31m---------------------------------------------------------------------------\u001b[0m",
      "\u001b[0;31mKeyboardInterrupt\u001b[0m                         Traceback (most recent call last)",
      "Input \u001b[0;32mIn [24]\u001b[0m, in \u001b[0;36m<cell line: 227>\u001b[0;34m()\u001b[0m\n\u001b[1;32m    218\u001b[0m kafka \u001b[38;5;241m=\u001b[39m kafka\u001b[38;5;241m.\u001b[39mfilter(\u001b[38;5;124m\"\u001b[39m\u001b[38;5;124mvalue is NOT NULL\u001b[39m\u001b[38;5;124m\"\u001b[39m)\n\u001b[1;32m    220\u001b[0m ssc \u001b[38;5;241m=\u001b[39m kafka \\\n\u001b[1;32m    221\u001b[0m             \u001b[38;5;241m.\u001b[39mwriteStream \\\n\u001b[1;32m    222\u001b[0m             \u001b[38;5;241m.\u001b[39mqueryName(\u001b[38;5;124m\"\u001b[39m\u001b[38;5;132;01m{0}\u001b[39;00m\u001b[38;5;124m\"\u001b[39m\u001b[38;5;241m.\u001b[39mformat(\u001b[38;5;124m\"\u001b[39m\u001b[38;5;124muser_summary_old\u001b[39m\u001b[38;5;124m\"\u001b[39m)) \\\n\u001b[1;32m    223\u001b[0m             \u001b[38;5;241m.\u001b[39moption(\u001b[38;5;124m\"\u001b[39m\u001b[38;5;124mcheckpointLocation\u001b[39m\u001b[38;5;124m\"\u001b[39m, \u001b[38;5;124m\"\u001b[39m\u001b[38;5;124mcp/raw/\u001b[39m\u001b[38;5;124m\"\u001b[39m) \\\n\u001b[1;32m    224\u001b[0m             \u001b[38;5;241m.\u001b[39mtrigger(processingTime\u001b[38;5;241m=\u001b[39m\u001b[38;5;124m'\u001b[39m\u001b[38;5;124m10 seconds\u001b[39m\u001b[38;5;124m'\u001b[39m) \\\n\u001b[1;32m    225\u001b[0m             \u001b[38;5;241m.\u001b[39mforeachBatch(upsertToDelta2)\u001b[38;5;241m.\u001b[39mstart()\n\u001b[0;32m--> 227\u001b[0m \u001b[43mssc\u001b[49m\u001b[38;5;241;43m.\u001b[39;49m\u001b[43mawaitTermination\u001b[49m\u001b[43m(\u001b[49m\u001b[43m)\u001b[49m\n",
      "File \u001b[0;32m/usr/local/lib/python3.9/dist-packages/pyspark/sql/streaming.py:103\u001b[0m, in \u001b[0;36mStreamingQuery.awaitTermination\u001b[0;34m(self, timeout)\u001b[0m\n\u001b[1;32m    101\u001b[0m     \u001b[38;5;28;01mreturn\u001b[39;00m \u001b[38;5;28mself\u001b[39m\u001b[38;5;241m.\u001b[39m_jsq\u001b[38;5;241m.\u001b[39mawaitTermination(\u001b[38;5;28mint\u001b[39m(timeout \u001b[38;5;241m*\u001b[39m \u001b[38;5;241m1000\u001b[39m))\n\u001b[1;32m    102\u001b[0m \u001b[38;5;28;01melse\u001b[39;00m:\n\u001b[0;32m--> 103\u001b[0m     \u001b[38;5;28;01mreturn\u001b[39;00m \u001b[38;5;28;43mself\u001b[39;49m\u001b[38;5;241;43m.\u001b[39;49m\u001b[43m_jsq\u001b[49m\u001b[38;5;241;43m.\u001b[39;49m\u001b[43mawaitTermination\u001b[49m\u001b[43m(\u001b[49m\u001b[43m)\u001b[49m\n",
      "File \u001b[0;32m/usr/local/lib/python3.9/dist-packages/py4j/java_gateway.py:1303\u001b[0m, in \u001b[0;36mJavaMember.__call__\u001b[0;34m(self, *args)\u001b[0m\n\u001b[1;32m   1296\u001b[0m args_command, temp_args \u001b[38;5;241m=\u001b[39m \u001b[38;5;28mself\u001b[39m\u001b[38;5;241m.\u001b[39m_build_args(\u001b[38;5;241m*\u001b[39margs)\n\u001b[1;32m   1298\u001b[0m command \u001b[38;5;241m=\u001b[39m proto\u001b[38;5;241m.\u001b[39mCALL_COMMAND_NAME \u001b[38;5;241m+\u001b[39m\\\n\u001b[1;32m   1299\u001b[0m     \u001b[38;5;28mself\u001b[39m\u001b[38;5;241m.\u001b[39mcommand_header \u001b[38;5;241m+\u001b[39m\\\n\u001b[1;32m   1300\u001b[0m     args_command \u001b[38;5;241m+\u001b[39m\\\n\u001b[1;32m   1301\u001b[0m     proto\u001b[38;5;241m.\u001b[39mEND_COMMAND_PART\n\u001b[0;32m-> 1303\u001b[0m answer \u001b[38;5;241m=\u001b[39m \u001b[38;5;28;43mself\u001b[39;49m\u001b[38;5;241;43m.\u001b[39;49m\u001b[43mgateway_client\u001b[49m\u001b[38;5;241;43m.\u001b[39;49m\u001b[43msend_command\u001b[49m\u001b[43m(\u001b[49m\u001b[43mcommand\u001b[49m\u001b[43m)\u001b[49m\n\u001b[1;32m   1304\u001b[0m return_value \u001b[38;5;241m=\u001b[39m get_return_value(\n\u001b[1;32m   1305\u001b[0m     answer, \u001b[38;5;28mself\u001b[39m\u001b[38;5;241m.\u001b[39mgateway_client, \u001b[38;5;28mself\u001b[39m\u001b[38;5;241m.\u001b[39mtarget_id, \u001b[38;5;28mself\u001b[39m\u001b[38;5;241m.\u001b[39mname)\n\u001b[1;32m   1307\u001b[0m \u001b[38;5;28;01mfor\u001b[39;00m temp_arg \u001b[38;5;129;01min\u001b[39;00m temp_args:\n",
      "File \u001b[0;32m/usr/local/lib/python3.9/dist-packages/py4j/java_gateway.py:1033\u001b[0m, in \u001b[0;36mGatewayClient.send_command\u001b[0;34m(self, command, retry, binary)\u001b[0m\n\u001b[1;32m   1031\u001b[0m connection \u001b[38;5;241m=\u001b[39m \u001b[38;5;28mself\u001b[39m\u001b[38;5;241m.\u001b[39m_get_connection()\n\u001b[1;32m   1032\u001b[0m \u001b[38;5;28;01mtry\u001b[39;00m:\n\u001b[0;32m-> 1033\u001b[0m     response \u001b[38;5;241m=\u001b[39m \u001b[43mconnection\u001b[49m\u001b[38;5;241;43m.\u001b[39;49m\u001b[43msend_command\u001b[49m\u001b[43m(\u001b[49m\u001b[43mcommand\u001b[49m\u001b[43m)\u001b[49m\n\u001b[1;32m   1034\u001b[0m     \u001b[38;5;28;01mif\u001b[39;00m binary:\n\u001b[1;32m   1035\u001b[0m         \u001b[38;5;28;01mreturn\u001b[39;00m response, \u001b[38;5;28mself\u001b[39m\u001b[38;5;241m.\u001b[39m_create_connection_guard(connection)\n",
      "File \u001b[0;32m/usr/local/lib/python3.9/dist-packages/py4j/java_gateway.py:1200\u001b[0m, in \u001b[0;36mGatewayConnection.send_command\u001b[0;34m(self, command)\u001b[0m\n\u001b[1;32m   1196\u001b[0m     \u001b[38;5;28;01mraise\u001b[39;00m Py4JNetworkError(\n\u001b[1;32m   1197\u001b[0m         \u001b[38;5;124m\"\u001b[39m\u001b[38;5;124mError while sending\u001b[39m\u001b[38;5;124m\"\u001b[39m, e, proto\u001b[38;5;241m.\u001b[39mERROR_ON_SEND)\n\u001b[1;32m   1199\u001b[0m \u001b[38;5;28;01mtry\u001b[39;00m:\n\u001b[0;32m-> 1200\u001b[0m     answer \u001b[38;5;241m=\u001b[39m smart_decode(\u001b[38;5;28;43mself\u001b[39;49m\u001b[38;5;241;43m.\u001b[39;49m\u001b[43mstream\u001b[49m\u001b[38;5;241;43m.\u001b[39;49m\u001b[43mreadline\u001b[49m\u001b[43m(\u001b[49m\u001b[43m)\u001b[49m[:\u001b[38;5;241m-\u001b[39m\u001b[38;5;241m1\u001b[39m])\n\u001b[1;32m   1201\u001b[0m     logger\u001b[38;5;241m.\u001b[39mdebug(\u001b[38;5;124m\"\u001b[39m\u001b[38;5;124mAnswer received: \u001b[39m\u001b[38;5;132;01m{0}\u001b[39;00m\u001b[38;5;124m\"\u001b[39m\u001b[38;5;241m.\u001b[39mformat(answer))\n\u001b[1;32m   1202\u001b[0m     \u001b[38;5;28;01mif\u001b[39;00m answer\u001b[38;5;241m.\u001b[39mstartswith(proto\u001b[38;5;241m.\u001b[39mRETURN_MESSAGE):\n",
      "File \u001b[0;32m/usr/lib/python3.9/socket.py:704\u001b[0m, in \u001b[0;36mSocketIO.readinto\u001b[0;34m(self, b)\u001b[0m\n\u001b[1;32m    702\u001b[0m \u001b[38;5;28;01mwhile\u001b[39;00m \u001b[38;5;28;01mTrue\u001b[39;00m:\n\u001b[1;32m    703\u001b[0m     \u001b[38;5;28;01mtry\u001b[39;00m:\n\u001b[0;32m--> 704\u001b[0m         \u001b[38;5;28;01mreturn\u001b[39;00m \u001b[38;5;28;43mself\u001b[39;49m\u001b[38;5;241;43m.\u001b[39;49m\u001b[43m_sock\u001b[49m\u001b[38;5;241;43m.\u001b[39;49m\u001b[43mrecv_into\u001b[49m\u001b[43m(\u001b[49m\u001b[43mb\u001b[49m\u001b[43m)\u001b[49m\n\u001b[1;32m    705\u001b[0m     \u001b[38;5;28;01mexcept\u001b[39;00m timeout:\n\u001b[1;32m    706\u001b[0m         \u001b[38;5;28mself\u001b[39m\u001b[38;5;241m.\u001b[39m_timeout_occurred \u001b[38;5;241m=\u001b[39m \u001b[38;5;28;01mTrue\u001b[39;00m\n",
      "\u001b[0;31mKeyboardInterrupt\u001b[0m: "
     ]
    },
    {
     "name": "stdout",
     "output_type": "stream",
     "text": [
      "Query made progress: {qatest12nonfes.public.user_summary_old-9=OffsetAndMetadata{offset=185963, leaderEpoch=null, metadata=''}, qatest12nonfes.public.user_summary_old-7=OffsetAndMetadata{offset=191258, leaderEpoch=null, metadata=''}, qatest12nonfes.public.user_summary_old-8=OffsetAndMetadata{offset=189877, leaderEpoch=null, metadata=''}, qatest12nonfes.public.user_summary_old-5=OffsetAndMetadata{offset=171068, leaderEpoch=null, metadata=''}, qatest12nonfes.public.user_summary_old-6=OffsetAndMetadata{offset=194807, leaderEpoch=null, metadata=''}, qatest12nonfes.public.user_summary_old-3=OffsetAndMetadata{offset=201131, leaderEpoch=null, metadata=''}, qatest12nonfes.public.user_summary_old-4=OffsetAndMetadata{offset=169495, leaderEpoch=null, metadata=''}, qatest12nonfes.public.user_summary_old-1=OffsetAndMetadata{offset=199521, leaderEpoch=null, metadata=''}, qatest12nonfes.public.user_summary_old-2=OffsetAndMetadata{offset=174686, leaderEpoch=null, metadata=''}, qatest12nonfes.public.user_summary_old-0=OffsetAndMetadata{offset=181747, leaderEpoch=null, metadata=''}}\n",
      "query inside Jar\n",
      "Query made progress: {qatest12nonfes.public.user_summary_old-9=OffsetAndMetadata{offset=185963, leaderEpoch=null, metadata=''}, qatest12nonfes.public.user_summary_old-7=OffsetAndMetadata{offset=191258, leaderEpoch=null, metadata=''}, qatest12nonfes.public.user_summary_old-8=OffsetAndMetadata{offset=189877, leaderEpoch=null, metadata=''}, qatest12nonfes.public.user_summary_old-5=OffsetAndMetadata{offset=171068, leaderEpoch=null, metadata=''}, qatest12nonfes.public.user_summary_old-6=OffsetAndMetadata{offset=194807, leaderEpoch=null, metadata=''}, qatest12nonfes.public.user_summary_old-3=OffsetAndMetadata{offset=201131, leaderEpoch=null, metadata=''}, qatest12nonfes.public.user_summary_old-4=OffsetAndMetadata{offset=169495, leaderEpoch=null, metadata=''}, qatest12nonfes.public.user_summary_old-1=OffsetAndMetadata{offset=199521, leaderEpoch=null, metadata=''}, qatest12nonfes.public.user_summary_old-2=OffsetAndMetadata{offset=174686, leaderEpoch=null, metadata=''}, qatest12nonfes.public.user_summary_old-0=OffsetAndMetadata{offset=181747, leaderEpoch=null, metadata=''}}\n",
      "query inside Jar\n",
      "Query made progress: {qatest12nonfes.public.user_summary_old-9=OffsetAndMetadata{offset=185963, leaderEpoch=null, metadata=''}, qatest12nonfes.public.user_summary_old-7=OffsetAndMetadata{offset=191258, leaderEpoch=null, metadata=''}, qatest12nonfes.public.user_summary_old-8=OffsetAndMetadata{offset=189877, leaderEpoch=null, metadata=''}, qatest12nonfes.public.user_summary_old-5=OffsetAndMetadata{offset=171068, leaderEpoch=null, metadata=''}, qatest12nonfes.public.user_summary_old-6=OffsetAndMetadata{offset=194807, leaderEpoch=null, metadata=''}, qatest12nonfes.public.user_summary_old-3=OffsetAndMetadata{offset=201131, leaderEpoch=null, metadata=''}, qatest12nonfes.public.user_summary_old-4=OffsetAndMetadata{offset=169495, leaderEpoch=null, metadata=''}, qatest12nonfes.public.user_summary_old-1=OffsetAndMetadata{offset=199521, leaderEpoch=null, metadata=''}, qatest12nonfes.public.user_summary_old-2=OffsetAndMetadata{offset=174686, leaderEpoch=null, metadata=''}, qatest12nonfes.public.user_summary_old-0=OffsetAndMetadata{offset=181747, leaderEpoch=null, metadata=''}}\n",
      "query inside Jar\n",
      "Query made progress: {qatest12nonfes.public.user_summary_old-9=OffsetAndMetadata{offset=185963, leaderEpoch=null, metadata=''}, qatest12nonfes.public.user_summary_old-7=OffsetAndMetadata{offset=191258, leaderEpoch=null, metadata=''}, qatest12nonfes.public.user_summary_old-8=OffsetAndMetadata{offset=189877, leaderEpoch=null, metadata=''}, qatest12nonfes.public.user_summary_old-5=OffsetAndMetadata{offset=171068, leaderEpoch=null, metadata=''}, qatest12nonfes.public.user_summary_old-6=OffsetAndMetadata{offset=194807, leaderEpoch=null, metadata=''}, qatest12nonfes.public.user_summary_old-3=OffsetAndMetadata{offset=201131, leaderEpoch=null, metadata=''}, qatest12nonfes.public.user_summary_old-4=OffsetAndMetadata{offset=169495, leaderEpoch=null, metadata=''}, qatest12nonfes.public.user_summary_old-1=OffsetAndMetadata{offset=199521, leaderEpoch=null, metadata=''}, qatest12nonfes.public.user_summary_old-2=OffsetAndMetadata{offset=174686, leaderEpoch=null, metadata=''}, qatest12nonfes.public.user_summary_old-0=OffsetAndMetadata{offset=181747, leaderEpoch=null, metadata=''}}\n",
      "query inside Jar\n",
      "Query made progress: {qatest12nonfes.public.user_summary_old-9=OffsetAndMetadata{offset=185963, leaderEpoch=null, metadata=''}, qatest12nonfes.public.user_summary_old-7=OffsetAndMetadata{offset=191258, leaderEpoch=null, metadata=''}, qatest12nonfes.public.user_summary_old-8=OffsetAndMetadata{offset=189877, leaderEpoch=null, metadata=''}, qatest12nonfes.public.user_summary_old-5=OffsetAndMetadata{offset=171068, leaderEpoch=null, metadata=''}, qatest12nonfes.public.user_summary_old-6=OffsetAndMetadata{offset=194807, leaderEpoch=null, metadata=''}, qatest12nonfes.public.user_summary_old-3=OffsetAndMetadata{offset=201131, leaderEpoch=null, metadata=''}, qatest12nonfes.public.user_summary_old-4=OffsetAndMetadata{offset=169495, leaderEpoch=null, metadata=''}, qatest12nonfes.public.user_summary_old-1=OffsetAndMetadata{offset=199521, leaderEpoch=null, metadata=''}, qatest12nonfes.public.user_summary_old-2=OffsetAndMetadata{offset=174686, leaderEpoch=null, metadata=''}, qatest12nonfes.public.user_summary_old-0=OffsetAndMetadata{offset=181747, leaderEpoch=null, metadata=''}}\n",
      "query inside Jar\n",
      "Query made progress: {qatest12nonfes.public.user_summary_old-9=OffsetAndMetadata{offset=185963, leaderEpoch=null, metadata=''}, qatest12nonfes.public.user_summary_old-7=OffsetAndMetadata{offset=191258, leaderEpoch=null, metadata=''}, qatest12nonfes.public.user_summary_old-8=OffsetAndMetadata{offset=189877, leaderEpoch=null, metadata=''}, qatest12nonfes.public.user_summary_old-5=OffsetAndMetadata{offset=171068, leaderEpoch=null, metadata=''}, qatest12nonfes.public.user_summary_old-6=OffsetAndMetadata{offset=194807, leaderEpoch=null, metadata=''}, qatest12nonfes.public.user_summary_old-3=OffsetAndMetadata{offset=201131, leaderEpoch=null, metadata=''}, qatest12nonfes.public.user_summary_old-4=OffsetAndMetadata{offset=169495, leaderEpoch=null, metadata=''}, qatest12nonfes.public.user_summary_old-1=OffsetAndMetadata{offset=199521, leaderEpoch=null, metadata=''}, qatest12nonfes.public.user_summary_old-2=OffsetAndMetadata{offset=174686, leaderEpoch=null, metadata=''}, qatest12nonfes.public.user_summary_old-0=OffsetAndMetadata{offset=181747, leaderEpoch=null, metadata=''}}\n",
      "query inside Jar\n",
      "Query made progress: {qatest12nonfes.public.user_summary_old-9=OffsetAndMetadata{offset=185963, leaderEpoch=null, metadata=''}, qatest12nonfes.public.user_summary_old-7=OffsetAndMetadata{offset=191258, leaderEpoch=null, metadata=''}, qatest12nonfes.public.user_summary_old-8=OffsetAndMetadata{offset=189877, leaderEpoch=null, metadata=''}, qatest12nonfes.public.user_summary_old-5=OffsetAndMetadata{offset=171068, leaderEpoch=null, metadata=''}, qatest12nonfes.public.user_summary_old-6=OffsetAndMetadata{offset=194807, leaderEpoch=null, metadata=''}, qatest12nonfes.public.user_summary_old-3=OffsetAndMetadata{offset=201131, leaderEpoch=null, metadata=''}, qatest12nonfes.public.user_summary_old-4=OffsetAndMetadata{offset=169495, leaderEpoch=null, metadata=''}, qatest12nonfes.public.user_summary_old-1=OffsetAndMetadata{offset=199521, leaderEpoch=null, metadata=''}, qatest12nonfes.public.user_summary_old-2=OffsetAndMetadata{offset=174686, leaderEpoch=null, metadata=''}, qatest12nonfes.public.user_summary_old-0=OffsetAndMetadata{offset=181747, leaderEpoch=null, metadata=''}}\n",
      "query inside Jar\n",
      "Query made progress: {qatest12nonfes.public.user_summary_old-9=OffsetAndMetadata{offset=185963, leaderEpoch=null, metadata=''}, qatest12nonfes.public.user_summary_old-7=OffsetAndMetadata{offset=191258, leaderEpoch=null, metadata=''}, qatest12nonfes.public.user_summary_old-8=OffsetAndMetadata{offset=189877, leaderEpoch=null, metadata=''}, qatest12nonfes.public.user_summary_old-5=OffsetAndMetadata{offset=171068, leaderEpoch=null, metadata=''}, qatest12nonfes.public.user_summary_old-6=OffsetAndMetadata{offset=194807, leaderEpoch=null, metadata=''}, qatest12nonfes.public.user_summary_old-3=OffsetAndMetadata{offset=201131, leaderEpoch=null, metadata=''}, qatest12nonfes.public.user_summary_old-4=OffsetAndMetadata{offset=169495, leaderEpoch=null, metadata=''}, qatest12nonfes.public.user_summary_old-1=OffsetAndMetadata{offset=199521, leaderEpoch=null, metadata=''}, qatest12nonfes.public.user_summary_old-2=OffsetAndMetadata{offset=174686, leaderEpoch=null, metadata=''}, qatest12nonfes.public.user_summary_old-0=OffsetAndMetadata{offset=181747, leaderEpoch=null, metadata=''}}\n",
      "query inside Jar\n",
      "Query made progress: {qatest12nonfes.public.user_summary_old-9=OffsetAndMetadata{offset=185963, leaderEpoch=null, metadata=''}, qatest12nonfes.public.user_summary_old-7=OffsetAndMetadata{offset=191258, leaderEpoch=null, metadata=''}, qatest12nonfes.public.user_summary_old-8=OffsetAndMetadata{offset=189877, leaderEpoch=null, metadata=''}, qatest12nonfes.public.user_summary_old-5=OffsetAndMetadata{offset=171068, leaderEpoch=null, metadata=''}, qatest12nonfes.public.user_summary_old-6=OffsetAndMetadata{offset=194807, leaderEpoch=null, metadata=''}, qatest12nonfes.public.user_summary_old-3=OffsetAndMetadata{offset=201131, leaderEpoch=null, metadata=''}, qatest12nonfes.public.user_summary_old-4=OffsetAndMetadata{offset=169495, leaderEpoch=null, metadata=''}, qatest12nonfes.public.user_summary_old-1=OffsetAndMetadata{offset=199521, leaderEpoch=null, metadata=''}, qatest12nonfes.public.user_summary_old-2=OffsetAndMetadata{offset=174686, leaderEpoch=null, metadata=''}, qatest12nonfes.public.user_summary_old-0=OffsetAndMetadata{offset=181747, leaderEpoch=null, metadata=''}}\n",
      "query inside Jar\n",
      "Query made progress: {qatest12nonfes.public.user_summary_old-9=OffsetAndMetadata{offset=185963, leaderEpoch=null, metadata=''}, qatest12nonfes.public.user_summary_old-7=OffsetAndMetadata{offset=191258, leaderEpoch=null, metadata=''}, qatest12nonfes.public.user_summary_old-8=OffsetAndMetadata{offset=189877, leaderEpoch=null, metadata=''}, qatest12nonfes.public.user_summary_old-5=OffsetAndMetadata{offset=171068, leaderEpoch=null, metadata=''}, qatest12nonfes.public.user_summary_old-6=OffsetAndMetadata{offset=194807, leaderEpoch=null, metadata=''}, qatest12nonfes.public.user_summary_old-3=OffsetAndMetadata{offset=201131, leaderEpoch=null, metadata=''}, qatest12nonfes.public.user_summary_old-4=OffsetAndMetadata{offset=169495, leaderEpoch=null, metadata=''}, qatest12nonfes.public.user_summary_old-1=OffsetAndMetadata{offset=199521, leaderEpoch=null, metadata=''}, qatest12nonfes.public.user_summary_old-2=OffsetAndMetadata{offset=174686, leaderEpoch=null, metadata=''}, qatest12nonfes.public.user_summary_old-0=OffsetAndMetadata{offset=181747, leaderEpoch=null, metadata=''}}\n",
      "query inside Jar\n",
      "Query made progress: {qatest12nonfes.public.user_summary_old-9=OffsetAndMetadata{offset=185963, leaderEpoch=null, metadata=''}, qatest12nonfes.public.user_summary_old-7=OffsetAndMetadata{offset=191258, leaderEpoch=null, metadata=''}, qatest12nonfes.public.user_summary_old-8=OffsetAndMetadata{offset=189877, leaderEpoch=null, metadata=''}, qatest12nonfes.public.user_summary_old-5=OffsetAndMetadata{offset=171068, leaderEpoch=null, metadata=''}, qatest12nonfes.public.user_summary_old-6=OffsetAndMetadata{offset=194807, leaderEpoch=null, metadata=''}, qatest12nonfes.public.user_summary_old-3=OffsetAndMetadata{offset=201131, leaderEpoch=null, metadata=''}, qatest12nonfes.public.user_summary_old-4=OffsetAndMetadata{offset=169495, leaderEpoch=null, metadata=''}, qatest12nonfes.public.user_summary_old-1=OffsetAndMetadata{offset=199521, leaderEpoch=null, metadata=''}, qatest12nonfes.public.user_summary_old-2=OffsetAndMetadata{offset=174686, leaderEpoch=null, metadata=''}, qatest12nonfes.public.user_summary_old-0=OffsetAndMetadata{offset=181747, leaderEpoch=null, metadata=''}}\n",
      "query inside Jar\n"
     ]
    },
    {
     "name": "stderr",
     "output_type": "stream",
     "text": [
      "22/03/08 07:49:19 ERROR StandaloneSchedulerBackend: Application has been killed. Reason: Master removed our application: KILLED\n",
      "22/03/08 07:49:19 ERROR Inbox: Ignoring error\n",
      "org.apache.spark.SparkException: Exiting due to error from cluster scheduler: Master removed our application: KILLED\n",
      "\tat org.apache.spark.scheduler.TaskSchedulerImpl.error(TaskSchedulerImpl.scala:716)\n",
      "\tat org.apache.spark.scheduler.cluster.StandaloneSchedulerBackend.dead(StandaloneSchedulerBackend.scala:152)\n",
      "\tat org.apache.spark.deploy.client.StandaloneAppClient$ClientEndpoint.markDead(StandaloneAppClient.scala:258)\n",
      "\tat org.apache.spark.deploy.client.StandaloneAppClient$ClientEndpoint$$anonfun$receive$1.applyOrElse(StandaloneAppClient.scala:168)\n",
      "\tat org.apache.spark.rpc.netty.Inbox.$anonfun$process$1(Inbox.scala:115)\n",
      "\tat org.apache.spark.rpc.netty.Inbox.safelyCall(Inbox.scala:203)\n",
      "\tat org.apache.spark.rpc.netty.Inbox.process(Inbox.scala:100)\n",
      "\tat org.apache.spark.rpc.netty.MessageLoop.org$apache$spark$rpc$netty$MessageLoop$$receiveLoop(MessageLoop.scala:75)\n",
      "\tat org.apache.spark.rpc.netty.MessageLoop$$anon$1.run(MessageLoop.scala:41)\n",
      "\tat java.util.concurrent.ThreadPoolExecutor.runWorker(ThreadPoolExecutor.java:1149)\n",
      "\tat java.util.concurrent.ThreadPoolExecutor$Worker.run(ThreadPoolExecutor.java:624)\n",
      "\tat java.lang.Thread.run(Thread.java:750)\n"
     ]
    },
    {
     "name": "stdout",
     "output_type": "stream",
     "text": [
      "Query made progress: {qatest12nonfes.public.user_summary_old-9=OffsetAndMetadata{offset=185963, leaderEpoch=null, metadata=''}, qatest12nonfes.public.user_summary_old-7=OffsetAndMetadata{offset=191258, leaderEpoch=null, metadata=''}, qatest12nonfes.public.user_summary_old-8=OffsetAndMetadata{offset=189877, leaderEpoch=null, metadata=''}, qatest12nonfes.public.user_summary_old-5=OffsetAndMetadata{offset=171068, leaderEpoch=null, metadata=''}, qatest12nonfes.public.user_summary_old-6=OffsetAndMetadata{offset=194807, leaderEpoch=null, metadata=''}, qatest12nonfes.public.user_summary_old-3=OffsetAndMetadata{offset=201131, leaderEpoch=null, metadata=''}, qatest12nonfes.public.user_summary_old-4=OffsetAndMetadata{offset=169495, leaderEpoch=null, metadata=''}, qatest12nonfes.public.user_summary_old-1=OffsetAndMetadata{offset=199521, leaderEpoch=null, metadata=''}, qatest12nonfes.public.user_summary_old-2=OffsetAndMetadata{offset=174686, leaderEpoch=null, metadata=''}, qatest12nonfes.public.user_summary_old-0=OffsetAndMetadata{offset=181747, leaderEpoch=null, metadata=''}}\n",
      "query inside Jar\n",
      "datalake-qa-91Query made progress: {qatest12nonfes.public.user_summary_old-9=OffsetAndMetadata{offset=185963, leaderEpoch=null, metadata=''}, qatest12nonfes.public.user_summary_old-7=OffsetAndMetadata{offset=191258, leaderEpoch=null, metadata=''}, qatest12nonfes.public.user_summary_old-8=OffsetAndMetadata{offset=189877, leaderEpoch=null, metadata=''}, qatest12nonfes.public.user_summary_old-5=OffsetAndMetadata{offset=171068, leaderEpoch=null, metadata=''}, qatest12nonfes.public.user_summary_old-6=OffsetAndMetadata{offset=194807, leaderEpoch=null, metadata=''}, qatest12nonfes.public.user_summary_old-3=OffsetAndMetadata{offset=201131, leaderEpoch=null, metadata=''}, qatest12nonfes.public.user_summary_old-4=OffsetAndMetadata{offset=169495, leaderEpoch=null, metadata=''}, qatest12nonfes.public.user_summary_old-1=OffsetAndMetadata{offset=199521, leaderEpoch=null, metadata=''}, qatest12nonfes.public.user_summary_old-2=OffsetAndMetadata{offset=174686, leaderEpoch=null, metadata=''}, qatest12nonfes.public.user_summary_old-0=OffsetAndMetadata{offset=181747, leaderEpoch=null, metadata=''}}\n",
      "query inside Jar\n"
     ]
    },
    {
     "name": "stderr",
     "output_type": "stream",
     "text": [
      "22/03/08 07:49:20 ERROR MicroBatchExecution: Query user_summary_old [id = 61ee83fb-6c47-4e7d-bd63-0c0c2ac44e7f, runId = 7ff08652-fc4e-4e0b-86df-98a8f7ff8258] terminated with error\n",
      "py4j.Py4JException: An exception was raised by the Python Proxy. Return Message: Traceback (most recent call last):\n",
      "  File \"/usr/local/lib/python3.9/dist-packages/py4j/java_gateway.py\", line 2442, in _call_proxy\n",
      "    return_value = getattr(self.pool[obj_id], method)(*params)\n",
      "  File \"/usr/local/lib/python3.9/dist-packages/pyspark/sql/utils.py\", line 210, in call\n",
      "    raise e\n",
      "  File \"/usr/local/lib/python3.9/dist-packages/pyspark/sql/utils.py\", line 207, in call\n",
      "    self.func(DataFrame(jdf, self.sql_ctx), batch_id)\n",
      "  File \"/tmp/ipykernel_1978/3990817060.py\", line 91, in upsertToDelta2\n",
      "    microBatchOutputDF.show(1)\n",
      "  File \"/usr/local/lib/python3.9/dist-packages/pyspark/sql/dataframe.py\", line 440, in show\n",
      "    print(self._jdf.showString(n, 20, vertical))\n",
      "  File \"/usr/local/lib/python3.9/dist-packages/py4j/java_gateway.py\", line 1304, in __call__\n",
      "    return_value = get_return_value(\n",
      "  File \"/usr/local/lib/python3.9/dist-packages/pyspark/sql/utils.py\", line 131, in deco\n",
      "    return f(*a, **kw)\n",
      "  File \"/usr/local/lib/python3.9/dist-packages/py4j/protocol.py\", line 326, in get_return_value\n",
      "    raise Py4JJavaError(\n",
      "py4j.protocol.Py4JJavaError: An error occurred while calling o2308.showString.\n",
      ": java.lang.IllegalStateException: SparkContext has been shutdown\n",
      "\tat org.apache.spark.SparkContext.runJob(SparkContext.scala:2085)\n",
      "\tat org.apache.spark.SparkContext.runJob(SparkContext.scala:2114)\n",
      "\tat org.apache.spark.SparkContext.runJob(SparkContext.scala:2133)\n",
      "\tat org.apache.spark.sql.execution.SparkPlan.executeTake(SparkPlan.scala:467)\n",
      "\tat org.apache.spark.sql.execution.SparkPlan.executeTake(SparkPlan.scala:420)\n",
      "\tat org.apache.spark.sql.execution.CollectLimitExec.executeCollect(limit.scala:47)\n",
      "\tat org.apache.spark.sql.Dataset.collectFromPlan(Dataset.scala:3625)\n",
      "\tat org.apache.spark.sql.Dataset.$anonfun$head$1(Dataset.scala:2695)\n",
      "\tat org.apache.spark.sql.Dataset.$anonfun$withAction$1(Dataset.scala:3616)\n",
      "\tat org.apache.spark.sql.execution.SQLExecution$.$anonfun$withNewExecutionId$5(SQLExecution.scala:100)\n",
      "\tat org.apache.spark.sql.execution.SQLExecution$.withSQLConfPropagated(SQLExecution.scala:160)\n",
      "\tat org.apache.spark.sql.execution.SQLExecution$.$anonfun$withNewExecutionId$1(SQLExecution.scala:87)\n",
      "\tat org.apache.spark.sql.SparkSession.withActive(SparkSession.scala:763)\n",
      "\tat org.apache.spark.sql.execution.SQLExecution$.withNewExecutionId(SQLExecution.scala:64)\n",
      "\tat org.apache.spark.sql.Dataset.withAction(Dataset.scala:3614)\n",
      "\tat org.apache.spark.sql.Dataset.head(Dataset.scala:2695)\n",
      "\tat org.apache.spark.sql.Dataset.take(Dataset.scala:2902)\n",
      "\tat org.apache.spark.sql.Dataset.getRows(Dataset.scala:300)\n",
      "\tat org.apache.spark.sql.Dataset.showString(Dataset.scala:337)\n",
      "\tat sun.reflect.GeneratedMethodAccessor115.invoke(Unknown Source)\n",
      "\tat sun.reflect.DelegatingMethodAccessorImpl.invoke(DelegatingMethodAccessorImpl.java:43)\n",
      "\tat java.lang.reflect.Method.invoke(Method.java:498)\n",
      "\tat py4j.reflection.MethodInvoker.invoke(MethodInvoker.java:244)\n",
      "\tat py4j.reflection.ReflectionEngine.invoke(ReflectionEngine.java:357)\n",
      "\tat py4j.Gateway.invoke(Gateway.java:282)\n",
      "\tat py4j.commands.AbstractCommand.invokeMethod(AbstractCommand.java:132)\n",
      "\tat py4j.commands.CallCommand.execute(CallCommand.java:79)\n",
      "\tat py4j.GatewayConnection.run(GatewayConnection.java:238)\n",
      "\tat java.lang.Thread.run(Thread.java:750)\n",
      "\n",
      "\n",
      "\tat py4j.Protocol.getReturnValue(Protocol.java:476)\n",
      "\tat py4j.reflection.PythonProxyHandler.invoke(PythonProxyHandler.java:108)\n",
      "\tat com.sun.proxy.$Proxy26.call(Unknown Source)\n",
      "\tat org.apache.spark.sql.execution.streaming.sources.PythonForeachBatchHelper$.$anonfun$callForeachBatch$1(ForeachBatchSink.scala:56)\n",
      "\tat org.apache.spark.sql.execution.streaming.sources.PythonForeachBatchHelper$.$anonfun$callForeachBatch$1$adapted(ForeachBatchSink.scala:56)\n",
      "\tat org.apache.spark.sql.execution.streaming.sources.ForeachBatchSink.addBatch(ForeachBatchSink.scala:36)\n",
      "\tat org.apache.spark.sql.execution.streaming.MicroBatchExecution.$anonfun$runBatch$16(MicroBatchExecution.scala:573)\n",
      "\tat org.apache.spark.sql.execution.SQLExecution$.$anonfun$withNewExecutionId$5(SQLExecution.scala:100)\n",
      "\tat org.apache.spark.sql.execution.SQLExecution$.withSQLConfPropagated(SQLExecution.scala:160)\n",
      "\tat org.apache.spark.sql.execution.SQLExecution$.$anonfun$withNewExecutionId$1(SQLExecution.scala:87)\n",
      "\tat org.apache.spark.sql.SparkSession.withActive(SparkSession.scala:763)\n",
      "\tat org.apache.spark.sql.execution.SQLExecution$.withNewExecutionId(SQLExecution.scala:64)\n",
      "\tat org.apache.spark.sql.execution.streaming.MicroBatchExecution.$anonfun$runBatch$15(MicroBatchExecution.scala:571)\n",
      "\tat org.apache.spark.sql.execution.streaming.ProgressReporter.reportTimeTaken(ProgressReporter.scala:352)\n",
      "\tat org.apache.spark.sql.execution.streaming.ProgressReporter.reportTimeTaken$(ProgressReporter.scala:350)\n",
      "\tat org.apache.spark.sql.execution.streaming.StreamExecution.reportTimeTaken(StreamExecution.scala:69)\n",
      "\tat org.apache.spark.sql.execution.streaming.MicroBatchExecution.runBatch(MicroBatchExecution.scala:571)\n",
      "\tat org.apache.spark.sql.execution.streaming.MicroBatchExecution.$anonfun$runActivatedStream$2(MicroBatchExecution.scala:223)\n",
      "\tat scala.runtime.java8.JFunction0$mcV$sp.apply(JFunction0$mcV$sp.java:23)\n",
      "\tat org.apache.spark.sql.execution.streaming.ProgressReporter.reportTimeTaken(ProgressReporter.scala:352)\n",
      "\tat org.apache.spark.sql.execution.streaming.ProgressReporter.reportTimeTaken$(ProgressReporter.scala:350)\n",
      "\tat org.apache.spark.sql.execution.streaming.StreamExecution.reportTimeTaken(StreamExecution.scala:69)\n",
      "\tat org.apache.spark.sql.execution.streaming.MicroBatchExecution.$anonfun$runActivatedStream$1(MicroBatchExecution.scala:191)\n",
      "\tat org.apache.spark.sql.execution.streaming.ProcessingTimeExecutor.execute(TriggerExecutor.scala:57)\n",
      "\tat org.apache.spark.sql.execution.streaming.MicroBatchExecution.runActivatedStream(MicroBatchExecution.scala:185)\n",
      "\tat org.apache.spark.sql.execution.streaming.StreamExecution.org$apache$spark$sql$execution$streaming$StreamExecution$$runStream(StreamExecution.scala:334)\n",
      "\tat org.apache.spark.sql.execution.streaming.StreamExecution$$anon$1.run(StreamExecution.scala:245)\n"
     ]
    },
    {
     "name": "stdout",
     "output_type": "stream",
     "text": [
      "Query made progress: {qatest12nonfes.public.user_summary_old-9=OffsetAndMetadata{offset=185963, leaderEpoch=null, metadata=''}, qatest12nonfes.public.user_summary_old-7=OffsetAndMetadata{offset=191258, leaderEpoch=null, metadata=''}, qatest12nonfes.public.user_summary_old-8=OffsetAndMetadata{offset=189877, leaderEpoch=null, metadata=''}, qatest12nonfes.public.user_summary_old-5=OffsetAndMetadata{offset=171068, leaderEpoch=null, metadata=''}, qatest12nonfes.public.user_summary_old-6=OffsetAndMetadata{offset=194807, leaderEpoch=null, metadata=''}, qatest12nonfes.public.user_summary_old-3=OffsetAndMetadata{offset=201131, leaderEpoch=null, metadata=''}, qatest12nonfes.public.user_summary_old-4=OffsetAndMetadata{offset=169495, leaderEpoch=null, metadata=''}, qatest12nonfes.public.user_summary_old-1=OffsetAndMetadata{offset=199521, leaderEpoch=null, metadata=''}, qatest12nonfes.public.user_summary_old-2=OffsetAndMetadata{offset=174686, leaderEpoch=null, metadata=''}, qatest12nonfes.public.user_summary_old-0=OffsetAndMetadata{offset=181747, leaderEpoch=null, metadata=''}}\n",
      "query inside Jar\n",
      "Query made progress: {qatest12nonfes.public.user_summary_old-9=OffsetAndMetadata{offset=185963, leaderEpoch=null, metadata=''}, qatest12nonfes.public.user_summary_old-7=OffsetAndMetadata{offset=191258, leaderEpoch=null, metadata=''}, qatest12nonfes.public.user_summary_old-8=OffsetAndMetadata{offset=189877, leaderEpoch=null, metadata=''}, qatest12nonfes.public.user_summary_old-5=OffsetAndMetadata{offset=171068, leaderEpoch=null, metadata=''}, qatest12nonfes.public.user_summary_old-6=OffsetAndMetadata{offset=194807, leaderEpoch=null, metadata=''}, qatest12nonfes.public.user_summary_old-3=OffsetAndMetadata{offset=201131, leaderEpoch=null, metadata=''}, qatest12nonfes.public.user_summary_old-4=OffsetAndMetadata{offset=169495, leaderEpoch=null, metadata=''}, qatest12nonfes.public.user_summary_old-1=OffsetAndMetadata{offset=199521, leaderEpoch=null, metadata=''}, qatest12nonfes.public.user_summary_old-2=OffsetAndMetadata{offset=174686, leaderEpoch=null, metadata=''}, qatest12nonfes.public.user_summary_old-0=OffsetAndMetadata{offset=181747, leaderEpoch=null, metadata=''}}\n",
      "query inside Jar\n",
      "Query made progress: {qatest12nonfes.public.user_summary_old-9=OffsetAndMetadata{offset=185963, leaderEpoch=null, metadata=''}, qatest12nonfes.public.user_summary_old-7=OffsetAndMetadata{offset=191258, leaderEpoch=null, metadata=''}, qatest12nonfes.public.user_summary_old-8=OffsetAndMetadata{offset=189877, leaderEpoch=null, metadata=''}, qatest12nonfes.public.user_summary_old-5=OffsetAndMetadata{offset=171068, leaderEpoch=null, metadata=''}, qatest12nonfes.public.user_summary_old-6=OffsetAndMetadata{offset=194807, leaderEpoch=null, metadata=''}, qatest12nonfes.public.user_summary_old-3=OffsetAndMetadata{offset=201131, leaderEpoch=null, metadata=''}, qatest12nonfes.public.user_summary_old-4=OffsetAndMetadata{offset=169495, leaderEpoch=null, metadata=''}, qatest12nonfes.public.user_summary_old-1=OffsetAndMetadata{offset=199521, leaderEpoch=null, metadata=''}, qatest12nonfes.public.user_summary_old-2=OffsetAndMetadata{offset=174686, leaderEpoch=null, metadata=''}, qatest12nonfes.public.user_summary_old-0=OffsetAndMetadata{offset=181747, leaderEpoch=null, metadata=''}}\n",
      "query inside Jar\n",
      "Query made progress: {qatest12nonfes.public.user_summary_old-9=OffsetAndMetadata{offset=185963, leaderEpoch=null, metadata=''}, qatest12nonfes.public.user_summary_old-7=OffsetAndMetadata{offset=191258, leaderEpoch=null, metadata=''}, qatest12nonfes.public.user_summary_old-8=OffsetAndMetadata{offset=189877, leaderEpoch=null, metadata=''}, qatest12nonfes.public.user_summary_old-5=OffsetAndMetadata{offset=171068, leaderEpoch=null, metadata=''}, qatest12nonfes.public.user_summary_old-6=OffsetAndMetadata{offset=194807, leaderEpoch=null, metadata=''}, qatest12nonfes.public.user_summary_old-3=OffsetAndMetadata{offset=201131, leaderEpoch=null, metadata=''}, qatest12nonfes.public.user_summary_old-4=OffsetAndMetadata{offset=169495, leaderEpoch=null, metadata=''}, qatest12nonfes.public.user_summary_old-1=OffsetAndMetadata{offset=199521, leaderEpoch=null, metadata=''}, qatest12nonfes.public.user_summary_old-2=OffsetAndMetadata{offset=174686, leaderEpoch=null, metadata=''}, qatest12nonfes.public.user_summary_old-0=OffsetAndMetadata{offset=181747, leaderEpoch=null, metadata=''}}\n",
      "query inside Jar\n",
      "Query made progress: {qatest12nonfes.public.user_summary_old-9=OffsetAndMetadata{offset=185963, leaderEpoch=null, metadata=''}, qatest12nonfes.public.user_summary_old-7=OffsetAndMetadata{offset=191258, leaderEpoch=null, metadata=''}, qatest12nonfes.public.user_summary_old-8=OffsetAndMetadata{offset=189877, leaderEpoch=null, metadata=''}, qatest12nonfes.public.user_summary_old-5=OffsetAndMetadata{offset=171068, leaderEpoch=null, metadata=''}, qatest12nonfes.public.user_summary_old-6=OffsetAndMetadata{offset=194807, leaderEpoch=null, metadata=''}, qatest12nonfes.public.user_summary_old-3=OffsetAndMetadata{offset=201131, leaderEpoch=null, metadata=''}, qatest12nonfes.public.user_summary_old-4=OffsetAndMetadata{offset=169495, leaderEpoch=null, metadata=''}, qatest12nonfes.public.user_summary_old-1=OffsetAndMetadata{offset=199521, leaderEpoch=null, metadata=''}, qatest12nonfes.public.user_summary_old-2=OffsetAndMetadata{offset=174686, leaderEpoch=null, metadata=''}, qatest12nonfes.public.user_summary_old-0=OffsetAndMetadata{offset=181747, leaderEpoch=null, metadata=''}}\n",
      "query inside Jar\n",
      "Query made progress: {qatest12nonfes.public.user_summary_old-9=OffsetAndMetadata{offset=185963, leaderEpoch=null, metadata=''}, qatest12nonfes.public.user_summary_old-7=OffsetAndMetadata{offset=191258, leaderEpoch=null, metadata=''}, qatest12nonfes.public.user_summary_old-8=OffsetAndMetadata{offset=189877, leaderEpoch=null, metadata=''}, qatest12nonfes.public.user_summary_old-5=OffsetAndMetadata{offset=171068, leaderEpoch=null, metadata=''}, qatest12nonfes.public.user_summary_old-6=OffsetAndMetadata{offset=194807, leaderEpoch=null, metadata=''}, qatest12nonfes.public.user_summary_old-3=OffsetAndMetadata{offset=201131, leaderEpoch=null, metadata=''}, qatest12nonfes.public.user_summary_old-4=OffsetAndMetadata{offset=169495, leaderEpoch=null, metadata=''}, qatest12nonfes.public.user_summary_old-1=OffsetAndMetadata{offset=199521, leaderEpoch=null, metadata=''}, qatest12nonfes.public.user_summary_old-2=OffsetAndMetadata{offset=174686, leaderEpoch=null, metadata=''}, qatest12nonfes.public.user_summary_old-0=OffsetAndMetadata{offset=181747, leaderEpoch=null, metadata=''}}\n",
      "query inside Jar\n",
      "Query made progress: {qatest12nonfes.public.user_summary_old-9=OffsetAndMetadata{offset=185963, leaderEpoch=null, metadata=''}, qatest12nonfes.public.user_summary_old-7=OffsetAndMetadata{offset=191258, leaderEpoch=null, metadata=''}, qatest12nonfes.public.user_summary_old-8=OffsetAndMetadata{offset=189877, leaderEpoch=null, metadata=''}, qatest12nonfes.public.user_summary_old-5=OffsetAndMetadata{offset=171068, leaderEpoch=null, metadata=''}, qatest12nonfes.public.user_summary_old-6=OffsetAndMetadata{offset=194807, leaderEpoch=null, metadata=''}, qatest12nonfes.public.user_summary_old-3=OffsetAndMetadata{offset=201131, leaderEpoch=null, metadata=''}, qatest12nonfes.public.user_summary_old-4=OffsetAndMetadata{offset=169495, leaderEpoch=null, metadata=''}, qatest12nonfes.public.user_summary_old-1=OffsetAndMetadata{offset=199521, leaderEpoch=null, metadata=''}, qatest12nonfes.public.user_summary_old-2=OffsetAndMetadata{offset=174686, leaderEpoch=null, metadata=''}, qatest12nonfes.public.user_summary_old-0=OffsetAndMetadata{offset=181747, leaderEpoch=null, metadata=''}}\n",
      "query inside Jar\n",
      "Query made progress: {qatest12nonfes.public.user_summary_old-9=OffsetAndMetadata{offset=185963, leaderEpoch=null, metadata=''}, qatest12nonfes.public.user_summary_old-7=OffsetAndMetadata{offset=191258, leaderEpoch=null, metadata=''}, qatest12nonfes.public.user_summary_old-8=OffsetAndMetadata{offset=189877, leaderEpoch=null, metadata=''}, qatest12nonfes.public.user_summary_old-5=OffsetAndMetadata{offset=171068, leaderEpoch=null, metadata=''}, qatest12nonfes.public.user_summary_old-6=OffsetAndMetadata{offset=194807, leaderEpoch=null, metadata=''}, qatest12nonfes.public.user_summary_old-3=OffsetAndMetadata{offset=201131, leaderEpoch=null, metadata=''}, qatest12nonfes.public.user_summary_old-4=OffsetAndMetadata{offset=169495, leaderEpoch=null, metadata=''}, qatest12nonfes.public.user_summary_old-1=OffsetAndMetadata{offset=199521, leaderEpoch=null, metadata=''}, qatest12nonfes.public.user_summary_old-2=OffsetAndMetadata{offset=174686, leaderEpoch=null, metadata=''}, qatest12nonfes.public.user_summary_old-0=OffsetAndMetadata{offset=181747, leaderEpoch=null, metadata=''}}\n",
      "query inside Jar\n",
      "Query made progress: {qatest12nonfes.public.user_summary_old-9=OffsetAndMetadata{offset=185963, leaderEpoch=null, metadata=''}, qatest12nonfes.public.user_summary_old-7=OffsetAndMetadata{offset=191258, leaderEpoch=null, metadata=''}, qatest12nonfes.public.user_summary_old-8=OffsetAndMetadata{offset=189877, leaderEpoch=null, metadata=''}, qatest12nonfes.public.user_summary_old-5=OffsetAndMetadata{offset=171068, leaderEpoch=null, metadata=''}, qatest12nonfes.public.user_summary_old-6=OffsetAndMetadata{offset=194807, leaderEpoch=null, metadata=''}, qatest12nonfes.public.user_summary_old-3=OffsetAndMetadata{offset=201131, leaderEpoch=null, metadata=''}, qatest12nonfes.public.user_summary_old-4=OffsetAndMetadata{offset=169495, leaderEpoch=null, metadata=''}, qatest12nonfes.public.user_summary_old-1=OffsetAndMetadata{offset=199521, leaderEpoch=null, metadata=''}, qatest12nonfes.public.user_summary_old-2=OffsetAndMetadata{offset=174686, leaderEpoch=null, metadata=''}, qatest12nonfes.public.user_summary_old-0=OffsetAndMetadata{offset=181747, leaderEpoch=null, metadata=''}}\n",
      "query inside Jar\n",
      "Query made progress: {qatest12nonfes.public.user_summary_old-9=OffsetAndMetadata{offset=185963, leaderEpoch=null, metadata=''}, qatest12nonfes.public.user_summary_old-7=OffsetAndMetadata{offset=191258, leaderEpoch=null, metadata=''}, qatest12nonfes.public.user_summary_old-8=OffsetAndMetadata{offset=189877, leaderEpoch=null, metadata=''}, qatest12nonfes.public.user_summary_old-5=OffsetAndMetadata{offset=171068, leaderEpoch=null, metadata=''}, qatest12nonfes.public.user_summary_old-6=OffsetAndMetadata{offset=194807, leaderEpoch=null, metadata=''}, qatest12nonfes.public.user_summary_old-3=OffsetAndMetadata{offset=201131, leaderEpoch=null, metadata=''}, qatest12nonfes.public.user_summary_old-4=OffsetAndMetadata{offset=169495, leaderEpoch=null, metadata=''}, qatest12nonfes.public.user_summary_old-1=OffsetAndMetadata{offset=199521, leaderEpoch=null, metadata=''}, qatest12nonfes.public.user_summary_old-2=OffsetAndMetadata{offset=174686, leaderEpoch=null, metadata=''}, qatest12nonfes.public.user_summary_old-0=OffsetAndMetadata{offset=181747, leaderEpoch=null, metadata=''}}\n",
      "query inside Jar\n",
      "Query made progress: {qatest12nonfes.public.user_summary_old-9=OffsetAndMetadata{offset=185963, leaderEpoch=null, metadata=''}, qatest12nonfes.public.user_summary_old-7=OffsetAndMetadata{offset=191258, leaderEpoch=null, metadata=''}, qatest12nonfes.public.user_summary_old-8=OffsetAndMetadata{offset=189877, leaderEpoch=null, metadata=''}, qatest12nonfes.public.user_summary_old-5=OffsetAndMetadata{offset=171068, leaderEpoch=null, metadata=''}, qatest12nonfes.public.user_summary_old-6=OffsetAndMetadata{offset=194807, leaderEpoch=null, metadata=''}, qatest12nonfes.public.user_summary_old-3=OffsetAndMetadata{offset=201131, leaderEpoch=null, metadata=''}, qatest12nonfes.public.user_summary_old-4=OffsetAndMetadata{offset=169495, leaderEpoch=null, metadata=''}, qatest12nonfes.public.user_summary_old-1=OffsetAndMetadata{offset=199521, leaderEpoch=null, metadata=''}, qatest12nonfes.public.user_summary_old-2=OffsetAndMetadata{offset=174686, leaderEpoch=null, metadata=''}, qatest12nonfes.public.user_summary_old-0=OffsetAndMetadata{offset=181747, leaderEpoch=null, metadata=''}}\n",
      "query inside Jar\n",
      "Query made progress: {qatest12nonfes.public.user_summary_old-9=OffsetAndMetadata{offset=185963, leaderEpoch=null, metadata=''}, qatest12nonfes.public.user_summary_old-7=OffsetAndMetadata{offset=191258, leaderEpoch=null, metadata=''}, qatest12nonfes.public.user_summary_old-8=OffsetAndMetadata{offset=189877, leaderEpoch=null, metadata=''}, qatest12nonfes.public.user_summary_old-5=OffsetAndMetadata{offset=171068, leaderEpoch=null, metadata=''}, qatest12nonfes.public.user_summary_old-6=OffsetAndMetadata{offset=194807, leaderEpoch=null, metadata=''}, qatest12nonfes.public.user_summary_old-3=OffsetAndMetadata{offset=201131, leaderEpoch=null, metadata=''}, qatest12nonfes.public.user_summary_old-4=OffsetAndMetadata{offset=169495, leaderEpoch=null, metadata=''}, qatest12nonfes.public.user_summary_old-1=OffsetAndMetadata{offset=199521, leaderEpoch=null, metadata=''}, qatest12nonfes.public.user_summary_old-2=OffsetAndMetadata{offset=174686, leaderEpoch=null, metadata=''}, qatest12nonfes.public.user_summary_old-0=OffsetAndMetadata{offset=181747, leaderEpoch=null, metadata=''}}\n",
      "query inside Jar\n",
      "Query made progress: {qatest12nonfes.public.user_summary_old-9=OffsetAndMetadata{offset=185963, leaderEpoch=null, metadata=''}, qatest12nonfes.public.user_summary_old-7=OffsetAndMetadata{offset=191258, leaderEpoch=null, metadata=''}, qatest12nonfes.public.user_summary_old-8=OffsetAndMetadata{offset=189877, leaderEpoch=null, metadata=''}, qatest12nonfes.public.user_summary_old-5=OffsetAndMetadata{offset=171068, leaderEpoch=null, metadata=''}, qatest12nonfes.public.user_summary_old-6=OffsetAndMetadata{offset=194807, leaderEpoch=null, metadata=''}, qatest12nonfes.public.user_summary_old-3=OffsetAndMetadata{offset=201131, leaderEpoch=null, metadata=''}, qatest12nonfes.public.user_summary_old-4=OffsetAndMetadata{offset=169495, leaderEpoch=null, metadata=''}, qatest12nonfes.public.user_summary_old-1=OffsetAndMetadata{offset=199521, leaderEpoch=null, metadata=''}, qatest12nonfes.public.user_summary_old-2=OffsetAndMetadata{offset=174686, leaderEpoch=null, metadata=''}, qatest12nonfes.public.user_summary_old-0=OffsetAndMetadata{offset=181747, leaderEpoch=null, metadata=''}}\n",
      "query inside Jar\n",
      "Query made progress: {qatest12nonfes.public.user_summary_old-9=OffsetAndMetadata{offset=185963, leaderEpoch=null, metadata=''}, qatest12nonfes.public.user_summary_old-7=OffsetAndMetadata{offset=191258, leaderEpoch=null, metadata=''}, qatest12nonfes.public.user_summary_old-8=OffsetAndMetadata{offset=189877, leaderEpoch=null, metadata=''}, qatest12nonfes.public.user_summary_old-5=OffsetAndMetadata{offset=171068, leaderEpoch=null, metadata=''}, qatest12nonfes.public.user_summary_old-6=OffsetAndMetadata{offset=194807, leaderEpoch=null, metadata=''}, qatest12nonfes.public.user_summary_old-3=OffsetAndMetadata{offset=201131, leaderEpoch=null, metadata=''}, qatest12nonfes.public.user_summary_old-4=OffsetAndMetadata{offset=169495, leaderEpoch=null, metadata=''}, qatest12nonfes.public.user_summary_old-1=OffsetAndMetadata{offset=199521, leaderEpoch=null, metadata=''}, qatest12nonfes.public.user_summary_old-2=OffsetAndMetadata{offset=174686, leaderEpoch=null, metadata=''}, qatest12nonfes.public.user_summary_old-0=OffsetAndMetadata{offset=181747, leaderEpoch=null, metadata=''}}\n",
      "query inside Jar\n",
      "Query made progress: {qatest12nonfes.public.user_summary_old-9=OffsetAndMetadata{offset=185963, leaderEpoch=null, metadata=''}, qatest12nonfes.public.user_summary_old-7=OffsetAndMetadata{offset=191258, leaderEpoch=null, metadata=''}, qatest12nonfes.public.user_summary_old-8=OffsetAndMetadata{offset=189877, leaderEpoch=null, metadata=''}, qatest12nonfes.public.user_summary_old-5=OffsetAndMetadata{offset=171068, leaderEpoch=null, metadata=''}, qatest12nonfes.public.user_summary_old-6=OffsetAndMetadata{offset=194807, leaderEpoch=null, metadata=''}, qatest12nonfes.public.user_summary_old-3=OffsetAndMetadata{offset=201131, leaderEpoch=null, metadata=''}, qatest12nonfes.public.user_summary_old-4=OffsetAndMetadata{offset=169495, leaderEpoch=null, metadata=''}, qatest12nonfes.public.user_summary_old-1=OffsetAndMetadata{offset=199521, leaderEpoch=null, metadata=''}, qatest12nonfes.public.user_summary_old-2=OffsetAndMetadata{offset=174686, leaderEpoch=null, metadata=''}, qatest12nonfes.public.user_summary_old-0=OffsetAndMetadata{offset=181747, leaderEpoch=null, metadata=''}}\n",
      "query inside Jar\n",
      "Query made progress: {qatest12nonfes.public.user_summary_old-9=OffsetAndMetadata{offset=185963, leaderEpoch=null, metadata=''}, qatest12nonfes.public.user_summary_old-7=OffsetAndMetadata{offset=191258, leaderEpoch=null, metadata=''}, qatest12nonfes.public.user_summary_old-8=OffsetAndMetadata{offset=189877, leaderEpoch=null, metadata=''}, qatest12nonfes.public.user_summary_old-5=OffsetAndMetadata{offset=171068, leaderEpoch=null, metadata=''}, qatest12nonfes.public.user_summary_old-6=OffsetAndMetadata{offset=194807, leaderEpoch=null, metadata=''}, qatest12nonfes.public.user_summary_old-3=OffsetAndMetadata{offset=201131, leaderEpoch=null, metadata=''}, qatest12nonfes.public.user_summary_old-4=OffsetAndMetadata{offset=169495, leaderEpoch=null, metadata=''}, qatest12nonfes.public.user_summary_old-1=OffsetAndMetadata{offset=199521, leaderEpoch=null, metadata=''}, qatest12nonfes.public.user_summary_old-2=OffsetAndMetadata{offset=174686, leaderEpoch=null, metadata=''}, qatest12nonfes.public.user_summary_old-0=OffsetAndMetadata{offset=181747, leaderEpoch=null, metadata=''}}\n",
      "query inside Jar\n",
      "Query made progress: {qatest12nonfes.public.user_summary_old-9=OffsetAndMetadata{offset=185963, leaderEpoch=null, metadata=''}, qatest12nonfes.public.user_summary_old-7=OffsetAndMetadata{offset=191258, leaderEpoch=null, metadata=''}, qatest12nonfes.public.user_summary_old-8=OffsetAndMetadata{offset=189877, leaderEpoch=null, metadata=''}, qatest12nonfes.public.user_summary_old-5=OffsetAndMetadata{offset=171068, leaderEpoch=null, metadata=''}, qatest12nonfes.public.user_summary_old-6=OffsetAndMetadata{offset=194807, leaderEpoch=null, metadata=''}, qatest12nonfes.public.user_summary_old-3=OffsetAndMetadata{offset=201131, leaderEpoch=null, metadata=''}, qatest12nonfes.public.user_summary_old-4=OffsetAndMetadata{offset=169495, leaderEpoch=null, metadata=''}, qatest12nonfes.public.user_summary_old-1=OffsetAndMetadata{offset=199521, leaderEpoch=null, metadata=''}, qatest12nonfes.public.user_summary_old-2=OffsetAndMetadata{offset=174686, leaderEpoch=null, metadata=''}, qatest12nonfes.public.user_summary_old-0=OffsetAndMetadata{offset=181747, leaderEpoch=null, metadata=''}}\n",
      "query inside Jar\n",
      "Query made progress: {qatest12nonfes.public.user_summary_old-9=OffsetAndMetadata{offset=185963, leaderEpoch=null, metadata=''}, qatest12nonfes.public.user_summary_old-7=OffsetAndMetadata{offset=191258, leaderEpoch=null, metadata=''}, qatest12nonfes.public.user_summary_old-8=OffsetAndMetadata{offset=189877, leaderEpoch=null, metadata=''}, qatest12nonfes.public.user_summary_old-5=OffsetAndMetadata{offset=171068, leaderEpoch=null, metadata=''}, qatest12nonfes.public.user_summary_old-6=OffsetAndMetadata{offset=194807, leaderEpoch=null, metadata=''}, qatest12nonfes.public.user_summary_old-3=OffsetAndMetadata{offset=201131, leaderEpoch=null, metadata=''}, qatest12nonfes.public.user_summary_old-4=OffsetAndMetadata{offset=169495, leaderEpoch=null, metadata=''}, qatest12nonfes.public.user_summary_old-1=OffsetAndMetadata{offset=199521, leaderEpoch=null, metadata=''}, qatest12nonfes.public.user_summary_old-2=OffsetAndMetadata{offset=174686, leaderEpoch=null, metadata=''}, qatest12nonfes.public.user_summary_old-0=OffsetAndMetadata{offset=181747, leaderEpoch=null, metadata=''}}\n",
      "query inside Jar\n",
      "Query made progress: {qatest12nonfes.public.user_summary_old-9=OffsetAndMetadata{offset=185963, leaderEpoch=null, metadata=''}, qatest12nonfes.public.user_summary_old-7=OffsetAndMetadata{offset=191258, leaderEpoch=null, metadata=''}, qatest12nonfes.public.user_summary_old-8=OffsetAndMetadata{offset=189877, leaderEpoch=null, metadata=''}, qatest12nonfes.public.user_summary_old-5=OffsetAndMetadata{offset=171068, leaderEpoch=null, metadata=''}, qatest12nonfes.public.user_summary_old-6=OffsetAndMetadata{offset=194807, leaderEpoch=null, metadata=''}, qatest12nonfes.public.user_summary_old-3=OffsetAndMetadata{offset=201131, leaderEpoch=null, metadata=''}, qatest12nonfes.public.user_summary_old-4=OffsetAndMetadata{offset=169495, leaderEpoch=null, metadata=''}, qatest12nonfes.public.user_summary_old-1=OffsetAndMetadata{offset=199521, leaderEpoch=null, metadata=''}, qatest12nonfes.public.user_summary_old-2=OffsetAndMetadata{offset=174686, leaderEpoch=null, metadata=''}, qatest12nonfes.public.user_summary_old-0=OffsetAndMetadata{offset=181747, leaderEpoch=null, metadata=''}}\n",
      "query inside Jar\n",
      "Query made progress: {qatest12nonfes.public.user_summary_old-9=OffsetAndMetadata{offset=185963, leaderEpoch=null, metadata=''}, qatest12nonfes.public.user_summary_old-7=OffsetAndMetadata{offset=191258, leaderEpoch=null, metadata=''}, qatest12nonfes.public.user_summary_old-8=OffsetAndMetadata{offset=189877, leaderEpoch=null, metadata=''}, qatest12nonfes.public.user_summary_old-5=OffsetAndMetadata{offset=171068, leaderEpoch=null, metadata=''}, qatest12nonfes.public.user_summary_old-6=OffsetAndMetadata{offset=194807, leaderEpoch=null, metadata=''}, qatest12nonfes.public.user_summary_old-3=OffsetAndMetadata{offset=201131, leaderEpoch=null, metadata=''}, qatest12nonfes.public.user_summary_old-4=OffsetAndMetadata{offset=169495, leaderEpoch=null, metadata=''}, qatest12nonfes.public.user_summary_old-1=OffsetAndMetadata{offset=199521, leaderEpoch=null, metadata=''}, qatest12nonfes.public.user_summary_old-2=OffsetAndMetadata{offset=174686, leaderEpoch=null, metadata=''}, qatest12nonfes.public.user_summary_old-0=OffsetAndMetadata{offset=181747, leaderEpoch=null, metadata=''}}\n",
      "query inside Jar\n",
      "Query made progress: {qatest12nonfes.public.user_summary_old-9=OffsetAndMetadata{offset=185963, leaderEpoch=null, metadata=''}, qatest12nonfes.public.user_summary_old-7=OffsetAndMetadata{offset=191258, leaderEpoch=null, metadata=''}, qatest12nonfes.public.user_summary_old-8=OffsetAndMetadata{offset=189877, leaderEpoch=null, metadata=''}, qatest12nonfes.public.user_summary_old-5=OffsetAndMetadata{offset=171068, leaderEpoch=null, metadata=''}, qatest12nonfes.public.user_summary_old-6=OffsetAndMetadata{offset=194807, leaderEpoch=null, metadata=''}, qatest12nonfes.public.user_summary_old-3=OffsetAndMetadata{offset=201131, leaderEpoch=null, metadata=''}, qatest12nonfes.public.user_summary_old-4=OffsetAndMetadata{offset=169495, leaderEpoch=null, metadata=''}, qatest12nonfes.public.user_summary_old-1=OffsetAndMetadata{offset=199521, leaderEpoch=null, metadata=''}, qatest12nonfes.public.user_summary_old-2=OffsetAndMetadata{offset=174686, leaderEpoch=null, metadata=''}, qatest12nonfes.public.user_summary_old-0=OffsetAndMetadata{offset=181747, leaderEpoch=null, metadata=''}}\n",
      "query inside Jar\n",
      "Query made progress: {qatest12nonfes.public.user_summary_old-9=OffsetAndMetadata{offset=185963, leaderEpoch=null, metadata=''}, qatest12nonfes.public.user_summary_old-7=OffsetAndMetadata{offset=191258, leaderEpoch=null, metadata=''}, qatest12nonfes.public.user_summary_old-8=OffsetAndMetadata{offset=189877, leaderEpoch=null, metadata=''}, qatest12nonfes.public.user_summary_old-5=OffsetAndMetadata{offset=171068, leaderEpoch=null, metadata=''}, qatest12nonfes.public.user_summary_old-6=OffsetAndMetadata{offset=194807, leaderEpoch=null, metadata=''}, qatest12nonfes.public.user_summary_old-3=OffsetAndMetadata{offset=201131, leaderEpoch=null, metadata=''}, qatest12nonfes.public.user_summary_old-4=OffsetAndMetadata{offset=169495, leaderEpoch=null, metadata=''}, qatest12nonfes.public.user_summary_old-1=OffsetAndMetadata{offset=199521, leaderEpoch=null, metadata=''}, qatest12nonfes.public.user_summary_old-2=OffsetAndMetadata{offset=174686, leaderEpoch=null, metadata=''}, qatest12nonfes.public.user_summary_old-0=OffsetAndMetadata{offset=181747, leaderEpoch=null, metadata=''}}\n",
      "query inside Jar\n",
      "Query made progress: {qatest12nonfes.public.user_summary_old-9=OffsetAndMetadata{offset=185963, leaderEpoch=null, metadata=''}, qatest12nonfes.public.user_summary_old-7=OffsetAndMetadata{offset=191258, leaderEpoch=null, metadata=''}, qatest12nonfes.public.user_summary_old-8=OffsetAndMetadata{offset=189877, leaderEpoch=null, metadata=''}, qatest12nonfes.public.user_summary_old-5=OffsetAndMetadata{offset=171068, leaderEpoch=null, metadata=''}, qatest12nonfes.public.user_summary_old-6=OffsetAndMetadata{offset=194807, leaderEpoch=null, metadata=''}, qatest12nonfes.public.user_summary_old-3=OffsetAndMetadata{offset=201131, leaderEpoch=null, metadata=''}, qatest12nonfes.public.user_summary_old-4=OffsetAndMetadata{offset=169495, leaderEpoch=null, metadata=''}, qatest12nonfes.public.user_summary_old-1=OffsetAndMetadata{offset=199521, leaderEpoch=null, metadata=''}, qatest12nonfes.public.user_summary_old-2=OffsetAndMetadata{offset=174686, leaderEpoch=null, metadata=''}, qatest12nonfes.public.user_summary_old-0=OffsetAndMetadata{offset=181747, leaderEpoch=null, metadata=''}}\n",
      "query inside Jar\n",
      "Query made progress: {qatest12nonfes.public.user_summary_old-9=OffsetAndMetadata{offset=185963, leaderEpoch=null, metadata=''}, qatest12nonfes.public.user_summary_old-7=OffsetAndMetadata{offset=191258, leaderEpoch=null, metadata=''}, qatest12nonfes.public.user_summary_old-8=OffsetAndMetadata{offset=189877, leaderEpoch=null, metadata=''}, qatest12nonfes.public.user_summary_old-5=OffsetAndMetadata{offset=171068, leaderEpoch=null, metadata=''}, qatest12nonfes.public.user_summary_old-6=OffsetAndMetadata{offset=194807, leaderEpoch=null, metadata=''}, qatest12nonfes.public.user_summary_old-3=OffsetAndMetadata{offset=201131, leaderEpoch=null, metadata=''}, qatest12nonfes.public.user_summary_old-4=OffsetAndMetadata{offset=169495, leaderEpoch=null, metadata=''}, qatest12nonfes.public.user_summary_old-1=OffsetAndMetadata{offset=199521, leaderEpoch=null, metadata=''}, qatest12nonfes.public.user_summary_old-2=OffsetAndMetadata{offset=174686, leaderEpoch=null, metadata=''}, qatest12nonfes.public.user_summary_old-0=OffsetAndMetadata{offset=181747, leaderEpoch=null, metadata=''}}\n",
      "query inside Jar\n",
      "Query made progress: {qatest12nonfes.public.user_summary_old-9=OffsetAndMetadata{offset=185963, leaderEpoch=null, metadata=''}, qatest12nonfes.public.user_summary_old-7=OffsetAndMetadata{offset=191258, leaderEpoch=null, metadata=''}, qatest12nonfes.public.user_summary_old-8=OffsetAndMetadata{offset=189877, leaderEpoch=null, metadata=''}, qatest12nonfes.public.user_summary_old-5=OffsetAndMetadata{offset=171068, leaderEpoch=null, metadata=''}, qatest12nonfes.public.user_summary_old-6=OffsetAndMetadata{offset=194807, leaderEpoch=null, metadata=''}, qatest12nonfes.public.user_summary_old-3=OffsetAndMetadata{offset=201131, leaderEpoch=null, metadata=''}, qatest12nonfes.public.user_summary_old-4=OffsetAndMetadata{offset=169495, leaderEpoch=null, metadata=''}, qatest12nonfes.public.user_summary_old-1=OffsetAndMetadata{offset=199521, leaderEpoch=null, metadata=''}, qatest12nonfes.public.user_summary_old-2=OffsetAndMetadata{offset=174686, leaderEpoch=null, metadata=''}, qatest12nonfes.public.user_summary_old-0=OffsetAndMetadata{offset=181748, leaderEpoch=null, metadata=''}}\n",
      "query inside Jar\n",
      "Query made progress: {qatest12nonfes.public.user_summary_old-9=OffsetAndMetadata{offset=185963, leaderEpoch=null, metadata=''}, qatest12nonfes.public.user_summary_old-7=OffsetAndMetadata{offset=191258, leaderEpoch=null, metadata=''}, qatest12nonfes.public.user_summary_old-8=OffsetAndMetadata{offset=189877, leaderEpoch=null, metadata=''}, qatest12nonfes.public.user_summary_old-5=OffsetAndMetadata{offset=171068, leaderEpoch=null, metadata=''}, qatest12nonfes.public.user_summary_old-6=OffsetAndMetadata{offset=194807, leaderEpoch=null, metadata=''}, qatest12nonfes.public.user_summary_old-3=OffsetAndMetadata{offset=201131, leaderEpoch=null, metadata=''}, qatest12nonfes.public.user_summary_old-4=OffsetAndMetadata{offset=169495, leaderEpoch=null, metadata=''}, qatest12nonfes.public.user_summary_old-1=OffsetAndMetadata{offset=199521, leaderEpoch=null, metadata=''}, qatest12nonfes.public.user_summary_old-2=OffsetAndMetadata{offset=174686, leaderEpoch=null, metadata=''}, qatest12nonfes.public.user_summary_old-0=OffsetAndMetadata{offset=181748, leaderEpoch=null, metadata=''}}\n",
      "query inside Jar\n",
      "Query made progress: {qatest12nonfes.public.user_summary_old-9=OffsetAndMetadata{offset=185963, leaderEpoch=null, metadata=''}, qatest12nonfes.public.user_summary_old-7=OffsetAndMetadata{offset=191258, leaderEpoch=null, metadata=''}, qatest12nonfes.public.user_summary_old-8=OffsetAndMetadata{offset=189877, leaderEpoch=null, metadata=''}, qatest12nonfes.public.user_summary_old-5=OffsetAndMetadata{offset=171068, leaderEpoch=null, metadata=''}, qatest12nonfes.public.user_summary_old-6=OffsetAndMetadata{offset=194807, leaderEpoch=null, metadata=''}, qatest12nonfes.public.user_summary_old-3=OffsetAndMetadata{offset=201131, leaderEpoch=null, metadata=''}, qatest12nonfes.public.user_summary_old-4=OffsetAndMetadata{offset=169495, leaderEpoch=null, metadata=''}, qatest12nonfes.public.user_summary_old-1=OffsetAndMetadata{offset=199521, leaderEpoch=null, metadata=''}, qatest12nonfes.public.user_summary_old-2=OffsetAndMetadata{offset=174686, leaderEpoch=null, metadata=''}, qatest12nonfes.public.user_summary_old-0=OffsetAndMetadata{offset=181748, leaderEpoch=null, metadata=''}}\n",
      "query inside Jar\n",
      "Query made progress: {qatest12nonfes.public.user_summary_old-9=OffsetAndMetadata{offset=185963, leaderEpoch=null, metadata=''}, qatest12nonfes.public.user_summary_old-7=OffsetAndMetadata{offset=191258, leaderEpoch=null, metadata=''}, qatest12nonfes.public.user_summary_old-8=OffsetAndMetadata{offset=189877, leaderEpoch=null, metadata=''}, qatest12nonfes.public.user_summary_old-5=OffsetAndMetadata{offset=171068, leaderEpoch=null, metadata=''}, qatest12nonfes.public.user_summary_old-6=OffsetAndMetadata{offset=194807, leaderEpoch=null, metadata=''}, qatest12nonfes.public.user_summary_old-3=OffsetAndMetadata{offset=201131, leaderEpoch=null, metadata=''}, qatest12nonfes.public.user_summary_old-4=OffsetAndMetadata{offset=169495, leaderEpoch=null, metadata=''}, qatest12nonfes.public.user_summary_old-1=OffsetAndMetadata{offset=199521, leaderEpoch=null, metadata=''}, qatest12nonfes.public.user_summary_old-2=OffsetAndMetadata{offset=174686, leaderEpoch=null, metadata=''}, qatest12nonfes.public.user_summary_old-0=OffsetAndMetadata{offset=181748, leaderEpoch=null, metadata=''}}\n",
      "query inside Jar\n",
      "Query made progress: {qatest12nonfes.public.user_summary_old-9=OffsetAndMetadata{offset=185963, leaderEpoch=null, metadata=''}, qatest12nonfes.public.user_summary_old-7=OffsetAndMetadata{offset=191258, leaderEpoch=null, metadata=''}, qatest12nonfes.public.user_summary_old-8=OffsetAndMetadata{offset=189877, leaderEpoch=null, metadata=''}, qatest12nonfes.public.user_summary_old-5=OffsetAndMetadata{offset=171068, leaderEpoch=null, metadata=''}, qatest12nonfes.public.user_summary_old-6=OffsetAndMetadata{offset=194807, leaderEpoch=null, metadata=''}, qatest12nonfes.public.user_summary_old-3=OffsetAndMetadata{offset=201131, leaderEpoch=null, metadata=''}, qatest12nonfes.public.user_summary_old-4=OffsetAndMetadata{offset=169495, leaderEpoch=null, metadata=''}, qatest12nonfes.public.user_summary_old-1=OffsetAndMetadata{offset=199521, leaderEpoch=null, metadata=''}, qatest12nonfes.public.user_summary_old-2=OffsetAndMetadata{offset=174686, leaderEpoch=null, metadata=''}, qatest12nonfes.public.user_summary_old-0=OffsetAndMetadata{offset=181748, leaderEpoch=null, metadata=''}}\n",
      "query inside Jar\n",
      "Query made progress: {qatest12nonfes.public.user_summary_old-9=OffsetAndMetadata{offset=185963, leaderEpoch=null, metadata=''}, qatest12nonfes.public.user_summary_old-7=OffsetAndMetadata{offset=191258, leaderEpoch=null, metadata=''}, qatest12nonfes.public.user_summary_old-8=OffsetAndMetadata{offset=189877, leaderEpoch=null, metadata=''}, qatest12nonfes.public.user_summary_old-5=OffsetAndMetadata{offset=171068, leaderEpoch=null, metadata=''}, qatest12nonfes.public.user_summary_old-6=OffsetAndMetadata{offset=194807, leaderEpoch=null, metadata=''}, qatest12nonfes.public.user_summary_old-3=OffsetAndMetadata{offset=201131, leaderEpoch=null, metadata=''}, qatest12nonfes.public.user_summary_old-4=OffsetAndMetadata{offset=169495, leaderEpoch=null, metadata=''}, qatest12nonfes.public.user_summary_old-1=OffsetAndMetadata{offset=199521, leaderEpoch=null, metadata=''}, qatest12nonfes.public.user_summary_old-2=OffsetAndMetadata{offset=174686, leaderEpoch=null, metadata=''}, qatest12nonfes.public.user_summary_old-0=OffsetAndMetadata{offset=181748, leaderEpoch=null, metadata=''}}\n",
      "query inside Jar\n",
      "Query made progress: {qatest12nonfes.public.user_summary_old-9=OffsetAndMetadata{offset=185963, leaderEpoch=null, metadata=''}, qatest12nonfes.public.user_summary_old-7=OffsetAndMetadata{offset=191258, leaderEpoch=null, metadata=''}, qatest12nonfes.public.user_summary_old-8=OffsetAndMetadata{offset=189877, leaderEpoch=null, metadata=''}, qatest12nonfes.public.user_summary_old-5=OffsetAndMetadata{offset=171068, leaderEpoch=null, metadata=''}, qatest12nonfes.public.user_summary_old-6=OffsetAndMetadata{offset=194807, leaderEpoch=null, metadata=''}, qatest12nonfes.public.user_summary_old-3=OffsetAndMetadata{offset=201131, leaderEpoch=null, metadata=''}, qatest12nonfes.public.user_summary_old-4=OffsetAndMetadata{offset=169495, leaderEpoch=null, metadata=''}, qatest12nonfes.public.user_summary_old-1=OffsetAndMetadata{offset=199521, leaderEpoch=null, metadata=''}, qatest12nonfes.public.user_summary_old-2=OffsetAndMetadata{offset=174686, leaderEpoch=null, metadata=''}, qatest12nonfes.public.user_summary_old-0=OffsetAndMetadata{offset=181748, leaderEpoch=null, metadata=''}}\n",
      "query inside Jar\n",
      "Query made progress: {qatest12nonfes.public.user_summary_old-9=OffsetAndMetadata{offset=185963, leaderEpoch=null, metadata=''}, qatest12nonfes.public.user_summary_old-7=OffsetAndMetadata{offset=191258, leaderEpoch=null, metadata=''}, qatest12nonfes.public.user_summary_old-8=OffsetAndMetadata{offset=189877, leaderEpoch=null, metadata=''}, qatest12nonfes.public.user_summary_old-5=OffsetAndMetadata{offset=171068, leaderEpoch=null, metadata=''}, qatest12nonfes.public.user_summary_old-6=OffsetAndMetadata{offset=194807, leaderEpoch=null, metadata=''}, qatest12nonfes.public.user_summary_old-3=OffsetAndMetadata{offset=201131, leaderEpoch=null, metadata=''}, qatest12nonfes.public.user_summary_old-4=OffsetAndMetadata{offset=169495, leaderEpoch=null, metadata=''}, qatest12nonfes.public.user_summary_old-1=OffsetAndMetadata{offset=199521, leaderEpoch=null, metadata=''}, qatest12nonfes.public.user_summary_old-2=OffsetAndMetadata{offset=174686, leaderEpoch=null, metadata=''}, qatest12nonfes.public.user_summary_old-0=OffsetAndMetadata{offset=181748, leaderEpoch=null, metadata=''}}\n",
      "query inside Jar\n",
      "Query made progress: {qatest12nonfes.public.user_summary_old-9=OffsetAndMetadata{offset=185963, leaderEpoch=null, metadata=''}, qatest12nonfes.public.user_summary_old-7=OffsetAndMetadata{offset=191258, leaderEpoch=null, metadata=''}, qatest12nonfes.public.user_summary_old-8=OffsetAndMetadata{offset=189877, leaderEpoch=null, metadata=''}, qatest12nonfes.public.user_summary_old-5=OffsetAndMetadata{offset=171068, leaderEpoch=null, metadata=''}, qatest12nonfes.public.user_summary_old-6=OffsetAndMetadata{offset=194807, leaderEpoch=null, metadata=''}, qatest12nonfes.public.user_summary_old-3=OffsetAndMetadata{offset=201131, leaderEpoch=null, metadata=''}, qatest12nonfes.public.user_summary_old-4=OffsetAndMetadata{offset=169495, leaderEpoch=null, metadata=''}, qatest12nonfes.public.user_summary_old-1=OffsetAndMetadata{offset=199521, leaderEpoch=null, metadata=''}, qatest12nonfes.public.user_summary_old-2=OffsetAndMetadata{offset=174686, leaderEpoch=null, metadata=''}, qatest12nonfes.public.user_summary_old-0=OffsetAndMetadata{offset=181748, leaderEpoch=null, metadata=''}}\n",
      "query inside Jar\n",
      "Query made progress: {qatest12nonfes.public.user_summary_old-9=OffsetAndMetadata{offset=185963, leaderEpoch=null, metadata=''}, qatest12nonfes.public.user_summary_old-7=OffsetAndMetadata{offset=191258, leaderEpoch=null, metadata=''}, qatest12nonfes.public.user_summary_old-8=OffsetAndMetadata{offset=189877, leaderEpoch=null, metadata=''}, qatest12nonfes.public.user_summary_old-5=OffsetAndMetadata{offset=171068, leaderEpoch=null, metadata=''}, qatest12nonfes.public.user_summary_old-6=OffsetAndMetadata{offset=194807, leaderEpoch=null, metadata=''}, qatest12nonfes.public.user_summary_old-3=OffsetAndMetadata{offset=201131, leaderEpoch=null, metadata=''}, qatest12nonfes.public.user_summary_old-4=OffsetAndMetadata{offset=169495, leaderEpoch=null, metadata=''}, qatest12nonfes.public.user_summary_old-1=OffsetAndMetadata{offset=199521, leaderEpoch=null, metadata=''}, qatest12nonfes.public.user_summary_old-2=OffsetAndMetadata{offset=174686, leaderEpoch=null, metadata=''}, qatest12nonfes.public.user_summary_old-0=OffsetAndMetadata{offset=181748, leaderEpoch=null, metadata=''}}\n",
      "query inside Jar\n",
      "Query made progress: {qatest12nonfes.public.user_summary_old-9=OffsetAndMetadata{offset=185963, leaderEpoch=null, metadata=''}, qatest12nonfes.public.user_summary_old-7=OffsetAndMetadata{offset=191258, leaderEpoch=null, metadata=''}, qatest12nonfes.public.user_summary_old-8=OffsetAndMetadata{offset=189877, leaderEpoch=null, metadata=''}, qatest12nonfes.public.user_summary_old-5=OffsetAndMetadata{offset=171068, leaderEpoch=null, metadata=''}, qatest12nonfes.public.user_summary_old-6=OffsetAndMetadata{offset=194807, leaderEpoch=null, metadata=''}, qatest12nonfes.public.user_summary_old-3=OffsetAndMetadata{offset=201131, leaderEpoch=null, metadata=''}, qatest12nonfes.public.user_summary_old-4=OffsetAndMetadata{offset=169495, leaderEpoch=null, metadata=''}, qatest12nonfes.public.user_summary_old-1=OffsetAndMetadata{offset=199521, leaderEpoch=null, metadata=''}, qatest12nonfes.public.user_summary_old-2=OffsetAndMetadata{offset=174686, leaderEpoch=null, metadata=''}, qatest12nonfes.public.user_summary_old-0=OffsetAndMetadata{offset=181748, leaderEpoch=null, metadata=''}}\n",
      "query inside Jar\n",
      "Query made progress: {qatest12nonfes.public.user_summary_old-9=OffsetAndMetadata{offset=185963, leaderEpoch=null, metadata=''}, qatest12nonfes.public.user_summary_old-7=OffsetAndMetadata{offset=191258, leaderEpoch=null, metadata=''}, qatest12nonfes.public.user_summary_old-8=OffsetAndMetadata{offset=189877, leaderEpoch=null, metadata=''}, qatest12nonfes.public.user_summary_old-5=OffsetAndMetadata{offset=171068, leaderEpoch=null, metadata=''}, qatest12nonfes.public.user_summary_old-6=OffsetAndMetadata{offset=194807, leaderEpoch=null, metadata=''}, qatest12nonfes.public.user_summary_old-3=OffsetAndMetadata{offset=201131, leaderEpoch=null, metadata=''}, qatest12nonfes.public.user_summary_old-4=OffsetAndMetadata{offset=169495, leaderEpoch=null, metadata=''}, qatest12nonfes.public.user_summary_old-1=OffsetAndMetadata{offset=199521, leaderEpoch=null, metadata=''}, qatest12nonfes.public.user_summary_old-2=OffsetAndMetadata{offset=174686, leaderEpoch=null, metadata=''}, qatest12nonfes.public.user_summary_old-0=OffsetAndMetadata{offset=181748, leaderEpoch=null, metadata=''}}\n",
      "query inside Jar\n",
      "Query made progress: {qatest12nonfes.public.user_summary_old-9=OffsetAndMetadata{offset=185963, leaderEpoch=null, metadata=''}, qatest12nonfes.public.user_summary_old-7=OffsetAndMetadata{offset=191258, leaderEpoch=null, metadata=''}, qatest12nonfes.public.user_summary_old-8=OffsetAndMetadata{offset=189877, leaderEpoch=null, metadata=''}, qatest12nonfes.public.user_summary_old-5=OffsetAndMetadata{offset=171068, leaderEpoch=null, metadata=''}, qatest12nonfes.public.user_summary_old-6=OffsetAndMetadata{offset=194807, leaderEpoch=null, metadata=''}, qatest12nonfes.public.user_summary_old-3=OffsetAndMetadata{offset=201131, leaderEpoch=null, metadata=''}, qatest12nonfes.public.user_summary_old-4=OffsetAndMetadata{offset=169495, leaderEpoch=null, metadata=''}, qatest12nonfes.public.user_summary_old-1=OffsetAndMetadata{offset=199521, leaderEpoch=null, metadata=''}, qatest12nonfes.public.user_summary_old-2=OffsetAndMetadata{offset=174686, leaderEpoch=null, metadata=''}, qatest12nonfes.public.user_summary_old-0=OffsetAndMetadata{offset=181748, leaderEpoch=null, metadata=''}}\n",
      "query inside Jar\n",
      "Query made progress: {qatest12nonfes.public.user_summary_old-9=OffsetAndMetadata{offset=185963, leaderEpoch=null, metadata=''}, qatest12nonfes.public.user_summary_old-7=OffsetAndMetadata{offset=191258, leaderEpoch=null, metadata=''}, qatest12nonfes.public.user_summary_old-8=OffsetAndMetadata{offset=189877, leaderEpoch=null, metadata=''}, qatest12nonfes.public.user_summary_old-5=OffsetAndMetadata{offset=171068, leaderEpoch=null, metadata=''}, qatest12nonfes.public.user_summary_old-6=OffsetAndMetadata{offset=194807, leaderEpoch=null, metadata=''}, qatest12nonfes.public.user_summary_old-3=OffsetAndMetadata{offset=201131, leaderEpoch=null, metadata=''}, qatest12nonfes.public.user_summary_old-4=OffsetAndMetadata{offset=169495, leaderEpoch=null, metadata=''}, qatest12nonfes.public.user_summary_old-1=OffsetAndMetadata{offset=199521, leaderEpoch=null, metadata=''}, qatest12nonfes.public.user_summary_old-2=OffsetAndMetadata{offset=174686, leaderEpoch=null, metadata=''}, qatest12nonfes.public.user_summary_old-0=OffsetAndMetadata{offset=181748, leaderEpoch=null, metadata=''}}\n",
      "query inside Jar\n",
      "Query made progress: {qatest12nonfes.public.user_summary_old-9=OffsetAndMetadata{offset=185963, leaderEpoch=null, metadata=''}, qatest12nonfes.public.user_summary_old-7=OffsetAndMetadata{offset=191258, leaderEpoch=null, metadata=''}, qatest12nonfes.public.user_summary_old-8=OffsetAndMetadata{offset=189877, leaderEpoch=null, metadata=''}, qatest12nonfes.public.user_summary_old-5=OffsetAndMetadata{offset=171068, leaderEpoch=null, metadata=''}, qatest12nonfes.public.user_summary_old-6=OffsetAndMetadata{offset=194807, leaderEpoch=null, metadata=''}, qatest12nonfes.public.user_summary_old-3=OffsetAndMetadata{offset=201131, leaderEpoch=null, metadata=''}, qatest12nonfes.public.user_summary_old-4=OffsetAndMetadata{offset=169495, leaderEpoch=null, metadata=''}, qatest12nonfes.public.user_summary_old-1=OffsetAndMetadata{offset=199521, leaderEpoch=null, metadata=''}, qatest12nonfes.public.user_summary_old-2=OffsetAndMetadata{offset=174686, leaderEpoch=null, metadata=''}, qatest12nonfes.public.user_summary_old-0=OffsetAndMetadata{offset=181748, leaderEpoch=null, metadata=''}}\n",
      "query inside Jar\n",
      "Query made progress: {qatest12nonfes.public.user_summary_old-9=OffsetAndMetadata{offset=185963, leaderEpoch=null, metadata=''}, qatest12nonfes.public.user_summary_old-7=OffsetAndMetadata{offset=191258, leaderEpoch=null, metadata=''}, qatest12nonfes.public.user_summary_old-8=OffsetAndMetadata{offset=189877, leaderEpoch=null, metadata=''}, qatest12nonfes.public.user_summary_old-5=OffsetAndMetadata{offset=171068, leaderEpoch=null, metadata=''}, qatest12nonfes.public.user_summary_old-6=OffsetAndMetadata{offset=194807, leaderEpoch=null, metadata=''}, qatest12nonfes.public.user_summary_old-3=OffsetAndMetadata{offset=201131, leaderEpoch=null, metadata=''}, qatest12nonfes.public.user_summary_old-4=OffsetAndMetadata{offset=169495, leaderEpoch=null, metadata=''}, qatest12nonfes.public.user_summary_old-1=OffsetAndMetadata{offset=199521, leaderEpoch=null, metadata=''}, qatest12nonfes.public.user_summary_old-2=OffsetAndMetadata{offset=174686, leaderEpoch=null, metadata=''}, qatest12nonfes.public.user_summary_old-0=OffsetAndMetadata{offset=181748, leaderEpoch=null, metadata=''}}\n",
      "query inside Jar\n",
      "Query made progress: {qatest12nonfes.public.user_summary_old-9=OffsetAndMetadata{offset=185963, leaderEpoch=null, metadata=''}, qatest12nonfes.public.user_summary_old-7=OffsetAndMetadata{offset=191258, leaderEpoch=null, metadata=''}, qatest12nonfes.public.user_summary_old-8=OffsetAndMetadata{offset=189877, leaderEpoch=null, metadata=''}, qatest12nonfes.public.user_summary_old-5=OffsetAndMetadata{offset=171068, leaderEpoch=null, metadata=''}, qatest12nonfes.public.user_summary_old-6=OffsetAndMetadata{offset=194807, leaderEpoch=null, metadata=''}, qatest12nonfes.public.user_summary_old-3=OffsetAndMetadata{offset=201131, leaderEpoch=null, metadata=''}, qatest12nonfes.public.user_summary_old-4=OffsetAndMetadata{offset=169495, leaderEpoch=null, metadata=''}, qatest12nonfes.public.user_summary_old-1=OffsetAndMetadata{offset=199521, leaderEpoch=null, metadata=''}, qatest12nonfes.public.user_summary_old-2=OffsetAndMetadata{offset=174686, leaderEpoch=null, metadata=''}, qatest12nonfes.public.user_summary_old-0=OffsetAndMetadata{offset=181748, leaderEpoch=null, metadata=''}}\n",
      "query inside Jar\n",
      "Query made progress: {qatest12nonfes.public.user_summary_old-9=OffsetAndMetadata{offset=185963, leaderEpoch=null, metadata=''}, qatest12nonfes.public.user_summary_old-7=OffsetAndMetadata{offset=191258, leaderEpoch=null, metadata=''}, qatest12nonfes.public.user_summary_old-8=OffsetAndMetadata{offset=189877, leaderEpoch=null, metadata=''}, qatest12nonfes.public.user_summary_old-5=OffsetAndMetadata{offset=171068, leaderEpoch=null, metadata=''}, qatest12nonfes.public.user_summary_old-6=OffsetAndMetadata{offset=194807, leaderEpoch=null, metadata=''}, qatest12nonfes.public.user_summary_old-3=OffsetAndMetadata{offset=201131, leaderEpoch=null, metadata=''}, qatest12nonfes.public.user_summary_old-4=OffsetAndMetadata{offset=169495, leaderEpoch=null, metadata=''}, qatest12nonfes.public.user_summary_old-1=OffsetAndMetadata{offset=199521, leaderEpoch=null, metadata=''}, qatest12nonfes.public.user_summary_old-2=OffsetAndMetadata{offset=174686, leaderEpoch=null, metadata=''}, qatest12nonfes.public.user_summary_old-0=OffsetAndMetadata{offset=181748, leaderEpoch=null, metadata=''}}\n",
      "query inside Jar\n",
      "Query made progress: {qatest12nonfes.public.user_summary_old-9=OffsetAndMetadata{offset=185963, leaderEpoch=null, metadata=''}, qatest12nonfes.public.user_summary_old-7=OffsetAndMetadata{offset=191258, leaderEpoch=null, metadata=''}, qatest12nonfes.public.user_summary_old-8=OffsetAndMetadata{offset=189877, leaderEpoch=null, metadata=''}, qatest12nonfes.public.user_summary_old-5=OffsetAndMetadata{offset=171068, leaderEpoch=null, metadata=''}, qatest12nonfes.public.user_summary_old-6=OffsetAndMetadata{offset=194807, leaderEpoch=null, metadata=''}, qatest12nonfes.public.user_summary_old-3=OffsetAndMetadata{offset=201131, leaderEpoch=null, metadata=''}, qatest12nonfes.public.user_summary_old-4=OffsetAndMetadata{offset=169495, leaderEpoch=null, metadata=''}, qatest12nonfes.public.user_summary_old-1=OffsetAndMetadata{offset=199521, leaderEpoch=null, metadata=''}, qatest12nonfes.public.user_summary_old-2=OffsetAndMetadata{offset=174686, leaderEpoch=null, metadata=''}, qatest12nonfes.public.user_summary_old-0=OffsetAndMetadata{offset=181748, leaderEpoch=null, metadata=''}}\n",
      "query inside Jar\n",
      "Query made progress: {qatest12nonfes.public.user_summary_old-9=OffsetAndMetadata{offset=185963, leaderEpoch=null, metadata=''}, qatest12nonfes.public.user_summary_old-7=OffsetAndMetadata{offset=191258, leaderEpoch=null, metadata=''}, qatest12nonfes.public.user_summary_old-8=OffsetAndMetadata{offset=189877, leaderEpoch=null, metadata=''}, qatest12nonfes.public.user_summary_old-5=OffsetAndMetadata{offset=171068, leaderEpoch=null, metadata=''}, qatest12nonfes.public.user_summary_old-6=OffsetAndMetadata{offset=194807, leaderEpoch=null, metadata=''}, qatest12nonfes.public.user_summary_old-3=OffsetAndMetadata{offset=201131, leaderEpoch=null, metadata=''}, qatest12nonfes.public.user_summary_old-4=OffsetAndMetadata{offset=169495, leaderEpoch=null, metadata=''}, qatest12nonfes.public.user_summary_old-1=OffsetAndMetadata{offset=199521, leaderEpoch=null, metadata=''}, qatest12nonfes.public.user_summary_old-2=OffsetAndMetadata{offset=174686, leaderEpoch=null, metadata=''}, qatest12nonfes.public.user_summary_old-0=OffsetAndMetadata{offset=181748, leaderEpoch=null, metadata=''}}\n",
      "query inside Jar\n",
      "Query made progress: {qatest12nonfes.public.user_summary_old-9=OffsetAndMetadata{offset=185963, leaderEpoch=null, metadata=''}, qatest12nonfes.public.user_summary_old-7=OffsetAndMetadata{offset=191258, leaderEpoch=null, metadata=''}, qatest12nonfes.public.user_summary_old-8=OffsetAndMetadata{offset=189877, leaderEpoch=null, metadata=''}, qatest12nonfes.public.user_summary_old-5=OffsetAndMetadata{offset=171068, leaderEpoch=null, metadata=''}, qatest12nonfes.public.user_summary_old-6=OffsetAndMetadata{offset=194807, leaderEpoch=null, metadata=''}, qatest12nonfes.public.user_summary_old-3=OffsetAndMetadata{offset=201131, leaderEpoch=null, metadata=''}, qatest12nonfes.public.user_summary_old-4=OffsetAndMetadata{offset=169495, leaderEpoch=null, metadata=''}, qatest12nonfes.public.user_summary_old-1=OffsetAndMetadata{offset=199521, leaderEpoch=null, metadata=''}, qatest12nonfes.public.user_summary_old-2=OffsetAndMetadata{offset=174686, leaderEpoch=null, metadata=''}, qatest12nonfes.public.user_summary_old-0=OffsetAndMetadata{offset=181748, leaderEpoch=null, metadata=''}}\n",
      "query inside Jar\n",
      "Query made progress: {qatest12nonfes.public.user_summary_old-9=OffsetAndMetadata{offset=185963, leaderEpoch=null, metadata=''}, qatest12nonfes.public.user_summary_old-7=OffsetAndMetadata{offset=191258, leaderEpoch=null, metadata=''}, qatest12nonfes.public.user_summary_old-8=OffsetAndMetadata{offset=189877, leaderEpoch=null, metadata=''}, qatest12nonfes.public.user_summary_old-5=OffsetAndMetadata{offset=171068, leaderEpoch=null, metadata=''}, qatest12nonfes.public.user_summary_old-6=OffsetAndMetadata{offset=194807, leaderEpoch=null, metadata=''}, qatest12nonfes.public.user_summary_old-3=OffsetAndMetadata{offset=201131, leaderEpoch=null, metadata=''}, qatest12nonfes.public.user_summary_old-4=OffsetAndMetadata{offset=169495, leaderEpoch=null, metadata=''}, qatest12nonfes.public.user_summary_old-1=OffsetAndMetadata{offset=199521, leaderEpoch=null, metadata=''}, qatest12nonfes.public.user_summary_old-2=OffsetAndMetadata{offset=174686, leaderEpoch=null, metadata=''}, qatest12nonfes.public.user_summary_old-0=OffsetAndMetadata{offset=181748, leaderEpoch=null, metadata=''}}\n",
      "query inside Jar\n",
      "Query made progress: {qatest12nonfes.public.user_summary_old-9=OffsetAndMetadata{offset=185963, leaderEpoch=null, metadata=''}, qatest12nonfes.public.user_summary_old-7=OffsetAndMetadata{offset=191258, leaderEpoch=null, metadata=''}, qatest12nonfes.public.user_summary_old-8=OffsetAndMetadata{offset=189877, leaderEpoch=null, metadata=''}, qatest12nonfes.public.user_summary_old-5=OffsetAndMetadata{offset=171068, leaderEpoch=null, metadata=''}, qatest12nonfes.public.user_summary_old-6=OffsetAndMetadata{offset=194807, leaderEpoch=null, metadata=''}, qatest12nonfes.public.user_summary_old-3=OffsetAndMetadata{offset=201131, leaderEpoch=null, metadata=''}, qatest12nonfes.public.user_summary_old-4=OffsetAndMetadata{offset=169495, leaderEpoch=null, metadata=''}, qatest12nonfes.public.user_summary_old-1=OffsetAndMetadata{offset=199521, leaderEpoch=null, metadata=''}, qatest12nonfes.public.user_summary_old-2=OffsetAndMetadata{offset=174686, leaderEpoch=null, metadata=''}, qatest12nonfes.public.user_summary_old-0=OffsetAndMetadata{offset=181748, leaderEpoch=null, metadata=''}}\n",
      "query inside Jar\n",
      "Query made progress: {qatest12nonfes.public.user_summary_old-9=OffsetAndMetadata{offset=185963, leaderEpoch=null, metadata=''}, qatest12nonfes.public.user_summary_old-7=OffsetAndMetadata{offset=191258, leaderEpoch=null, metadata=''}, qatest12nonfes.public.user_summary_old-8=OffsetAndMetadata{offset=189877, leaderEpoch=null, metadata=''}, qatest12nonfes.public.user_summary_old-5=OffsetAndMetadata{offset=171068, leaderEpoch=null, metadata=''}, qatest12nonfes.public.user_summary_old-6=OffsetAndMetadata{offset=194807, leaderEpoch=null, metadata=''}, qatest12nonfes.public.user_summary_old-3=OffsetAndMetadata{offset=201131, leaderEpoch=null, metadata=''}, qatest12nonfes.public.user_summary_old-4=OffsetAndMetadata{offset=169495, leaderEpoch=null, metadata=''}, qatest12nonfes.public.user_summary_old-1=OffsetAndMetadata{offset=199521, leaderEpoch=null, metadata=''}, qatest12nonfes.public.user_summary_old-2=OffsetAndMetadata{offset=174686, leaderEpoch=null, metadata=''}, qatest12nonfes.public.user_summary_old-0=OffsetAndMetadata{offset=181748, leaderEpoch=null, metadata=''}}\n",
      "query inside Jar\n",
      "Query made progress: {qatest12nonfes.public.user_summary_old-9=OffsetAndMetadata{offset=185963, leaderEpoch=null, metadata=''}, qatest12nonfes.public.user_summary_old-7=OffsetAndMetadata{offset=191258, leaderEpoch=null, metadata=''}, qatest12nonfes.public.user_summary_old-8=OffsetAndMetadata{offset=189877, leaderEpoch=null, metadata=''}, qatest12nonfes.public.user_summary_old-5=OffsetAndMetadata{offset=171068, leaderEpoch=null, metadata=''}, qatest12nonfes.public.user_summary_old-6=OffsetAndMetadata{offset=194807, leaderEpoch=null, metadata=''}, qatest12nonfes.public.user_summary_old-3=OffsetAndMetadata{offset=201131, leaderEpoch=null, metadata=''}, qatest12nonfes.public.user_summary_old-4=OffsetAndMetadata{offset=169495, leaderEpoch=null, metadata=''}, qatest12nonfes.public.user_summary_old-1=OffsetAndMetadata{offset=199521, leaderEpoch=null, metadata=''}, qatest12nonfes.public.user_summary_old-2=OffsetAndMetadata{offset=174686, leaderEpoch=null, metadata=''}, qatest12nonfes.public.user_summary_old-0=OffsetAndMetadata{offset=181748, leaderEpoch=null, metadata=''}}\n",
      "query inside Jar\n",
      "Query made progress: {qatest12nonfes.public.user_summary_old-9=OffsetAndMetadata{offset=185963, leaderEpoch=null, metadata=''}, qatest12nonfes.public.user_summary_old-7=OffsetAndMetadata{offset=191258, leaderEpoch=null, metadata=''}, qatest12nonfes.public.user_summary_old-8=OffsetAndMetadata{offset=189877, leaderEpoch=null, metadata=''}, qatest12nonfes.public.user_summary_old-5=OffsetAndMetadata{offset=171068, leaderEpoch=null, metadata=''}, qatest12nonfes.public.user_summary_old-6=OffsetAndMetadata{offset=194807, leaderEpoch=null, metadata=''}, qatest12nonfes.public.user_summary_old-3=OffsetAndMetadata{offset=201131, leaderEpoch=null, metadata=''}, qatest12nonfes.public.user_summary_old-4=OffsetAndMetadata{offset=169495, leaderEpoch=null, metadata=''}, qatest12nonfes.public.user_summary_old-1=OffsetAndMetadata{offset=199521, leaderEpoch=null, metadata=''}, qatest12nonfes.public.user_summary_old-2=OffsetAndMetadata{offset=174686, leaderEpoch=null, metadata=''}, qatest12nonfes.public.user_summary_old-0=OffsetAndMetadata{offset=181748, leaderEpoch=null, metadata=''}}\n",
      "query inside Jar\n",
      "Query made progress: {qatest12nonfes.public.user_summary_old-9=OffsetAndMetadata{offset=185963, leaderEpoch=null, metadata=''}, qatest12nonfes.public.user_summary_old-7=OffsetAndMetadata{offset=191258, leaderEpoch=null, metadata=''}, qatest12nonfes.public.user_summary_old-8=OffsetAndMetadata{offset=189877, leaderEpoch=null, metadata=''}, qatest12nonfes.public.user_summary_old-5=OffsetAndMetadata{offset=171068, leaderEpoch=null, metadata=''}, qatest12nonfes.public.user_summary_old-6=OffsetAndMetadata{offset=194807, leaderEpoch=null, metadata=''}, qatest12nonfes.public.user_summary_old-3=OffsetAndMetadata{offset=201131, leaderEpoch=null, metadata=''}, qatest12nonfes.public.user_summary_old-4=OffsetAndMetadata{offset=169495, leaderEpoch=null, metadata=''}, qatest12nonfes.public.user_summary_old-1=OffsetAndMetadata{offset=199521, leaderEpoch=null, metadata=''}, qatest12nonfes.public.user_summary_old-2=OffsetAndMetadata{offset=174686, leaderEpoch=null, metadata=''}, qatest12nonfes.public.user_summary_old-0=OffsetAndMetadata{offset=181748, leaderEpoch=null, metadata=''}}\n",
      "query inside Jar\n",
      "Query made progress: {qatest12nonfes.public.user_summary_old-9=OffsetAndMetadata{offset=185963, leaderEpoch=null, metadata=''}, qatest12nonfes.public.user_summary_old-7=OffsetAndMetadata{offset=191258, leaderEpoch=null, metadata=''}, qatest12nonfes.public.user_summary_old-8=OffsetAndMetadata{offset=189877, leaderEpoch=null, metadata=''}, qatest12nonfes.public.user_summary_old-5=OffsetAndMetadata{offset=171068, leaderEpoch=null, metadata=''}, qatest12nonfes.public.user_summary_old-6=OffsetAndMetadata{offset=194807, leaderEpoch=null, metadata=''}, qatest12nonfes.public.user_summary_old-3=OffsetAndMetadata{offset=201131, leaderEpoch=null, metadata=''}, qatest12nonfes.public.user_summary_old-4=OffsetAndMetadata{offset=169495, leaderEpoch=null, metadata=''}, qatest12nonfes.public.user_summary_old-1=OffsetAndMetadata{offset=199521, leaderEpoch=null, metadata=''}, qatest12nonfes.public.user_summary_old-2=OffsetAndMetadata{offset=174686, leaderEpoch=null, metadata=''}, qatest12nonfes.public.user_summary_old-0=OffsetAndMetadata{offset=181748, leaderEpoch=null, metadata=''}}\n",
      "query inside Jar\n",
      "Query made progress: {qatest12nonfes.public.user_summary_old-9=OffsetAndMetadata{offset=185963, leaderEpoch=null, metadata=''}, qatest12nonfes.public.user_summary_old-7=OffsetAndMetadata{offset=191258, leaderEpoch=null, metadata=''}, qatest12nonfes.public.user_summary_old-8=OffsetAndMetadata{offset=189877, leaderEpoch=null, metadata=''}, qatest12nonfes.public.user_summary_old-5=OffsetAndMetadata{offset=171068, leaderEpoch=null, metadata=''}, qatest12nonfes.public.user_summary_old-6=OffsetAndMetadata{offset=194807, leaderEpoch=null, metadata=''}, qatest12nonfes.public.user_summary_old-3=OffsetAndMetadata{offset=201131, leaderEpoch=null, metadata=''}, qatest12nonfes.public.user_summary_old-4=OffsetAndMetadata{offset=169495, leaderEpoch=null, metadata=''}, qatest12nonfes.public.user_summary_old-1=OffsetAndMetadata{offset=199521, leaderEpoch=null, metadata=''}, qatest12nonfes.public.user_summary_old-2=OffsetAndMetadata{offset=174686, leaderEpoch=null, metadata=''}, qatest12nonfes.public.user_summary_old-0=OffsetAndMetadata{offset=181748, leaderEpoch=null, metadata=''}}\n",
      "query inside Jar\n",
      "Query made progress: {qatest12nonfes.public.user_summary_old-9=OffsetAndMetadata{offset=185963, leaderEpoch=null, metadata=''}, qatest12nonfes.public.user_summary_old-7=OffsetAndMetadata{offset=191258, leaderEpoch=null, metadata=''}, qatest12nonfes.public.user_summary_old-8=OffsetAndMetadata{offset=189877, leaderEpoch=null, metadata=''}, qatest12nonfes.public.user_summary_old-5=OffsetAndMetadata{offset=171068, leaderEpoch=null, metadata=''}, qatest12nonfes.public.user_summary_old-6=OffsetAndMetadata{offset=194807, leaderEpoch=null, metadata=''}, qatest12nonfes.public.user_summary_old-3=OffsetAndMetadata{offset=201131, leaderEpoch=null, metadata=''}, qatest12nonfes.public.user_summary_old-4=OffsetAndMetadata{offset=169495, leaderEpoch=null, metadata=''}, qatest12nonfes.public.user_summary_old-1=OffsetAndMetadata{offset=199521, leaderEpoch=null, metadata=''}, qatest12nonfes.public.user_summary_old-2=OffsetAndMetadata{offset=174686, leaderEpoch=null, metadata=''}, qatest12nonfes.public.user_summary_old-0=OffsetAndMetadata{offset=181748, leaderEpoch=null, metadata=''}}\n",
      "query inside Jar\n",
      "Query made progress: {qatest12nonfes.public.user_summary_old-9=OffsetAndMetadata{offset=185963, leaderEpoch=null, metadata=''}, qatest12nonfes.public.user_summary_old-7=OffsetAndMetadata{offset=191258, leaderEpoch=null, metadata=''}, qatest12nonfes.public.user_summary_old-8=OffsetAndMetadata{offset=189877, leaderEpoch=null, metadata=''}, qatest12nonfes.public.user_summary_old-5=OffsetAndMetadata{offset=171068, leaderEpoch=null, metadata=''}, qatest12nonfes.public.user_summary_old-6=OffsetAndMetadata{offset=194807, leaderEpoch=null, metadata=''}, qatest12nonfes.public.user_summary_old-3=OffsetAndMetadata{offset=201131, leaderEpoch=null, metadata=''}, qatest12nonfes.public.user_summary_old-4=OffsetAndMetadata{offset=169495, leaderEpoch=null, metadata=''}, qatest12nonfes.public.user_summary_old-1=OffsetAndMetadata{offset=199521, leaderEpoch=null, metadata=''}, qatest12nonfes.public.user_summary_old-2=OffsetAndMetadata{offset=174686, leaderEpoch=null, metadata=''}, qatest12nonfes.public.user_summary_old-0=OffsetAndMetadata{offset=181748, leaderEpoch=null, metadata=''}}\n",
      "query inside Jar\n",
      "Query made progress: {qatest12nonfes.public.user_summary_old-9=OffsetAndMetadata{offset=185963, leaderEpoch=null, metadata=''}, qatest12nonfes.public.user_summary_old-7=OffsetAndMetadata{offset=191258, leaderEpoch=null, metadata=''}, qatest12nonfes.public.user_summary_old-8=OffsetAndMetadata{offset=189877, leaderEpoch=null, metadata=''}, qatest12nonfes.public.user_summary_old-5=OffsetAndMetadata{offset=171068, leaderEpoch=null, metadata=''}, qatest12nonfes.public.user_summary_old-6=OffsetAndMetadata{offset=194807, leaderEpoch=null, metadata=''}, qatest12nonfes.public.user_summary_old-3=OffsetAndMetadata{offset=201131, leaderEpoch=null, metadata=''}, qatest12nonfes.public.user_summary_old-4=OffsetAndMetadata{offset=169495, leaderEpoch=null, metadata=''}, qatest12nonfes.public.user_summary_old-1=OffsetAndMetadata{offset=199521, leaderEpoch=null, metadata=''}, qatest12nonfes.public.user_summary_old-2=OffsetAndMetadata{offset=174686, leaderEpoch=null, metadata=''}, qatest12nonfes.public.user_summary_old-0=OffsetAndMetadata{offset=181748, leaderEpoch=null, metadata=''}}\n",
      "query inside Jar\n",
      "Query made progress: {qatest12nonfes.public.user_summary_old-9=OffsetAndMetadata{offset=185963, leaderEpoch=null, metadata=''}, qatest12nonfes.public.user_summary_old-7=OffsetAndMetadata{offset=191258, leaderEpoch=null, metadata=''}, qatest12nonfes.public.user_summary_old-8=OffsetAndMetadata{offset=189877, leaderEpoch=null, metadata=''}, qatest12nonfes.public.user_summary_old-5=OffsetAndMetadata{offset=171068, leaderEpoch=null, metadata=''}, qatest12nonfes.public.user_summary_old-6=OffsetAndMetadata{offset=194807, leaderEpoch=null, metadata=''}, qatest12nonfes.public.user_summary_old-3=OffsetAndMetadata{offset=201131, leaderEpoch=null, metadata=''}, qatest12nonfes.public.user_summary_old-4=OffsetAndMetadata{offset=169495, leaderEpoch=null, metadata=''}, qatest12nonfes.public.user_summary_old-1=OffsetAndMetadata{offset=199521, leaderEpoch=null, metadata=''}, qatest12nonfes.public.user_summary_old-2=OffsetAndMetadata{offset=174686, leaderEpoch=null, metadata=''}, qatest12nonfes.public.user_summary_old-0=OffsetAndMetadata{offset=181748, leaderEpoch=null, metadata=''}}\n",
      "query inside Jar\n",
      "Query made progress: {qatest12nonfes.public.user_summary_old-9=OffsetAndMetadata{offset=185963, leaderEpoch=null, metadata=''}, qatest12nonfes.public.user_summary_old-7=OffsetAndMetadata{offset=191258, leaderEpoch=null, metadata=''}, qatest12nonfes.public.user_summary_old-8=OffsetAndMetadata{offset=189877, leaderEpoch=null, metadata=''}, qatest12nonfes.public.user_summary_old-5=OffsetAndMetadata{offset=171068, leaderEpoch=null, metadata=''}, qatest12nonfes.public.user_summary_old-6=OffsetAndMetadata{offset=194807, leaderEpoch=null, metadata=''}, qatest12nonfes.public.user_summary_old-3=OffsetAndMetadata{offset=201131, leaderEpoch=null, metadata=''}, qatest12nonfes.public.user_summary_old-4=OffsetAndMetadata{offset=169495, leaderEpoch=null, metadata=''}, qatest12nonfes.public.user_summary_old-1=OffsetAndMetadata{offset=199521, leaderEpoch=null, metadata=''}, qatest12nonfes.public.user_summary_old-2=OffsetAndMetadata{offset=174686, leaderEpoch=null, metadata=''}, qatest12nonfes.public.user_summary_old-0=OffsetAndMetadata{offset=181748, leaderEpoch=null, metadata=''}}\n",
      "query inside Jar\n",
      "Query made progress: {qatest12nonfes.public.user_summary_old-9=OffsetAndMetadata{offset=185963, leaderEpoch=null, metadata=''}, qatest12nonfes.public.user_summary_old-7=OffsetAndMetadata{offset=191258, leaderEpoch=null, metadata=''}, qatest12nonfes.public.user_summary_old-8=OffsetAndMetadata{offset=189877, leaderEpoch=null, metadata=''}, qatest12nonfes.public.user_summary_old-5=OffsetAndMetadata{offset=171068, leaderEpoch=null, metadata=''}, qatest12nonfes.public.user_summary_old-6=OffsetAndMetadata{offset=194807, leaderEpoch=null, metadata=''}, qatest12nonfes.public.user_summary_old-3=OffsetAndMetadata{offset=201131, leaderEpoch=null, metadata=''}, qatest12nonfes.public.user_summary_old-4=OffsetAndMetadata{offset=169495, leaderEpoch=null, metadata=''}, qatest12nonfes.public.user_summary_old-1=OffsetAndMetadata{offset=199521, leaderEpoch=null, metadata=''}, qatest12nonfes.public.user_summary_old-2=OffsetAndMetadata{offset=174686, leaderEpoch=null, metadata=''}, qatest12nonfes.public.user_summary_old-0=OffsetAndMetadata{offset=181748, leaderEpoch=null, metadata=''}}\n",
      "query inside Jar\n",
      "Query made progress: {qatest12nonfes.public.user_summary_old-9=OffsetAndMetadata{offset=185963, leaderEpoch=null, metadata=''}, qatest12nonfes.public.user_summary_old-7=OffsetAndMetadata{offset=191258, leaderEpoch=null, metadata=''}, qatest12nonfes.public.user_summary_old-8=OffsetAndMetadata{offset=189877, leaderEpoch=null, metadata=''}, qatest12nonfes.public.user_summary_old-5=OffsetAndMetadata{offset=171068, leaderEpoch=null, metadata=''}, qatest12nonfes.public.user_summary_old-6=OffsetAndMetadata{offset=194807, leaderEpoch=null, metadata=''}, qatest12nonfes.public.user_summary_old-3=OffsetAndMetadata{offset=201131, leaderEpoch=null, metadata=''}, qatest12nonfes.public.user_summary_old-4=OffsetAndMetadata{offset=169495, leaderEpoch=null, metadata=''}, qatest12nonfes.public.user_summary_old-1=OffsetAndMetadata{offset=199521, leaderEpoch=null, metadata=''}, qatest12nonfes.public.user_summary_old-2=OffsetAndMetadata{offset=174686, leaderEpoch=null, metadata=''}, qatest12nonfes.public.user_summary_old-0=OffsetAndMetadata{offset=181748, leaderEpoch=null, metadata=''}}\n",
      "query inside Jar\n",
      "Query made progress: {qatest12nonfes.public.user_summary_old-9=OffsetAndMetadata{offset=185963, leaderEpoch=null, metadata=''}, qatest12nonfes.public.user_summary_old-7=OffsetAndMetadata{offset=191258, leaderEpoch=null, metadata=''}, qatest12nonfes.public.user_summary_old-8=OffsetAndMetadata{offset=189877, leaderEpoch=null, metadata=''}, qatest12nonfes.public.user_summary_old-5=OffsetAndMetadata{offset=171068, leaderEpoch=null, metadata=''}, qatest12nonfes.public.user_summary_old-6=OffsetAndMetadata{offset=194807, leaderEpoch=null, metadata=''}, qatest12nonfes.public.user_summary_old-3=OffsetAndMetadata{offset=201131, leaderEpoch=null, metadata=''}, qatest12nonfes.public.user_summary_old-4=OffsetAndMetadata{offset=169495, leaderEpoch=null, metadata=''}, qatest12nonfes.public.user_summary_old-1=OffsetAndMetadata{offset=199521, leaderEpoch=null, metadata=''}, qatest12nonfes.public.user_summary_old-2=OffsetAndMetadata{offset=174686, leaderEpoch=null, metadata=''}, qatest12nonfes.public.user_summary_old-0=OffsetAndMetadata{offset=181748, leaderEpoch=null, metadata=''}}\n",
      "query inside Jar\n",
      "Query made progress: {qatest12nonfes.public.user_summary_old-9=OffsetAndMetadata{offset=185963, leaderEpoch=null, metadata=''}, qatest12nonfes.public.user_summary_old-7=OffsetAndMetadata{offset=191258, leaderEpoch=null, metadata=''}, qatest12nonfes.public.user_summary_old-8=OffsetAndMetadata{offset=189877, leaderEpoch=null, metadata=''}, qatest12nonfes.public.user_summary_old-5=OffsetAndMetadata{offset=171068, leaderEpoch=null, metadata=''}, qatest12nonfes.public.user_summary_old-6=OffsetAndMetadata{offset=194807, leaderEpoch=null, metadata=''}, qatest12nonfes.public.user_summary_old-3=OffsetAndMetadata{offset=201131, leaderEpoch=null, metadata=''}, qatest12nonfes.public.user_summary_old-4=OffsetAndMetadata{offset=169495, leaderEpoch=null, metadata=''}, qatest12nonfes.public.user_summary_old-1=OffsetAndMetadata{offset=199521, leaderEpoch=null, metadata=''}, qatest12nonfes.public.user_summary_old-2=OffsetAndMetadata{offset=174686, leaderEpoch=null, metadata=''}, qatest12nonfes.public.user_summary_old-0=OffsetAndMetadata{offset=181748, leaderEpoch=null, metadata=''}}\n",
      "query inside Jar\n",
      "Query made progress: {qatest12nonfes.public.user_summary_old-9=OffsetAndMetadata{offset=185963, leaderEpoch=null, metadata=''}, qatest12nonfes.public.user_summary_old-7=OffsetAndMetadata{offset=191258, leaderEpoch=null, metadata=''}, qatest12nonfes.public.user_summary_old-8=OffsetAndMetadata{offset=189877, leaderEpoch=null, metadata=''}, qatest12nonfes.public.user_summary_old-5=OffsetAndMetadata{offset=171069, leaderEpoch=null, metadata=''}, qatest12nonfes.public.user_summary_old-6=OffsetAndMetadata{offset=194807, leaderEpoch=null, metadata=''}, qatest12nonfes.public.user_summary_old-3=OffsetAndMetadata{offset=201131, leaderEpoch=null, metadata=''}, qatest12nonfes.public.user_summary_old-4=OffsetAndMetadata{offset=169495, leaderEpoch=null, metadata=''}, qatest12nonfes.public.user_summary_old-1=OffsetAndMetadata{offset=199521, leaderEpoch=null, metadata=''}, qatest12nonfes.public.user_summary_old-2=OffsetAndMetadata{offset=174686, leaderEpoch=null, metadata=''}, qatest12nonfes.public.user_summary_old-0=OffsetAndMetadata{offset=181748, leaderEpoch=null, metadata=''}}\n",
      "query inside Jar\n",
      "Query made progress: {qatest12nonfes.public.user_summary_old-9=OffsetAndMetadata{offset=185963, leaderEpoch=null, metadata=''}, qatest12nonfes.public.user_summary_old-7=OffsetAndMetadata{offset=191258, leaderEpoch=null, metadata=''}, qatest12nonfes.public.user_summary_old-8=OffsetAndMetadata{offset=189877, leaderEpoch=null, metadata=''}, qatest12nonfes.public.user_summary_old-5=OffsetAndMetadata{offset=171069, leaderEpoch=null, metadata=''}, qatest12nonfes.public.user_summary_old-6=OffsetAndMetadata{offset=194807, leaderEpoch=null, metadata=''}, qatest12nonfes.public.user_summary_old-3=OffsetAndMetadata{offset=201131, leaderEpoch=null, metadata=''}, qatest12nonfes.public.user_summary_old-4=OffsetAndMetadata{offset=169495, leaderEpoch=null, metadata=''}, qatest12nonfes.public.user_summary_old-1=OffsetAndMetadata{offset=199521, leaderEpoch=null, metadata=''}, qatest12nonfes.public.user_summary_old-2=OffsetAndMetadata{offset=174686, leaderEpoch=null, metadata=''}, qatest12nonfes.public.user_summary_old-0=OffsetAndMetadata{offset=181748, leaderEpoch=null, metadata=''}}\n",
      "query inside Jar\n",
      "Query made progress: {qatest12nonfes.public.user_summary_old-9=OffsetAndMetadata{offset=185963, leaderEpoch=null, metadata=''}, qatest12nonfes.public.user_summary_old-7=OffsetAndMetadata{offset=191258, leaderEpoch=null, metadata=''}, qatest12nonfes.public.user_summary_old-8=OffsetAndMetadata{offset=189877, leaderEpoch=null, metadata=''}, qatest12nonfes.public.user_summary_old-5=OffsetAndMetadata{offset=171069, leaderEpoch=null, metadata=''}, qatest12nonfes.public.user_summary_old-6=OffsetAndMetadata{offset=194807, leaderEpoch=null, metadata=''}, qatest12nonfes.public.user_summary_old-3=OffsetAndMetadata{offset=201131, leaderEpoch=null, metadata=''}, qatest12nonfes.public.user_summary_old-4=OffsetAndMetadata{offset=169495, leaderEpoch=null, metadata=''}, qatest12nonfes.public.user_summary_old-1=OffsetAndMetadata{offset=199521, leaderEpoch=null, metadata=''}, qatest12nonfes.public.user_summary_old-2=OffsetAndMetadata{offset=174686, leaderEpoch=null, metadata=''}, qatest12nonfes.public.user_summary_old-0=OffsetAndMetadata{offset=181748, leaderEpoch=null, metadata=''}}\n",
      "query inside Jar\n",
      "Query made progress: {qatest12nonfes.public.user_summary_old-9=OffsetAndMetadata{offset=185963, leaderEpoch=null, metadata=''}, qatest12nonfes.public.user_summary_old-7=OffsetAndMetadata{offset=191258, leaderEpoch=null, metadata=''}, qatest12nonfes.public.user_summary_old-8=OffsetAndMetadata{offset=189877, leaderEpoch=null, metadata=''}, qatest12nonfes.public.user_summary_old-5=OffsetAndMetadata{offset=171069, leaderEpoch=null, metadata=''}, qatest12nonfes.public.user_summary_old-6=OffsetAndMetadata{offset=194807, leaderEpoch=null, metadata=''}, qatest12nonfes.public.user_summary_old-3=OffsetAndMetadata{offset=201131, leaderEpoch=null, metadata=''}, qatest12nonfes.public.user_summary_old-4=OffsetAndMetadata{offset=169495, leaderEpoch=null, metadata=''}, qatest12nonfes.public.user_summary_old-1=OffsetAndMetadata{offset=199521, leaderEpoch=null, metadata=''}, qatest12nonfes.public.user_summary_old-2=OffsetAndMetadata{offset=174686, leaderEpoch=null, metadata=''}, qatest12nonfes.public.user_summary_old-0=OffsetAndMetadata{offset=181748, leaderEpoch=null, metadata=''}}\n",
      "query inside Jar\n",
      "Query made progress: {qatest12nonfes.public.user_summary_old-9=OffsetAndMetadata{offset=185963, leaderEpoch=null, metadata=''}, qatest12nonfes.public.user_summary_old-7=OffsetAndMetadata{offset=191258, leaderEpoch=null, metadata=''}, qatest12nonfes.public.user_summary_old-8=OffsetAndMetadata{offset=189877, leaderEpoch=null, metadata=''}, qatest12nonfes.public.user_summary_old-5=OffsetAndMetadata{offset=171069, leaderEpoch=null, metadata=''}, qatest12nonfes.public.user_summary_old-6=OffsetAndMetadata{offset=194807, leaderEpoch=null, metadata=''}, qatest12nonfes.public.user_summary_old-3=OffsetAndMetadata{offset=201131, leaderEpoch=null, metadata=''}, qatest12nonfes.public.user_summary_old-4=OffsetAndMetadata{offset=169495, leaderEpoch=null, metadata=''}, qatest12nonfes.public.user_summary_old-1=OffsetAndMetadata{offset=199521, leaderEpoch=null, metadata=''}, qatest12nonfes.public.user_summary_old-2=OffsetAndMetadata{offset=174686, leaderEpoch=null, metadata=''}, qatest12nonfes.public.user_summary_old-0=OffsetAndMetadata{offset=181748, leaderEpoch=null, metadata=''}}\n",
      "query inside Jar\n",
      "Query made progress: {qatest12nonfes.public.user_summary_old-9=OffsetAndMetadata{offset=185963, leaderEpoch=null, metadata=''}, qatest12nonfes.public.user_summary_old-7=OffsetAndMetadata{offset=191258, leaderEpoch=null, metadata=''}, qatest12nonfes.public.user_summary_old-8=OffsetAndMetadata{offset=189877, leaderEpoch=null, metadata=''}, qatest12nonfes.public.user_summary_old-5=OffsetAndMetadata{offset=171069, leaderEpoch=null, metadata=''}, qatest12nonfes.public.user_summary_old-6=OffsetAndMetadata{offset=194807, leaderEpoch=null, metadata=''}, qatest12nonfes.public.user_summary_old-3=OffsetAndMetadata{offset=201131, leaderEpoch=null, metadata=''}, qatest12nonfes.public.user_summary_old-4=OffsetAndMetadata{offset=169495, leaderEpoch=null, metadata=''}, qatest12nonfes.public.user_summary_old-1=OffsetAndMetadata{offset=199521, leaderEpoch=null, metadata=''}, qatest12nonfes.public.user_summary_old-2=OffsetAndMetadata{offset=174686, leaderEpoch=null, metadata=''}, qatest12nonfes.public.user_summary_old-0=OffsetAndMetadata{offset=181748, leaderEpoch=null, metadata=''}}\n",
      "query inside Jar\n",
      "Query made progress: {qatest12nonfes.public.user_summary_old-9=OffsetAndMetadata{offset=185963, leaderEpoch=null, metadata=''}, qatest12nonfes.public.user_summary_old-7=OffsetAndMetadata{offset=191258, leaderEpoch=null, metadata=''}, qatest12nonfes.public.user_summary_old-8=OffsetAndMetadata{offset=189877, leaderEpoch=null, metadata=''}, qatest12nonfes.public.user_summary_old-5=OffsetAndMetadata{offset=171069, leaderEpoch=null, metadata=''}, qatest12nonfes.public.user_summary_old-6=OffsetAndMetadata{offset=194807, leaderEpoch=null, metadata=''}, qatest12nonfes.public.user_summary_old-3=OffsetAndMetadata{offset=201131, leaderEpoch=null, metadata=''}, qatest12nonfes.public.user_summary_old-4=OffsetAndMetadata{offset=169495, leaderEpoch=null, metadata=''}, qatest12nonfes.public.user_summary_old-1=OffsetAndMetadata{offset=199521, leaderEpoch=null, metadata=''}, qatest12nonfes.public.user_summary_old-2=OffsetAndMetadata{offset=174686, leaderEpoch=null, metadata=''}, qatest12nonfes.public.user_summary_old-0=OffsetAndMetadata{offset=181748, leaderEpoch=null, metadata=''}}\n",
      "query inside Jar\n",
      "Query made progress: {qatest12nonfes.public.user_summary_old-9=OffsetAndMetadata{offset=185963, leaderEpoch=null, metadata=''}, qatest12nonfes.public.user_summary_old-7=OffsetAndMetadata{offset=191258, leaderEpoch=null, metadata=''}, qatest12nonfes.public.user_summary_old-8=OffsetAndMetadata{offset=189877, leaderEpoch=null, metadata=''}, qatest12nonfes.public.user_summary_old-5=OffsetAndMetadata{offset=171069, leaderEpoch=null, metadata=''}, qatest12nonfes.public.user_summary_old-6=OffsetAndMetadata{offset=194807, leaderEpoch=null, metadata=''}, qatest12nonfes.public.user_summary_old-3=OffsetAndMetadata{offset=201131, leaderEpoch=null, metadata=''}, qatest12nonfes.public.user_summary_old-4=OffsetAndMetadata{offset=169495, leaderEpoch=null, metadata=''}, qatest12nonfes.public.user_summary_old-1=OffsetAndMetadata{offset=199521, leaderEpoch=null, metadata=''}, qatest12nonfes.public.user_summary_old-2=OffsetAndMetadata{offset=174686, leaderEpoch=null, metadata=''}, qatest12nonfes.public.user_summary_old-0=OffsetAndMetadata{offset=181748, leaderEpoch=null, metadata=''}}\n",
      "query inside Jar\n",
      "Query made progress: {qatest12nonfes.public.user_summary_old-9=OffsetAndMetadata{offset=185963, leaderEpoch=null, metadata=''}, qatest12nonfes.public.user_summary_old-7=OffsetAndMetadata{offset=191258, leaderEpoch=null, metadata=''}, qatest12nonfes.public.user_summary_old-8=OffsetAndMetadata{offset=189877, leaderEpoch=null, metadata=''}, qatest12nonfes.public.user_summary_old-5=OffsetAndMetadata{offset=171069, leaderEpoch=null, metadata=''}, qatest12nonfes.public.user_summary_old-6=OffsetAndMetadata{offset=194807, leaderEpoch=null, metadata=''}, qatest12nonfes.public.user_summary_old-3=OffsetAndMetadata{offset=201131, leaderEpoch=null, metadata=''}, qatest12nonfes.public.user_summary_old-4=OffsetAndMetadata{offset=169495, leaderEpoch=null, metadata=''}, qatest12nonfes.public.user_summary_old-1=OffsetAndMetadata{offset=199521, leaderEpoch=null, metadata=''}, qatest12nonfes.public.user_summary_old-2=OffsetAndMetadata{offset=174686, leaderEpoch=null, metadata=''}, qatest12nonfes.public.user_summary_old-0=OffsetAndMetadata{offset=181748, leaderEpoch=null, metadata=''}}\n",
      "query inside Jar\n",
      "Query made progress: {qatest12nonfes.public.user_summary_old-9=OffsetAndMetadata{offset=185963, leaderEpoch=null, metadata=''}, qatest12nonfes.public.user_summary_old-7=OffsetAndMetadata{offset=191258, leaderEpoch=null, metadata=''}, qatest12nonfes.public.user_summary_old-8=OffsetAndMetadata{offset=189877, leaderEpoch=null, metadata=''}, qatest12nonfes.public.user_summary_old-5=OffsetAndMetadata{offset=171069, leaderEpoch=null, metadata=''}, qatest12nonfes.public.user_summary_old-6=OffsetAndMetadata{offset=194807, leaderEpoch=null, metadata=''}, qatest12nonfes.public.user_summary_old-3=OffsetAndMetadata{offset=201131, leaderEpoch=null, metadata=''}, qatest12nonfes.public.user_summary_old-4=OffsetAndMetadata{offset=169495, leaderEpoch=null, metadata=''}, qatest12nonfes.public.user_summary_old-1=OffsetAndMetadata{offset=199521, leaderEpoch=null, metadata=''}, qatest12nonfes.public.user_summary_old-2=OffsetAndMetadata{offset=174686, leaderEpoch=null, metadata=''}, qatest12nonfes.public.user_summary_old-0=OffsetAndMetadata{offset=181748, leaderEpoch=null, metadata=''}}\n",
      "query inside Jar\n",
      "Query made progress: {qatest12nonfes.public.user_summary_old-9=OffsetAndMetadata{offset=185963, leaderEpoch=null, metadata=''}, qatest12nonfes.public.user_summary_old-7=OffsetAndMetadata{offset=191258, leaderEpoch=null, metadata=''}, qatest12nonfes.public.user_summary_old-8=OffsetAndMetadata{offset=189877, leaderEpoch=null, metadata=''}, qatest12nonfes.public.user_summary_old-5=OffsetAndMetadata{offset=171069, leaderEpoch=null, metadata=''}, qatest12nonfes.public.user_summary_old-6=OffsetAndMetadata{offset=194807, leaderEpoch=null, metadata=''}, qatest12nonfes.public.user_summary_old-3=OffsetAndMetadata{offset=201131, leaderEpoch=null, metadata=''}, qatest12nonfes.public.user_summary_old-4=OffsetAndMetadata{offset=169495, leaderEpoch=null, metadata=''}, qatest12nonfes.public.user_summary_old-1=OffsetAndMetadata{offset=199521, leaderEpoch=null, metadata=''}, qatest12nonfes.public.user_summary_old-2=OffsetAndMetadata{offset=174686, leaderEpoch=null, metadata=''}, qatest12nonfes.public.user_summary_old-0=OffsetAndMetadata{offset=181748, leaderEpoch=null, metadata=''}}\n",
      "query inside Jar\n",
      "Query made progress: {qatest12nonfes.public.user_summary_old-9=OffsetAndMetadata{offset=185963, leaderEpoch=null, metadata=''}, qatest12nonfes.public.user_summary_old-7=OffsetAndMetadata{offset=191258, leaderEpoch=null, metadata=''}, qatest12nonfes.public.user_summary_old-8=OffsetAndMetadata{offset=189877, leaderEpoch=null, metadata=''}, qatest12nonfes.public.user_summary_old-5=OffsetAndMetadata{offset=171069, leaderEpoch=null, metadata=''}, qatest12nonfes.public.user_summary_old-6=OffsetAndMetadata{offset=194807, leaderEpoch=null, metadata=''}, qatest12nonfes.public.user_summary_old-3=OffsetAndMetadata{offset=201131, leaderEpoch=null, metadata=''}, qatest12nonfes.public.user_summary_old-4=OffsetAndMetadata{offset=169495, leaderEpoch=null, metadata=''}, qatest12nonfes.public.user_summary_old-1=OffsetAndMetadata{offset=199521, leaderEpoch=null, metadata=''}, qatest12nonfes.public.user_summary_old-2=OffsetAndMetadata{offset=174686, leaderEpoch=null, metadata=''}, qatest12nonfes.public.user_summary_old-0=OffsetAndMetadata{offset=181748, leaderEpoch=null, metadata=''}}\n",
      "query inside Jar\n",
      "Query made progress: {qatest12nonfes.public.user_summary_old-9=OffsetAndMetadata{offset=185963, leaderEpoch=null, metadata=''}, qatest12nonfes.public.user_summary_old-7=OffsetAndMetadata{offset=191258, leaderEpoch=null, metadata=''}, qatest12nonfes.public.user_summary_old-8=OffsetAndMetadata{offset=189877, leaderEpoch=null, metadata=''}, qatest12nonfes.public.user_summary_old-5=OffsetAndMetadata{offset=171069, leaderEpoch=null, metadata=''}, qatest12nonfes.public.user_summary_old-6=OffsetAndMetadata{offset=194807, leaderEpoch=null, metadata=''}, qatest12nonfes.public.user_summary_old-3=OffsetAndMetadata{offset=201131, leaderEpoch=null, metadata=''}, qatest12nonfes.public.user_summary_old-4=OffsetAndMetadata{offset=169495, leaderEpoch=null, metadata=''}, qatest12nonfes.public.user_summary_old-1=OffsetAndMetadata{offset=199521, leaderEpoch=null, metadata=''}, qatest12nonfes.public.user_summary_old-2=OffsetAndMetadata{offset=174686, leaderEpoch=null, metadata=''}, qatest12nonfes.public.user_summary_old-0=OffsetAndMetadata{offset=181748, leaderEpoch=null, metadata=''}}\n",
      "query inside Jar\n",
      "Query made progress: {qatest12nonfes.public.user_summary_old-9=OffsetAndMetadata{offset=185963, leaderEpoch=null, metadata=''}, qatest12nonfes.public.user_summary_old-7=OffsetAndMetadata{offset=191258, leaderEpoch=null, metadata=''}, qatest12nonfes.public.user_summary_old-8=OffsetAndMetadata{offset=189877, leaderEpoch=null, metadata=''}, qatest12nonfes.public.user_summary_old-5=OffsetAndMetadata{offset=171069, leaderEpoch=null, metadata=''}, qatest12nonfes.public.user_summary_old-6=OffsetAndMetadata{offset=194807, leaderEpoch=null, metadata=''}, qatest12nonfes.public.user_summary_old-3=OffsetAndMetadata{offset=201131, leaderEpoch=null, metadata=''}, qatest12nonfes.public.user_summary_old-4=OffsetAndMetadata{offset=169495, leaderEpoch=null, metadata=''}, qatest12nonfes.public.user_summary_old-1=OffsetAndMetadata{offset=199521, leaderEpoch=null, metadata=''}, qatest12nonfes.public.user_summary_old-2=OffsetAndMetadata{offset=174686, leaderEpoch=null, metadata=''}, qatest12nonfes.public.user_summary_old-0=OffsetAndMetadata{offset=181748, leaderEpoch=null, metadata=''}}\n",
      "query inside Jar\n",
      "Query made progress: {qatest12nonfes.public.user_summary_old-9=OffsetAndMetadata{offset=185963, leaderEpoch=null, metadata=''}, qatest12nonfes.public.user_summary_old-7=OffsetAndMetadata{offset=191258, leaderEpoch=null, metadata=''}, qatest12nonfes.public.user_summary_old-8=OffsetAndMetadata{offset=189877, leaderEpoch=null, metadata=''}, qatest12nonfes.public.user_summary_old-5=OffsetAndMetadata{offset=171069, leaderEpoch=null, metadata=''}, qatest12nonfes.public.user_summary_old-6=OffsetAndMetadata{offset=194807, leaderEpoch=null, metadata=''}, qatest12nonfes.public.user_summary_old-3=OffsetAndMetadata{offset=201131, leaderEpoch=null, metadata=''}, qatest12nonfes.public.user_summary_old-4=OffsetAndMetadata{offset=169495, leaderEpoch=null, metadata=''}, qatest12nonfes.public.user_summary_old-1=OffsetAndMetadata{offset=199521, leaderEpoch=null, metadata=''}, qatest12nonfes.public.user_summary_old-2=OffsetAndMetadata{offset=174686, leaderEpoch=null, metadata=''}, qatest12nonfes.public.user_summary_old-0=OffsetAndMetadata{offset=181748, leaderEpoch=null, metadata=''}}\n",
      "query inside Jar\n",
      "Query made progress: {qatest12nonfes.public.user_summary_old-9=OffsetAndMetadata{offset=185963, leaderEpoch=null, metadata=''}, qatest12nonfes.public.user_summary_old-7=OffsetAndMetadata{offset=191258, leaderEpoch=null, metadata=''}, qatest12nonfes.public.user_summary_old-8=OffsetAndMetadata{offset=189877, leaderEpoch=null, metadata=''}, qatest12nonfes.public.user_summary_old-5=OffsetAndMetadata{offset=171069, leaderEpoch=null, metadata=''}, qatest12nonfes.public.user_summary_old-6=OffsetAndMetadata{offset=194807, leaderEpoch=null, metadata=''}, qatest12nonfes.public.user_summary_old-3=OffsetAndMetadata{offset=201131, leaderEpoch=null, metadata=''}, qatest12nonfes.public.user_summary_old-4=OffsetAndMetadata{offset=169495, leaderEpoch=null, metadata=''}, qatest12nonfes.public.user_summary_old-1=OffsetAndMetadata{offset=199521, leaderEpoch=null, metadata=''}, qatest12nonfes.public.user_summary_old-2=OffsetAndMetadata{offset=174686, leaderEpoch=null, metadata=''}, qatest12nonfes.public.user_summary_old-0=OffsetAndMetadata{offset=181748, leaderEpoch=null, metadata=''}}\n",
      "query inside Jar\n",
      "Query made progress: {qatest12nonfes.public.user_summary_old-9=OffsetAndMetadata{offset=185963, leaderEpoch=null, metadata=''}, qatest12nonfes.public.user_summary_old-7=OffsetAndMetadata{offset=191258, leaderEpoch=null, metadata=''}, qatest12nonfes.public.user_summary_old-8=OffsetAndMetadata{offset=189877, leaderEpoch=null, metadata=''}, qatest12nonfes.public.user_summary_old-5=OffsetAndMetadata{offset=171069, leaderEpoch=null, metadata=''}, qatest12nonfes.public.user_summary_old-6=OffsetAndMetadata{offset=194807, leaderEpoch=null, metadata=''}, qatest12nonfes.public.user_summary_old-3=OffsetAndMetadata{offset=201131, leaderEpoch=null, metadata=''}, qatest12nonfes.public.user_summary_old-4=OffsetAndMetadata{offset=169495, leaderEpoch=null, metadata=''}, qatest12nonfes.public.user_summary_old-1=OffsetAndMetadata{offset=199521, leaderEpoch=null, metadata=''}, qatest12nonfes.public.user_summary_old-2=OffsetAndMetadata{offset=174686, leaderEpoch=null, metadata=''}, qatest12nonfes.public.user_summary_old-0=OffsetAndMetadata{offset=181748, leaderEpoch=null, metadata=''}}\n",
      "query inside Jar\n",
      "Query made progress: {qatest12nonfes.public.user_summary_old-9=OffsetAndMetadata{offset=185963, leaderEpoch=null, metadata=''}, qatest12nonfes.public.user_summary_old-7=OffsetAndMetadata{offset=191258, leaderEpoch=null, metadata=''}, qatest12nonfes.public.user_summary_old-8=OffsetAndMetadata{offset=189877, leaderEpoch=null, metadata=''}, qatest12nonfes.public.user_summary_old-5=OffsetAndMetadata{offset=171069, leaderEpoch=null, metadata=''}, qatest12nonfes.public.user_summary_old-6=OffsetAndMetadata{offset=194807, leaderEpoch=null, metadata=''}, qatest12nonfes.public.user_summary_old-3=OffsetAndMetadata{offset=201131, leaderEpoch=null, metadata=''}, qatest12nonfes.public.user_summary_old-4=OffsetAndMetadata{offset=169495, leaderEpoch=null, metadata=''}, qatest12nonfes.public.user_summary_old-1=OffsetAndMetadata{offset=199521, leaderEpoch=null, metadata=''}, qatest12nonfes.public.user_summary_old-2=OffsetAndMetadata{offset=174686, leaderEpoch=null, metadata=''}, qatest12nonfes.public.user_summary_old-0=OffsetAndMetadata{offset=181748, leaderEpoch=null, metadata=''}}\n",
      "query inside Jar\n",
      "Query made progress: {qatest12nonfes.public.user_summary_old-9=OffsetAndMetadata{offset=185963, leaderEpoch=null, metadata=''}, qatest12nonfes.public.user_summary_old-7=OffsetAndMetadata{offset=191258, leaderEpoch=null, metadata=''}, qatest12nonfes.public.user_summary_old-8=OffsetAndMetadata{offset=189877, leaderEpoch=null, metadata=''}, qatest12nonfes.public.user_summary_old-5=OffsetAndMetadata{offset=171069, leaderEpoch=null, metadata=''}, qatest12nonfes.public.user_summary_old-6=OffsetAndMetadata{offset=194807, leaderEpoch=null, metadata=''}, qatest12nonfes.public.user_summary_old-3=OffsetAndMetadata{offset=201131, leaderEpoch=null, metadata=''}, qatest12nonfes.public.user_summary_old-4=OffsetAndMetadata{offset=169495, leaderEpoch=null, metadata=''}, qatest12nonfes.public.user_summary_old-1=OffsetAndMetadata{offset=199521, leaderEpoch=null, metadata=''}, qatest12nonfes.public.user_summary_old-2=OffsetAndMetadata{offset=174686, leaderEpoch=null, metadata=''}, qatest12nonfes.public.user_summary_old-0=OffsetAndMetadata{offset=181748, leaderEpoch=null, metadata=''}}\n",
      "query inside Jar\n",
      "Query made progress: {qatest12nonfes.public.user_summary_old-9=OffsetAndMetadata{offset=185963, leaderEpoch=null, metadata=''}, qatest12nonfes.public.user_summary_old-7=OffsetAndMetadata{offset=191258, leaderEpoch=null, metadata=''}, qatest12nonfes.public.user_summary_old-8=OffsetAndMetadata{offset=189877, leaderEpoch=null, metadata=''}, qatest12nonfes.public.user_summary_old-5=OffsetAndMetadata{offset=171069, leaderEpoch=null, metadata=''}, qatest12nonfes.public.user_summary_old-6=OffsetAndMetadata{offset=194807, leaderEpoch=null, metadata=''}, qatest12nonfes.public.user_summary_old-3=OffsetAndMetadata{offset=201131, leaderEpoch=null, metadata=''}, qatest12nonfes.public.user_summary_old-4=OffsetAndMetadata{offset=169495, leaderEpoch=null, metadata=''}, qatest12nonfes.public.user_summary_old-1=OffsetAndMetadata{offset=199521, leaderEpoch=null, metadata=''}, qatest12nonfes.public.user_summary_old-2=OffsetAndMetadata{offset=174686, leaderEpoch=null, metadata=''}, qatest12nonfes.public.user_summary_old-0=OffsetAndMetadata{offset=181748, leaderEpoch=null, metadata=''}}\n",
      "query inside Jar\n",
      "Query made progress: {qatest12nonfes.public.user_summary_old-9=OffsetAndMetadata{offset=185963, leaderEpoch=null, metadata=''}, qatest12nonfes.public.user_summary_old-7=OffsetAndMetadata{offset=191258, leaderEpoch=null, metadata=''}, qatest12nonfes.public.user_summary_old-8=OffsetAndMetadata{offset=189877, leaderEpoch=null, metadata=''}, qatest12nonfes.public.user_summary_old-5=OffsetAndMetadata{offset=171069, leaderEpoch=null, metadata=''}, qatest12nonfes.public.user_summary_old-6=OffsetAndMetadata{offset=194807, leaderEpoch=null, metadata=''}, qatest12nonfes.public.user_summary_old-3=OffsetAndMetadata{offset=201131, leaderEpoch=null, metadata=''}, qatest12nonfes.public.user_summary_old-4=OffsetAndMetadata{offset=169495, leaderEpoch=null, metadata=''}, qatest12nonfes.public.user_summary_old-1=OffsetAndMetadata{offset=199521, leaderEpoch=null, metadata=''}, qatest12nonfes.public.user_summary_old-2=OffsetAndMetadata{offset=174686, leaderEpoch=null, metadata=''}, qatest12nonfes.public.user_summary_old-0=OffsetAndMetadata{offset=181748, leaderEpoch=null, metadata=''}}\n",
      "query inside Jar\n",
      "Query made progress: {qatest12nonfes.public.user_summary_old-9=OffsetAndMetadata{offset=185963, leaderEpoch=null, metadata=''}, qatest12nonfes.public.user_summary_old-7=OffsetAndMetadata{offset=191258, leaderEpoch=null, metadata=''}, qatest12nonfes.public.user_summary_old-8=OffsetAndMetadata{offset=189877, leaderEpoch=null, metadata=''}, qatest12nonfes.public.user_summary_old-5=OffsetAndMetadata{offset=171069, leaderEpoch=null, metadata=''}, qatest12nonfes.public.user_summary_old-6=OffsetAndMetadata{offset=194807, leaderEpoch=null, metadata=''}, qatest12nonfes.public.user_summary_old-3=OffsetAndMetadata{offset=201131, leaderEpoch=null, metadata=''}, qatest12nonfes.public.user_summary_old-4=OffsetAndMetadata{offset=169495, leaderEpoch=null, metadata=''}, qatest12nonfes.public.user_summary_old-1=OffsetAndMetadata{offset=199521, leaderEpoch=null, metadata=''}, qatest12nonfes.public.user_summary_old-2=OffsetAndMetadata{offset=174686, leaderEpoch=null, metadata=''}, qatest12nonfes.public.user_summary_old-0=OffsetAndMetadata{offset=181748, leaderEpoch=null, metadata=''}}\n",
      "query inside Jar\n",
      "Query made progress: {qatest12nonfes.public.user_summary_old-9=OffsetAndMetadata{offset=185963, leaderEpoch=null, metadata=''}, qatest12nonfes.public.user_summary_old-7=OffsetAndMetadata{offset=191258, leaderEpoch=null, metadata=''}, qatest12nonfes.public.user_summary_old-8=OffsetAndMetadata{offset=189877, leaderEpoch=null, metadata=''}, qatest12nonfes.public.user_summary_old-5=OffsetAndMetadata{offset=171069, leaderEpoch=null, metadata=''}, qatest12nonfes.public.user_summary_old-6=OffsetAndMetadata{offset=194807, leaderEpoch=null, metadata=''}, qatest12nonfes.public.user_summary_old-3=OffsetAndMetadata{offset=201131, leaderEpoch=null, metadata=''}, qatest12nonfes.public.user_summary_old-4=OffsetAndMetadata{offset=169495, leaderEpoch=null, metadata=''}, qatest12nonfes.public.user_summary_old-1=OffsetAndMetadata{offset=199521, leaderEpoch=null, metadata=''}, qatest12nonfes.public.user_summary_old-2=OffsetAndMetadata{offset=174686, leaderEpoch=null, metadata=''}, qatest12nonfes.public.user_summary_old-0=OffsetAndMetadata{offset=181748, leaderEpoch=null, metadata=''}}\n",
      "query inside Jar\n",
      "Query made progress: {qatest12nonfes.public.user_summary_old-9=OffsetAndMetadata{offset=185963, leaderEpoch=null, metadata=''}, qatest12nonfes.public.user_summary_old-7=OffsetAndMetadata{offset=191258, leaderEpoch=null, metadata=''}, qatest12nonfes.public.user_summary_old-8=OffsetAndMetadata{offset=189877, leaderEpoch=null, metadata=''}, qatest12nonfes.public.user_summary_old-5=OffsetAndMetadata{offset=171069, leaderEpoch=null, metadata=''}, qatest12nonfes.public.user_summary_old-6=OffsetAndMetadata{offset=194807, leaderEpoch=null, metadata=''}, qatest12nonfes.public.user_summary_old-3=OffsetAndMetadata{offset=201131, leaderEpoch=null, metadata=''}, qatest12nonfes.public.user_summary_old-4=OffsetAndMetadata{offset=169495, leaderEpoch=null, metadata=''}, qatest12nonfes.public.user_summary_old-1=OffsetAndMetadata{offset=199521, leaderEpoch=null, metadata=''}, qatest12nonfes.public.user_summary_old-2=OffsetAndMetadata{offset=174686, leaderEpoch=null, metadata=''}, qatest12nonfes.public.user_summary_old-0=OffsetAndMetadata{offset=181748, leaderEpoch=null, metadata=''}}\n",
      "query inside Jar\n",
      "Query made progress: {qatest12nonfes.public.user_summary_old-9=OffsetAndMetadata{offset=185963, leaderEpoch=null, metadata=''}, qatest12nonfes.public.user_summary_old-7=OffsetAndMetadata{offset=191258, leaderEpoch=null, metadata=''}, qatest12nonfes.public.user_summary_old-8=OffsetAndMetadata{offset=189877, leaderEpoch=null, metadata=''}, qatest12nonfes.public.user_summary_old-5=OffsetAndMetadata{offset=171069, leaderEpoch=null, metadata=''}, qatest12nonfes.public.user_summary_old-6=OffsetAndMetadata{offset=194807, leaderEpoch=null, metadata=''}, qatest12nonfes.public.user_summary_old-3=OffsetAndMetadata{offset=201131, leaderEpoch=null, metadata=''}, qatest12nonfes.public.user_summary_old-4=OffsetAndMetadata{offset=169495, leaderEpoch=null, metadata=''}, qatest12nonfes.public.user_summary_old-1=OffsetAndMetadata{offset=199521, leaderEpoch=null, metadata=''}, qatest12nonfes.public.user_summary_old-2=OffsetAndMetadata{offset=174686, leaderEpoch=null, metadata=''}, qatest12nonfes.public.user_summary_old-0=OffsetAndMetadata{offset=181748, leaderEpoch=null, metadata=''}}\n",
      "query inside Jar\n",
      "Query made progress: {qatest12nonfes.public.user_summary_old-9=OffsetAndMetadata{offset=185963, leaderEpoch=null, metadata=''}, qatest12nonfes.public.user_summary_old-7=OffsetAndMetadata{offset=191258, leaderEpoch=null, metadata=''}, qatest12nonfes.public.user_summary_old-8=OffsetAndMetadata{offset=189877, leaderEpoch=null, metadata=''}, qatest12nonfes.public.user_summary_old-5=OffsetAndMetadata{offset=171069, leaderEpoch=null, metadata=''}, qatest12nonfes.public.user_summary_old-6=OffsetAndMetadata{offset=194807, leaderEpoch=null, metadata=''}, qatest12nonfes.public.user_summary_old-3=OffsetAndMetadata{offset=201131, leaderEpoch=null, metadata=''}, qatest12nonfes.public.user_summary_old-4=OffsetAndMetadata{offset=169495, leaderEpoch=null, metadata=''}, qatest12nonfes.public.user_summary_old-1=OffsetAndMetadata{offset=199521, leaderEpoch=null, metadata=''}, qatest12nonfes.public.user_summary_old-2=OffsetAndMetadata{offset=174686, leaderEpoch=null, metadata=''}, qatest12nonfes.public.user_summary_old-0=OffsetAndMetadata{offset=181748, leaderEpoch=null, metadata=''}}\n",
      "query inside Jar\n",
      "Query made progress: {qatest12nonfes.public.user_summary_old-9=OffsetAndMetadata{offset=185963, leaderEpoch=null, metadata=''}, qatest12nonfes.public.user_summary_old-7=OffsetAndMetadata{offset=191258, leaderEpoch=null, metadata=''}, qatest12nonfes.public.user_summary_old-8=OffsetAndMetadata{offset=189877, leaderEpoch=null, metadata=''}, qatest12nonfes.public.user_summary_old-5=OffsetAndMetadata{offset=171069, leaderEpoch=null, metadata=''}, qatest12nonfes.public.user_summary_old-6=OffsetAndMetadata{offset=194807, leaderEpoch=null, metadata=''}, qatest12nonfes.public.user_summary_old-3=OffsetAndMetadata{offset=201131, leaderEpoch=null, metadata=''}, qatest12nonfes.public.user_summary_old-4=OffsetAndMetadata{offset=169495, leaderEpoch=null, metadata=''}, qatest12nonfes.public.user_summary_old-1=OffsetAndMetadata{offset=199521, leaderEpoch=null, metadata=''}, qatest12nonfes.public.user_summary_old-2=OffsetAndMetadata{offset=174686, leaderEpoch=null, metadata=''}, qatest12nonfes.public.user_summary_old-0=OffsetAndMetadata{offset=181748, leaderEpoch=null, metadata=''}}\n",
      "query inside Jar\n",
      "Query made progress: {qatest12nonfes.public.user_summary_old-9=OffsetAndMetadata{offset=185963, leaderEpoch=null, metadata=''}, qatest12nonfes.public.user_summary_old-7=OffsetAndMetadata{offset=191258, leaderEpoch=null, metadata=''}, qatest12nonfes.public.user_summary_old-8=OffsetAndMetadata{offset=189877, leaderEpoch=null, metadata=''}, qatest12nonfes.public.user_summary_old-5=OffsetAndMetadata{offset=171069, leaderEpoch=null, metadata=''}, qatest12nonfes.public.user_summary_old-6=OffsetAndMetadata{offset=194807, leaderEpoch=null, metadata=''}, qatest12nonfes.public.user_summary_old-3=OffsetAndMetadata{offset=201131, leaderEpoch=null, metadata=''}, qatest12nonfes.public.user_summary_old-4=OffsetAndMetadata{offset=169495, leaderEpoch=null, metadata=''}, qatest12nonfes.public.user_summary_old-1=OffsetAndMetadata{offset=199521, leaderEpoch=null, metadata=''}, qatest12nonfes.public.user_summary_old-2=OffsetAndMetadata{offset=174686, leaderEpoch=null, metadata=''}, qatest12nonfes.public.user_summary_old-0=OffsetAndMetadata{offset=181748, leaderEpoch=null, metadata=''}}\n",
      "query inside Jar\n",
      "Query made progress: {qatest12nonfes.public.user_summary_old-9=OffsetAndMetadata{offset=185963, leaderEpoch=null, metadata=''}, qatest12nonfes.public.user_summary_old-7=OffsetAndMetadata{offset=191258, leaderEpoch=null, metadata=''}, qatest12nonfes.public.user_summary_old-8=OffsetAndMetadata{offset=189877, leaderEpoch=null, metadata=''}, qatest12nonfes.public.user_summary_old-5=OffsetAndMetadata{offset=171069, leaderEpoch=null, metadata=''}, qatest12nonfes.public.user_summary_old-6=OffsetAndMetadata{offset=194807, leaderEpoch=null, metadata=''}, qatest12nonfes.public.user_summary_old-3=OffsetAndMetadata{offset=201131, leaderEpoch=null, metadata=''}, qatest12nonfes.public.user_summary_old-4=OffsetAndMetadata{offset=169495, leaderEpoch=null, metadata=''}, qatest12nonfes.public.user_summary_old-1=OffsetAndMetadata{offset=199521, leaderEpoch=null, metadata=''}, qatest12nonfes.public.user_summary_old-2=OffsetAndMetadata{offset=174686, leaderEpoch=null, metadata=''}, qatest12nonfes.public.user_summary_old-0=OffsetAndMetadata{offset=181748, leaderEpoch=null, metadata=''}}\n",
      "query inside Jar\n",
      "Query made progress: {qatest12nonfes.public.user_summary_old-9=OffsetAndMetadata{offset=185963, leaderEpoch=null, metadata=''}, qatest12nonfes.public.user_summary_old-7=OffsetAndMetadata{offset=191258, leaderEpoch=null, metadata=''}, qatest12nonfes.public.user_summary_old-8=OffsetAndMetadata{offset=189877, leaderEpoch=null, metadata=''}, qatest12nonfes.public.user_summary_old-5=OffsetAndMetadata{offset=171069, leaderEpoch=null, metadata=''}, qatest12nonfes.public.user_summary_old-6=OffsetAndMetadata{offset=194807, leaderEpoch=null, metadata=''}, qatest12nonfes.public.user_summary_old-3=OffsetAndMetadata{offset=201131, leaderEpoch=null, metadata=''}, qatest12nonfes.public.user_summary_old-4=OffsetAndMetadata{offset=169495, leaderEpoch=null, metadata=''}, qatest12nonfes.public.user_summary_old-1=OffsetAndMetadata{offset=199521, leaderEpoch=null, metadata=''}, qatest12nonfes.public.user_summary_old-2=OffsetAndMetadata{offset=174686, leaderEpoch=null, metadata=''}, qatest12nonfes.public.user_summary_old-0=OffsetAndMetadata{offset=181748, leaderEpoch=null, metadata=''}}\n",
      "query inside Jar\n",
      "Query made progress: {qatest12nonfes.public.user_summary_old-9=OffsetAndMetadata{offset=185963, leaderEpoch=null, metadata=''}, qatest12nonfes.public.user_summary_old-7=OffsetAndMetadata{offset=191258, leaderEpoch=null, metadata=''}, qatest12nonfes.public.user_summary_old-8=OffsetAndMetadata{offset=189877, leaderEpoch=null, metadata=''}, qatest12nonfes.public.user_summary_old-5=OffsetAndMetadata{offset=171069, leaderEpoch=null, metadata=''}, qatest12nonfes.public.user_summary_old-6=OffsetAndMetadata{offset=194807, leaderEpoch=null, metadata=''}, qatest12nonfes.public.user_summary_old-3=OffsetAndMetadata{offset=201131, leaderEpoch=null, metadata=''}, qatest12nonfes.public.user_summary_old-4=OffsetAndMetadata{offset=169495, leaderEpoch=null, metadata=''}, qatest12nonfes.public.user_summary_old-1=OffsetAndMetadata{offset=199521, leaderEpoch=null, metadata=''}, qatest12nonfes.public.user_summary_old-2=OffsetAndMetadata{offset=174686, leaderEpoch=null, metadata=''}, qatest12nonfes.public.user_summary_old-0=OffsetAndMetadata{offset=181748, leaderEpoch=null, metadata=''}}\n",
      "query inside Jar\n",
      "Query made progress: {qatest12nonfes.public.user_summary_old-9=OffsetAndMetadata{offset=185963, leaderEpoch=null, metadata=''}, qatest12nonfes.public.user_summary_old-7=OffsetAndMetadata{offset=191258, leaderEpoch=null, metadata=''}, qatest12nonfes.public.user_summary_old-8=OffsetAndMetadata{offset=189877, leaderEpoch=null, metadata=''}, qatest12nonfes.public.user_summary_old-5=OffsetAndMetadata{offset=171069, leaderEpoch=null, metadata=''}, qatest12nonfes.public.user_summary_old-6=OffsetAndMetadata{offset=194807, leaderEpoch=null, metadata=''}, qatest12nonfes.public.user_summary_old-3=OffsetAndMetadata{offset=201131, leaderEpoch=null, metadata=''}, qatest12nonfes.public.user_summary_old-4=OffsetAndMetadata{offset=169495, leaderEpoch=null, metadata=''}, qatest12nonfes.public.user_summary_old-1=OffsetAndMetadata{offset=199521, leaderEpoch=null, metadata=''}, qatest12nonfes.public.user_summary_old-2=OffsetAndMetadata{offset=174686, leaderEpoch=null, metadata=''}, qatest12nonfes.public.user_summary_old-0=OffsetAndMetadata{offset=181748, leaderEpoch=null, metadata=''}}\n",
      "query inside Jar\n",
      "Query made progress: {qatest12nonfes.public.user_summary_old-9=OffsetAndMetadata{offset=185963, leaderEpoch=null, metadata=''}, qatest12nonfes.public.user_summary_old-7=OffsetAndMetadata{offset=191258, leaderEpoch=null, metadata=''}, qatest12nonfes.public.user_summary_old-8=OffsetAndMetadata{offset=189877, leaderEpoch=null, metadata=''}, qatest12nonfes.public.user_summary_old-5=OffsetAndMetadata{offset=171069, leaderEpoch=null, metadata=''}, qatest12nonfes.public.user_summary_old-6=OffsetAndMetadata{offset=194807, leaderEpoch=null, metadata=''}, qatest12nonfes.public.user_summary_old-3=OffsetAndMetadata{offset=201131, leaderEpoch=null, metadata=''}, qatest12nonfes.public.user_summary_old-4=OffsetAndMetadata{offset=169495, leaderEpoch=null, metadata=''}, qatest12nonfes.public.user_summary_old-1=OffsetAndMetadata{offset=199521, leaderEpoch=null, metadata=''}, qatest12nonfes.public.user_summary_old-2=OffsetAndMetadata{offset=174686, leaderEpoch=null, metadata=''}, qatest12nonfes.public.user_summary_old-0=OffsetAndMetadata{offset=181748, leaderEpoch=null, metadata=''}}\n",
      "query inside Jar\n",
      "Query made progress: {qatest12nonfes.public.user_summary_old-9=OffsetAndMetadata{offset=185963, leaderEpoch=null, metadata=''}, qatest12nonfes.public.user_summary_old-7=OffsetAndMetadata{offset=191258, leaderEpoch=null, metadata=''}, qatest12nonfes.public.user_summary_old-8=OffsetAndMetadata{offset=189877, leaderEpoch=null, metadata=''}, qatest12nonfes.public.user_summary_old-5=OffsetAndMetadata{offset=171069, leaderEpoch=null, metadata=''}, qatest12nonfes.public.user_summary_old-6=OffsetAndMetadata{offset=194807, leaderEpoch=null, metadata=''}, qatest12nonfes.public.user_summary_old-3=OffsetAndMetadata{offset=201131, leaderEpoch=null, metadata=''}, qatest12nonfes.public.user_summary_old-4=OffsetAndMetadata{offset=169495, leaderEpoch=null, metadata=''}, qatest12nonfes.public.user_summary_old-1=OffsetAndMetadata{offset=199521, leaderEpoch=null, metadata=''}, qatest12nonfes.public.user_summary_old-2=OffsetAndMetadata{offset=174686, leaderEpoch=null, metadata=''}, qatest12nonfes.public.user_summary_old-0=OffsetAndMetadata{offset=181748, leaderEpoch=null, metadata=''}}\n",
      "query inside Jar\n",
      "Query made progress: {qatest12nonfes.public.user_summary_old-9=OffsetAndMetadata{offset=185963, leaderEpoch=null, metadata=''}, qatest12nonfes.public.user_summary_old-7=OffsetAndMetadata{offset=191258, leaderEpoch=null, metadata=''}, qatest12nonfes.public.user_summary_old-8=OffsetAndMetadata{offset=189877, leaderEpoch=null, metadata=''}, qatest12nonfes.public.user_summary_old-5=OffsetAndMetadata{offset=171069, leaderEpoch=null, metadata=''}, qatest12nonfes.public.user_summary_old-6=OffsetAndMetadata{offset=194807, leaderEpoch=null, metadata=''}, qatest12nonfes.public.user_summary_old-3=OffsetAndMetadata{offset=201131, leaderEpoch=null, metadata=''}, qatest12nonfes.public.user_summary_old-4=OffsetAndMetadata{offset=169495, leaderEpoch=null, metadata=''}, qatest12nonfes.public.user_summary_old-1=OffsetAndMetadata{offset=199521, leaderEpoch=null, metadata=''}, qatest12nonfes.public.user_summary_old-2=OffsetAndMetadata{offset=174686, leaderEpoch=null, metadata=''}, qatest12nonfes.public.user_summary_old-0=OffsetAndMetadata{offset=181748, leaderEpoch=null, metadata=''}}\n",
      "query inside Jar\n",
      "Query made progress: {qatest12nonfes.public.user_summary_old-9=OffsetAndMetadata{offset=185963, leaderEpoch=null, metadata=''}, qatest12nonfes.public.user_summary_old-7=OffsetAndMetadata{offset=191258, leaderEpoch=null, metadata=''}, qatest12nonfes.public.user_summary_old-8=OffsetAndMetadata{offset=189877, leaderEpoch=null, metadata=''}, qatest12nonfes.public.user_summary_old-5=OffsetAndMetadata{offset=171069, leaderEpoch=null, metadata=''}, qatest12nonfes.public.user_summary_old-6=OffsetAndMetadata{offset=194807, leaderEpoch=null, metadata=''}, qatest12nonfes.public.user_summary_old-3=OffsetAndMetadata{offset=201131, leaderEpoch=null, metadata=''}, qatest12nonfes.public.user_summary_old-4=OffsetAndMetadata{offset=169495, leaderEpoch=null, metadata=''}, qatest12nonfes.public.user_summary_old-1=OffsetAndMetadata{offset=199521, leaderEpoch=null, metadata=''}, qatest12nonfes.public.user_summary_old-2=OffsetAndMetadata{offset=174686, leaderEpoch=null, metadata=''}, qatest12nonfes.public.user_summary_old-0=OffsetAndMetadata{offset=181748, leaderEpoch=null, metadata=''}}\n",
      "query inside Jar\n",
      "Query made progress: {qatest12nonfes.public.user_summary_old-9=OffsetAndMetadata{offset=185963, leaderEpoch=null, metadata=''}, qatest12nonfes.public.user_summary_old-7=OffsetAndMetadata{offset=191258, leaderEpoch=null, metadata=''}, qatest12nonfes.public.user_summary_old-8=OffsetAndMetadata{offset=189877, leaderEpoch=null, metadata=''}, qatest12nonfes.public.user_summary_old-5=OffsetAndMetadata{offset=171069, leaderEpoch=null, metadata=''}, qatest12nonfes.public.user_summary_old-6=OffsetAndMetadata{offset=194807, leaderEpoch=null, metadata=''}, qatest12nonfes.public.user_summary_old-3=OffsetAndMetadata{offset=201131, leaderEpoch=null, metadata=''}, qatest12nonfes.public.user_summary_old-4=OffsetAndMetadata{offset=169495, leaderEpoch=null, metadata=''}, qatest12nonfes.public.user_summary_old-1=OffsetAndMetadata{offset=199521, leaderEpoch=null, metadata=''}, qatest12nonfes.public.user_summary_old-2=OffsetAndMetadata{offset=174686, leaderEpoch=null, metadata=''}, qatest12nonfes.public.user_summary_old-0=OffsetAndMetadata{offset=181748, leaderEpoch=null, metadata=''}}\n",
      "query inside Jar\n",
      "Query made progress: {qatest12nonfes.public.user_summary_old-9=OffsetAndMetadata{offset=185963, leaderEpoch=null, metadata=''}, qatest12nonfes.public.user_summary_old-7=OffsetAndMetadata{offset=191258, leaderEpoch=null, metadata=''}, qatest12nonfes.public.user_summary_old-8=OffsetAndMetadata{offset=189877, leaderEpoch=null, metadata=''}, qatest12nonfes.public.user_summary_old-5=OffsetAndMetadata{offset=171069, leaderEpoch=null, metadata=''}, qatest12nonfes.public.user_summary_old-6=OffsetAndMetadata{offset=194807, leaderEpoch=null, metadata=''}, qatest12nonfes.public.user_summary_old-3=OffsetAndMetadata{offset=201131, leaderEpoch=null, metadata=''}, qatest12nonfes.public.user_summary_old-4=OffsetAndMetadata{offset=169495, leaderEpoch=null, metadata=''}, qatest12nonfes.public.user_summary_old-1=OffsetAndMetadata{offset=199521, leaderEpoch=null, metadata=''}, qatest12nonfes.public.user_summary_old-2=OffsetAndMetadata{offset=174686, leaderEpoch=null, metadata=''}, qatest12nonfes.public.user_summary_old-0=OffsetAndMetadata{offset=181748, leaderEpoch=null, metadata=''}}\n",
      "query inside Jar\n"
     ]
    }
   ],
   "source": [
    "from pyspark.sql.types import StructType, StructField, IntegerType, LongType, StringType, FloatType\n",
    "from delta.tables import *\n",
    "from pyspark.sql import DataFrame\n",
    "  \n",
    "def getTableColumn(my_schema):\n",
    "    tableList = []\n",
    "    col = []\n",
    "    inputTable = \"updatesTable.\"\n",
    "    targetTable = \"targetTable.\"\n",
    "\n",
    "    ignoreColumns = [\"table_key_ts\", \"table_delete\", \"table_key\"]\n",
    "\n",
    "    for field in my_schema.fields:\n",
    "        if field.name == \"after\":\n",
    "            for f3 in field.dataType:\n",
    "                te = f3.name + \" \" + f3.dataType.typeName()\n",
    "                if f3.name not in ignoreColumns:\n",
    "                    tableList.append(te)\n",
    "                    col.append(f3.name)\n",
    "        else:\n",
    "            te = field.name + \" \" + field.dataType.typeName()\n",
    "            if field.name not in ignoreColumns:\n",
    "                tableList.append(te)\n",
    "                col.append(field.name)\n",
    "    res = \"\"\n",
    "    insertResInp = \"\"\n",
    "    insertResOut = \"\"\n",
    "    merge = \"\"\n",
    "    for i in range(len(tableList)):\n",
    "        if i == (len(tableList) - 1):\n",
    "            res += tableList[i]\n",
    "            insertResInp += col[i]\n",
    "            insertResOut += inputTable + col[i]\n",
    "            merge += targetTable + col[i] + \" = \" + inputTable + col[i]\n",
    "        else:\n",
    "            res += tableList[i] + \",\"\n",
    "            insertResInp += col[i] + \",\"\n",
    "            insertResOut += inputTable + col[i] + \",\"\n",
    "            merge += targetTable + col[i] + \" = \" + inputTable + col[i] + \",\"\n",
    "    ans = [res, insertResInp, insertResOut, merge]\n",
    "    \n",
    "    \n",
    "    print(ans)\n",
    "    return ans\n",
    "\n",
    "def groupk(partition):\n",
    "      from itertools import groupby\n",
    "      \n",
    "      partCount = 1\n",
    "      l = []\n",
    "      for key, group in groupby(sorted(partition, key = lambda x: x[\"table_key\"]), lambda x: x[\"table_key\"]):\n",
    "        a = []\n",
    "        k = None\n",
    "        temp = -1\n",
    "\n",
    "        for thing in group:\n",
    "          if temp < int(thing[\"offset\"]):\n",
    "            temp = thing[\"offset\"]\n",
    "            k = thing\n",
    "\n",
    "#         yield k\n",
    "        l.append(k)\n",
    "        partCount += 1\n",
    "    \n",
    "      return l\n",
    "    \n",
    "def upsertToDelta2(kafka, batchId):\n",
    "        byteArrayToLong = fn.udf(lambda x: int.from_bytes(x, byteorder='big', signed=False), LongType())\n",
    "        df = kafka.withColumn('valuenew', kafka['value'])\n",
    "        df = df.withColumn(\"schemaId\", byteArrayToLong(fn.substring(\"valuenew\", 2, 4))) \\\n",
    "                            .withColumn(\"payload\", fn.expr(\"substring(valuenew, 6, length(valuenew)-5)\"))\n",
    "\n",
    "\n",
    "        jsonSchema = getJsonSchema(3737, schemasByIdDict,\"http://52.35.125.165:8081\")\n",
    "        currentValueSchemaId = 3737\n",
    "        currentValueSchema = jsonSchema\n",
    "        dfBySchemaId = df.where(df.schemaId == currentValueSchemaId)\n",
    "        dfBySchemaId = dfBySchemaId.drop(\"value\")\n",
    "\n",
    "\n",
    "        dfBySchemaId = dfBySchemaId.withColumn(\"value\", from_avro(\"payload\", currentValueSchema))\n",
    "        \n",
    "        microBatchOutputDF = dfBySchemaId\n",
    "\n",
    "        df5 = spark.sparkContext._jvm.com.example.Hello.add(spark._jsparkSession, \"34.220.52.64:9092,52.35.125.165:9092\", \"datalake-qa-91\")\n",
    "        microBatchOutputDF = microBatchOutputDF.drop(\"valuenew\")\n",
    "        \n",
    "        microBatchOutputDF = microBatchOutputDF.withColumn('valueConsumerKafka', microBatchOutputDF['value'])\n",
    "        microBatchOutputDF = microBatchOutputDF.drop(\"value\")\n",
    "        \n",
    "        microBatchOutputDF.show(1)\n",
    "        \n",
    "        \n",
    "        microBatchOutputDF = microBatchOutputDF.withColumn(\"table_delete\", F.when(\n",
    "            col(\"valueConsumerKafka.before\").isNotNull and col(\"valueConsumerKafka.op\").isNotNull and col(\"valueConsumerKafka.op\").contains(\"d\"),\n",
    "            True).otherwise(False))\n",
    "        \n",
    "        \n",
    "        if True:\n",
    "          microBatchOutputDF = microBatchOutputDF.withColumn(\"table_key\", F.when(col(\"table_delete\") == True,\n",
    "                                                                                 microBatchOutputDF[\n",
    "                                                                                     \"valueConsumerKafka.before.{}\".format(\n",
    "                                                                                         \"id\")]).otherwise(\n",
    "              microBatchOutputDF[\"valueConsumerKafka.after.{}\".format(\"id\")]))\n",
    "\n",
    "        \n",
    "          \n",
    "        \n",
    "        print(\"starting point\")\n",
    "\n",
    "        print(datetime.datetime.now())\n",
    "        \n",
    "        print(\"total partitions are\")\n",
    "        print(microBatchOutputDF.rdd.getNumPartitions())\n",
    "        \n",
    "\n",
    "        dfrdd = microBatchOutputDF.rdd.mapPartitions(groupk)\n",
    "        dfByTopic = spark.createDataFrame(dfrdd, schema = microBatchOutputDF.schema)\n",
    "        \n",
    "        print(dfByTopic.rdd.getNumPartitions())\n",
    "        \n",
    "        print(datetime.datetime.now())\n",
    "        \n",
    "#         display(dfByTopic)\n",
    "\n",
    "        dfByTopicDeleted = dfByTopic.filter(F.col(\"table_delete\") == True)\n",
    "        dfByTopicDeleted = dfByTopicDeleted.select(\"valueConsumerKafka.before.*\", \"table_delete\", \"table_key\", \"offset\")\n",
    "\n",
    "        dfByTopicDeleted = dfByTopicDeleted.drop(\"valueConsumerKafka\", \"kafka-key\", \"schemaId\")\n",
    "        dfByTopicDeleted = dfByTopicDeleted.drop(\"offset\")\n",
    "\n",
    "        dfByTopicInsert = dfByTopic.filter(F.col(\"table_delete\") == False)\n",
    "        dfByTopicInsert = dfByTopicInsert.select(\"valueConsumerKafka.after.*\", \"table_delete\", \"table_key\", \"offset\")\n",
    "        # display(df)\n",
    "        dfByTopicInsert = dfByTopicInsert.drop(\"valueConsumerKafka\", \"kafka-key\", \"schemaId\")\n",
    "        dfByTopicInsert = dfByTopicInsert.drop(\"offset\")\n",
    "        \n",
    "        if True:\n",
    "            partition_column_derive_from_column_split = \"created_at_part,created_at\".split(\",\")\n",
    "            new_partition_key = partition_column_derive_from_column_split[0]\n",
    "            new_partition_value = partition_column_derive_from_column_split[1]\n",
    "            \n",
    "        print(new_partition_value)\n",
    "        \n",
    "        if True:\n",
    "            dfByTopicDeleted = dfByTopicDeleted.withColumn(new_partition_key,to_date(col(new_partition_value)))\n",
    "            \n",
    "            dfByTopicInsert = dfByTopicInsert.withColumn(new_partition_key,to_date(col(new_partition_value)))\n",
    "            \n",
    "#         if True:\n",
    "#             my_schema = dfByTopicInsert.schema\n",
    "#             res = getTableColumn(my_schema)\n",
    "# #             dfByTopic._jdf.sparkSession().sql(\"use {}\".format(self.database))\n",
    "#             if True:\n",
    "#                 print(\"table created\")\n",
    "#                 dfByTopic._jdf.sparkSession().sql(\n",
    "#                     \"create table if not exists {} ( {} ) using delta PARTITIONED BY ({}) location '{}' \".format(\"user_summary_old\",\n",
    "#                                                                                                                  res[0],\n",
    "#                                                                                                                  \"company_id,created_at_part\",\n",
    "#                                                                                                                  \"user_summary_old\"))\n",
    "\n",
    "#             table_exists = True\n",
    "\n",
    "        dfByTopicInsert = dfByTopicInsert.drop(\"table_delete\")\n",
    "        dfByTopicInsert = dfByTopicInsert.drop(\"table_key\")\n",
    "        \n",
    "        FullTableName = \"user_summary_old\"\n",
    "\n",
    "        print(FullTableName)\n",
    "        \n",
    "        deltaTable=DeltaTable.forName(spark,FullTableName)\n",
    "\n",
    "        if True:\n",
    "#             return dfByTopicInsert\n",
    "#             dfByTopicInsert.write.format(\"delta\").mode(\"overwrite\").save(\"user_summary_old\")\n",
    "#             query = get_partition_query(\"company_id,created_at_part\", \"id\")\n",
    "            \n",
    "            print(\"checkpoint 1\")\n",
    "            \n",
    "#             deltaTable.alias(\"targetTable\").merge(\n",
    "#                 datau.alias(\"updatesTable\"),\n",
    "#                 \"{0}\".format(\"updatesTable.id = targetTable.id\")) \\\n",
    "#               .whenMatchedUpdateAll() \\\n",
    "#               .whenNotMatchedInsertAll().execute()\n",
    "\n",
    "            deltaTable.alias(\"targetTable\").merge(\n",
    "                dfByTopicDeleted.alias(\"updatesTable\"),\n",
    "                \"{0}\".format(query)) \\\n",
    "              .whenMatchedDelete() \\\n",
    "              .execute()\n",
    "\n",
    "\n",
    "            deltaTable.alias(\"targetTable\").merge(\n",
    "                dfByTopicInsert.alias(\"updatesTable\"),\n",
    "                \"{0}\".format(query)) \\\n",
    "              .whenMatchedUpdateAll() \\\n",
    "              .whenNotMatchedInsertAll().execute()\n",
    "        \n",
    "        print(\"after merge\")\n",
    "\n",
    "        #logger.debug(\"after merge\")\n",
    "        \n",
    "        print(datetime.datetime.now())\n",
    "        \n",
    "        #logger.debug(str(datetime.datetime.now()))\n",
    "\n",
    "        \n",
    "kafka = spark.readStream \\\n",
    "            .format(\"kafka\") \\\n",
    "            .option(\"kafka.bootstrap.servers\", \"34.220.52.64:9092,52.35.125.165:9092\") \\\n",
    "            .option(\"subscribe\", \"qatest12nonfes.public.user_summary_old\") \\\n",
    "            .option(\"startingOffsets\", \"earliest\") \\\n",
    "            .option(\"maxOffsetsPerTrigger\", 1000000) \\\n",
    "            .option(\"failOnDataLoss\", False) \\\n",
    "            .load()\n",
    "\n",
    "\n",
    "kafka = kafka.filter(\"value is NOT NULL\")\n",
    "\n",
    "ssc = kafka \\\n",
    "            .writeStream \\\n",
    "            .queryName(\"{0}\".format(\"user_summary_old\")) \\\n",
    "            .option(\"checkpointLocation\", \"cp/raw/\") \\\n",
    "            .trigger(processingTime='10 seconds') \\\n",
    "            .foreachBatch(upsertToDelta2).start()\n",
    "\n",
    "ssc.awaitTermination()"
   ]
  },
  {
   "cell_type": "code",
   "execution_count": 32,
   "id": "dd69eff5",
   "metadata": {},
   "outputs": [],
   "source": []
  },
  {
   "cell_type": "code",
   "execution_count": 33,
   "id": "ed72e707",
   "metadata": {},
   "outputs": [
    {
     "name": "stderr",
     "output_type": "stream",
     "text": [
      "                                                                                \r"
     ]
    }
   ],
   "source": [
    "import pyspark.sql.functions as fn\n",
    "data = spark.range(1,5)\n",
    "data.write.format(\"delta\").mode(\"overwrite\").save(\"delta_sample1\")"
   ]
  },
  {
   "cell_type": "code",
   "execution_count": 32,
   "id": "e8aea884",
   "metadata": {},
   "outputs": [],
   "source": [
    "dfa.show(1)\n",
    "# dfa.write.format(\"delta\").mode(\"overwrite\").save(\"user_summary_old\")"
   ]
  },
  {
   "cell_type": "code",
   "execution_count": 2,
   "id": "9ff6a9ef",
   "metadata": {},
   "outputs": [
    {
     "name": "stderr",
     "output_type": "stream",
     "text": [
      "                                                                                \r"
     ]
    },
    {
     "data": {
      "text/plain": [
       "DataFrame[]"
      ]
     },
     "execution_count": 2,
     "metadata": {},
     "output_type": "execute_result"
    }
   ],
   "source": [
    "spark.sql(\"CREATE TABLE \" + \"field_data\" + \" USING DELTA LOCATION '\" + \"field_data\" + \"'\")"
   ]
  },
  {
   "cell_type": "code",
   "execution_count": 36,
   "id": "7690a795",
   "metadata": {},
   "outputs": [],
   "source": [
    "deltaTable=DeltaTable.forName(spark,\"delta_sample1\")"
   ]
  },
  {
   "cell_type": "code",
   "execution_count": 9,
   "id": "7b1a4d24",
   "metadata": {},
   "outputs": [],
   "source": [
    "# print(deltaTable)\n",
    "df1 = spark.sql(\"select count(*) from field_data limit 5\")"
   ]
  },
  {
   "cell_type": "code",
   "execution_count": 38,
   "id": "345bde54",
   "metadata": {},
   "outputs": [
    {
     "name": "stdout",
     "output_type": "stream",
     "text": [
      "DataFrame[id: bigint]\n"
     ]
    }
   ],
   "source": [
    "print(data)"
   ]
  },
  {
   "cell_type": "code",
   "execution_count": 10,
   "id": "cdad5305",
   "metadata": {},
   "outputs": [
    {
     "name": "stdout",
     "output_type": "stream",
     "text": [
      "+--------+\n",
      "|count(1)|\n",
      "+--------+\n",
      "|   10678|\n",
      "+--------+\n",
      "\n"
     ]
    }
   ],
   "source": [
    "df1.show(1)"
   ]
  },
  {
   "cell_type": "code",
   "execution_count": 40,
   "id": "43b22527",
   "metadata": {},
   "outputs": [
    {
     "name": "stderr",
     "output_type": "stream",
     "text": [
      "                                                                                \r"
     ]
    }
   ],
   "source": [
    "datau = spark.range(3,8)\n",
    "\n",
    "deltaTable.alias(\"targetTable\").merge(\n",
    "                datau.alias(\"updatesTable\"),\n",
    "                \"{0}\".format(\"updatesTable.id = targetTable.id\")) \\\n",
    "              .whenMatchedUpdateAll() \\\n",
    "              .whenNotMatchedInsertAll().execute()"
   ]
  },
  {
   "cell_type": "code",
   "execution_count": 42,
   "id": "c2d1271b",
   "metadata": {},
   "outputs": [
    {
     "name": "stdout",
     "output_type": "stream",
     "text": [
      "+---+\n",
      "| id|\n",
      "+---+\n",
      "|  1|\n",
      "|  2|\n",
      "|  3|\n",
      "|  4|\n",
      "|  6|\n",
      "|  5|\n",
      "|  7|\n",
      "+---+\n",
      "\n"
     ]
    }
   ],
   "source": [
    "df1 = spark.sql(\"select * from delta_sample1\")\n",
    "df1.show()"
   ]
  },
  {
   "cell_type": "code",
   "execution_count": null,
   "id": "697e537e",
   "metadata": {},
   "outputs": [],
   "source": []
  }
 ],
 "metadata": {
  "kernelspec": {
   "display_name": "Python 3 (ipykernel)",
   "language": "python",
   "name": "python3"
  },
  "language_info": {
   "codemirror_mode": {
    "name": "ipython",
    "version": 3
   },
   "file_extension": ".py",
   "mimetype": "text/x-python",
   "name": "python",
   "nbconvert_exporter": "python",
   "pygments_lexer": "ipython3",
   "version": "3.9.2"
  },
  "toc-autonumbering": false
 },
 "nbformat": 4,
 "nbformat_minor": 5
}
